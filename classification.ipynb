{
 "cells": [
  {
   "cell_type": "code",
   "execution_count": 1,
   "id": "2a1128a0",
   "metadata": {},
   "outputs": [
    {
     "name": "stdout",
     "output_type": "stream",
     "text": [
      "\n",
      " Using cpu device\n",
      "CUDA version: None\n"
     ]
    }
   ],
   "source": [
    "import torch\n",
    "import torchvision.transforms as transforms\n",
    "from torchvision.transforms import ToTensor\n",
    "from torchvision import datasets\n",
    "import tqdm\n",
    "import models as model\n",
    "import numpy as np\n",
    "from torch import nn\n",
    "from torch.utils.data import DataLoader\n",
    "import utils.training\n",
    "\n",
    "torch.set_default_dtype(torch.float64)\n",
    "\n",
    "device = (\n",
    "    \"cuda\"\n",
    "    if torch.cuda.is_available()\n",
    "    else \"mps\"\n",
    "    if torch.backends.mps.is_available()\n",
    "    else \"cpu\"\n",
    ")\n",
    "print(f\"\\n Using {device} device\")\n",
    "print(f\"CUDA version: {torch.version.cuda}\")"
   ]
  },
  {
   "cell_type": "code",
   "execution_count": 2,
   "id": "26199b06",
   "metadata": {},
   "outputs": [],
   "source": [
    "training_data = datasets.MNIST(\n",
    "    root=\"data/MNIST\",\n",
    "    train=True,\n",
    "    download=True,\n",
    "    transform=ToTensor()\n",
    ")\n",
    "\n",
    "test_data = datasets.MNIST(\n",
    "    root=\"data/MNIST\",\n",
    "    train=False,\n",
    "    download=True,\n",
    "    transform=ToTensor()\n",
    ")\n",
    "\n",
    "ood_test_data = datasets.FashionMNIST(\n",
    "    root=\"data/FashionMNIST\",\n",
    "    train=False,\n",
    "    download=True,\n",
    "    transform=ToTensor()\n",
    ")\n",
    "\n",
    "n_output = 10\n",
    "n_channels = 1\n",
    "\n",
    "n_train = 1000\n",
    "n_test = 100\n",
    "training_data = torch.utils.data.Subset(training_data,range(n_train))\n",
    "test_data = torch.utils.data.Subset(test_data,range(n_test))\n",
    "ood_test_data = torch.utils.data.Subset(ood_test_data,range(n_test))"
   ]
  },
  {
   "cell_type": "code",
   "execution_count": null,
   "id": "1c3af830",
   "metadata": {},
   "outputs": [
    {
     "name": "stderr",
     "output_type": "stream",
     "text": [
      "  3%|▎         | 1/35 [00:00<00:10,  3.26it/s]"
     ]
    },
    {
     "name": "stdout",
     "output_type": "stream",
     "text": [
      "Epoch 0 of 35\n",
      "Training loss = 2.3415\n",
      "Train accuracy = 9.6%\n",
      "Test loss = 2.2824\n",
      "Test accuracy = 14.0%\n",
      "\n",
      " -------------------------------------\n"
     ]
    },
    {
     "name": "stderr",
     "output_type": "stream",
     "text": [
      "  6%|▌         | 2/35 [00:00<00:10,  3.26it/s]"
     ]
    },
    {
     "name": "stdout",
     "output_type": "stream",
     "text": [
      "Epoch 1 of 35\n",
      "Training loss = 2.3123\n",
      "Train accuracy = 10.9%\n",
      "Test loss = 2.2746\n",
      "Test accuracy = 15.0%\n",
      "\n",
      " -------------------------------------\n"
     ]
    },
    {
     "name": "stderr",
     "output_type": "stream",
     "text": [
      "  9%|▊         | 3/35 [00:00<00:09,  3.32it/s]"
     ]
    },
    {
     "name": "stdout",
     "output_type": "stream",
     "text": [
      "Epoch 2 of 35\n",
      "Training loss = 2.3111\n",
      "Train accuracy = 10.3%\n",
      "Test loss = 2.2951\n",
      "Test accuracy = 15.0%\n",
      "\n",
      " -------------------------------------\n"
     ]
    },
    {
     "name": "stderr",
     "output_type": "stream",
     "text": [
      " 11%|█▏        | 4/35 [00:01<00:09,  3.25it/s]"
     ]
    },
    {
     "name": "stdout",
     "output_type": "stream",
     "text": [
      "Epoch 3 of 35\n",
      "Training loss = 2.3099\n",
      "Train accuracy = 9.2%\n",
      "Test loss = 2.2697\n",
      "Test accuracy = 14.0%\n",
      "\n",
      " -------------------------------------\n"
     ]
    },
    {
     "name": "stderr",
     "output_type": "stream",
     "text": [
      " 14%|█▍        | 5/35 [00:01<00:09,  3.28it/s]"
     ]
    },
    {
     "name": "stdout",
     "output_type": "stream",
     "text": [
      "Epoch 4 of 35\n",
      "Training loss = 2.3066\n",
      "Train accuracy = 11.6%\n",
      "Test loss = 2.2922\n",
      "Test accuracy = 14.0%\n",
      "\n",
      " -------------------------------------\n"
     ]
    },
    {
     "name": "stderr",
     "output_type": "stream",
     "text": [
      " 17%|█▋        | 6/35 [00:01<00:08,  3.23it/s]"
     ]
    },
    {
     "name": "stdout",
     "output_type": "stream",
     "text": [
      "Epoch 5 of 35\n",
      "Training loss = 2.3038\n",
      "Train accuracy = 10.2%\n",
      "Test loss = 2.2725\n",
      "Test accuracy = 15.0%\n",
      "\n",
      " -------------------------------------\n"
     ]
    },
    {
     "name": "stderr",
     "output_type": "stream",
     "text": [
      " 20%|██        | 7/35 [00:02<00:08,  3.27it/s]"
     ]
    },
    {
     "name": "stdout",
     "output_type": "stream",
     "text": [
      "Epoch 6 of 35\n",
      "Training loss = 2.3004\n",
      "Train accuracy = 11.7%\n",
      "Test loss = 2.2686\n",
      "Test accuracy = 15.0%\n",
      "\n",
      " -------------------------------------\n"
     ]
    },
    {
     "name": "stderr",
     "output_type": "stream",
     "text": [
      " 23%|██▎       | 8/35 [00:02<00:08,  3.29it/s]"
     ]
    },
    {
     "name": "stdout",
     "output_type": "stream",
     "text": [
      "Epoch 7 of 35\n",
      "Training loss = 2.3010\n",
      "Train accuracy = 12.7%\n",
      "Test loss = 2.2786\n",
      "Test accuracy = 14.0%\n",
      "\n",
      " -------------------------------------\n"
     ]
    },
    {
     "name": "stderr",
     "output_type": "stream",
     "text": [
      " 26%|██▌       | 9/35 [00:02<00:07,  3.30it/s]"
     ]
    },
    {
     "name": "stdout",
     "output_type": "stream",
     "text": [
      "Epoch 8 of 35\n",
      "Training loss = 2.2957\n",
      "Train accuracy = 11.6%\n",
      "Test loss = 2.2611\n",
      "Test accuracy = 14.0%\n",
      "\n",
      " -------------------------------------\n"
     ]
    },
    {
     "name": "stderr",
     "output_type": "stream",
     "text": [
      " 29%|██▊       | 10/35 [00:03<00:07,  3.26it/s]"
     ]
    },
    {
     "name": "stdout",
     "output_type": "stream",
     "text": [
      "Epoch 9 of 35\n",
      "Training loss = 2.2886\n",
      "Train accuracy = 11.6%\n",
      "Test loss = 2.2672\n",
      "Test accuracy = 15.0%\n",
      "\n",
      " -------------------------------------\n"
     ]
    },
    {
     "name": "stderr",
     "output_type": "stream",
     "text": [
      " 31%|███▏      | 11/35 [00:03<00:07,  3.28it/s]"
     ]
    },
    {
     "name": "stdout",
     "output_type": "stream",
     "text": [
      "Epoch 10 of 35\n",
      "Training loss = 2.2805\n",
      "Train accuracy = 11.9%\n",
      "Test loss = 2.2305\n",
      "Test accuracy = 34.0%\n",
      "\n",
      " -------------------------------------\n"
     ]
    },
    {
     "name": "stderr",
     "output_type": "stream",
     "text": [
      " 34%|███▍      | 12/35 [00:03<00:06,  3.29it/s]"
     ]
    },
    {
     "name": "stdout",
     "output_type": "stream",
     "text": [
      "Epoch 11 of 35\n",
      "Training loss = 2.2482\n",
      "Train accuracy = 20.9%\n",
      "Test loss = 2.1558\n",
      "Test accuracy = 28.0%\n",
      "\n",
      " -------------------------------------\n"
     ]
    },
    {
     "name": "stderr",
     "output_type": "stream",
     "text": [
      " 37%|███▋      | 13/35 [00:03<00:06,  3.30it/s]"
     ]
    },
    {
     "name": "stdout",
     "output_type": "stream",
     "text": [
      "Epoch 12 of 35\n",
      "Training loss = 2.1433\n",
      "Train accuracy = 23.8%\n",
      "Test loss = 2.0312\n",
      "Test accuracy = 30.0%\n",
      "\n",
      " -------------------------------------\n"
     ]
    },
    {
     "name": "stderr",
     "output_type": "stream",
     "text": [
      " 40%|████      | 14/35 [00:04<00:06,  3.32it/s]"
     ]
    },
    {
     "name": "stdout",
     "output_type": "stream",
     "text": [
      "Epoch 13 of 35\n",
      "Training loss = 1.9826\n",
      "Train accuracy = 27.9%\n",
      "Test loss = 1.8204\n",
      "Test accuracy = 38.0%\n",
      "\n",
      " -------------------------------------\n"
     ]
    },
    {
     "name": "stderr",
     "output_type": "stream",
     "text": [
      " 43%|████▎     | 15/35 [00:04<00:06,  3.27it/s]"
     ]
    },
    {
     "name": "stdout",
     "output_type": "stream",
     "text": [
      "Epoch 14 of 35\n",
      "Training loss = 1.8091\n",
      "Train accuracy = 37.7%\n",
      "Test loss = 1.6327\n",
      "Test accuracy = 52.0%\n",
      "\n",
      " -------------------------------------\n"
     ]
    },
    {
     "name": "stderr",
     "output_type": "stream",
     "text": [
      " 46%|████▌     | 16/35 [00:04<00:05,  3.28it/s]"
     ]
    },
    {
     "name": "stdout",
     "output_type": "stream",
     "text": [
      "Epoch 15 of 35\n",
      "Training loss = 1.6026\n",
      "Train accuracy = 48.4%\n",
      "Test loss = 1.3947\n",
      "Test accuracy = 57.0%\n",
      "\n",
      " -------------------------------------\n"
     ]
    },
    {
     "name": "stderr",
     "output_type": "stream",
     "text": [
      " 49%|████▊     | 17/35 [00:05<00:05,  3.30it/s]"
     ]
    },
    {
     "name": "stdout",
     "output_type": "stream",
     "text": [
      "Epoch 16 of 35\n",
      "Training loss = 1.3828\n",
      "Train accuracy = 56.0%\n",
      "Test loss = 1.2128\n",
      "Test accuracy = 65.0%\n",
      "\n",
      " -------------------------------------\n"
     ]
    },
    {
     "name": "stderr",
     "output_type": "stream",
     "text": [
      " 51%|█████▏    | 18/35 [00:05<00:05,  3.31it/s]"
     ]
    },
    {
     "name": "stdout",
     "output_type": "stream",
     "text": [
      "Epoch 17 of 35\n",
      "Training loss = 1.2059\n",
      "Train accuracy = 58.4%\n",
      "Test loss = 1.0563\n",
      "Test accuracy = 70.0%\n",
      "\n",
      " -------------------------------------\n"
     ]
    },
    {
     "name": "stderr",
     "output_type": "stream",
     "text": [
      " 54%|█████▍    | 19/35 [00:05<00:04,  3.31it/s]"
     ]
    },
    {
     "name": "stdout",
     "output_type": "stream",
     "text": [
      "Epoch 18 of 35\n",
      "Training loss = 1.0788\n",
      "Train accuracy = 64.8%\n",
      "Test loss = 0.9902\n",
      "Test accuracy = 70.0%\n",
      "\n",
      " -------------------------------------\n"
     ]
    },
    {
     "name": "stderr",
     "output_type": "stream",
     "text": [
      " 57%|█████▋    | 20/35 [00:06<00:04,  3.27it/s]"
     ]
    },
    {
     "name": "stdout",
     "output_type": "stream",
     "text": [
      "Epoch 19 of 35\n",
      "Training loss = 0.9840\n",
      "Train accuracy = 68.2%\n",
      "Test loss = 0.9106\n",
      "Test accuracy = 72.0%\n",
      "\n",
      " -------------------------------------\n"
     ]
    },
    {
     "name": "stderr",
     "output_type": "stream",
     "text": [
      " 60%|██████    | 21/35 [00:06<00:04,  3.28it/s]"
     ]
    },
    {
     "name": "stdout",
     "output_type": "stream",
     "text": [
      "Epoch 20 of 35\n",
      "Training loss = 0.9075\n",
      "Train accuracy = 71.7%\n",
      "Test loss = 0.8487\n",
      "Test accuracy = 72.0%\n",
      "\n",
      " -------------------------------------\n"
     ]
    },
    {
     "name": "stderr",
     "output_type": "stream",
     "text": [
      " 63%|██████▎   | 22/35 [00:06<00:04,  3.25it/s]"
     ]
    },
    {
     "name": "stdout",
     "output_type": "stream",
     "text": [
      "Epoch 21 of 35\n",
      "Training loss = 0.8502\n",
      "Train accuracy = 73.4%\n",
      "Test loss = 0.8211\n",
      "Test accuracy = 72.0%\n",
      "\n",
      " -------------------------------------\n"
     ]
    },
    {
     "name": "stderr",
     "output_type": "stream",
     "text": [
      " 66%|██████▌   | 23/35 [00:07<00:03,  3.27it/s]"
     ]
    },
    {
     "name": "stdout",
     "output_type": "stream",
     "text": [
      "Epoch 22 of 35\n",
      "Training loss = 0.8154\n",
      "Train accuracy = 74.5%\n",
      "Test loss = 0.7623\n",
      "Test accuracy = 76.0%\n",
      "\n",
      " -------------------------------------\n"
     ]
    },
    {
     "name": "stderr",
     "output_type": "stream",
     "text": [
      " 69%|██████▊   | 24/35 [00:07<00:03,  3.29it/s]"
     ]
    },
    {
     "name": "stdout",
     "output_type": "stream",
     "text": [
      "Epoch 23 of 35\n",
      "Training loss = 0.7727\n",
      "Train accuracy = 75.0%\n",
      "Test loss = 0.7465\n",
      "Test accuracy = 76.0%\n",
      "\n",
      " -------------------------------------\n"
     ]
    },
    {
     "name": "stderr",
     "output_type": "stream",
     "text": [
      " 71%|███████▏  | 25/35 [00:07<00:03,  3.30it/s]"
     ]
    },
    {
     "name": "stdout",
     "output_type": "stream",
     "text": [
      "Epoch 24 of 35\n",
      "Training loss = 0.7420\n",
      "Train accuracy = 77.2%\n",
      "Test loss = 0.7183\n",
      "Test accuracy = 78.0%\n",
      "\n",
      " -------------------------------------\n"
     ]
    },
    {
     "name": "stderr",
     "output_type": "stream",
     "text": [
      " 74%|███████▍  | 26/35 [00:07<00:02,  3.25it/s]"
     ]
    },
    {
     "name": "stdout",
     "output_type": "stream",
     "text": [
      "Epoch 25 of 35\n",
      "Training loss = 0.7186\n",
      "Train accuracy = 79.8%\n",
      "Test loss = 0.7028\n",
      "Test accuracy = 82.0%\n",
      "\n",
      " -------------------------------------\n"
     ]
    },
    {
     "name": "stderr",
     "output_type": "stream",
     "text": [
      " 77%|███████▋  | 27/35 [00:08<00:02,  3.27it/s]"
     ]
    },
    {
     "name": "stdout",
     "output_type": "stream",
     "text": [
      "Epoch 26 of 35\n",
      "Training loss = 0.6975\n",
      "Train accuracy = 79.4%\n",
      "Test loss = 0.6880\n",
      "Test accuracy = 79.0%\n",
      "\n",
      " -------------------------------------\n"
     ]
    },
    {
     "name": "stderr",
     "output_type": "stream",
     "text": [
      " 80%|████████  | 28/35 [00:08<00:02,  3.25it/s]"
     ]
    },
    {
     "name": "stdout",
     "output_type": "stream",
     "text": [
      "Epoch 27 of 35\n",
      "Training loss = 0.6831\n",
      "Train accuracy = 80.0%\n",
      "Test loss = 0.6761\n",
      "Test accuracy = 79.0%\n",
      "\n",
      " -------------------------------------\n"
     ]
    },
    {
     "name": "stderr",
     "output_type": "stream",
     "text": [
      " 83%|████████▎ | 29/35 [00:08<00:01,  3.26it/s]"
     ]
    },
    {
     "name": "stdout",
     "output_type": "stream",
     "text": [
      "Epoch 28 of 35\n",
      "Training loss = 0.6727\n",
      "Train accuracy = 81.1%\n",
      "Test loss = 0.6646\n",
      "Test accuracy = 80.0%\n",
      "\n",
      " -------------------------------------\n"
     ]
    },
    {
     "name": "stderr",
     "output_type": "stream",
     "text": [
      " 86%|████████▌ | 30/35 [00:09<00:01,  3.29it/s]"
     ]
    },
    {
     "name": "stdout",
     "output_type": "stream",
     "text": [
      "Epoch 29 of 35\n",
      "Training loss = 0.6628\n",
      "Train accuracy = 81.2%\n",
      "Test loss = 0.6642\n",
      "Test accuracy = 80.0%\n",
      "\n",
      " -------------------------------------\n"
     ]
    },
    {
     "name": "stderr",
     "output_type": "stream",
     "text": [
      " 89%|████████▊ | 31/35 [00:09<00:01,  3.30it/s]"
     ]
    },
    {
     "name": "stdout",
     "output_type": "stream",
     "text": [
      "Epoch 30 of 35\n",
      "Training loss = 0.6560\n",
      "Train accuracy = 81.1%\n",
      "Test loss = 0.6578\n",
      "Test accuracy = 80.0%\n",
      "\n",
      " -------------------------------------\n"
     ]
    },
    {
     "name": "stderr",
     "output_type": "stream",
     "text": [
      " 91%|█████████▏| 32/35 [00:09<00:00,  3.26it/s]"
     ]
    },
    {
     "name": "stdout",
     "output_type": "stream",
     "text": [
      "Epoch 31 of 35\n",
      "Training loss = 0.6515\n",
      "Train accuracy = 81.3%\n",
      "Test loss = 0.6548\n",
      "Test accuracy = 80.0%\n",
      "\n",
      " -------------------------------------\n"
     ]
    },
    {
     "name": "stderr",
     "output_type": "stream",
     "text": [
      " 94%|█████████▍| 33/35 [00:10<00:00,  3.28it/s]"
     ]
    },
    {
     "name": "stdout",
     "output_type": "stream",
     "text": [
      "Epoch 32 of 35\n",
      "Training loss = 0.6487\n",
      "Train accuracy = 81.4%\n",
      "Test loss = 0.6537\n",
      "Test accuracy = 79.0%\n",
      "\n",
      " -------------------------------------\n"
     ]
    },
    {
     "name": "stderr",
     "output_type": "stream",
     "text": [
      " 97%|█████████▋| 34/35 [00:10<00:00,  3.29it/s]"
     ]
    },
    {
     "name": "stdout",
     "output_type": "stream",
     "text": [
      "Epoch 33 of 35\n",
      "Training loss = 0.6471\n",
      "Train accuracy = 81.7%\n",
      "Test loss = 0.6533\n",
      "Test accuracy = 79.0%\n",
      "\n",
      " -------------------------------------\n"
     ]
    },
    {
     "name": "stderr",
     "output_type": "stream",
     "text": [
      "100%|██████████| 35/35 [00:10<00:00,  3.28it/s]"
     ]
    },
    {
     "name": "stdout",
     "output_type": "stream",
     "text": [
      "Epoch 34 of 35\n",
      "Training loss = 0.6463\n",
      "Train accuracy = 81.6%\n",
      "Test loss = 0.6531\n",
      "Test accuracy = 79.0%\n",
      "\n",
      " -------------------------------------\n",
      "Done!\n",
      "Final training loss = 0.6463\n",
      "Final train accuracy = 81.6%\n",
      "Final test loss = 0.6531\n",
      "Final test accuracy = 79.0%\n"
     ]
    },
    {
     "name": "stderr",
     "output_type": "stream",
     "text": [
      "\n"
     ]
    }
   ],
   "source": [
    "map_net = model.LeNet5()\n",
    "\n",
    "train_dataloader = DataLoader(training_data, batch_size=100, shuffle=True)\n",
    "test_dataloader = DataLoader(test_data, batch_size=25)\n",
    "ood_test_dataloader = DataLoader(ood_test_data, batch_size=25)\n",
    "\n",
    "loss_fn = nn.CrossEntropyLoss()\n",
    "\n",
    "optimizer = torch.optim.Adam(map_net.parameters(), lr=5e-3, weight_decay=1e-4)\n",
    "scheduler = torch.optim.lr_scheduler.CosineAnnealingLR(optimizer, T_max = 35)\n",
    "\n",
    "train_loss, train_acc, _, _ = utils.training.training(train_loader=train_dataloader,test_loader=test_dataloader,\n",
    "                                                        model=map_net, loss_fn=loss_fn, optimizer=optimizer,\n",
    "                                                        scheduler=scheduler,epochs=35,\n",
    "                                                        verbose=True, progress_bar=True)"
   ]
  },
  {
   "cell_type": "code",
   "execution_count": 5,
   "id": "accbc40a",
   "metadata": {},
   "outputs": [
    {
     "ename": "TypeError",
     "evalue": "classificationParallel.train() got an unexpected keyword argument 'extra_verbose'",
     "output_type": "error",
     "traceback": [
      "\u001b[1;31m---------------------------------------------------------------------------\u001b[0m",
      "\u001b[1;31mTypeError\u001b[0m                                 Traceback (most recent call last)",
      "Cell \u001b[1;32mIn[5], line 4\u001b[0m\n\u001b[0;32m      1\u001b[0m \u001b[38;5;28;01mfrom\u001b[39;00m \u001b[38;5;21;01mnuqls\u001b[39;00m\u001b[38;5;21;01m.\u001b[39;00m\u001b[38;5;21;01mposterior\u001b[39;00m \u001b[38;5;28;01mimport\u001b[39;00m Nuqls\n\u001b[0;32m      3\u001b[0m nuqls_posterior \u001b[38;5;241m=\u001b[39m Nuqls(map_net, task\u001b[38;5;241m=\u001b[39m\u001b[38;5;124m'\u001b[39m\u001b[38;5;124mclassification\u001b[39m\u001b[38;5;124m'\u001b[39m)\n\u001b[1;32m----> 4\u001b[0m loss,acc \u001b[38;5;241m=\u001b[39m \u001b[43mnuqls_posterior\u001b[49m\u001b[38;5;241;43m.\u001b[39;49m\u001b[43mtrain\u001b[49m\u001b[43m(\u001b[49m\u001b[43mtrain\u001b[49m\u001b[38;5;241;43m=\u001b[39;49m\u001b[43mtraining_data\u001b[49m\u001b[43m,\u001b[49m\u001b[43m \u001b[49m\n\u001b[0;32m      5\u001b[0m \u001b[43m                    \u001b[49m\u001b[43mtrain_bs\u001b[49m\u001b[38;5;241;43m=\u001b[39;49m\u001b[38;5;241;43m10\u001b[39;49m\u001b[43m,\u001b[49m\u001b[43m \u001b[49m\n\u001b[0;32m      6\u001b[0m \u001b[43m                    \u001b[49m\u001b[43mn_output\u001b[49m\u001b[38;5;241;43m=\u001b[39;49m\u001b[43mn_output\u001b[49m\u001b[43m,\u001b[49m\n\u001b[0;32m      7\u001b[0m \u001b[43m                    \u001b[49m\u001b[43mS\u001b[49m\u001b[38;5;241;43m=\u001b[39;49m\u001b[38;5;241;43m10\u001b[39;49m\u001b[43m,\u001b[49m\n\u001b[0;32m      8\u001b[0m \u001b[43m                    \u001b[49m\u001b[43mscale\u001b[49m\u001b[38;5;241;43m=\u001b[39;49m\u001b[38;5;241;43m0.01\u001b[39;49m\u001b[43m,\u001b[49m\u001b[43m \u001b[49m\n\u001b[0;32m      9\u001b[0m \u001b[43m                    \u001b[49m\u001b[43mlr\u001b[49m\u001b[38;5;241;43m=\u001b[39;49m\u001b[38;5;241;43m1e-2\u001b[39;49m\u001b[43m,\u001b[49m\u001b[43m \u001b[49m\n\u001b[0;32m     10\u001b[0m \u001b[43m                    \u001b[49m\u001b[43mepochs\u001b[49m\u001b[38;5;241;43m=\u001b[39;49m\u001b[38;5;241;43m10\u001b[39;49m\u001b[43m,\u001b[49m\u001b[43m \u001b[49m\n\u001b[0;32m     11\u001b[0m \u001b[43m                    \u001b[49m\u001b[43mmu\u001b[49m\u001b[38;5;241;43m=\u001b[39;49m\u001b[38;5;241;43m0.9\u001b[39;49m\u001b[43m,\u001b[49m\n\u001b[0;32m     12\u001b[0m \u001b[43m                    \u001b[49m\u001b[43mverbose\u001b[49m\u001b[38;5;241;43m=\u001b[39;49m\u001b[38;5;28;43;01mTrue\u001b[39;49;00m\u001b[43m,\u001b[49m\n\u001b[0;32m     13\u001b[0m \u001b[43m                    \u001b[49m\u001b[43mextra_verbose\u001b[49m\u001b[38;5;241;43m=\u001b[39;49m\u001b[38;5;28;43;01mTrue\u001b[39;49;00m\u001b[43m)\u001b[49m\n",
      "\u001b[1;31mTypeError\u001b[0m: classificationParallel.train() got an unexpected keyword argument 'extra_verbose'"
     ]
    }
   ],
   "source": [
    "from nuqls.posterior import Nuqls\n",
    "\n",
    "nuqls_posterior = Nuqls(map_net, task='classification')\n",
    "loss,acc = nuqls_posterior.train(train=training_data, \n",
    "                    train_bs=10, \n",
    "                    n_output=n_output,\n",
    "                    S=10,\n",
    "                    scale=0.01, \n",
    "                    lr=1e-2, \n",
    "                    epochs=10, \n",
    "                    mu=0.9,\n",
    "                    verbose=True,\n",
    "                    extra_verbose=True)"
   ]
  },
  {
   "cell_type": "code",
   "execution_count": 5,
   "id": "7b0416fe",
   "metadata": {},
   "outputs": [],
   "source": [
    "prob_var_dict = {}"
   ]
  },
  {
   "cell_type": "code",
   "execution_count": 6,
   "id": "a2f649bd",
   "metadata": {},
   "outputs": [],
   "source": [
    "testloader = DataLoader(test_data, batch_size=20)\n",
    "ood_testloader = DataLoader(test_data, batch_size=20)\n",
    "\n",
    "correct_var = []\n",
    "incorrect_var = []\n",
    "for x,y in testloader:\n",
    "    preds = nuqls_posterior.eval(x).softmax(dim=2)\n",
    "    index = (preds.mean(0).argmax(1) == y)\n",
    "    correct_preds = preds[:,index,:]\n",
    "    incorrect_preds = preds[:,~index,:]\n",
    "\n",
    "    max_index = correct_preds.mean(0).argmax(1)\n",
    "    pi_correct_var = correct_preds[:,range(len(max_index)),max_index].var(0)\n",
    "\n",
    "    max_index = incorrect_preds.mean(0).argmax(1)\n",
    "    pi_incorrect_var = incorrect_preds[:,range(len(max_index)),max_index].var(0)\n",
    "\n",
    "    correct_var.append(pi_correct_var)\n",
    "    incorrect_var.append(pi_incorrect_var)\n",
    "\n",
    "correct_var = torch.cat(correct_var)\n",
    "incorrect_var = torch.cat(incorrect_var)\n",
    "\n",
    "ood_var = []\n",
    "for x,y in ood_testloader:\n",
    "    preds = nuqls_posterior.eval(x).softmax(dim=2)\n",
    "\n",
    "    max_index = preds.mean(0).argmax(1)\n",
    "    po_var = preds[:,range(len(max_index)),max_index].var(0)\n",
    "\n",
    "    ood_var.append(po_var)\n",
    "\n",
    "ood_var = torch.cat(ood_var)\n",
    "\n",
    "prob_var_dict['NUQLS'] = {'id_correct': pi_correct_var,\n",
    "                    'id_incorrect': pi_incorrect_var,\n",
    "                    'ood': po_var}"
   ]
  },
  {
   "cell_type": "code",
   "execution_count": 7,
   "id": "30ff3117",
   "metadata": {},
   "outputs": [],
   "source": [
    "S = 10\n",
    "scale_n = 1\n",
    "\n",
    "correct_var = []\n",
    "incorrect_var = []\n",
    "for x,y in testloader:\n",
    "    sample = (torch.randn((S,len(y),10)) * scale_n).softmax(2)\n",
    "\n",
    "    index = (sample.mean(0).argmax(1) == y)\n",
    "    correct_preds = sample[:,index,:]\n",
    "    incorrect_preds = sample[:,~index,:]\n",
    "\n",
    "    max_index = correct_preds.mean(0).argmax(1)\n",
    "    pi_correct_var = correct_preds[:,range(len(max_index)),max_index].var(0)\n",
    "\n",
    "    max_index = incorrect_preds.mean(0).argmax(1)\n",
    "    pi_incorrect_var = incorrect_preds[:,range(len(max_index)),max_index].var(0)\n",
    "\n",
    "    correct_var.append(pi_correct_var)\n",
    "    incorrect_var.append(pi_incorrect_var)\n",
    "\n",
    "correct_var = torch.cat(correct_var)\n",
    "incorrect_var = torch.cat(incorrect_var)\n",
    "\n",
    "ood_var = []\n",
    "for x,y in ood_testloader:\n",
    "    sample = (torch.randn((S,len(y),10)) * scale_n).softmax(2)\n",
    "\n",
    "    max_index = sample.mean(0).argmax(1)\n",
    "    po_var = sample[:,range(len(max_index)),max_index].var(0)\n",
    "\n",
    "    ood_var.append(po_var)\n",
    "    \n",
    "ood_var = torch.cat(ood_var)\n",
    "\n",
    "prob_var_dict['BASE'] = {'id_correct': pi_correct_var,\n",
    "                    'id_incorrect': pi_incorrect_var,\n",
    "                    'ood': po_var}    \n"
   ]
  },
  {
   "cell_type": "code",
   "execution_count": 8,
   "id": "ae9f37e7",
   "metadata": {},
   "outputs": [
    {
     "ename": "ModuleNotFoundError",
     "evalue": "No module named 'sklearn'",
     "output_type": "error",
     "traceback": [
      "\u001b[31m---------------------------------------------------------------------------\u001b[39m",
      "\u001b[31mModuleNotFoundError\u001b[39m                       Traceback (most recent call last)",
      "\u001b[36mCell\u001b[39m\u001b[36m \u001b[39m\u001b[32mIn[8]\u001b[39m\u001b[32m, line 1\u001b[39m\n\u001b[32m----> \u001b[39m\u001b[32m1\u001b[39m \u001b[38;5;28;01mimport\u001b[39;00m\u001b[38;5;250m \u001b[39m\u001b[34;01mutils\u001b[39;00m\u001b[34;01m.\u001b[39;00m\u001b[34;01mmetrics\u001b[39;00m\u001b[38;5;250m \u001b[39m\u001b[38;5;28;01mas\u001b[39;00m\u001b[38;5;250m \u001b[39m\u001b[34;01mmetrics\u001b[39;00m\n\u001b[32m      2\u001b[39m metrics.plot_vmsp(prob_dict=prob_var_dict,\n\u001b[32m      3\u001b[39m                           title=\u001b[33mf\u001b[39m\u001b[33m'\u001b[39m\u001b[33mtest\u001b[39m\u001b[33m'\u001b[39m)\n",
      "\u001b[36mFile \u001b[39m\u001b[32mc:\\Users\\s4531973\\Documents\\PhD\\Code\\nuqls\\utils\\metrics.py:2\u001b[39m\n\u001b[32m      1\u001b[39m \u001b[38;5;28;01mimport\u001b[39;00m\u001b[38;5;250m \u001b[39m\u001b[34;01mnumpy\u001b[39;00m\u001b[38;5;250m \u001b[39m\u001b[38;5;28;01mas\u001b[39;00m\u001b[38;5;250m \u001b[39m\u001b[34;01mnp\u001b[39;00m\n\u001b[32m----> \u001b[39m\u001b[32m2\u001b[39m \u001b[38;5;28;01mimport\u001b[39;00m\u001b[38;5;250m \u001b[39m\u001b[34;01msklearn\u001b[39;00m\u001b[34;01m.\u001b[39;00m\u001b[34;01mmetrics\u001b[39;00m\u001b[38;5;250m \u001b[39m\u001b[38;5;28;01mas\u001b[39;00m\u001b[38;5;250m \u001b[39m\u001b[34;01msk\u001b[39;00m\n\u001b[32m      3\u001b[39m \u001b[38;5;28;01mimport\u001b[39;00m\u001b[38;5;250m \u001b[39m\u001b[34;01mtorch\u001b[39;00m\n\u001b[32m      4\u001b[39m \u001b[38;5;28;01mfrom\u001b[39;00m\u001b[38;5;250m \u001b[39m\u001b[34;01mtorch\u001b[39;00m\u001b[34;01m.\u001b[39;00m\u001b[34;01mutils\u001b[39;00m\u001b[34;01m.\u001b[39;00m\u001b[34;01mdata\u001b[39;00m\u001b[38;5;250m \u001b[39m\u001b[38;5;28;01mimport\u001b[39;00m DataLoader\n",
      "\u001b[31mModuleNotFoundError\u001b[39m: No module named 'sklearn'"
     ]
    }
   ],
   "source": [
    "import utils.metrics as metrics\n",
    "metrics.plot_vmsp(prob_dict=prob_var_dict,\n",
    "                          title=f'test')"
   ]
  }
 ],
 "metadata": {
  "kernelspec": {
   "display_name": "Python 3",
   "language": "python",
   "name": "python3"
  },
  "language_info": {
   "codemirror_mode": {
    "name": "ipython",
    "version": 3
   },
   "file_extension": ".py",
   "mimetype": "text/x-python",
   "name": "python",
   "nbconvert_exporter": "python",
   "pygments_lexer": "ipython3",
   "version": "3.11.9"
  }
 },
 "nbformat": 4,
 "nbformat_minor": 5
}
