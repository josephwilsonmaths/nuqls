{
 "cells": [
  {
   "cell_type": "markdown",
   "metadata": {},
   "source": [
    "# Individual Plot"
   ]
  },
  {
   "cell_type": "code",
   "execution_count": 7,
   "metadata": {},
   "outputs": [
    {
     "data": {
      "text/plain": [
       "oneLayerMLP(\n",
       "  (linear1): Linear(in_features=5, out_features=20, bias=False)\n",
       "  (linear2): Linear(in_features=20, out_features=1, bias=False)\n",
       "  (act): Tanh()\n",
       ")"
      ]
     },
     "execution_count": 7,
     "metadata": {},
     "output_type": "execute_result"
    }
   ],
   "source": [
    "import torch\n",
    "\n",
    "n = 100\n",
    "d = 5\n",
    "dl = 20\n",
    "\n",
    "X = torch.randn((n,d))\n",
    "Y = torch.randn((n,1))\n",
    "\n",
    "X_test = torch.randn((n,d))\n",
    "\n",
    "class oneLayerMLP(torch.nn.Module):\n",
    "    def __init__(self):\n",
    "        super().__init__()\n",
    "        self.output_size = 1\n",
    "        self.linear1 = torch.nn.Linear(d,dl,bias=False)\n",
    "        self.linear2 = torch.nn.Linear(dl,1,bias=False)\n",
    "        self.act = torch.nn.Tanh()\n",
    "\n",
    "    def forward(self, x):\n",
    "        x = self.act(self.linear1(x)) /  (dl**0.5)\n",
    "        x = self.linear2(x)\n",
    "        return x\n",
    "\n",
    "def weights_init(m):\n",
    "    if isinstance(m, torch.nn.Linear):\n",
    "        # torch.nn.init.kaiming_normal(m.weight, mode='fan_out', nonlinearity='relu')\n",
    "        torch.nn.init.normal_(m.weight,mean=0,std=1)\n",
    "\n",
    "net = oneLayerMLP()\n",
    "net.apply(weights_init)\n"
   ]
  },
  {
   "cell_type": "code",
   "execution_count": 9,
   "metadata": {},
   "outputs": [
    {
     "name": "stdout",
     "output_type": "stream",
     "text": [
      "loss = 0.6789\n",
      "loss = 0.6786\n",
      "loss = 0.678\n",
      "loss = 0.6772\n",
      "loss = 0.6761\n",
      "loss = 0.6749\n",
      "loss = 0.6735\n",
      "loss = 0.672\n",
      "loss = 0.6703\n",
      "loss = 0.6685\n",
      "loss = 0.6666\n",
      "loss = 0.6645\n",
      "loss = 0.6624\n",
      "loss = 0.6602\n",
      "loss = 0.658\n",
      "loss = 0.6557\n",
      "loss = 0.6533\n",
      "loss = 0.651\n",
      "loss = 0.6485\n",
      "loss = 0.6461\n",
      "loss = 0.6436\n",
      "loss = 0.6411\n",
      "loss = 0.6386\n",
      "loss = 0.6361\n",
      "loss = 0.6336\n",
      "loss = 0.6311\n",
      "loss = 0.6286\n",
      "loss = 0.6261\n",
      "loss = 0.6236\n",
      "loss = 0.6211\n",
      "loss = 0.6186\n",
      "loss = 0.6161\n",
      "loss = 0.6136\n",
      "loss = 0.6112\n",
      "loss = 0.6088\n",
      "loss = 0.6063\n",
      "loss = 0.6039\n",
      "loss = 0.6016\n",
      "loss = 0.5992\n",
      "loss = 0.5968\n",
      "loss = 0.5945\n",
      "loss = 0.5922\n",
      "loss = 0.5899\n",
      "loss = 0.5876\n",
      "loss = 0.5853\n",
      "loss = 0.5831\n",
      "loss = 0.5809\n",
      "loss = 0.5787\n",
      "loss = 0.5765\n",
      "loss = 0.5743\n",
      "loss = 0.5722\n",
      "loss = 0.57\n",
      "loss = 0.5679\n",
      "loss = 0.5659\n",
      "loss = 0.5638\n",
      "loss = 0.5617\n",
      "loss = 0.5597\n",
      "loss = 0.5577\n",
      "loss = 0.5557\n",
      "loss = 0.5537\n",
      "loss = 0.5518\n",
      "loss = 0.5498\n",
      "loss = 0.5479\n",
      "loss = 0.546\n",
      "loss = 0.5441\n",
      "loss = 0.5422\n",
      "loss = 0.5404\n",
      "loss = 0.5385\n",
      "loss = 0.5367\n",
      "loss = 0.5349\n",
      "loss = 0.5331\n",
      "loss = 0.5313\n",
      "loss = 0.5295\n",
      "loss = 0.5277\n",
      "loss = 0.526\n",
      "loss = 0.5242\n",
      "loss = 0.5225\n",
      "loss = 0.5208\n",
      "loss = 0.519\n",
      "loss = 0.5173\n",
      "loss = 0.5156\n",
      "loss = 0.5139\n",
      "loss = 0.5122\n",
      "loss = 0.5106\n",
      "loss = 0.5089\n",
      "loss = 0.5072\n",
      "loss = 0.5056\n",
      "loss = 0.5039\n",
      "loss = 0.5023\n",
      "loss = 0.5006\n",
      "loss = 0.499\n",
      "loss = 0.4974\n",
      "loss = 0.4957\n",
      "loss = 0.4941\n",
      "loss = 0.4925\n",
      "loss = 0.4909\n",
      "loss = 0.4893\n",
      "loss = 0.4876\n",
      "loss = 0.486\n",
      "loss = 0.4844\n",
      "loss = 0.4828\n",
      "loss = 0.4812\n",
      "loss = 0.4796\n",
      "loss = 0.478\n",
      "loss = 0.4764\n",
      "loss = 0.4749\n",
      "loss = 0.4733\n",
      "loss = 0.4717\n",
      "loss = 0.4701\n",
      "loss = 0.4685\n",
      "loss = 0.4669\n",
      "loss = 0.4654\n",
      "loss = 0.4638\n",
      "loss = 0.4622\n",
      "loss = 0.4606\n",
      "loss = 0.4591\n",
      "loss = 0.4575\n",
      "loss = 0.456\n",
      "loss = 0.4544\n",
      "loss = 0.4528\n",
      "loss = 0.4513\n",
      "loss = 0.4498\n",
      "loss = 0.4482\n",
      "loss = 0.4467\n",
      "loss = 0.4451\n",
      "loss = 0.4436\n",
      "loss = 0.4421\n",
      "loss = 0.4406\n",
      "loss = 0.439\n",
      "loss = 0.4375\n",
      "loss = 0.436\n",
      "loss = 0.4345\n",
      "loss = 0.433\n",
      "loss = 0.4315\n",
      "loss = 0.43\n",
      "loss = 0.4286\n",
      "loss = 0.4271\n",
      "loss = 0.4256\n",
      "loss = 0.4242\n",
      "loss = 0.4227\n",
      "loss = 0.4212\n",
      "loss = 0.4198\n",
      "loss = 0.4183\n",
      "loss = 0.4169\n",
      "loss = 0.4155\n",
      "loss = 0.4141\n",
      "loss = 0.4126\n",
      "loss = 0.4112\n",
      "loss = 0.4098\n",
      "loss = 0.4084\n",
      "loss = 0.407\n",
      "loss = 0.4056\n",
      "loss = 0.4043\n",
      "loss = 0.4029\n",
      "loss = 0.4015\n",
      "loss = 0.4001\n",
      "loss = 0.3988\n",
      "loss = 0.3974\n",
      "loss = 0.3961\n",
      "loss = 0.3948\n",
      "loss = 0.3934\n",
      "loss = 0.3921\n",
      "loss = 0.3908\n",
      "loss = 0.3895\n",
      "loss = 0.3882\n",
      "loss = 0.3869\n",
      "loss = 0.3856\n",
      "loss = 0.3843\n",
      "loss = 0.383\n",
      "loss = 0.3817\n",
      "loss = 0.3805\n",
      "loss = 0.3792\n",
      "loss = 0.378\n",
      "loss = 0.3767\n",
      "loss = 0.3755\n",
      "loss = 0.3742\n",
      "loss = 0.373\n",
      "loss = 0.3718\n",
      "loss = 0.3705\n",
      "loss = 0.3693\n",
      "loss = 0.3681\n",
      "loss = 0.3669\n",
      "loss = 0.3657\n",
      "loss = 0.3645\n",
      "loss = 0.3633\n",
      "loss = 0.3621\n",
      "loss = 0.3609\n",
      "loss = 0.3597\n",
      "loss = 0.3586\n",
      "loss = 0.3574\n",
      "loss = 0.3562\n",
      "loss = 0.355\n",
      "loss = 0.3539\n",
      "loss = 0.3527\n",
      "loss = 0.3516\n",
      "loss = 0.3504\n",
      "loss = 0.3493\n",
      "loss = 0.3481\n",
      "loss = 0.347\n",
      "loss = 0.3458\n",
      "loss = 0.3447\n",
      "loss = 0.3435\n",
      "loss = 0.3424\n",
      "loss = 0.3413\n",
      "loss = 0.3401\n",
      "loss = 0.339\n",
      "loss = 0.3379\n",
      "loss = 0.3367\n",
      "loss = 0.3356\n",
      "loss = 0.3345\n",
      "loss = 0.3333\n",
      "loss = 0.3322\n",
      "loss = 0.3311\n",
      "loss = 0.33\n",
      "loss = 0.3288\n",
      "loss = 0.3277\n",
      "loss = 0.3266\n",
      "loss = 0.3254\n",
      "loss = 0.3243\n",
      "loss = 0.3231\n",
      "loss = 0.322\n",
      "loss = 0.3209\n",
      "loss = 0.3197\n",
      "loss = 0.3186\n",
      "loss = 0.3174\n",
      "loss = 0.3162\n",
      "loss = 0.3151\n",
      "loss = 0.3139\n",
      "loss = 0.3127\n",
      "loss = 0.3116\n",
      "loss = 0.3104\n",
      "loss = 0.3092\n",
      "loss = 0.308\n",
      "loss = 0.3068\n",
      "loss = 0.3056\n",
      "loss = 0.3044\n",
      "loss = 0.3031\n",
      "loss = 0.3019\n",
      "loss = 0.3007\n",
      "loss = 0.2994\n",
      "loss = 0.2982\n",
      "loss = 0.297\n",
      "loss = 0.2957\n",
      "loss = 0.2944\n",
      "loss = 0.2932\n",
      "loss = 0.2919\n",
      "loss = 0.2907\n",
      "loss = 0.2894\n",
      "loss = 0.2881\n",
      "loss = 0.2869\n",
      "loss = 0.2856\n",
      "loss = 0.2844\n",
      "loss = 0.2831\n",
      "loss = 0.2819\n",
      "loss = 0.2807\n",
      "loss = 0.2795\n",
      "loss = 0.2783\n",
      "loss = 0.2771\n",
      "loss = 0.2759\n",
      "loss = 0.2747\n",
      "loss = 0.2735\n",
      "loss = 0.2724\n",
      "loss = 0.2712\n",
      "loss = 0.2701\n",
      "loss = 0.269\n",
      "loss = 0.2679\n",
      "loss = 0.2668\n",
      "loss = 0.2657\n",
      "loss = 0.2646\n",
      "loss = 0.2636\n",
      "loss = 0.2625\n",
      "loss = 0.2615\n",
      "loss = 0.2604\n",
      "loss = 0.2594\n",
      "loss = 0.2584\n",
      "loss = 0.2574\n",
      "loss = 0.2564\n",
      "loss = 0.2554\n",
      "loss = 0.2544\n",
      "loss = 0.2535\n",
      "loss = 0.2525\n",
      "loss = 0.2516\n",
      "loss = 0.2507\n",
      "loss = 0.2497\n",
      "loss = 0.2488\n",
      "loss = 0.2479\n",
      "loss = 0.2471\n",
      "loss = 0.2462\n",
      "loss = 0.2453\n",
      "loss = 0.2445\n",
      "loss = 0.2436\n",
      "loss = 0.2428\n",
      "loss = 0.242\n",
      "loss = 0.2412\n",
      "loss = 0.2404\n",
      "loss = 0.2396\n",
      "loss = 0.2388\n",
      "loss = 0.238\n",
      "loss = 0.2373\n",
      "loss = 0.2365\n",
      "loss = 0.2358\n",
      "loss = 0.235\n",
      "loss = 0.2343\n",
      "loss = 0.2336\n",
      "loss = 0.2329\n",
      "loss = 0.2322\n",
      "loss = 0.2315\n",
      "loss = 0.2308\n",
      "loss = 0.2301\n",
      "loss = 0.2294\n",
      "loss = 0.2287\n",
      "loss = 0.2281\n",
      "loss = 0.2274\n",
      "loss = 0.2268\n",
      "loss = 0.2261\n",
      "loss = 0.2255\n",
      "loss = 0.2248\n",
      "loss = 0.2242\n",
      "loss = 0.2236\n",
      "loss = 0.223\n",
      "loss = 0.2223\n",
      "loss = 0.2217\n",
      "loss = 0.2211\n",
      "loss = 0.2205\n",
      "loss = 0.2199\n",
      "loss = 0.2193\n",
      "loss = 0.2188\n",
      "loss = 0.2182\n",
      "loss = 0.2176\n",
      "loss = 0.217\n",
      "loss = 0.2165\n",
      "loss = 0.2159\n",
      "loss = 0.2153\n",
      "loss = 0.2148\n",
      "loss = 0.2142\n",
      "loss = 0.2137\n",
      "loss = 0.2131\n",
      "loss = 0.2126\n",
      "loss = 0.212\n",
      "loss = 0.2115\n",
      "loss = 0.211\n",
      "loss = 0.2104\n",
      "loss = 0.2099\n",
      "loss = 0.2094\n",
      "loss = 0.2089\n",
      "loss = 0.2083\n",
      "loss = 0.2078\n",
      "loss = 0.2073\n",
      "loss = 0.2068\n",
      "loss = 0.2063\n",
      "loss = 0.2058\n",
      "loss = 0.2053\n",
      "loss = 0.2048\n",
      "loss = 0.2043\n",
      "loss = 0.2038\n",
      "loss = 0.2033\n",
      "loss = 0.2028\n",
      "loss = 0.2023\n",
      "loss = 0.2018\n",
      "loss = 0.2013\n",
      "loss = 0.2008\n",
      "loss = 0.2003\n",
      "loss = 0.1998\n",
      "loss = 0.1993\n",
      "loss = 0.1988\n",
      "loss = 0.1983\n",
      "loss = 0.1978\n",
      "loss = 0.1973\n",
      "loss = 0.1968\n",
      "loss = 0.1963\n",
      "loss = 0.1958\n",
      "loss = 0.1953\n",
      "loss = 0.1948\n",
      "loss = 0.1943\n",
      "loss = 0.1938\n",
      "loss = 0.1933\n",
      "loss = 0.1928\n",
      "loss = 0.1923\n",
      "loss = 0.1918\n",
      "loss = 0.1913\n",
      "loss = 0.1908\n",
      "loss = 0.1903\n",
      "loss = 0.1898\n",
      "loss = 0.1893\n",
      "loss = 0.1888\n",
      "loss = 0.1883\n",
      "loss = 0.1877\n",
      "loss = 0.1872\n",
      "loss = 0.1867\n",
      "loss = 0.1862\n",
      "loss = 0.1857\n",
      "loss = 0.1851\n",
      "loss = 0.1846\n",
      "loss = 0.1841\n",
      "loss = 0.1836\n",
      "loss = 0.1831\n",
      "loss = 0.1826\n",
      "loss = 0.1821\n",
      "loss = 0.1816\n",
      "loss = 0.1811\n",
      "loss = 0.1806\n",
      "loss = 0.1801\n",
      "loss = 0.1796\n",
      "loss = 0.1791\n",
      "loss = 0.1787\n",
      "loss = 0.1782\n",
      "loss = 0.1777\n",
      "loss = 0.1773\n",
      "loss = 0.1769\n",
      "loss = 0.1764\n",
      "loss = 0.176\n",
      "loss = 0.1756\n",
      "loss = 0.1752\n",
      "loss = 0.1748\n",
      "loss = 0.1743\n",
      "loss = 0.174\n",
      "loss = 0.1736\n",
      "loss = 0.1732\n",
      "loss = 0.1728\n",
      "loss = 0.1724\n",
      "loss = 0.1721\n",
      "loss = 0.1717\n",
      "loss = 0.1713\n",
      "loss = 0.171\n",
      "loss = 0.1706\n",
      "loss = 0.1702\n",
      "loss = 0.1699\n",
      "loss = 0.1696\n",
      "loss = 0.1692\n",
      "loss = 0.1689\n",
      "loss = 0.1685\n",
      "loss = 0.1682\n",
      "loss = 0.1678\n",
      "loss = 0.1675\n",
      "loss = 0.1672\n",
      "loss = 0.1668\n",
      "loss = 0.1665\n",
      "loss = 0.1662\n",
      "loss = 0.1659\n",
      "loss = 0.1655\n",
      "loss = 0.1652\n",
      "loss = 0.1649\n",
      "loss = 0.1646\n",
      "loss = 0.1643\n",
      "loss = 0.1639\n",
      "loss = 0.1636\n",
      "loss = 0.1633\n",
      "loss = 0.163\n",
      "loss = 0.1627\n",
      "loss = 0.1624\n",
      "loss = 0.1621\n",
      "loss = 0.1618\n",
      "loss = 0.1614\n",
      "loss = 0.1611\n",
      "loss = 0.1608\n",
      "loss = 0.1605\n",
      "loss = 0.1602\n",
      "loss = 0.1599\n",
      "loss = 0.1596\n",
      "loss = 0.1593\n",
      "loss = 0.159\n",
      "loss = 0.1587\n",
      "loss = 0.1584\n",
      "loss = 0.1581\n",
      "loss = 0.1578\n",
      "loss = 0.1575\n",
      "loss = 0.1572\n",
      "loss = 0.1569\n",
      "loss = 0.1566\n",
      "loss = 0.1564\n",
      "loss = 0.1561\n",
      "loss = 0.1558\n",
      "loss = 0.1555\n",
      "loss = 0.1552\n",
      "loss = 0.1549\n",
      "loss = 0.1546\n",
      "loss = 0.1543\n",
      "loss = 0.154\n",
      "loss = 0.1537\n",
      "loss = 0.1534\n",
      "loss = 0.1531\n",
      "loss = 0.1528\n",
      "loss = 0.1526\n",
      "loss = 0.1523\n",
      "loss = 0.152\n",
      "loss = 0.1517\n",
      "loss = 0.1514\n",
      "loss = 0.1511\n",
      "loss = 0.1508\n",
      "loss = 0.1505\n",
      "loss = 0.1502\n",
      "loss = 0.1499\n",
      "loss = 0.1497\n",
      "loss = 0.1494\n",
      "loss = 0.1491\n",
      "loss = 0.1488\n",
      "loss = 0.1485\n",
      "loss = 0.1482\n",
      "loss = 0.1479\n",
      "loss = 0.1476\n",
      "loss = 0.1473\n",
      "loss = 0.1471\n",
      "loss = 0.1468\n",
      "loss = 0.1465\n",
      "loss = 0.1462\n",
      "loss = 0.1459\n",
      "loss = 0.1456\n",
      "loss = 0.1453\n",
      "loss = 0.145\n",
      "loss = 0.1448\n",
      "loss = 0.1445\n",
      "loss = 0.1442\n",
      "loss = 0.1439\n",
      "loss = 0.1436\n",
      "loss = 0.1433\n",
      "loss = 0.143\n",
      "loss = 0.1427\n",
      "loss = 0.1425\n",
      "loss = 0.1422\n",
      "loss = 0.1419\n",
      "loss = 0.1416\n",
      "loss = 0.1413\n",
      "loss = 0.141\n",
      "loss = 0.1408\n",
      "loss = 0.1405\n",
      "loss = 0.1402\n",
      "loss = 0.1399\n",
      "loss = 0.1396\n",
      "loss = 0.1393\n",
      "loss = 0.1391\n",
      "loss = 0.1388\n",
      "loss = 0.1385\n",
      "loss = 0.1382\n",
      "loss = 0.1379\n",
      "loss = 0.1376\n",
      "loss = 0.1374\n",
      "loss = 0.1371\n",
      "loss = 0.1368\n",
      "loss = 0.1365\n",
      "loss = 0.1362\n",
      "loss = 0.136\n",
      "loss = 0.1357\n",
      "loss = 0.1354\n",
      "loss = 0.1351\n",
      "loss = 0.1349\n",
      "loss = 0.1346\n",
      "loss = 0.1343\n",
      "loss = 0.134\n",
      "loss = 0.1338\n",
      "loss = 0.1335\n",
      "loss = 0.1332\n",
      "loss = 0.1329\n",
      "loss = 0.1327\n",
      "loss = 0.1324\n",
      "loss = 0.1321\n",
      "loss = 0.1319\n",
      "loss = 0.1316\n",
      "loss = 0.1313\n",
      "loss = 0.131\n",
      "loss = 0.1308\n",
      "loss = 0.1305\n",
      "loss = 0.1302\n",
      "loss = 0.13\n",
      "loss = 0.1297\n",
      "loss = 0.1294\n",
      "loss = 0.1292\n",
      "loss = 0.1289\n",
      "loss = 0.1286\n",
      "loss = 0.1284\n",
      "loss = 0.1281\n",
      "loss = 0.1278\n",
      "loss = 0.1276\n",
      "loss = 0.1273\n",
      "loss = 0.1271\n",
      "loss = 0.1268\n",
      "loss = 0.1265\n",
      "loss = 0.1263\n",
      "loss = 0.126\n",
      "loss = 0.1257\n",
      "loss = 0.1255\n",
      "loss = 0.1252\n",
      "loss = 0.125\n",
      "loss = 0.1247\n",
      "loss = 0.1244\n",
      "loss = 0.1242\n",
      "loss = 0.1239\n",
      "loss = 0.1237\n",
      "loss = 0.1234\n",
      "loss = 0.1231\n",
      "loss = 0.1229\n",
      "loss = 0.1226\n",
      "loss = 0.1224\n",
      "loss = 0.1221\n",
      "loss = 0.1219\n",
      "loss = 0.1216\n",
      "loss = 0.1214\n",
      "loss = 0.1211\n",
      "loss = 0.1208\n",
      "loss = 0.1206\n",
      "loss = 0.1203\n",
      "loss = 0.1201\n",
      "loss = 0.1198\n",
      "loss = 0.1196\n",
      "loss = 0.1193\n",
      "loss = 0.1191\n",
      "loss = 0.1188\n",
      "loss = 0.1185\n",
      "loss = 0.1183\n",
      "loss = 0.118\n",
      "loss = 0.1178\n",
      "loss = 0.1175\n",
      "loss = 0.1173\n",
      "loss = 0.117\n",
      "loss = 0.1168\n",
      "loss = 0.1165\n",
      "loss = 0.1163\n",
      "loss = 0.116\n",
      "loss = 0.1157\n",
      "loss = 0.1155\n",
      "loss = 0.1152\n",
      "loss = 0.115\n",
      "loss = 0.1147\n",
      "loss = 0.1145\n",
      "loss = 0.1142\n",
      "loss = 0.114\n",
      "loss = 0.1137\n",
      "loss = 0.1135\n",
      "loss = 0.1132\n",
      "loss = 0.1129\n",
      "loss = 0.1127\n",
      "loss = 0.1124\n",
      "loss = 0.1122\n",
      "loss = 0.1119\n",
      "loss = 0.1117\n",
      "loss = 0.1114\n",
      "loss = 0.1112\n",
      "loss = 0.1109\n",
      "loss = 0.1107\n",
      "loss = 0.1104\n",
      "loss = 0.1101\n",
      "loss = 0.1099\n",
      "loss = 0.1096\n",
      "loss = 0.1094\n",
      "loss = 0.1091\n",
      "loss = 0.1089\n",
      "loss = 0.1086\n",
      "loss = 0.1083\n",
      "loss = 0.1081\n",
      "loss = 0.1078\n",
      "loss = 0.1076\n",
      "loss = 0.1073\n",
      "loss = 0.1071\n",
      "loss = 0.1068\n",
      "loss = 0.1066\n",
      "loss = 0.1063\n",
      "loss = 0.106\n",
      "loss = 0.1058\n",
      "loss = 0.1055\n",
      "loss = 0.1053\n",
      "loss = 0.105\n",
      "loss = 0.1048\n",
      "loss = 0.1045\n",
      "loss = 0.1042\n",
      "loss = 0.104\n",
      "loss = 0.1037\n",
      "loss = 0.1035\n",
      "loss = 0.1032\n",
      "loss = 0.103\n",
      "loss = 0.1027\n",
      "loss = 0.1024\n",
      "loss = 0.1022\n",
      "loss = 0.1019\n",
      "loss = 0.1017\n",
      "loss = 0.1014\n",
      "loss = 0.1012\n",
      "loss = 0.1009\n",
      "loss = 0.1007\n",
      "loss = 0.1004\n",
      "loss = 0.1002\n",
      "loss = 0.0999\n",
      "loss = 0.09965\n",
      "loss = 0.0994\n",
      "loss = 0.09914\n",
      "loss = 0.09889\n",
      "loss = 0.09864\n",
      "loss = 0.09839\n",
      "loss = 0.09814\n",
      "loss = 0.09789\n",
      "loss = 0.09764\n",
      "loss = 0.0974\n",
      "loss = 0.09715\n",
      "loss = 0.0969\n",
      "loss = 0.09666\n",
      "loss = 0.09641\n",
      "loss = 0.09617\n",
      "loss = 0.09592\n",
      "loss = 0.09568\n",
      "loss = 0.09544\n",
      "loss = 0.0952\n",
      "loss = 0.09496\n",
      "loss = 0.09472\n",
      "loss = 0.09448\n",
      "loss = 0.09424\n",
      "loss = 0.094\n",
      "loss = 0.09377\n",
      "loss = 0.09353\n",
      "loss = 0.0933\n",
      "loss = 0.09306\n",
      "loss = 0.09283\n",
      "loss = 0.0926\n",
      "loss = 0.09237\n",
      "loss = 0.09214\n",
      "loss = 0.09192\n",
      "loss = 0.09169\n",
      "loss = 0.09147\n",
      "loss = 0.09124\n",
      "loss = 0.09102\n",
      "loss = 0.0908\n",
      "loss = 0.09058\n",
      "loss = 0.09036\n",
      "loss = 0.09014\n",
      "loss = 0.08992\n",
      "loss = 0.08971\n",
      "loss = 0.08949\n",
      "loss = 0.08928\n",
      "loss = 0.08907\n",
      "loss = 0.08885\n",
      "loss = 0.08865\n",
      "loss = 0.08844\n",
      "loss = 0.08823\n",
      "loss = 0.08802\n",
      "loss = 0.08782\n",
      "loss = 0.08762\n",
      "loss = 0.08741\n",
      "loss = 0.08721\n",
      "loss = 0.08701\n",
      "loss = 0.08681\n",
      "loss = 0.08662\n",
      "loss = 0.08642\n",
      "loss = 0.08623\n",
      "loss = 0.08603\n",
      "loss = 0.08584\n",
      "loss = 0.08565\n",
      "loss = 0.08546\n",
      "loss = 0.08527\n",
      "loss = 0.08508\n",
      "loss = 0.0849\n",
      "loss = 0.08471\n",
      "loss = 0.08453\n",
      "loss = 0.08434\n",
      "loss = 0.08416\n",
      "loss = 0.08398\n",
      "loss = 0.0838\n",
      "loss = 0.08362\n",
      "loss = 0.08344\n",
      "loss = 0.08327\n",
      "loss = 0.08309\n",
      "loss = 0.08292\n",
      "loss = 0.08274\n",
      "loss = 0.08257\n",
      "loss = 0.0824\n",
      "loss = 0.08223\n",
      "loss = 0.08206\n",
      "loss = 0.08189\n",
      "loss = 0.08172\n",
      "loss = 0.08155\n",
      "loss = 0.08139\n",
      "loss = 0.08122\n",
      "loss = 0.08106\n",
      "loss = 0.08089\n",
      "loss = 0.08073\n",
      "loss = 0.08057\n",
      "loss = 0.08041\n",
      "loss = 0.08025\n",
      "loss = 0.08009\n",
      "loss = 0.07993\n",
      "loss = 0.07977\n",
      "loss = 0.07961\n",
      "loss = 0.07946\n",
      "loss = 0.0793\n",
      "loss = 0.07915\n",
      "loss = 0.07899\n",
      "loss = 0.07884\n",
      "loss = 0.07868\n",
      "loss = 0.07853\n",
      "loss = 0.07838\n",
      "loss = 0.07823\n",
      "loss = 0.07808\n",
      "loss = 0.07792\n",
      "loss = 0.07777\n",
      "loss = 0.07763\n",
      "loss = 0.07748\n",
      "loss = 0.07733\n",
      "loss = 0.07718\n",
      "loss = 0.07703\n",
      "loss = 0.07689\n",
      "loss = 0.07674\n",
      "loss = 0.07659\n",
      "loss = 0.07645\n",
      "loss = 0.0763\n",
      "loss = 0.07616\n",
      "loss = 0.07601\n",
      "loss = 0.07587\n",
      "loss = 0.07573\n",
      "loss = 0.07559\n",
      "loss = 0.07544\n",
      "loss = 0.0753\n",
      "loss = 0.07516\n",
      "loss = 0.07502\n",
      "loss = 0.07488\n",
      "loss = 0.07474\n",
      "loss = 0.0746\n",
      "loss = 0.07446\n",
      "loss = 0.07432\n",
      "loss = 0.07418\n",
      "loss = 0.07404\n",
      "loss = 0.0739\n",
      "loss = 0.07376\n",
      "loss = 0.07363\n",
      "loss = 0.07349\n",
      "loss = 0.07335\n",
      "loss = 0.07321\n",
      "loss = 0.07308\n",
      "loss = 0.07294\n",
      "loss = 0.0728\n",
      "loss = 0.07267\n",
      "loss = 0.07253\n",
      "loss = 0.0724\n",
      "loss = 0.07226\n",
      "loss = 0.07213\n",
      "loss = 0.072\n",
      "loss = 0.07186\n",
      "loss = 0.07173\n",
      "loss = 0.07159\n",
      "loss = 0.07146\n",
      "loss = 0.07133\n",
      "loss = 0.0712\n",
      "loss = 0.07106\n",
      "loss = 0.07093\n",
      "loss = 0.0708\n",
      "loss = 0.07067\n",
      "loss = 0.07054\n",
      "loss = 0.0704\n",
      "loss = 0.07027\n",
      "loss = 0.07014\n",
      "loss = 0.07001\n",
      "loss = 0.06988\n",
      "loss = 0.06975\n",
      "loss = 0.06962\n",
      "loss = 0.06949\n",
      "loss = 0.06936\n",
      "loss = 0.06923\n",
      "loss = 0.06911\n",
      "loss = 0.06898\n",
      "loss = 0.06885\n",
      "loss = 0.06872\n",
      "loss = 0.06859\n",
      "loss = 0.06847\n",
      "loss = 0.06834\n",
      "loss = 0.06821\n",
      "loss = 0.06808\n",
      "loss = 0.06796\n",
      "loss = 0.06783\n",
      "loss = 0.0677\n",
      "loss = 0.06758\n",
      "loss = 0.06745\n",
      "loss = 0.06733\n",
      "loss = 0.0672\n",
      "loss = 0.06708\n",
      "loss = 0.06695\n",
      "loss = 0.06683\n",
      "loss = 0.0667\n",
      "loss = 0.06658\n",
      "loss = 0.06646\n",
      "loss = 0.06633\n",
      "loss = 0.06621\n",
      "loss = 0.06609\n",
      "loss = 0.06596\n",
      "loss = 0.06584\n",
      "loss = 0.06572\n",
      "loss = 0.0656\n",
      "loss = 0.06547\n",
      "loss = 0.06535\n",
      "loss = 0.06523\n",
      "loss = 0.06511\n",
      "loss = 0.06499\n",
      "loss = 0.06487\n",
      "loss = 0.06475\n",
      "loss = 0.06463\n",
      "loss = 0.06451\n",
      "loss = 0.06439\n",
      "loss = 0.06427\n",
      "loss = 0.06415\n",
      "loss = 0.06403\n",
      "loss = 0.06391\n",
      "loss = 0.06379\n",
      "loss = 0.06367\n",
      "loss = 0.06356\n",
      "loss = 0.06344\n",
      "loss = 0.06332\n",
      "loss = 0.0632\n",
      "loss = 0.06309\n",
      "loss = 0.06297\n",
      "loss = 0.06285\n",
      "loss = 0.06274\n",
      "loss = 0.06262\n",
      "loss = 0.0625\n",
      "loss = 0.06239\n",
      "loss = 0.06227\n",
      "loss = 0.06216\n",
      "loss = 0.06204\n",
      "loss = 0.06193\n",
      "loss = 0.06181\n",
      "loss = 0.0617\n",
      "loss = 0.06158\n",
      "loss = 0.06147\n",
      "loss = 0.06136\n",
      "loss = 0.06124\n",
      "loss = 0.06113\n",
      "loss = 0.06102\n",
      "loss = 0.06091\n",
      "loss = 0.06079\n",
      "loss = 0.06068\n",
      "loss = 0.06057\n",
      "loss = 0.06046\n",
      "loss = 0.06035\n",
      "loss = 0.06023\n",
      "loss = 0.06012\n",
      "loss = 0.06001\n",
      "loss = 0.0599\n",
      "loss = 0.05979\n",
      "loss = 0.05968\n",
      "loss = 0.05957\n",
      "loss = 0.05946\n",
      "loss = 0.05935\n",
      "loss = 0.05924\n",
      "loss = 0.05913\n",
      "loss = 0.05902\n",
      "loss = 0.05892\n",
      "loss = 0.05881\n",
      "loss = 0.0587\n",
      "loss = 0.05859\n",
      "loss = 0.05848\n",
      "loss = 0.05838\n",
      "loss = 0.05827\n",
      "loss = 0.05816\n",
      "loss = 0.05805\n",
      "loss = 0.05795\n",
      "loss = 0.05784\n",
      "loss = 0.05773\n",
      "loss = 0.05763\n",
      "loss = 0.05752\n",
      "loss = 0.05742\n",
      "loss = 0.05731\n",
      "loss = 0.05721\n",
      "loss = 0.0571\n",
      "loss = 0.057\n",
      "loss = 0.05689\n",
      "loss = 0.05679\n",
      "loss = 0.05668\n",
      "loss = 0.05658\n",
      "loss = 0.05647\n",
      "loss = 0.05637\n",
      "loss = 0.05627\n",
      "loss = 0.05616\n",
      "loss = 0.05606\n",
      "loss = 0.05596\n",
      "loss = 0.05586\n",
      "loss = 0.05575\n",
      "loss = 0.05565\n",
      "loss = 0.05555\n",
      "loss = 0.05545\n",
      "loss = 0.05535\n",
      "loss = 0.05524\n",
      "loss = 0.05514\n",
      "loss = 0.05504\n",
      "loss = 0.05494\n",
      "loss = 0.05484\n",
      "loss = 0.05474\n",
      "loss = 0.05464\n",
      "loss = 0.05454\n",
      "loss = 0.05444\n",
      "loss = 0.05434\n",
      "loss = 0.05424\n",
      "loss = 0.05414\n",
      "loss = 0.05404\n",
      "loss = 0.05394\n",
      "loss = 0.05384\n",
      "loss = 0.05374\n",
      "loss = 0.05365\n",
      "loss = 0.05355\n",
      "loss = 0.05345\n",
      "loss = 0.05335\n",
      "loss = 0.05325\n",
      "loss = 0.05315\n",
      "loss = 0.05306\n",
      "loss = 0.05296\n",
      "loss = 0.05286\n",
      "loss = 0.05276\n",
      "loss = 0.05267\n"
     ]
    }
   ],
   "source": [
    "optimizer = torch.optim.SGD(net.parameters(),lr=0.1,momentum=0.9)\n",
    "loss_fn = torch.nn.MSELoss()\n",
    "for i in range(1000):\n",
    "    optimizer.zero_grad()\n",
    "    pred = net(X)\n",
    "    loss = loss_fn(pred,Y)\n",
    "    loss.backward()\n",
    "    optimizer.step()\n",
    "    print(f'loss = {loss.item():.4}')"
   ]
  },
  {
   "cell_type": "code",
   "execution_count": 10,
   "metadata": {},
   "outputs": [
    {
     "name": "stdout",
     "output_type": "stream",
     "text": [
      "tensor(41199.2391)\n"
     ]
    },
    {
     "name": "stderr",
     "output_type": "stream",
     "text": [
      "C:\\Users\\s4531973\\AppData\\Local\\Temp\\ipykernel_14068\\3858721378.py:5: FutureWarning: We've integrated functorch into PyTorch. As the final step of the integration, `functorch.make_functional` is deprecated as of PyTorch 2.0 and will be deleted in a future version of PyTorch >= 2.3. Please use `torch.func.functional_call` instead; see the PyTorch 2.0 release notes and/or the `torch.func` migration guide for more details https://pytorch.org/docs/main/func.migrating.html\n",
      "  fnet, params = make_functional(net)\n"
     ]
    }
   ],
   "source": [
    "# Compute NTKGP\n",
    "from functorch import make_functional\n",
    "from torch.func import functional_call, vmap, jacrev, jvp\n",
    "\n",
    "fnet, params = make_functional(net)\n",
    "## Compute jacobian of net, evaluated on training set\n",
    "def fnet_single(params, x):\n",
    "    return fnet(params, x.unsqueeze(0)).squeeze(0)\n",
    "\n",
    "def Jx(Xs):\n",
    "    J = vmap(jacrev(fnet_single), (None, 0))(params, Xs)\n",
    "    J = [j.detach().flatten(1) for j in J]\n",
    "    J = torch.cat(J,dim=1).detach()\n",
    "    return J\n",
    "\n",
    "lam = 0\n",
    "Jtrain = Jx(X)\n",
    "NTK_X = Jtrain @ Jtrain.T + lam*torch.eye(n)\n",
    "\n",
    "print(torch.linalg.cond(NTK_X))\n",
    "\n",
    "var_pred = []\n",
    "for xi in X_test:\n",
    "    Jsingle = Jx(xi.unsqueeze(0))\n",
    "    KXx = Jtrain @ Jsingle.T\n",
    "    var = Jsingle @ Jsingle.T - KXx.T @ torch.linalg.solve(NTK_X,KXx)\n",
    "    var_pred.append(var)\n",
    "var_pred = torch.tensor(var_pred)"
   ]
  },
  {
   "cell_type": "code",
   "execution_count": 11,
   "metadata": {},
   "outputs": [
    {
     "data": {
      "text/plain": [
       "tensor([0.0374, 0.0108, 0.0498, 0.1041, 0.0478, 0.0586, 0.0947, 0.2524, 0.0492,\n",
       "        0.6637, 0.0315, 0.0269, 0.0706, 0.1513, 0.1719, 0.0513, 0.7495, 0.1265,\n",
       "        0.0301, 0.1154, 0.0138, 0.2414, 0.0446, 0.0332, 0.0474, 0.1816, 0.2150,\n",
       "        0.3410, 0.2578, 0.1924, 0.0536, 0.0098, 0.0588, 0.0493, 0.0164, 0.4271,\n",
       "        0.3089, 0.0573, 0.0271, 0.0704, 0.0957, 0.0879, 0.0814, 0.0113, 0.0200,\n",
       "        0.1150, 0.2112, 0.0632, 0.0188, 0.0544, 0.0386, 0.1076, 0.0349, 0.2741,\n",
       "        0.1807, 0.0905, 0.0167, 0.1054, 0.1066, 0.1341, 0.2252, 0.1418, 0.1667,\n",
       "        0.1804, 0.3647, 0.0800, 0.0521, 0.0368, 0.3062, 0.1066, 0.1570, 0.1664,\n",
       "        0.0545, 0.0337, 0.0503, 0.2141, 0.2720, 0.0100, 0.1206, 0.2006, 0.0686,\n",
       "        0.0577, 0.1098, 0.0460, 0.0271, 0.1812, 0.7158, 0.0218, 0.2820, 0.1614,\n",
       "        0.1381, 0.0141, 0.0561, 0.3522, 0.0355, 0.0210, 0.2823, 0.3173, 0.0859,\n",
       "        0.1560])"
      ]
     },
     "execution_count": 11,
     "metadata": {},
     "output_type": "execute_result"
    }
   ],
   "source": [
    "var_pred"
   ]
  },
  {
   "cell_type": "code",
   "execution_count": 15,
   "metadata": {},
   "outputs": [
    {
     "name": "stderr",
     "output_type": "stream",
     "text": [
      "c:\\Users\\s4531973\\Documents\\PhD\\Code\\nuqls_paper\\posteriors\\nuqls.py:356: FutureWarning: We've integrated functorch into PyTorch. As the final step of the integration, `functorch.make_functional` is deprecated as of PyTorch 2.0 and will be deleted in a future version of PyTorch >= 2.3. Please use `torch.func.functional_call` instead; see the PyTorch 2.0 release notes and/or the `torch.func` migration guide for more details https://pytorch.org/docs/main/func.migrating.html\n",
      "  fnet, params = make_functional(net)\n",
      "100%|██████████| 10/10 [00:00<00:00, 98.78it/s]\n"
     ]
    },
    {
     "name": "stdout",
     "output_type": "stream",
     "text": [
      "epoch: 10.0, convergence = 30.4, loss = 1.756\n"
     ]
    },
    {
     "name": "stderr",
     "output_type": "stream",
     "text": [
      "100%|██████████| 21/21 [00:00<00:00, 97.59it/s]\n"
     ]
    },
    {
     "name": "stdout",
     "output_type": "stream",
     "text": [
      "epoch: 21.544346900318832, convergence = 12.59, loss = 0.6119\n"
     ]
    },
    {
     "name": "stderr",
     "output_type": "stream",
     "text": [
      "100%|██████████| 46/46 [00:00<00:00, 94.53it/s]\n"
     ]
    },
    {
     "name": "stdout",
     "output_type": "stream",
     "text": [
      "epoch: 46.41588833612777, convergence = 4.272, loss = 0.07386\n"
     ]
    },
    {
     "name": "stderr",
     "output_type": "stream",
     "text": [
      "100%|██████████| 100/100 [00:01<00:00, 95.99it/s]\n"
     ]
    },
    {
     "name": "stdout",
     "output_type": "stream",
     "text": [
      "epoch: 100.0, convergence = 2.142, loss = 0.03248\n"
     ]
    },
    {
     "name": "stderr",
     "output_type": "stream",
     "text": [
      "100%|██████████| 215/215 [00:02<00:00, 93.28it/s]\n"
     ]
    },
    {
     "name": "stdout",
     "output_type": "stream",
     "text": [
      "epoch: 215.44346900318823, convergence = 1.204, loss = 0.02111\n"
     ]
    },
    {
     "name": "stderr",
     "output_type": "stream",
     "text": [
      "100%|██████████| 464/464 [00:05<00:00, 92.25it/s]\n"
     ]
    },
    {
     "name": "stdout",
     "output_type": "stream",
     "text": [
      "epoch: 464.1588833612782, convergence = 0.6878, loss = 0.01332\n"
     ]
    },
    {
     "name": "stderr",
     "output_type": "stream",
     "text": [
      "100%|██████████| 1000/1000 [00:10<00:00, 92.43it/s]\n"
     ]
    },
    {
     "name": "stdout",
     "output_type": "stream",
     "text": [
      "epoch: 1000.0, convergence = 0.2786, loss = 0.007301\n"
     ]
    },
    {
     "name": "stderr",
     "output_type": "stream",
     "text": [
      "100%|██████████| 2154/2154 [00:39<00:00, 55.05it/s]\n"
     ]
    },
    {
     "name": "stdout",
     "output_type": "stream",
     "text": [
      "epoch: 2154.4346900318847, convergence = 0.1095, loss = 0.002746\n"
     ]
    },
    {
     "name": "stderr",
     "output_type": "stream",
     "text": [
      " 14%|█▍        | 648/4641 [00:12<01:17, 51.44it/s]\n"
     ]
    },
    {
     "ename": "KeyboardInterrupt",
     "evalue": "",
     "output_type": "error",
     "traceback": [
      "\u001b[1;31m---------------------------------------------------------------------------\u001b[0m",
      "\u001b[1;31mKeyboardInterrupt\u001b[0m                         Traceback (most recent call last)",
      "Cell \u001b[1;32mIn[15], line 34\u001b[0m\n\u001b[0;32m     32\u001b[0m epochs \u001b[38;5;241m=\u001b[39m torch\u001b[38;5;241m.\u001b[39mlogspace(\u001b[38;5;241m1\u001b[39m,\u001b[38;5;241m4\u001b[39m,\u001b[38;5;241m10\u001b[39m)\n\u001b[0;32m     33\u001b[0m \u001b[38;5;28;01mfor\u001b[39;00m epoch \u001b[38;5;129;01min\u001b[39;00m epochs:\n\u001b[1;32m---> 34\u001b[0m     nuql_test_preds, loss \u001b[38;5;241m=\u001b[39m \u001b[43mnuqls\u001b[49m\u001b[38;5;241;43m.\u001b[39;49m\u001b[43mregression_parallel\u001b[49m\u001b[43m(\u001b[49m\u001b[43mnet\u001b[49m\u001b[43m,\u001b[49m\u001b[43m \u001b[49m\u001b[43mtrain\u001b[49m\u001b[38;5;241;43m=\u001b[39;49m\u001b[43mtrain_data\u001b[49m\u001b[43m,\u001b[49m\u001b[43m \u001b[49m\u001b[43mtest\u001b[49m\u001b[38;5;241;43m=\u001b[39;49m\u001b[43mtest_data\u001b[49m\u001b[43m,\u001b[49m\u001b[43m \u001b[49m\u001b[43mood_test\u001b[49m\u001b[38;5;241;43m=\u001b[39;49m\u001b[38;5;28;43;01mNone\u001b[39;49;00m\u001b[43m,\u001b[49m\u001b[43m \u001b[49m\u001b[43mtrain_bs\u001b[49m\u001b[43m \u001b[49m\u001b[38;5;241;43m=\u001b[39;49m\u001b[43m \u001b[49m\u001b[43mn\u001b[49m\u001b[43m,\u001b[49m\u001b[43m \u001b[49m\u001b[43mtest_bs\u001b[49m\u001b[43m \u001b[49m\u001b[38;5;241;43m=\u001b[39;49m\u001b[43mn\u001b[49m\u001b[43m,\u001b[49m\u001b[43m \u001b[49m\n\u001b[0;32m     35\u001b[0m \u001b[43m                                                \u001b[49m\u001b[43mS\u001b[49m\u001b[43m \u001b[49m\u001b[38;5;241;43m=\u001b[39;49m\u001b[43m \u001b[49m\u001b[38;5;241;43m1000\u001b[39;49m\u001b[43m,\u001b[49m\u001b[43m \u001b[49m\u001b[43mscale\u001b[49m\u001b[38;5;241;43m=\u001b[39;49m\u001b[38;5;241;43m1\u001b[39;49m\u001b[43m,\u001b[49m\u001b[43m \u001b[49m\u001b[43mlr\u001b[49m\u001b[38;5;241;43m=\u001b[39;49m\u001b[38;5;241;43m1\u001b[39;49m\u001b[43m,\u001b[49m\u001b[43m \u001b[49m\u001b[43mepochs\u001b[49m\u001b[38;5;241;43m=\u001b[39;49m\u001b[38;5;28;43mint\u001b[39;49m\u001b[43m(\u001b[49m\u001b[43mepoch\u001b[49m\u001b[38;5;241;43m.\u001b[39;49m\u001b[43mitem\u001b[49m\u001b[43m(\u001b[49m\u001b[43m)\u001b[49m\u001b[43m)\u001b[49m\u001b[43m,\u001b[49m\u001b[43m \u001b[49m\u001b[43mmu\u001b[49m\u001b[38;5;241;43m=\u001b[39;49m\u001b[38;5;241;43m0.9\u001b[39;49m\u001b[43m)\u001b[49m\n\u001b[0;32m     36\u001b[0m     nuql_mu2 \u001b[38;5;241m=\u001b[39m nuql_test_preds\u001b[38;5;241m.\u001b[39mmean(\u001b[38;5;241m1\u001b[39m)\n\u001b[0;32m     37\u001b[0m     nuql_var2 \u001b[38;5;241m=\u001b[39m nuql_test_preds\u001b[38;5;241m.\u001b[39mvar(\u001b[38;5;241m1\u001b[39m)\n",
      "File \u001b[1;32mc:\\Users\\s4531973\\Documents\\PhD\\Code\\nuqls_paper\\posteriors\\nuqls.py:399\u001b[0m, in \u001b[0;36mregression_parallel\u001b[1;34m(net, train, test, ood_test, train_bs, test_bs, scale, S, epochs, lr, mu, verbose)\u001b[0m\n\u001b[0;32m    397\u001b[0m f_lin \u001b[38;5;241m=\u001b[39m (proj \u001b[38;5;241m+\u001b[39m f_nlin)\u001b[38;5;241m.\u001b[39mdetach()\n\u001b[0;32m    398\u001b[0m resid \u001b[38;5;241m=\u001b[39m f_lin \u001b[38;5;241m-\u001b[39m y\n\u001b[1;32m--> 399\u001b[0m projT \u001b[38;5;241m=\u001b[39m \u001b[43mtorch\u001b[49m\u001b[38;5;241;43m.\u001b[39;49m\u001b[43mvmap\u001b[49m\u001b[43m(\u001b[49m\u001b[43mvjp_second\u001b[49m\u001b[43m,\u001b[49m\u001b[43m \u001b[49m\u001b[43m(\u001b[49m\u001b[38;5;241;43m1\u001b[39;49m\u001b[43m,\u001b[49m\u001b[38;5;28;43;01mNone\u001b[39;49;00m\u001b[43m,\u001b[49m\u001b[38;5;28;43;01mNone\u001b[39;49;00m\u001b[43m)\u001b[49m\u001b[43m)\u001b[49m\u001b[43m(\u001b[49m\u001b[43mresid\u001b[49m\u001b[43m,\u001b[49m\u001b[43mparams\u001b[49m\u001b[43m,\u001b[49m\u001b[43mx\u001b[49m\u001b[43m)\u001b[49m\n\u001b[0;32m    400\u001b[0m vjp \u001b[38;5;241m=\u001b[39m [j\u001b[38;5;241m.\u001b[39mdetach()\u001b[38;5;241m.\u001b[39mflatten(\u001b[38;5;241m1\u001b[39m) \u001b[38;5;28;01mfor\u001b[39;00m j \u001b[38;5;129;01min\u001b[39;00m projT[\u001b[38;5;241m0\u001b[39m]]\n\u001b[0;32m    401\u001b[0m vjp \u001b[38;5;241m=\u001b[39m torch\u001b[38;5;241m.\u001b[39mcat(vjp,dim\u001b[38;5;241m=\u001b[39m\u001b[38;5;241m1\u001b[39m)\u001b[38;5;241m.\u001b[39mdetach()\n",
      "File \u001b[1;32mc:\\Users\\s4531973\\Documents\\PhD\\Code\\nuqls_paper\\.venv\\Lib\\site-packages\\torch\\_functorch\\apis.py:201\u001b[0m, in \u001b[0;36mvmap.<locals>.wrapped\u001b[1;34m(*args, **kwargs)\u001b[0m\n\u001b[0;32m    200\u001b[0m \u001b[38;5;28;01mdef\u001b[39;00m \u001b[38;5;21mwrapped\u001b[39m(\u001b[38;5;241m*\u001b[39margs, \u001b[38;5;241m*\u001b[39m\u001b[38;5;241m*\u001b[39mkwargs):\n\u001b[1;32m--> 201\u001b[0m     \u001b[38;5;28;01mreturn\u001b[39;00m \u001b[43mvmap_impl\u001b[49m\u001b[43m(\u001b[49m\n\u001b[0;32m    202\u001b[0m \u001b[43m        \u001b[49m\u001b[43mfunc\u001b[49m\u001b[43m,\u001b[49m\u001b[43m \u001b[49m\u001b[43min_dims\u001b[49m\u001b[43m,\u001b[49m\u001b[43m \u001b[49m\u001b[43mout_dims\u001b[49m\u001b[43m,\u001b[49m\u001b[43m \u001b[49m\u001b[43mrandomness\u001b[49m\u001b[43m,\u001b[49m\u001b[43m \u001b[49m\u001b[43mchunk_size\u001b[49m\u001b[43m,\u001b[49m\u001b[43m \u001b[49m\u001b[38;5;241;43m*\u001b[39;49m\u001b[43margs\u001b[49m\u001b[43m,\u001b[49m\u001b[43m \u001b[49m\u001b[38;5;241;43m*\u001b[39;49m\u001b[38;5;241;43m*\u001b[39;49m\u001b[43mkwargs\u001b[49m\n\u001b[0;32m    203\u001b[0m \u001b[43m    \u001b[49m\u001b[43m)\u001b[49m\n",
      "File \u001b[1;32mc:\\Users\\s4531973\\Documents\\PhD\\Code\\nuqls_paper\\.venv\\Lib\\site-packages\\torch\\_functorch\\vmap.py:331\u001b[0m, in \u001b[0;36mvmap_impl\u001b[1;34m(func, in_dims, out_dims, randomness, chunk_size, *args, **kwargs)\u001b[0m\n\u001b[0;32m    320\u001b[0m     \u001b[38;5;28;01mreturn\u001b[39;00m _chunked_vmap(\n\u001b[0;32m    321\u001b[0m         func,\n\u001b[0;32m    322\u001b[0m         flat_in_dims,\n\u001b[1;32m   (...)\u001b[0m\n\u001b[0;32m    327\u001b[0m         \u001b[38;5;241m*\u001b[39m\u001b[38;5;241m*\u001b[39mkwargs,\n\u001b[0;32m    328\u001b[0m     )\n\u001b[0;32m    330\u001b[0m \u001b[38;5;66;03m# If chunk_size is not specified.\u001b[39;00m\n\u001b[1;32m--> 331\u001b[0m \u001b[38;5;28;01mreturn\u001b[39;00m \u001b[43m_flat_vmap\u001b[49m\u001b[43m(\u001b[49m\n\u001b[0;32m    332\u001b[0m \u001b[43m    \u001b[49m\u001b[43mfunc\u001b[49m\u001b[43m,\u001b[49m\n\u001b[0;32m    333\u001b[0m \u001b[43m    \u001b[49m\u001b[43mbatch_size\u001b[49m\u001b[43m,\u001b[49m\n\u001b[0;32m    334\u001b[0m \u001b[43m    \u001b[49m\u001b[43mflat_in_dims\u001b[49m\u001b[43m,\u001b[49m\n\u001b[0;32m    335\u001b[0m \u001b[43m    \u001b[49m\u001b[43mflat_args\u001b[49m\u001b[43m,\u001b[49m\n\u001b[0;32m    336\u001b[0m \u001b[43m    \u001b[49m\u001b[43margs_spec\u001b[49m\u001b[43m,\u001b[49m\n\u001b[0;32m    337\u001b[0m \u001b[43m    \u001b[49m\u001b[43mout_dims\u001b[49m\u001b[43m,\u001b[49m\n\u001b[0;32m    338\u001b[0m \u001b[43m    \u001b[49m\u001b[43mrandomness\u001b[49m\u001b[43m,\u001b[49m\n\u001b[0;32m    339\u001b[0m \u001b[43m    \u001b[49m\u001b[38;5;241;43m*\u001b[39;49m\u001b[38;5;241;43m*\u001b[39;49m\u001b[43mkwargs\u001b[49m\u001b[43m,\u001b[49m\n\u001b[0;32m    340\u001b[0m \u001b[43m\u001b[49m\u001b[43m)\u001b[49m\n",
      "File \u001b[1;32mc:\\Users\\s4531973\\Documents\\PhD\\Code\\nuqls_paper\\.venv\\Lib\\site-packages\\torch\\_functorch\\vmap.py:48\u001b[0m, in \u001b[0;36mdoesnt_support_saved_tensors_hooks.<locals>.fn\u001b[1;34m(*args, **kwargs)\u001b[0m\n\u001b[0;32m     45\u001b[0m \u001b[38;5;129m@functools\u001b[39m\u001b[38;5;241m.\u001b[39mwraps(f)\n\u001b[0;32m     46\u001b[0m \u001b[38;5;28;01mdef\u001b[39;00m \u001b[38;5;21mfn\u001b[39m(\u001b[38;5;241m*\u001b[39margs, \u001b[38;5;241m*\u001b[39m\u001b[38;5;241m*\u001b[39mkwargs):\n\u001b[0;32m     47\u001b[0m     \u001b[38;5;28;01mwith\u001b[39;00m torch\u001b[38;5;241m.\u001b[39mautograd\u001b[38;5;241m.\u001b[39mgraph\u001b[38;5;241m.\u001b[39mdisable_saved_tensors_hooks(message):\n\u001b[1;32m---> 48\u001b[0m         \u001b[38;5;28;01mreturn\u001b[39;00m \u001b[43mf\u001b[49m\u001b[43m(\u001b[49m\u001b[38;5;241;43m*\u001b[39;49m\u001b[43margs\u001b[49m\u001b[43m,\u001b[49m\u001b[43m \u001b[49m\u001b[38;5;241;43m*\u001b[39;49m\u001b[38;5;241;43m*\u001b[39;49m\u001b[43mkwargs\u001b[49m\u001b[43m)\u001b[49m\n",
      "File \u001b[1;32mc:\\Users\\s4531973\\Documents\\PhD\\Code\\nuqls_paper\\.venv\\Lib\\site-packages\\torch\\_functorch\\vmap.py:480\u001b[0m, in \u001b[0;36m_flat_vmap\u001b[1;34m(func, batch_size, flat_in_dims, flat_args, args_spec, out_dims, randomness, **kwargs)\u001b[0m\n\u001b[0;32m    476\u001b[0m \u001b[38;5;28;01mwith\u001b[39;00m vmap_increment_nesting(batch_size, randomness) \u001b[38;5;28;01mas\u001b[39;00m vmap_level:\n\u001b[0;32m    477\u001b[0m     batched_inputs \u001b[38;5;241m=\u001b[39m _create_batched_inputs(\n\u001b[0;32m    478\u001b[0m         flat_in_dims, flat_args, vmap_level, args_spec\n\u001b[0;32m    479\u001b[0m     )\n\u001b[1;32m--> 480\u001b[0m     batched_outputs \u001b[38;5;241m=\u001b[39m \u001b[43mfunc\u001b[49m\u001b[43m(\u001b[49m\u001b[38;5;241;43m*\u001b[39;49m\u001b[43mbatched_inputs\u001b[49m\u001b[43m,\u001b[49m\u001b[43m \u001b[49m\u001b[38;5;241;43m*\u001b[39;49m\u001b[38;5;241;43m*\u001b[39;49m\u001b[43mkwargs\u001b[49m\u001b[43m)\u001b[49m\n\u001b[0;32m    481\u001b[0m     \u001b[38;5;28;01mreturn\u001b[39;00m _unwrap_batched(batched_outputs, out_dims, vmap_level, batch_size, func)\n",
      "File \u001b[1;32mc:\\Users\\s4531973\\Documents\\PhD\\Code\\nuqls_paper\\posteriors\\nuqls.py:386\u001b[0m, in \u001b[0;36mregression_parallel.<locals>.vjp_second\u001b[1;34m(resid_s, params, x)\u001b[0m\n\u001b[0;32m    384\u001b[0m \u001b[38;5;28;01mdef\u001b[39;00m \u001b[38;5;21mvjp_second\u001b[39m(resid_s,params,x):\n\u001b[0;32m    385\u001b[0m     _, vjp_fn \u001b[38;5;241m=\u001b[39m torch\u001b[38;5;241m.\u001b[39mfunc\u001b[38;5;241m.\u001b[39mvjp(\u001b[38;5;28;01mlambda\u001b[39;00m param: fnet(param, x), params)\n\u001b[1;32m--> 386\u001b[0m     vjp \u001b[38;5;241m=\u001b[39m \u001b[43mvjp_fn\u001b[49m\u001b[43m(\u001b[49m\u001b[43mresid_s\u001b[49m\u001b[38;5;241;43m.\u001b[39;49m\u001b[43munsqueeze\u001b[49m\u001b[43m(\u001b[49m\u001b[38;5;241;43m1\u001b[39;49m\u001b[43m)\u001b[49m\u001b[43m)\u001b[49m\n\u001b[0;32m    387\u001b[0m     \u001b[38;5;28;01mreturn\u001b[39;00m vjp\n",
      "File \u001b[1;32mc:\\Users\\s4531973\\Documents\\PhD\\Code\\nuqls_paper\\.venv\\Lib\\site-packages\\torch\\_functorch\\eager_transforms.py:431\u001b[0m, in \u001b[0;36m_vjp_with_argnums.<locals>.wrapper\u001b[1;34m(cotangents, retain_graph, create_graph)\u001b[0m\n\u001b[0;32m    429\u001b[0m flat_cotangents, cotangents_spec \u001b[38;5;241m=\u001b[39m tree_flatten(cotangents)\n\u001b[0;32m    430\u001b[0m _vjp_treespec_compare(primals_out, cotangents)\n\u001b[1;32m--> 431\u001b[0m result \u001b[38;5;241m=\u001b[39m \u001b[43m_autograd_grad\u001b[49m\u001b[43m(\u001b[49m\n\u001b[0;32m    432\u001b[0m \u001b[43m    \u001b[49m\u001b[43mflat_primals_out\u001b[49m\u001b[43m,\u001b[49m\n\u001b[0;32m    433\u001b[0m \u001b[43m    \u001b[49m\u001b[43mflat_diff_primals\u001b[49m\u001b[43m,\u001b[49m\n\u001b[0;32m    434\u001b[0m \u001b[43m    \u001b[49m\u001b[43mflat_cotangents\u001b[49m\u001b[43m,\u001b[49m\n\u001b[0;32m    435\u001b[0m \u001b[43m    \u001b[49m\u001b[43mretain_graph\u001b[49m\u001b[38;5;241;43m=\u001b[39;49m\u001b[43mretain_graph\u001b[49m\u001b[43m,\u001b[49m\n\u001b[0;32m    436\u001b[0m \u001b[43m    \u001b[49m\u001b[43mcreate_graph\u001b[49m\u001b[38;5;241;43m=\u001b[39;49m\u001b[43mcreate_graph\u001b[49m\u001b[43m,\u001b[49m\n\u001b[0;32m    437\u001b[0m \u001b[43m\u001b[49m\u001b[43m)\u001b[49m\n\u001b[0;32m    438\u001b[0m \u001b[38;5;28;01mreturn\u001b[39;00m tree_unflatten(result, primals_spec)\n",
      "File \u001b[1;32mc:\\Users\\s4531973\\Documents\\PhD\\Code\\nuqls_paper\\.venv\\Lib\\site-packages\\torch\\_functorch\\eager_transforms.py:181\u001b[0m, in \u001b[0;36m_autograd_grad\u001b[1;34m(outputs, inputs, grad_outputs, retain_graph, create_graph)\u001b[0m\n\u001b[0;32m    179\u001b[0m \u001b[38;5;28;01mif\u001b[39;00m \u001b[38;5;28mlen\u001b[39m(diff_outputs) \u001b[38;5;241m==\u001b[39m \u001b[38;5;241m0\u001b[39m:\n\u001b[0;32m    180\u001b[0m     \u001b[38;5;28;01mreturn\u001b[39;00m \u001b[38;5;28mtuple\u001b[39m(torch\u001b[38;5;241m.\u001b[39mzeros_like(inp) \u001b[38;5;28;01mfor\u001b[39;00m inp \u001b[38;5;129;01min\u001b[39;00m inputs)\n\u001b[1;32m--> 181\u001b[0m grad_inputs \u001b[38;5;241m=\u001b[39m \u001b[43mtorch\u001b[49m\u001b[38;5;241;43m.\u001b[39;49m\u001b[43mautograd\u001b[49m\u001b[38;5;241;43m.\u001b[39;49m\u001b[43mgrad\u001b[49m\u001b[43m(\u001b[49m\n\u001b[0;32m    182\u001b[0m \u001b[43m    \u001b[49m\u001b[43mdiff_outputs\u001b[49m\u001b[43m,\u001b[49m\n\u001b[0;32m    183\u001b[0m \u001b[43m    \u001b[49m\u001b[43minputs\u001b[49m\u001b[43m,\u001b[49m\n\u001b[0;32m    184\u001b[0m \u001b[43m    \u001b[49m\u001b[43mgrad_outputs\u001b[49m\u001b[43m,\u001b[49m\n\u001b[0;32m    185\u001b[0m \u001b[43m    \u001b[49m\u001b[43mretain_graph\u001b[49m\u001b[38;5;241;43m=\u001b[39;49m\u001b[43mretain_graph\u001b[49m\u001b[43m,\u001b[49m\n\u001b[0;32m    186\u001b[0m \u001b[43m    \u001b[49m\u001b[43mcreate_graph\u001b[49m\u001b[38;5;241;43m=\u001b[39;49m\u001b[43mcreate_graph\u001b[49m\u001b[43m,\u001b[49m\n\u001b[0;32m    187\u001b[0m \u001b[43m    \u001b[49m\u001b[43mallow_unused\u001b[49m\u001b[38;5;241;43m=\u001b[39;49m\u001b[38;5;28;43;01mTrue\u001b[39;49;00m\u001b[43m,\u001b[49m\n\u001b[0;32m    188\u001b[0m \u001b[43m\u001b[49m\u001b[43m)\u001b[49m\n\u001b[0;32m    189\u001b[0m grad_inputs \u001b[38;5;241m=\u001b[39m \u001b[38;5;28mtuple\u001b[39m(\n\u001b[0;32m    190\u001b[0m     torch\u001b[38;5;241m.\u001b[39mzeros_like(inp) \u001b[38;5;28;01mif\u001b[39;00m gi \u001b[38;5;129;01mis\u001b[39;00m \u001b[38;5;28;01mNone\u001b[39;00m \u001b[38;5;28;01melse\u001b[39;00m gi\n\u001b[0;32m    191\u001b[0m     \u001b[38;5;28;01mfor\u001b[39;00m gi, inp \u001b[38;5;129;01min\u001b[39;00m \u001b[38;5;28mzip\u001b[39m(grad_inputs, inputs)\n\u001b[0;32m    192\u001b[0m )\n\u001b[0;32m    193\u001b[0m \u001b[38;5;28;01mreturn\u001b[39;00m grad_inputs\n",
      "File \u001b[1;32mc:\\Users\\s4531973\\Documents\\PhD\\Code\\nuqls_paper\\.venv\\Lib\\site-packages\\torch\\autograd\\__init__.py:436\u001b[0m, in \u001b[0;36mgrad\u001b[1;34m(outputs, inputs, grad_outputs, retain_graph, create_graph, only_inputs, allow_unused, is_grads_batched, materialize_grads)\u001b[0m\n\u001b[0;32m    432\u001b[0m     result \u001b[38;5;241m=\u001b[39m _vmap_internals\u001b[38;5;241m.\u001b[39m_vmap(vjp, \u001b[38;5;241m0\u001b[39m, \u001b[38;5;241m0\u001b[39m, allow_none_pass_through\u001b[38;5;241m=\u001b[39m\u001b[38;5;28;01mTrue\u001b[39;00m)(\n\u001b[0;32m    433\u001b[0m         grad_outputs_\n\u001b[0;32m    434\u001b[0m     )\n\u001b[0;32m    435\u001b[0m \u001b[38;5;28;01melse\u001b[39;00m:\n\u001b[1;32m--> 436\u001b[0m     result \u001b[38;5;241m=\u001b[39m \u001b[43m_engine_run_backward\u001b[49m\u001b[43m(\u001b[49m\n\u001b[0;32m    437\u001b[0m \u001b[43m        \u001b[49m\u001b[43mt_outputs\u001b[49m\u001b[43m,\u001b[49m\n\u001b[0;32m    438\u001b[0m \u001b[43m        \u001b[49m\u001b[43mgrad_outputs_\u001b[49m\u001b[43m,\u001b[49m\n\u001b[0;32m    439\u001b[0m \u001b[43m        \u001b[49m\u001b[43mretain_graph\u001b[49m\u001b[43m,\u001b[49m\n\u001b[0;32m    440\u001b[0m \u001b[43m        \u001b[49m\u001b[43mcreate_graph\u001b[49m\u001b[43m,\u001b[49m\n\u001b[0;32m    441\u001b[0m \u001b[43m        \u001b[49m\u001b[43minputs\u001b[49m\u001b[43m,\u001b[49m\n\u001b[0;32m    442\u001b[0m \u001b[43m        \u001b[49m\u001b[43mallow_unused\u001b[49m\u001b[43m,\u001b[49m\n\u001b[0;32m    443\u001b[0m \u001b[43m        \u001b[49m\u001b[43maccumulate_grad\u001b[49m\u001b[38;5;241;43m=\u001b[39;49m\u001b[38;5;28;43;01mFalse\u001b[39;49;00m\u001b[43m,\u001b[49m\n\u001b[0;32m    444\u001b[0m \u001b[43m    \u001b[49m\u001b[43m)\u001b[49m\n\u001b[0;32m    445\u001b[0m \u001b[38;5;28;01mif\u001b[39;00m materialize_grads:\n\u001b[0;32m    446\u001b[0m     \u001b[38;5;28;01mif\u001b[39;00m \u001b[38;5;28many\u001b[39m(\n\u001b[0;32m    447\u001b[0m         result[i] \u001b[38;5;129;01mis\u001b[39;00m \u001b[38;5;28;01mNone\u001b[39;00m \u001b[38;5;129;01mand\u001b[39;00m \u001b[38;5;129;01mnot\u001b[39;00m is_tensor_like(inputs[i])\n\u001b[0;32m    448\u001b[0m         \u001b[38;5;28;01mfor\u001b[39;00m i \u001b[38;5;129;01min\u001b[39;00m \u001b[38;5;28mrange\u001b[39m(\u001b[38;5;28mlen\u001b[39m(inputs))\n\u001b[0;32m    449\u001b[0m     ):\n",
      "File \u001b[1;32mc:\\Users\\s4531973\\Documents\\PhD\\Code\\nuqls_paper\\.venv\\Lib\\site-packages\\torch\\autograd\\graph.py:769\u001b[0m, in \u001b[0;36m_engine_run_backward\u001b[1;34m(t_outputs, *args, **kwargs)\u001b[0m\n\u001b[0;32m    767\u001b[0m     unregister_hooks \u001b[38;5;241m=\u001b[39m _register_logging_hooks_on_whole_graph(t_outputs)\n\u001b[0;32m    768\u001b[0m \u001b[38;5;28;01mtry\u001b[39;00m:\n\u001b[1;32m--> 769\u001b[0m     \u001b[38;5;28;01mreturn\u001b[39;00m \u001b[43mVariable\u001b[49m\u001b[38;5;241;43m.\u001b[39;49m\u001b[43m_execution_engine\u001b[49m\u001b[38;5;241;43m.\u001b[39;49m\u001b[43mrun_backward\u001b[49m\u001b[43m(\u001b[49m\u001b[43m  \u001b[49m\u001b[38;5;66;43;03m# Calls into the C++ engine to run the backward pass\u001b[39;49;00m\n\u001b[0;32m    770\u001b[0m \u001b[43m        \u001b[49m\u001b[43mt_outputs\u001b[49m\u001b[43m,\u001b[49m\u001b[43m \u001b[49m\u001b[38;5;241;43m*\u001b[39;49m\u001b[43margs\u001b[49m\u001b[43m,\u001b[49m\u001b[43m \u001b[49m\u001b[38;5;241;43m*\u001b[39;49m\u001b[38;5;241;43m*\u001b[39;49m\u001b[43mkwargs\u001b[49m\n\u001b[0;32m    771\u001b[0m \u001b[43m    \u001b[49m\u001b[43m)\u001b[49m  \u001b[38;5;66;03m# Calls into the C++ engine to run the backward pass\u001b[39;00m\n\u001b[0;32m    772\u001b[0m \u001b[38;5;28;01mfinally\u001b[39;00m:\n\u001b[0;32m    773\u001b[0m     \u001b[38;5;28;01mif\u001b[39;00m attach_logging_hooks:\n",
      "\u001b[1;31mKeyboardInterrupt\u001b[0m: "
     ]
    }
   ],
   "source": [
    "## NUQLS\n",
    "import posteriors.nuqls as nuqls\n",
    "from importlib import reload\n",
    "reload(nuqls)\n",
    "from torch.utils.data import DataLoader, Dataset\n",
    "\n",
    "class toy_dataset(Dataset):\n",
    "    def __init__(self,x,y):\n",
    "        self.x = x\n",
    "        self.y = y\n",
    "\n",
    "    def __len__(self):\n",
    "        return self.x.shape[0]\n",
    "\n",
    "    def __getitem__(self, i):\n",
    "        return self.x[i], self.y[i]\n",
    "    \n",
    "train_data = toy_dataset(X,Y)\n",
    "test_data = toy_dataset(X_test,Y)\n",
    "\n",
    "# nuql_test_preds = nuqls.regression_parallel(net, train=train_data, test=test_data, ood_test=None, train_bs = n, test_bs =n, \n",
    "#                                                 S = 1000, scale=1, lr=8, epochs=10000, mu=0.9, verbose=True)\n",
    "# nuql_mu2 = nuql_test_preds.mean(1)\n",
    "# nuql_var2 = nuql_test_preds.var(1)\n",
    "\n",
    "# print(nuql_var2)\n",
    "# print(f's: {s}, convergence = {torch.linalg.norm(nuql_var2 - var_pred)}')\n",
    "\n",
    "diff = []\n",
    "losses = []\n",
    "\n",
    "epochs = torch.logspace(1,4,10)\n",
    "for epoch in epochs:\n",
    "    nuql_test_preds, loss = nuqls.regression_parallel(net, train=train_data, test=test_data, ood_test=None, train_bs = n, test_bs =n, \n",
    "                                                S = 1000, scale=1, lr=1, epochs=int(epoch.item()), mu=0.9)\n",
    "    nuql_mu2 = nuql_test_preds.mean(1)\n",
    "    nuql_var2 = nuql_test_preds.var(1)\n",
    "\n",
    "    print(f'epoch: {epoch}, convergence = {torch.linalg.norm(nuql_var2 - var_pred):.4}, loss = {loss:.4}')\n",
    "    diff.append(torch.linalg.norm(nuql_var2 - var_pred).item())\n",
    "    losses.append(loss)\n",
    "\n",
    "# s_range = torch.linspace(10,1000,10)\n",
    "# for s in s_range:\n",
    "#     nuql_test_preds = nuqls.regression_parallel(net, train=train_data, test=test_data, ood_test=None, train_bs = n, test_bs =n, \n",
    "#                                                 S = int(s.item()), scale=1, lr=8, epochs=4000, mu=0.9)\n",
    "#     nuql_mu2 = nuql_test_preds.mean(1)\n",
    "#     nuql_var2 = nuql_test_preds.var(1)\n",
    "\n",
    "#     print(f's: {s}, convergence = {torch.linalg.norm(nuql_var2 - var_pred)}')\n",
    "#     diff.append(torch.linalg.norm(nuql_var2 - var_pred).item())\n",
    "#     losses.append(loss)"
   ]
  },
  {
   "cell_type": "code",
   "execution_count": 13,
   "metadata": {},
   "outputs": [
    {
     "data": {
      "text/plain": [
       "tensor([1.2494e+304, 9.0615e+303, 7.2890e+302, 8.1017e+303, 3.1570e+304,\n",
       "        4.2975e+303, 9.9589e+303, 1.8077e+303, 1.5097e+303, 2.1021e+303,\n",
       "        3.1763e+300, 6.0914e+303, 1.3898e+303, 2.1718e+304, 1.4342e+303,\n",
       "        1.4515e+303, 1.7039e+304, 9.8129e+302, 1.7375e+304, 3.4715e+302,\n",
       "        1.4201e+303, 6.3189e+302, 2.9923e+303, 4.0060e+301, 1.1669e+303,\n",
       "        1.8514e+303, 1.2462e+303, 1.1149e+304, 3.0095e+300, 5.8685e+300,\n",
       "        7.3081e+303, 5.9411e+303, 5.5187e+301, 4.6369e+303, 1.3749e+303,\n",
       "        4.9305e+303, 5.1374e+303, 4.3200e+302, 2.6879e+303, 8.0445e+302,\n",
       "        8.7554e+299, 5.8691e+303, 9.2411e+302, 8.7592e+302, 1.2717e+304,\n",
       "        2.9999e+303, 1.0473e+304, 1.2845e+304, 1.1563e+303, 1.4842e+304,\n",
       "        3.3133e+304, 5.1003e+302, 4.8569e+303, 7.7009e+302, 6.2338e+301,\n",
       "        3.8553e+303, 1.5555e+303, 9.2221e+302, 5.9680e+303, 7.3711e+301,\n",
       "        2.1559e+303, 1.0653e+304, 1.2411e+299, 1.9043e+304, 4.8844e+304,\n",
       "        4.6450e+301, 5.1664e+302, 3.7718e+303, 1.9590e+303, 5.5456e+303,\n",
       "        3.8050e+303, 5.4315e+303, 1.6844e+304, 1.1078e+303, 5.1860e+303,\n",
       "        1.3359e+304, 4.6695e+303, 1.3348e+304, 6.3773e+301, 1.5528e+303,\n",
       "        6.5392e+303, 8.9610e+302, 2.2741e+304, 2.4344e+304, 1.2553e+303,\n",
       "        7.1289e+302, 2.5852e+304, 2.6643e+301, 2.8193e+302, 2.5865e+301,\n",
       "        5.8077e+302, 2.2737e+303, 1.2954e+304, 1.6009e+303, 1.3745e+303,\n",
       "        8.3493e+302, 1.5578e+303, 7.7662e+302, 2.9882e+304, 3.4763e+303])"
      ]
     },
     "execution_count": 13,
     "metadata": {},
     "output_type": "execute_result"
    }
   ],
   "source": [
    "nuql_var2"
   ]
  },
  {
   "cell_type": "code",
   "execution_count": 437,
   "metadata": {},
   "outputs": [
    {
     "name": "stderr",
     "output_type": "stream",
     "text": [
      "C:\\Users\\s4531973\\AppData\\Local\\Packages\\PythonSoftwareFoundation.Python.3.11_qbz5n2kfra8p0\\LocalCache\\local-packages\\Python311\\site-packages\\torch\\_functorch\\deprecated.py:97: UserWarning: We've integrated functorch into PyTorch. As the final step of the integration, functorch.make_functional is deprecated as of PyTorch 2.0 and will be deleted in a future version of PyTorch >= 2.3. Please use torch.func.functional_call instead; see the PyTorch 2.0 release notes and/or the torch.func migration guide for more details https://pytorch.org/docs/master/func.migrating.html\n",
      "  warn_deprecated('make_functional', 'torch.func.functional_call')\n",
      "100%|██████████| 10000/10000 [00:03<00:00, 3111.35it/s]\n"
     ]
    },
    {
     "name": "stdout",
     "output_type": "stream",
     "text": [
      "s: 10.0, convergence = 0.07651065542649285\n"
     ]
    },
    {
     "name": "stderr",
     "output_type": "stream",
     "text": [
      "100%|██████████| 10000/10000 [00:03<00:00, 2827.61it/s]\n"
     ]
    },
    {
     "name": "stdout",
     "output_type": "stream",
     "text": [
      "s: 21.544346900318832, convergence = 0.09863359954997465\n"
     ]
    },
    {
     "name": "stderr",
     "output_type": "stream",
     "text": [
      "100%|██████████| 10000/10000 [00:03<00:00, 2625.45it/s]\n"
     ]
    },
    {
     "name": "stdout",
     "output_type": "stream",
     "text": [
      "s: 46.41588833612777, convergence = 0.0651765797230987\n"
     ]
    },
    {
     "name": "stderr",
     "output_type": "stream",
     "text": [
      "100%|██████████| 10000/10000 [00:04<00:00, 2272.77it/s]\n"
     ]
    },
    {
     "name": "stdout",
     "output_type": "stream",
     "text": [
      "s: 100.0, convergence = 0.0193723928261297\n"
     ]
    },
    {
     "name": "stderr",
     "output_type": "stream",
     "text": [
      "100%|██████████| 10000/10000 [00:05<00:00, 1747.16it/s]\n"
     ]
    },
    {
     "name": "stdout",
     "output_type": "stream",
     "text": [
      "s: 215.44346900318823, convergence = 0.027560130670083012\n"
     ]
    },
    {
     "name": "stderr",
     "output_type": "stream",
     "text": [
      "100%|██████████| 10000/10000 [00:11<00:00, 840.85it/s]\n"
     ]
    },
    {
     "name": "stdout",
     "output_type": "stream",
     "text": [
      "s: 464.1588833612782, convergence = 0.009553299180201417\n"
     ]
    },
    {
     "name": "stderr",
     "output_type": "stream",
     "text": [
      "100%|██████████| 10000/10000 [00:14<00:00, 670.72it/s]\n"
     ]
    },
    {
     "name": "stdout",
     "output_type": "stream",
     "text": [
      "s: 1000.0, convergence = 0.008154594044864258\n"
     ]
    },
    {
     "name": "stderr",
     "output_type": "stream",
     "text": [
      "100%|██████████| 10000/10000 [00:22<00:00, 436.70it/s]\n"
     ]
    },
    {
     "name": "stdout",
     "output_type": "stream",
     "text": [
      "s: 2154.4346900318847, convergence = 0.008854252405313737\n"
     ]
    },
    {
     "name": "stderr",
     "output_type": "stream",
     "text": [
      "100%|██████████| 10000/10000 [00:43<00:00, 227.95it/s]\n"
     ]
    },
    {
     "name": "stdout",
     "output_type": "stream",
     "text": [
      "s: 4641.588833612777, convergence = 0.005717789970613724\n"
     ]
    },
    {
     "name": "stderr",
     "output_type": "stream",
     "text": [
      "100%|██████████| 10000/10000 [03:52<00:00, 43.03it/s]"
     ]
    },
    {
     "name": "stdout",
     "output_type": "stream",
     "text": [
      "s: 10000.0, convergence = 0.007097708416363211\n"
     ]
    },
    {
     "name": "stderr",
     "output_type": "stream",
     "text": [
      "\n"
     ]
    }
   ],
   "source": [
    "diff = []\n",
    "losses = []\n",
    "\n",
    "s_range = torch.logspace(1,4,10)\n",
    "for s in s_range:\n",
    "    nuql = nuqls.small_regression_parallel(net, train=train_data, S = int(s.item()),epochs=10000,lr=8,bs=n,bs_test=n,init_scale=1)\n",
    "    loss,resid = nuql.train_linear(mu=0.9,weight_decay=0,my=0,sy=1,threshold=None,verbose=False, progress_bar=True)\n",
    "\n",
    "\n",
    "    nuql_test_preds = nuql.test_linear(test=test_data)\n",
    "    \n",
    "    nuql_mu2 = nuql_test_preds.mean(1)\n",
    "    nuql_var2 = nuql_test_preds.var(1)\n",
    "\n",
    "    print(f's: {s}, convergence = {torch.linalg.norm(nuql_var2 - var_pred)}')\n",
    "    diff.append(torch.linalg.norm(nuql_var2 - var_pred).item())\n",
    "    losses.append(loss)"
   ]
  },
  {
   "cell_type": "code",
   "execution_count": null,
   "metadata": {},
   "outputs": [
    {
     "data": {
      "image/png": "[encoded data removed]",
      "text/plain": [
       "<Figure size 800x600 with 1 Axes>"
      ]
     },
     "metadata": {},
     "output_type": "display_data"
    }
   ],
   "source": [
    "import matplotlib.pyplot as plt\n",
    "fig, (ax1) = plt.subplots(figsize=(8,6),frameon=True,)\n",
    "\n",
    "ax1.plot(s_range,diff,'r--*',label='Variance Squared Error')\n",
    "ax1.set_ylabel('NUQLS - NTKGP Variance')\n",
    "ax1.set_yscale('log')\n",
    "ax1.set_xlabel('S')\n",
    "\n",
    "plt.savefig(fname='S_ntk_convergence.pdf', format='pdf')"
   ]
  },
  {
   "cell_type": "code",
   "execution_count": 411,
   "metadata": {},
   "outputs": [],
   "source": [
    "for i,d in enumerate(diff):\n",
    "    diff[i] = d.item()"
   ]
  },
  {
   "cell_type": "code",
   "execution_count": 442,
   "metadata": {},
   "outputs": [
    {
     "data": {
      "image/png": "[encoded data removed]",
      "text/plain": [
       "<Figure size 800x600 with 2 Axes>"
      ]
     },
     "metadata": {},
     "output_type": "display_data"
    }
   ],
   "source": [
    "import matplotlib.pyplot as plt\n",
    "fig, (ax1) = plt.subplots(figsize=(8,6),frameon=True,)\n",
    "\n",
    "ax2 = ax1.twinx()\n",
    "\n",
    "ax1.plot(epochs,diff,'r--*',label='Variance Squared Error')\n",
    "ax1.set_ylabel('NUQLS - NTKGP Variance')\n",
    "ax1.set_yscale('log')\n",
    "ax1.set_xlabel('Epochs')\n",
    "ax2.plot(epochs,losses,'b--*',label='Training Loss')\n",
    "ax2.spines['right'].set_visible(True)\n",
    "ax2.spines['top'].set_visible(True)\n",
    "ax2.set_ylabel('Loss')\n",
    "ax2.set_yscale('log')\n",
    "ax2.set_xscale('log')\n",
    "\n",
    "fig.legend()\n",
    "\n",
    "plt.savefig(fname='epochs_ntk_convergence.pdf', format='pdf')"
   ]
  },
  {
   "cell_type": "markdown",
   "metadata": {},
   "source": [
    "# Statistical Plot"
   ]
  },
  {
   "cell_type": "code",
   "execution_count": null,
   "metadata": {},
   "outputs": [],
   "source": [
    "import torch\n",
    "from functorch import make_functional\n",
    "from torch.func import functional_call, vmap, jacrev, jvp\n",
    "    ## NUQLS\n",
    "import posteriors.nuqls as nuqls\n",
    "from importlib import reload\n",
    "reload(nuqls)\n",
    "from torch.utils.data import DataLoader, Dataset\n",
    "import tqdm\n",
    "\n",
    "n = 100\n",
    "d = 5\n",
    "dl = 20\n",
    "\n",
    "class toy_dataset(Dataset):\n",
    "    def __init__(self,x,y):\n",
    "        self.x = x\n",
    "        self.y = y\n",
    "\n",
    "    def __len__(self):\n",
    "        return self.x.shape[0]\n",
    "\n",
    "    def __getitem__(self, i):\n",
    "        return self.x[i], self.y[i]\n",
    "    \n",
    "class oneLayerMLP(torch.nn.Module):\n",
    "    def __init__(self):\n",
    "        super().__init__()\n",
    "        self.output_size = 1\n",
    "        self.linear1 = torch.nn.Linear(d,dl,bias=False)\n",
    "        self.linear2 = torch.nn.Linear(dl,dl,bias=False)\n",
    "        self.linear3 = torch.nn.Linear(dl,1,bias=False)\n",
    "        self.act = torch.nn.ReLU()\n",
    "\n",
    "    def forward(self, x):\n",
    "        x = self.act(self.linear1(x)) /  (dl**0.5)\n",
    "        x = self.act(self.linear2(x)) /  (dl**0.5)\n",
    "        x = self.linear3(x)\n",
    "        return x\n",
    "\n",
    "def weights_init(m):\n",
    "    if isinstance(m, torch.nn.Linear):\n",
    "        # torch.nn.init.kaiming_normal(m.weight, mode='fan_out', nonlinearity='relu')\n",
    "            torch.nn.init.normal_(m.weight,mean=0,std=1)\n",
    "\n",
    "def convergence(n,d,lr=1,verbose=False):\n",
    "    X = torch.randn((n,d))\n",
    "    Y = torch.randn((n,1))\n",
    "\n",
    "    X_test = torch.randn((n,d))\n",
    "\n",
    "    net = oneLayerMLP()\n",
    "    net.apply(weights_init)\n",
    "\n",
    "    optimizer = torch.optim.SGD(net.parameters(),lr=0.1,momentum=0.9)\n",
    "    loss_fn = torch.nn.MSELoss()\n",
    "    for i in range(5000):\n",
    "        optimizer.zero_grad()\n",
    "        pred = net(X)\n",
    "        loss = loss_fn(pred,Y)\n",
    "        loss.backward()\n",
    "        optimizer.step()\n",
    "\n",
    "    if verbose:\n",
    "        print(f'nn loss : {loss.item():.4}')\n",
    "\n",
    "    # Compute NTKGP\n",
    "    fnet, params = make_functional(net)\n",
    "\n",
    "    ## Compute jacobian of net, evaluated on training set\n",
    "    def fnet_single(params, x):\n",
    "        return fnet(params, x.unsqueeze(0)).squeeze(0)\n",
    "\n",
    "    def Jx(Xs):\n",
    "        J = vmap(jacrev(fnet_single), (None, 0))(params, Xs)\n",
    "        J = [j.detach().flatten(1) for j in J]\n",
    "        J = torch.cat(J,dim=1).detach()\n",
    "        return J\n",
    "\n",
    "    lam = 0\n",
    "    Jtrain = Jx(X)\n",
    "    NTK_X = Jtrain @ Jtrain.T + lam*torch.eye(n)\n",
    "\n",
    "    print(f'Cond(J J^T) = {torch.linalg.cond(NTK_X).item():.1}')\n",
    "\n",
    "    var_ntk = []\n",
    "    for xi in X_test:\n",
    "        Jsingle = Jx(xi.unsqueeze(0))\n",
    "        KXx = Jtrain @ Jsingle.T\n",
    "        var = Jsingle @ Jsingle.T - KXx.T @ torch.linalg.solve(NTK_X,KXx)\n",
    "        var_ntk.append(var)\n",
    "    var_ntk = torch.tensor(var_ntk)\n",
    "    \n",
    "    train_data = toy_dataset(X,Y)\n",
    "    test_data = toy_dataset(X_test,Y)\n",
    "\n",
    "    diff_e = []\n",
    "    losses_e = []\n",
    "\n",
    "    epochs = torch.logspace(1,4,10)\n",
    "    for epoch in tqdm.tqdm(epochs):\n",
    "        # nuql_test_preds, loss = nuqls.regression_parallel(net, train=train_data, test=test_data, ood_test=None, train_bs = n, test_bs =n, \n",
    "        #                                             S = 1000, scale=1, lr=8, epochs=int(epoch.item()), mu=0.9)\n",
    "        \n",
    "        nuql = nuqls.small_regression_parallel(net, train=train_data, S = 1000, epochs=int(epoch.item()), lr=lr, bs=n, bs_test=n, init_scale=1)\n",
    "        loss,_ = nuql.train_linear(mu=0.9,weight_decay=0,my=0,sy=1,threshold=None,verbose=False, progress_bar=False)\n",
    "        nuql_test_preds = nuql.test_linear(test=test_data)\n",
    "        \n",
    "        var_nuqls = nuql_test_preds.var(1)\n",
    "\n",
    "        # print(f'epoch: {epoch}, convergence = {torch.linalg.norm(var_nuqls - var_ntk)}')\n",
    "        diff_e.append(torch.linalg.norm(var_nuqls - var_ntk).item())\n",
    "        losses_e.append(loss)\n",
    "        if verbose:\n",
    "            print('--------------------------------------')\n",
    "            print(f'epoch: {int(epoch)}, nuqls loss : {loss.item():.4}')\n",
    "\n",
    "    diff_s = []\n",
    "    losses_s = []\n",
    "\n",
    "    s_range = torch.logspace(1,4,10)\n",
    "    for s in tqdm.tqdm(s_range):\n",
    "        # nuql_test_preds, loss = nuqls.regression_parallel(net, train=train_data, test=test_data, ood_test=None, train_bs = n, test_bs =n, \n",
    "        #                                             S = int(s.item()), scale=1, lr=8, epochs=4000, mu=0.9)\n",
    "        \n",
    "        nuql = nuqls.small_regression_parallel(net, train=train_data, S = int(s.item()), epochs=4000, lr=lr, bs=n, bs_test=n, init_scale=1)\n",
    "        loss,_ = nuql.train_linear(mu=0.9,weight_decay=0,my=0,sy=1,threshold=None,verbose=False, progress_bar=False)\n",
    "        nuql_test_preds = nuql.test_linear(test=test_data)\n",
    "        \n",
    "        var_nuqls = nuql_test_preds.var(1)\n",
    "\n",
    "        # print(f's: {s}, convergence = {torch.linalg.norm(var_nuqls - var_ntk)}')\n",
    "        diff_s.append(torch.linalg.norm(var_nuqls - var_ntk).item())\n",
    "        losses_s.append(loss)\n",
    "        if verbose:\n",
    "            print('--------------------------------------')\n",
    "            print(f'S: {int(s)}, nuqls loss : {loss.item():.4}')\n",
    "\n",
    "    return diff_e,losses_e,epochs,diff_s,losses_s,s_range\n"
   ]
  },
  {
   "cell_type": "code",
   "execution_count": 19,
   "metadata": {},
   "outputs": [
    {
     "name": "stderr",
     "output_type": "stream",
     "text": [
      "C:\\Users\\s4531973\\AppData\\Local\\Temp\\ipykernel_9080\\3198977299.py:68: FutureWarning: We've integrated functorch into PyTorch. As the final step of the integration, `functorch.make_functional` is deprecated as of PyTorch 2.0 and will be deleted in a future version of PyTorch >= 2.3. Please use `torch.func.functional_call` instead; see the PyTorch 2.0 release notes and/or the `torch.func` migration guide for more details https://pytorch.org/docs/main/func.migrating.html\n",
      "  fnet, params = make_functional(net)\n"
     ]
    },
    {
     "name": "stdout",
     "output_type": "stream",
     "text": [
      "nn loss : 1.817e-08\n",
      "Cond(J J^T) = 2e+04\n"
     ]
    },
    {
     "name": "stderr",
     "output_type": "stream",
     "text": [
      "  0%|          | 0/10 [00:00<?, ?it/s]"
     ]
    },
    {
     "name": "stdout",
     "output_type": "stream",
     "text": [
      "--------------------------------------\n",
      "epoch: 10.0, nuqls loss : 13.43\n"
     ]
    },
    {
     "name": "stderr",
     "output_type": "stream",
     "text": [
      "c:\\Users\\s4531973\\Documents\\PhD\\Code\\nuqls_paper\\posteriors\\nuqls.py:156: FutureWarning: We've integrated functorch into PyTorch. As the final step of the integration, `functorch.make_functional` is deprecated as of PyTorch 2.0 and will be deleted in a future version of PyTorch >= 2.3. Please use `torch.func.functional_call` instead; see the PyTorch 2.0 release notes and/or the `torch.func` migration guide for more details https://pytorch.org/docs/main/func.migrating.html\n",
      "  self.fnet, self.params = make_functional(self.net)\n",
      " 20%|██        | 2/10 [00:00<00:00, 14.80it/s]"
     ]
    },
    {
     "name": "stdout",
     "output_type": "stream",
     "text": [
      "--------------------------------------\n",
      "epoch: 21.544346900318832, nuqls loss : 2.09\n",
      "--------------------------------------\n",
      "epoch: 46.41588833612777, nuqls loss : 0.2611\n"
     ]
    },
    {
     "name": "stderr",
     "output_type": "stream",
     "text": [
      " 40%|████      | 4/10 [00:00<00:01,  5.44it/s]"
     ]
    },
    {
     "name": "stdout",
     "output_type": "stream",
     "text": [
      "--------------------------------------\n",
      "epoch: 100.0, nuqls loss : 0.03481\n"
     ]
    },
    {
     "name": "stderr",
     "output_type": "stream",
     "text": [
      " 50%|█████     | 5/10 [00:01<00:01,  2.88it/s]"
     ]
    },
    {
     "name": "stdout",
     "output_type": "stream",
     "text": [
      "--------------------------------------\n",
      "epoch: 215.44346900318823, nuqls loss : 0.008093\n"
     ]
    },
    {
     "name": "stderr",
     "output_type": "stream",
     "text": [
      " 60%|██████    | 6/10 [00:02<00:02,  1.40it/s]"
     ]
    },
    {
     "name": "stdout",
     "output_type": "stream",
     "text": [
      "--------------------------------------\n",
      "epoch: 464.1588833612782, nuqls loss : 0.001721\n"
     ]
    },
    {
     "name": "stderr",
     "output_type": "stream",
     "text": [
      " 70%|███████   | 7/10 [00:06<00:04,  1.52s/it]"
     ]
    },
    {
     "name": "stdout",
     "output_type": "stream",
     "text": [
      "--------------------------------------\n",
      "epoch: 1000.0, nuqls loss : 0.0003524\n"
     ]
    },
    {
     "name": "stderr",
     "output_type": "stream",
     "text": [
      " 80%|████████  | 8/10 [00:13<00:06,  3.23s/it]"
     ]
    },
    {
     "name": "stdout",
     "output_type": "stream",
     "text": [
      "--------------------------------------\n",
      "epoch: 2154.4346900318847, nuqls loss : 6.086e-05\n"
     ]
    },
    {
     "name": "stderr",
     "output_type": "stream",
     "text": [
      " 90%|█████████ | 9/10 [00:29<00:06,  6.98s/it]"
     ]
    },
    {
     "name": "stdout",
     "output_type": "stream",
     "text": [
      "--------------------------------------\n",
      "epoch: 4641.588833612777, nuqls loss : 2.473e-06\n"
     ]
    },
    {
     "name": "stderr",
     "output_type": "stream",
     "text": [
      "100%|██████████| 10/10 [01:03<00:00,  6.35s/it]\n"
     ]
    },
    {
     "name": "stdout",
     "output_type": "stream",
     "text": [
      "--------------------------------------\n",
      "epoch: 10000.0, nuqls loss : 4.126e-09\n"
     ]
    },
    {
     "name": "stderr",
     "output_type": "stream",
     "text": [
      " 10%|█         | 1/10 [00:01<00:12,  1.43s/it]"
     ]
    },
    {
     "name": "stdout",
     "output_type": "stream",
     "text": [
      "--------------------------------------\n",
      "S: 10.0, nuqls loss : 1.019e-05\n"
     ]
    },
    {
     "name": "stderr",
     "output_type": "stream",
     "text": [
      " 20%|██        | 2/10 [00:02<00:12,  1.51s/it]"
     ]
    },
    {
     "name": "stdout",
     "output_type": "stream",
     "text": [
      "--------------------------------------\n",
      "S: 21.544346900318832, nuqls loss : 3.446e-06\n"
     ]
    },
    {
     "name": "stderr",
     "output_type": "stream",
     "text": [
      " 30%|███       | 3/10 [00:04<00:11,  1.69s/it]"
     ]
    },
    {
     "name": "stdout",
     "output_type": "stream",
     "text": [
      "--------------------------------------\n",
      "S: 46.41588833612777, nuqls loss : 4.733e-06\n"
     ]
    },
    {
     "name": "stderr",
     "output_type": "stream",
     "text": [
      " 40%|████      | 4/10 [00:08<00:14,  2.44s/it]"
     ]
    },
    {
     "name": "stdout",
     "output_type": "stream",
     "text": [
      "--------------------------------------\n",
      "S: 100.0, nuqls loss : 6.936e-06\n"
     ]
    },
    {
     "name": "stderr",
     "output_type": "stream",
     "text": [
      " 50%|█████     | 5/10 [00:13<00:16,  3.31s/it]"
     ]
    },
    {
     "name": "stdout",
     "output_type": "stream",
     "text": [
      "--------------------------------------\n",
      "S: 215.44346900318823, nuqls loss : 5.949e-06\n"
     ]
    },
    {
     "name": "stderr",
     "output_type": "stream",
     "text": [
      " 60%|██████    | 6/10 [00:21<00:20,  5.12s/it]"
     ]
    },
    {
     "name": "stdout",
     "output_type": "stream",
     "text": [
      "--------------------------------------\n",
      "S: 464.1588833612782, nuqls loss : 5.133e-06\n"
     ]
    },
    {
     "name": "stderr",
     "output_type": "stream",
     "text": [
      " 70%|███████   | 7/10 [00:37<00:25,  8.56s/it]"
     ]
    },
    {
     "name": "stdout",
     "output_type": "stream",
     "text": [
      "--------------------------------------\n",
      "S: 1000.0, nuqls loss : 5.819e-06\n"
     ]
    },
    {
     "name": "stderr",
     "output_type": "stream",
     "text": [
      " 80%|████████  | 8/10 [01:06<00:30, 15.12s/it]"
     ]
    },
    {
     "name": "stdout",
     "output_type": "stream",
     "text": [
      "--------------------------------------\n",
      "S: 2154.4346900318847, nuqls loss : 5.269e-06\n"
     ]
    },
    {
     "name": "stderr",
     "output_type": "stream",
     "text": [
      " 90%|█████████ | 9/10 [02:22<00:33, 33.94s/it]"
     ]
    },
    {
     "name": "stdout",
     "output_type": "stream",
     "text": [
      "--------------------------------------\n",
      "S: 4641.588833612777, nuqls loss : 5.466e-06\n"
     ]
    },
    {
     "name": "stderr",
     "output_type": "stream",
     "text": [
      "100%|██████████| 10/10 [05:02<00:00, 30.29s/it]"
     ]
    },
    {
     "name": "stdout",
     "output_type": "stream",
     "text": [
      "--------------------------------------\n",
      "S: 10000.0, nuqls loss : 5.507e-06\n"
     ]
    },
    {
     "name": "stderr",
     "output_type": "stream",
     "text": [
      "\n"
     ]
    }
   ],
   "source": [
    "samples = 1\n",
    "\n",
    "n = 100\n",
    "d = 5\n",
    "\n",
    "\n",
    "diff_e_av = []\n",
    "losses_e_av = []\n",
    "diff_s_av = []\n",
    "\n",
    "for i in range(samples):\n",
    "    diff_e,losses_e,epochs,diff_s,_,s_range = convergence(n,d,lr=0.1,verbose=True)\n",
    "    diff_e_av.append(diff_e)\n",
    "    losses_e_av.append(losses_e)\n",
    "    diff_s_av.append(diff_s)\n",
    "\n",
    "diff_e_av = torch.tensor(diff_e_av).mean(0)\n",
    "losses_e_av = torch.tensor(losses_e_av).mean(0)\n",
    "diff_s_av = torch.tensor(diff_s_av).mean(0)"
   ]
  },
  {
   "cell_type": "code",
   "execution_count": 20,
   "metadata": {},
   "outputs": [
    {
     "data": {
      "image/png": "[encoded data removed]",
      "text/plain": [
       "<Figure size 1800x400 with 3 Axes>"
      ]
     },
     "metadata": {},
     "output_type": "display_data"
    }
   ],
   "source": [
    "import matplotlib.pyplot as plt\n",
    "w, h, fs = int(28/3 * 2), 4, 22\n",
    "fig, (ax1,ax2) = plt.subplots(1,2,figsize=(w,h),frameon=True,)\n",
    "\n",
    "ax1t = ax1.twinx()\n",
    "\n",
    "ax1.plot(epochs,diff_e_av,'b--*',label='Variance Squared Error')\n",
    "ax1.set_ylabel('SEV', fontsize=fs)\n",
    "# ax1.set_yscale('log')\n",
    "ax1.set_xlabel('Epochs', fontsize=fs)\n",
    "ax1.tick_params(labelsize=fs)\n",
    "ax1t.plot(epochs,losses_e_av,'r--*',label='Training Loss')\n",
    "ax1t.spines['right'].set_visible(True)\n",
    "ax1t.spines['top'].set_visible(True)\n",
    "ax1t.set_ylabel('Loss', fontsize=fs)\n",
    "# ax2.set_yscale('log')\n",
    "ax1t.set_xscale('log')\n",
    "ax1t.tick_params(labelsize=fs)\n",
    "\n",
    "# ax1.legend(loc='best', fontsize=fs)\n",
    "# ax1t.legend(loc='upper left', fontsize=fs)\n",
    "\n",
    "ax2.plot(s_range,diff_s_av,'r--*')\n",
    "ax2.set_ylabel('SEV', fontsize=fs)\n",
    "# ax1.set_yscale('log')\n",
    "ax2.set_xlabel('$s$', fontsize=fs)\n",
    "ax2.set_xscale('log')\n",
    "ax2.tick_params(labelsize=fs)\n",
    "\n",
    "fig.tight_layout()\n",
    "plt.subplots_adjust(wspace=0.5)\n",
    "plt.savefig(fname='epochs_ntk_convergence.pdf', format='pdf')"
   ]
  },
  {
   "cell_type": "markdown",
   "metadata": {},
   "source": [
    "# Multiple Plot"
   ]
  },
  {
   "cell_type": "code",
   "execution_count": 28,
   "metadata": {},
   "outputs": [],
   "source": [
    "import torch\n",
    "from functorch import make_functional\n",
    "from torch.func import functional_call, vmap, jacrev, jvp\n",
    "    ## NUQLS\n",
    "import posteriors.nuqls as nuqls\n",
    "from importlib import reload\n",
    "reload(nuqls)\n",
    "from torch.utils.data import DataLoader, Dataset\n",
    "import tqdm\n",
    "\n",
    "class toy_dataset(Dataset):\n",
    "    def __init__(self,x,y):\n",
    "        self.x = x\n",
    "        self.y = y\n",
    "\n",
    "    def __len__(self):\n",
    "        return self.x.shape[0]\n",
    "\n",
    "    def __getitem__(self, i):\n",
    "        return self.x[i], self.y[i]\n",
    "    \n",
    "class variable_mlp(torch.nn.Module):\n",
    "    def __init__(self,layer_width,nonlin):\n",
    "        super().__init__()\n",
    "        self.layer_width = layer_width\n",
    "        self.linear_layers = torch.nn.ModuleList([torch.nn.Linear(layer_width[i],layer_width[i+1], bias=False) for i in range(len(self.layer_width)-1)])\n",
    "        self.lin_out = torch.nn.Linear(self.layer_width[-1],1, bias=False)\n",
    "        if nonlin=='tanh':\n",
    "            self.act = torch.nn.Tanh()\n",
    "        elif nonlin=='relu':\n",
    "            self.act = torch.nn.ReLU()\n",
    "\n",
    "        for lin in self.linear_layers:\n",
    "            torch.nn.init.normal_(lin.weight, 0, 1)\n",
    "        torch.nn.init.normal_(self.lin_out.weight, 0, 1)\n",
    "\n",
    "    # Return full output of nn\n",
    "    def forward(self,x):\n",
    "        for i, lin in enumerate(self.linear_layers):\n",
    "            x = self.act(lin(x)) / (self.layer_width[i]**0.5)\n",
    "        return self.lin_out(x)\n",
    "    \n",
    "# class oneLayerMLP(torch.nn.Module):\n",
    "#     def __init__(self):\n",
    "#         super().__init__()\n",
    "#         self.output_size = 1\n",
    "#         self.linear1 = torch.nn.Linear(d,dl,bias=False)\n",
    "#         self.linear2 = torch.nn.Linear(dl,dl,bias=False)\n",
    "#         self.linear3 = torch.nn.Linear(dl,1,bias=False)\n",
    "#         self.act = torch.nn.ReLU()\n",
    "\n",
    "#     def forward(self, x):\n",
    "#         x = self.act(self.linear1(x)) /  (dl**0.5)\n",
    "#         x = self.act(self.linear2(x)) /  (dl**0.5)\n",
    "#         x = self.linear3(x)\n",
    "#         return x\n",
    "\n",
    "# def weights_init(m):\n",
    "#     if isinstance(m, torch.nn.Linear):\n",
    "#         # torch.nn.init.kaiming_normal(m.weight, mode='fan_out', nonlinearity='relu')\n",
    "#             torch.nn.init.normal_(m.weight,mean=0,std=1)\n",
    "\n",
    "def convergence(n,d,layer_widths,nonlin,lr=1,verbose=False):\n",
    "    X = torch.randn((n,d))\n",
    "    Y = torch.randn((n,1))\n",
    "\n",
    "    X_test = torch.randn((n,d))\n",
    "\n",
    "    net = variable_mlp(layer_width=layer_widths,nonlin=nonlin)\n",
    "\n",
    "    optimizer = torch.optim.SGD(net.parameters(),lr=0.1,momentum=0.9)\n",
    "    loss_fn = torch.nn.MSELoss()\n",
    "    for i in range(5000):\n",
    "        optimizer.zero_grad()\n",
    "        pred = net(X)\n",
    "        loss = loss_fn(pred,Y)\n",
    "        loss.backward()\n",
    "        optimizer.step()\n",
    "\n",
    "    if verbose:\n",
    "        print(f'nn loss : {loss.item():.4}')\n",
    "\n",
    "    # Compute NTKGP\n",
    "    fnet, params = make_functional(net)\n",
    "\n",
    "    ## Compute jacobian of net, evaluated on training set\n",
    "    def fnet_single(params, x):\n",
    "        return fnet(params, x.unsqueeze(0)).squeeze(0)\n",
    "\n",
    "    def Jx(Xs):\n",
    "        J = vmap(jacrev(fnet_single), (None, 0))(params, Xs)\n",
    "        J = [j.detach().flatten(1) for j in J]\n",
    "        J = torch.cat(J,dim=1).detach()\n",
    "        return J\n",
    "\n",
    "    lam = 0\n",
    "    Jtrain = Jx(X)\n",
    "    NTK_X = Jtrain @ Jtrain.T + lam*torch.eye(n)\n",
    "    cond = torch.linalg.cond(NTK_X).item()\n",
    "    print(f'Cond(J J^T) = {cond:.1}')\n",
    "\n",
    "    var_ntk = []\n",
    "    for xi in X_test:\n",
    "        Jsingle = Jx(xi.unsqueeze(0))\n",
    "        KXx = Jtrain @ Jsingle.T\n",
    "        var = Jsingle @ Jsingle.T - KXx.T @ torch.linalg.solve(NTK_X,KXx)\n",
    "        var_ntk.append(var)\n",
    "    var_ntk = torch.tensor(var_ntk)\n",
    "    \n",
    "    train_data = toy_dataset(X,Y)\n",
    "    test_data = toy_dataset(X_test,Y)\n",
    "\n",
    "    diff_e = []\n",
    "    losses_e = []\n",
    "\n",
    "    epochs = torch.logspace(1,4,10)\n",
    "    for epoch in tqdm.tqdm(epochs):\n",
    "        # nuql_test_preds, loss = nuqls.regression_parallel(net, train=train_data, test=test_data, ood_test=None, train_bs = n, test_bs =n, \n",
    "        #                                             S = 1000, scale=1, lr=8, epochs=int(epoch.item()), mu=0.9)\n",
    "        \n",
    "        nuql = nuqls.small_regression_parallel(net, train=train_data, S = 1000, epochs=int(epoch.item()), lr=lr, bs=n, bs_test=n, init_scale=1)\n",
    "        loss,_ = nuql.train_linear(mu=0.9,weight_decay=0,my=0,sy=1,threshold=None,verbose=False, progress_bar=False)\n",
    "        nuql_test_preds = nuql.test_linear(test=test_data)\n",
    "        \n",
    "        var_nuqls = nuql_test_preds.var(1)\n",
    "\n",
    "        # print(f'epoch: {epoch}, convergence = {torch.linalg.norm(var_nuqls - var_ntk)}')\n",
    "        diff_e.append(torch.linalg.norm(var_nuqls - var_ntk).item())\n",
    "        losses_e.append(loss)\n",
    "        if verbose:\n",
    "            print('--------------------------------------')\n",
    "            print(f'epoch: {int(epoch)}, nuqls loss : {loss.item():.4}')\n",
    "\n",
    "    diff_s = []\n",
    "    losses_s = []\n",
    "\n",
    "    s_range = torch.logspace(1,4,10)\n",
    "    for s in tqdm.tqdm(s_range):\n",
    "        # nuql_test_preds, loss = nuqls.regression_parallel(net, train=train_data, test=test_data, ood_test=None, train_bs = n, test_bs =n, \n",
    "        #                                             S = int(s.item()), scale=1, lr=8, epochs=4000, mu=0.9)\n",
    "        \n",
    "        nuql = nuqls.small_regression_parallel(net, train=train_data, S = int(s.item()), epochs=4000, lr=lr, bs=n, bs_test=n, init_scale=1)\n",
    "        loss,_ = nuql.train_linear(mu=0.9,weight_decay=0,my=0,sy=1,threshold=None,verbose=False, progress_bar=False)\n",
    "        nuql_test_preds = nuql.test_linear(test=test_data)\n",
    "        \n",
    "        var_nuqls = nuql_test_preds.var(1)\n",
    "\n",
    "        # print(f's: {s}, convergence = {torch.linalg.norm(var_nuqls - var_ntk)}')\n",
    "        diff_s.append(torch.linalg.norm(var_nuqls - var_ntk).item())\n",
    "        losses_s.append(loss)\n",
    "        if verbose:\n",
    "            print('--------------------------------------')\n",
    "            print(f'S: {int(s)}, nuqls loss : {loss.item():.4}')\n",
    "\n",
    "    return diff_e,losses_e,epochs,diff_s,losses_s,s_range,cond\n"
   ]
  },
  {
   "cell_type": "code",
   "execution_count": 60,
   "metadata": {},
   "outputs": [
    {
     "name": "stdout",
     "output_type": "stream",
     "text": [
      "single-layer, width=20, tanh\n"
     ]
    },
    {
     "name": "stderr",
     "output_type": "stream",
     "text": [
      "C:\\Users\\s4531973\\AppData\\Local\\Temp\\ipykernel_9080\\475677823.py:84: FutureWarning: We've integrated functorch into PyTorch. As the final step of the integration, `functorch.make_functional` is deprecated as of PyTorch 2.0 and will be deleted in a future version of PyTorch >= 2.3. Please use `torch.func.functional_call` instead; see the PyTorch 2.0 release notes and/or the `torch.func` migration guide for more details https://pytorch.org/docs/main/func.migrating.html\n",
      "  fnet, params = make_functional(net)\n"
     ]
    },
    {
     "name": "stdout",
     "output_type": "stream",
     "text": [
      "nn loss : 0.002964\n",
      "Cond(J J^T) = 9e+04\n"
     ]
    },
    {
     "name": "stderr",
     "output_type": "stream",
     "text": [
      "  0%|          | 0/10 [00:00<?, ?it/s]c:\\Users\\s4531973\\Documents\\PhD\\Code\\nuqls_paper\\posteriors\\nuqls.py:156: FutureWarning: We've integrated functorch into PyTorch. As the final step of the integration, `functorch.make_functional` is deprecated as of PyTorch 2.0 and will be deleted in a future version of PyTorch >= 2.3. Please use `torch.func.functional_call` instead; see the PyTorch 2.0 release notes and/or the `torch.func` migration guide for more details https://pytorch.org/docs/main/func.migrating.html\n",
      "  self.fnet, self.params = make_functional(self.net)\n",
      " 30%|███       | 3/10 [00:00<00:00, 23.14it/s]"
     ]
    },
    {
     "name": "stdout",
     "output_type": "stream",
     "text": [
      "--------------------------------------\n",
      "epoch: 10, nuqls loss : 5.727\n",
      "--------------------------------------\n",
      "epoch: 21, nuqls loss : 1.568\n",
      "--------------------------------------\n",
      "epoch: 46, nuqls loss : 0.1976\n",
      "--------------------------------------\n",
      "epoch: 100, nuqls loss : 0.04516\n",
      "--------------------------------------\n",
      "epoch: 215, nuqls loss : 0.019\n"
     ]
    },
    {
     "name": "stderr",
     "output_type": "stream",
     "text": [
      " 60%|██████    | 6/10 [00:01<00:00,  4.52it/s]"
     ]
    },
    {
     "name": "stdout",
     "output_type": "stream",
     "text": [
      "--------------------------------------\n",
      "epoch: 464, nuqls loss : 0.008873\n",
      "--------------------------------------\n",
      "epoch: 1000, nuqls loss : 0.004923\n"
     ]
    },
    {
     "name": "stderr",
     "output_type": "stream",
     "text": [
      " 80%|████████  | 8/10 [00:05<00:01,  1.05it/s]"
     ]
    },
    {
     "name": "stdout",
     "output_type": "stream",
     "text": [
      "--------------------------------------\n",
      "epoch: 2154, nuqls loss : 0.003278\n"
     ]
    },
    {
     "name": "stderr",
     "output_type": "stream",
     "text": [
      " 90%|█████████ | 9/10 [00:12<00:02,  2.07s/it]"
     ]
    },
    {
     "name": "stdout",
     "output_type": "stream",
     "text": [
      "--------------------------------------\n",
      "epoch: 4641, nuqls loss : 0.00222\n"
     ]
    },
    {
     "name": "stderr",
     "output_type": "stream",
     "text": [
      "100%|██████████| 10/10 [00:38<00:00,  3.87s/it]\n"
     ]
    },
    {
     "name": "stdout",
     "output_type": "stream",
     "text": [
      "--------------------------------------\n",
      "epoch: 10000, nuqls loss : 0.001264\n"
     ]
    },
    {
     "name": "stderr",
     "output_type": "stream",
     "text": [
      " 10%|█         | 1/10 [00:03<00:31,  3.46s/it]"
     ]
    },
    {
     "name": "stdout",
     "output_type": "stream",
     "text": [
      "--------------------------------------\n",
      "S: 10, nuqls loss : 0.00247\n"
     ]
    },
    {
     "name": "stderr",
     "output_type": "stream",
     "text": [
      " 20%|██        | 2/10 [00:07<00:28,  3.54s/it]"
     ]
    },
    {
     "name": "stdout",
     "output_type": "stream",
     "text": [
      "--------------------------------------\n",
      "S: 21, nuqls loss : 0.002448\n"
     ]
    },
    {
     "name": "stderr",
     "output_type": "stream",
     "text": [
      " 30%|███       | 3/10 [00:10<00:24,  3.50s/it]"
     ]
    },
    {
     "name": "stdout",
     "output_type": "stream",
     "text": [
      "--------------------------------------\n",
      "S: 46, nuqls loss : 0.002189\n"
     ]
    },
    {
     "name": "stderr",
     "output_type": "stream",
     "text": [
      " 40%|████      | 4/10 [00:14<00:21,  3.57s/it]"
     ]
    },
    {
     "name": "stdout",
     "output_type": "stream",
     "text": [
      "--------------------------------------\n",
      "S: 100, nuqls loss : 0.002396\n"
     ]
    },
    {
     "name": "stderr",
     "output_type": "stream",
     "text": [
      " 50%|█████     | 5/10 [00:18<00:19,  3.99s/it]"
     ]
    },
    {
     "name": "stdout",
     "output_type": "stream",
     "text": [
      "--------------------------------------\n",
      "S: 215, nuqls loss : 0.002337\n"
     ]
    },
    {
     "name": "stderr",
     "output_type": "stream",
     "text": [
      " 60%|██████    | 6/10 [00:27<00:22,  5.71s/it]"
     ]
    },
    {
     "name": "stdout",
     "output_type": "stream",
     "text": [
      "--------------------------------------\n",
      "S: 464, nuqls loss : 0.002373\n"
     ]
    },
    {
     "name": "stderr",
     "output_type": "stream",
     "text": [
      " 70%|███████   | 7/10 [00:40<00:24,  8.02s/it]"
     ]
    },
    {
     "name": "stdout",
     "output_type": "stream",
     "text": [
      "--------------------------------------\n",
      "S: 1000, nuqls loss : 0.002367\n"
     ]
    },
    {
     "name": "stderr",
     "output_type": "stream",
     "text": [
      " 80%|████████  | 8/10 [01:02<00:25, 12.51s/it]"
     ]
    },
    {
     "name": "stdout",
     "output_type": "stream",
     "text": [
      "--------------------------------------\n",
      "S: 2154, nuqls loss : 0.002362\n"
     ]
    },
    {
     "name": "stderr",
     "output_type": "stream",
     "text": [
      " 90%|█████████ | 9/10 [01:44<00:21, 21.49s/it]"
     ]
    },
    {
     "name": "stdout",
     "output_type": "stream",
     "text": [
      "--------------------------------------\n",
      "S: 4641, nuqls loss : 0.00238\n"
     ]
    },
    {
     "name": "stderr",
     "output_type": "stream",
     "text": [
      "100%|██████████| 10/10 [03:14<00:00, 19.45s/it]"
     ]
    },
    {
     "name": "stdout",
     "output_type": "stream",
     "text": [
      "--------------------------------------\n",
      "S: 10000, nuqls loss : 0.002376\n"
     ]
    },
    {
     "name": "stderr",
     "output_type": "stream",
     "text": [
      "\n"
     ]
    },
    {
     "name": "stdout",
     "output_type": "stream",
     "text": [
      "nn loss : 7.474e-05\n",
      "Cond(J J^T) = 4e+04\n"
     ]
    },
    {
     "name": "stderr",
     "output_type": "stream",
     "text": [
      " 20%|██        | 2/10 [00:00<00:00, 14.96it/s]"
     ]
    },
    {
     "name": "stdout",
     "output_type": "stream",
     "text": [
      "--------------------------------------\n",
      "epoch: 10, nuqls loss : 6.661\n",
      "--------------------------------------\n",
      "epoch: 21, nuqls loss : 1.42\n",
      "--------------------------------------\n",
      "epoch: 46, nuqls loss : 0.2015\n"
     ]
    },
    {
     "name": "stderr",
     "output_type": "stream",
     "text": [
      " 40%|████      | 4/10 [00:00<00:01,  4.76it/s]"
     ]
    },
    {
     "name": "stdout",
     "output_type": "stream",
     "text": [
      "--------------------------------------\n",
      "epoch: 100, nuqls loss : 0.03917\n"
     ]
    },
    {
     "name": "stderr",
     "output_type": "stream",
     "text": [
      " 50%|█████     | 5/10 [00:01<00:01,  2.60it/s]"
     ]
    },
    {
     "name": "stdout",
     "output_type": "stream",
     "text": [
      "--------------------------------------\n",
      "epoch: 215, nuqls loss : 0.01465\n"
     ]
    },
    {
     "name": "stderr",
     "output_type": "stream",
     "text": [
      " 60%|██████    | 6/10 [00:03<00:02,  1.40it/s]"
     ]
    },
    {
     "name": "stdout",
     "output_type": "stream",
     "text": [
      "--------------------------------------\n",
      "epoch: 464, nuqls loss : 0.005575\n"
     ]
    },
    {
     "name": "stderr",
     "output_type": "stream",
     "text": [
      " 70%|███████   | 7/10 [00:06<00:04,  1.49s/it]"
     ]
    },
    {
     "name": "stdout",
     "output_type": "stream",
     "text": [
      "--------------------------------------\n",
      "epoch: 1000, nuqls loss : 0.001844\n"
     ]
    },
    {
     "name": "stderr",
     "output_type": "stream",
     "text": [
      " 80%|████████  | 8/10 [00:13<00:06,  3.12s/it]"
     ]
    },
    {
     "name": "stdout",
     "output_type": "stream",
     "text": [
      "--------------------------------------\n",
      "epoch: 2154, nuqls loss : 0.0005507\n"
     ]
    },
    {
     "name": "stderr",
     "output_type": "stream",
     "text": [
      " 90%|█████████ | 9/10 [00:28<00:06,  6.65s/it]"
     ]
    },
    {
     "name": "stdout",
     "output_type": "stream",
     "text": [
      "--------------------------------------\n",
      "epoch: 4641, nuqls loss : 0.0001459\n"
     ]
    },
    {
     "name": "stderr",
     "output_type": "stream",
     "text": [
      "100%|██████████| 10/10 [01:00<00:00,  6.00s/it]\n"
     ]
    },
    {
     "name": "stdout",
     "output_type": "stream",
     "text": [
      "--------------------------------------\n",
      "epoch: 10000, nuqls loss : 2.595e-05\n"
     ]
    },
    {
     "name": "stderr",
     "output_type": "stream",
     "text": [
      " 10%|█         | 1/10 [00:03<00:32,  3.64s/it]"
     ]
    },
    {
     "name": "stdout",
     "output_type": "stream",
     "text": [
      "--------------------------------------\n",
      "S: 10, nuqls loss : 0.0002948\n"
     ]
    },
    {
     "name": "stderr",
     "output_type": "stream",
     "text": [
      " 20%|██        | 2/10 [00:07<00:31,  3.96s/it]"
     ]
    },
    {
     "name": "stdout",
     "output_type": "stream",
     "text": [
      "--------------------------------------\n",
      "S: 21, nuqls loss : 0.0002423\n"
     ]
    },
    {
     "name": "stderr",
     "output_type": "stream",
     "text": [
      " 30%|███       | 3/10 [00:11<00:25,  3.65s/it]"
     ]
    },
    {
     "name": "stdout",
     "output_type": "stream",
     "text": [
      "--------------------------------------\n",
      "S: 46, nuqls loss : 0.00021\n"
     ]
    },
    {
     "name": "stderr",
     "output_type": "stream",
     "text": [
      " 40%|████      | 4/10 [00:14<00:21,  3.58s/it]"
     ]
    },
    {
     "name": "stdout",
     "output_type": "stream",
     "text": [
      "--------------------------------------\n",
      "S: 100, nuqls loss : 0.0001794\n"
     ]
    },
    {
     "name": "stderr",
     "output_type": "stream",
     "text": [
      " 50%|█████     | 5/10 [00:19<00:20,  4.01s/it]"
     ]
    },
    {
     "name": "stdout",
     "output_type": "stream",
     "text": [
      "--------------------------------------\n",
      "S: 215, nuqls loss : 0.0001931\n"
     ]
    },
    {
     "name": "stderr",
     "output_type": "stream",
     "text": [
      " 60%|██████    | 6/10 [00:28<00:22,  5.65s/it]"
     ]
    },
    {
     "name": "stdout",
     "output_type": "stream",
     "text": [
      "--------------------------------------\n",
      "S: 464, nuqls loss : 0.0001931\n"
     ]
    },
    {
     "name": "stderr",
     "output_type": "stream",
     "text": [
      " 70%|███████   | 7/10 [00:34<00:17,  5.90s/it]"
     ]
    },
    {
     "name": "stdout",
     "output_type": "stream",
     "text": [
      "--------------------------------------\n",
      "S: 1000, nuqls loss : 0.0001893\n"
     ]
    },
    {
     "name": "stderr",
     "output_type": "stream",
     "text": [
      " 80%|████████  | 8/10 [00:43<00:13,  6.79s/it]"
     ]
    },
    {
     "name": "stdout",
     "output_type": "stream",
     "text": [
      "--------------------------------------\n",
      "S: 2154, nuqls loss : 0.0001956\n"
     ]
    },
    {
     "name": "stderr",
     "output_type": "stream",
     "text": [
      " 90%|█████████ | 9/10 [00:59<00:09,  9.87s/it]"
     ]
    },
    {
     "name": "stdout",
     "output_type": "stream",
     "text": [
      "--------------------------------------\n",
      "S: 4641, nuqls loss : 0.00019\n"
     ]
    },
    {
     "name": "stderr",
     "output_type": "stream",
     "text": [
      "100%|██████████| 10/10 [01:35<00:00,  9.52s/it]"
     ]
    },
    {
     "name": "stdout",
     "output_type": "stream",
     "text": [
      "--------------------------------------\n",
      "S: 10000, nuqls loss : 0.0001915\n",
      "single-layer, width=20, relu\n"
     ]
    },
    {
     "name": "stderr",
     "output_type": "stream",
     "text": [
      "\n"
     ]
    },
    {
     "name": "stdout",
     "output_type": "stream",
     "text": [
      "nn loss : 0.114\n",
      "Cond(J J^T) = 3e+07\n"
     ]
    },
    {
     "name": "stderr",
     "output_type": "stream",
     "text": [
      "  0%|          | 0/10 [00:00<?, ?it/s]"
     ]
    },
    {
     "name": "stdout",
     "output_type": "stream",
     "text": [
      "--------------------------------------\n",
      "epoch: 10, nuqls loss : 24.91\n",
      "--------------------------------------\n",
      "epoch: 21, nuqls loss : 9.018\n",
      "--------------------------------------\n",
      "epoch: 46, nuqls loss : 0.606\n"
     ]
    },
    {
     "name": "stderr",
     "output_type": "stream",
     "text": [
      " 30%|███       | 3/10 [00:00<00:00, 22.48it/s]"
     ]
    },
    {
     "name": "stdout",
     "output_type": "stream",
     "text": [
      "--------------------------------------\n",
      "epoch: 100, nuqls loss : 0.04782\n",
      "--------------------------------------\n",
      "epoch: 215, nuqls loss : 0.02349\n"
     ]
    },
    {
     "name": "stderr",
     "output_type": "stream",
     "text": [
      " 60%|██████    | 6/10 [00:01<00:00,  4.27it/s]"
     ]
    },
    {
     "name": "stdout",
     "output_type": "stream",
     "text": [
      "--------------------------------------\n",
      "epoch: 464, nuqls loss : 0.01427\n",
      "--------------------------------------\n",
      "epoch: 1000, nuqls loss : 0.01036\n"
     ]
    },
    {
     "name": "stderr",
     "output_type": "stream",
     "text": [
      " 80%|████████  | 8/10 [00:05<00:01,  1.06it/s]"
     ]
    },
    {
     "name": "stdout",
     "output_type": "stream",
     "text": [
      "--------------------------------------\n",
      "epoch: 2154, nuqls loss : 0.007589\n"
     ]
    },
    {
     "name": "stderr",
     "output_type": "stream",
     "text": [
      " 90%|█████████ | 9/10 [00:12<00:02,  2.09s/it]"
     ]
    },
    {
     "name": "stdout",
     "output_type": "stream",
     "text": [
      "--------------------------------------\n",
      "epoch: 4641, nuqls loss : 0.005055\n"
     ]
    },
    {
     "name": "stderr",
     "output_type": "stream",
     "text": [
      "100%|██████████| 10/10 [00:26<00:00,  2.62s/it]\n"
     ]
    },
    {
     "name": "stdout",
     "output_type": "stream",
     "text": [
      "--------------------------------------\n",
      "epoch: 10000, nuqls loss : 0.002754\n"
     ]
    },
    {
     "name": "stderr",
     "output_type": "stream",
     "text": [
      " 10%|█         | 1/10 [00:01<00:11,  1.23s/it]"
     ]
    },
    {
     "name": "stdout",
     "output_type": "stream",
     "text": [
      "--------------------------------------\n",
      "S: 10, nuqls loss : 0.005438\n"
     ]
    },
    {
     "name": "stderr",
     "output_type": "stream",
     "text": [
      " 20%|██        | 2/10 [00:02<00:09,  1.22s/it]"
     ]
    },
    {
     "name": "stdout",
     "output_type": "stream",
     "text": [
      "--------------------------------------\n",
      "S: 21, nuqls loss : 0.005558\n"
     ]
    },
    {
     "name": "stderr",
     "output_type": "stream",
     "text": [
      " 30%|███       | 3/10 [00:03<00:08,  1.27s/it]"
     ]
    },
    {
     "name": "stdout",
     "output_type": "stream",
     "text": [
      "--------------------------------------\n",
      "S: 46, nuqls loss : 0.005558\n"
     ]
    },
    {
     "name": "stderr",
     "output_type": "stream",
     "text": [
      " 40%|████      | 4/10 [00:05<00:08,  1.38s/it]"
     ]
    },
    {
     "name": "stdout",
     "output_type": "stream",
     "text": [
      "--------------------------------------\n",
      "S: 100, nuqls loss : 0.005654\n"
     ]
    },
    {
     "name": "stderr",
     "output_type": "stream",
     "text": [
      " 50%|█████     | 5/10 [00:07<00:07,  1.58s/it]"
     ]
    },
    {
     "name": "stdout",
     "output_type": "stream",
     "text": [
      "--------------------------------------\n",
      "S: 215, nuqls loss : 0.005514\n"
     ]
    },
    {
     "name": "stderr",
     "output_type": "stream",
     "text": [
      " 60%|██████    | 6/10 [00:11<00:10,  2.60s/it]"
     ]
    },
    {
     "name": "stdout",
     "output_type": "stream",
     "text": [
      "--------------------------------------\n",
      "S: 464, nuqls loss : 0.005587\n"
     ]
    },
    {
     "name": "stderr",
     "output_type": "stream",
     "text": [
      " 70%|███████   | 7/10 [00:17<00:10,  3.57s/it]"
     ]
    },
    {
     "name": "stdout",
     "output_type": "stream",
     "text": [
      "--------------------------------------\n",
      "S: 1000, nuqls loss : 0.005563\n"
     ]
    },
    {
     "name": "stderr",
     "output_type": "stream",
     "text": [
      " 80%|████████  | 8/10 [00:26<00:10,  5.23s/it]"
     ]
    },
    {
     "name": "stdout",
     "output_type": "stream",
     "text": [
      "--------------------------------------\n",
      "S: 2154, nuqls loss : 0.005553\n"
     ]
    },
    {
     "name": "stderr",
     "output_type": "stream",
     "text": [
      " 90%|█████████ | 9/10 [00:42<00:08,  8.84s/it]"
     ]
    },
    {
     "name": "stdout",
     "output_type": "stream",
     "text": [
      "--------------------------------------\n",
      "S: 4641, nuqls loss : 0.005531\n"
     ]
    },
    {
     "name": "stderr",
     "output_type": "stream",
     "text": [
      "100%|██████████| 10/10 [01:19<00:00,  7.97s/it]"
     ]
    },
    {
     "name": "stdout",
     "output_type": "stream",
     "text": [
      "--------------------------------------\n",
      "S: 10000, nuqls loss : 0.005541\n"
     ]
    },
    {
     "name": "stderr",
     "output_type": "stream",
     "text": [
      "\n"
     ]
    },
    {
     "name": "stdout",
     "output_type": "stream",
     "text": [
      "nn loss : 0.04079\n",
      "Cond(J J^T) = 2e+07\n"
     ]
    },
    {
     "name": "stderr",
     "output_type": "stream",
     "text": [
      "  0%|          | 0/10 [00:00<?, ?it/s]"
     ]
    },
    {
     "name": "stdout",
     "output_type": "stream",
     "text": [
      "--------------------------------------\n",
      "epoch: 10, nuqls loss : 37.05\n",
      "--------------------------------------\n",
      "epoch: 21, nuqls loss : 8.533\n",
      "--------------------------------------\n",
      "epoch: 46, nuqls loss : 0.9382\n"
     ]
    },
    {
     "name": "stderr",
     "output_type": "stream",
     "text": [
      " 30%|███       | 3/10 [00:00<00:00, 25.80it/s]"
     ]
    },
    {
     "name": "stdout",
     "output_type": "stream",
     "text": [
      "--------------------------------------\n",
      "epoch: 100, nuqls loss : 0.06397\n",
      "--------------------------------------\n",
      "epoch: 215, nuqls loss : 0.03996\n"
     ]
    },
    {
     "name": "stderr",
     "output_type": "stream",
     "text": [
      " 60%|██████    | 6/10 [00:01<00:00,  4.44it/s]"
     ]
    },
    {
     "name": "stdout",
     "output_type": "stream",
     "text": [
      "--------------------------------------\n",
      "epoch: 464, nuqls loss : 0.03079\n",
      "--------------------------------------\n",
      "epoch: 1000, nuqls loss : 0.0254\n"
     ]
    },
    {
     "name": "stderr",
     "output_type": "stream",
     "text": [
      " 80%|████████  | 8/10 [00:05<00:01,  1.04it/s]"
     ]
    },
    {
     "name": "stdout",
     "output_type": "stream",
     "text": [
      "--------------------------------------\n",
      "epoch: 2154, nuqls loss : 0.02102\n"
     ]
    },
    {
     "name": "stderr",
     "output_type": "stream",
     "text": [
      " 90%|█████████ | 9/10 [00:12<00:02,  2.18s/it]"
     ]
    },
    {
     "name": "stdout",
     "output_type": "stream",
     "text": [
      "--------------------------------------\n",
      "epoch: 4641, nuqls loss : 0.01696\n"
     ]
    },
    {
     "name": "stderr",
     "output_type": "stream",
     "text": [
      "100%|██████████| 10/10 [00:27<00:00,  2.75s/it]\n"
     ]
    },
    {
     "name": "stdout",
     "output_type": "stream",
     "text": [
      "--------------------------------------\n",
      "epoch: 10000, nuqls loss : 0.01247\n"
     ]
    },
    {
     "name": "stderr",
     "output_type": "stream",
     "text": [
      " 10%|█         | 1/10 [00:01<00:11,  1.28s/it]"
     ]
    },
    {
     "name": "stdout",
     "output_type": "stream",
     "text": [
      "--------------------------------------\n",
      "S: 10, nuqls loss : 0.01761\n"
     ]
    },
    {
     "name": "stderr",
     "output_type": "stream",
     "text": [
      " 20%|██        | 2/10 [00:02<00:10,  1.26s/it]"
     ]
    },
    {
     "name": "stdout",
     "output_type": "stream",
     "text": [
      "--------------------------------------\n",
      "S: 21, nuqls loss : 0.01776\n"
     ]
    },
    {
     "name": "stderr",
     "output_type": "stream",
     "text": [
      " 30%|███       | 3/10 [00:03<00:09,  1.30s/it]"
     ]
    },
    {
     "name": "stdout",
     "output_type": "stream",
     "text": [
      "--------------------------------------\n",
      "S: 46, nuqls loss : 0.01784\n"
     ]
    },
    {
     "name": "stderr",
     "output_type": "stream",
     "text": [
      " 40%|████      | 4/10 [00:05<00:08,  1.37s/it]"
     ]
    },
    {
     "name": "stdout",
     "output_type": "stream",
     "text": [
      "--------------------------------------\n",
      "S: 100, nuqls loss : 0.01768\n"
     ]
    },
    {
     "name": "stderr",
     "output_type": "stream",
     "text": [
      " 50%|█████     | 5/10 [00:07<00:07,  1.59s/it]"
     ]
    },
    {
     "name": "stdout",
     "output_type": "stream",
     "text": [
      "--------------------------------------\n",
      "S: 215, nuqls loss : 0.0178\n"
     ]
    },
    {
     "name": "stderr",
     "output_type": "stream",
     "text": [
      " 60%|██████    | 6/10 [00:12<00:10,  2.72s/it]"
     ]
    },
    {
     "name": "stdout",
     "output_type": "stream",
     "text": [
      "--------------------------------------\n",
      "S: 464, nuqls loss : 0.01779\n"
     ]
    },
    {
     "name": "stderr",
     "output_type": "stream",
     "text": [
      " 70%|███████   | 7/10 [00:18<00:11,  3.96s/it]"
     ]
    },
    {
     "name": "stdout",
     "output_type": "stream",
     "text": [
      "--------------------------------------\n",
      "S: 1000, nuqls loss : 0.01775\n"
     ]
    },
    {
     "name": "stderr",
     "output_type": "stream",
     "text": [
      " 80%|████████  | 8/10 [00:27<00:11,  5.63s/it]"
     ]
    },
    {
     "name": "stdout",
     "output_type": "stream",
     "text": [
      "--------------------------------------\n",
      "S: 2154, nuqls loss : 0.01777\n"
     ]
    },
    {
     "name": "stderr",
     "output_type": "stream",
     "text": [
      " 90%|█████████ | 9/10 [00:45<00:09,  9.36s/it]"
     ]
    },
    {
     "name": "stdout",
     "output_type": "stream",
     "text": [
      "--------------------------------------\n",
      "S: 4641, nuqls loss : 0.01773\n"
     ]
    },
    {
     "name": "stderr",
     "output_type": "stream",
     "text": [
      "100%|██████████| 10/10 [01:24<00:00,  8.40s/it]"
     ]
    },
    {
     "name": "stdout",
     "output_type": "stream",
     "text": [
      "--------------------------------------\n",
      "S: 10000, nuqls loss : 0.01773\n",
      "double-layer, width=20, relu\n"
     ]
    },
    {
     "name": "stderr",
     "output_type": "stream",
     "text": [
      "\n"
     ]
    },
    {
     "name": "stdout",
     "output_type": "stream",
     "text": [
      "nn loss : 5.138e-12\n",
      "Cond(J J^T) = 8e+03\n"
     ]
    },
    {
     "name": "stderr",
     "output_type": "stream",
     "text": [
      "  0%|          | 0/10 [00:00<?, ?it/s]"
     ]
    },
    {
     "name": "stdout",
     "output_type": "stream",
     "text": [
      "--------------------------------------\n",
      "epoch: 10, nuqls loss : 24.82\n"
     ]
    },
    {
     "name": "stderr",
     "output_type": "stream",
     "text": [
      " 20%|██        | 2/10 [00:00<00:00, 14.96it/s]"
     ]
    },
    {
     "name": "stdout",
     "output_type": "stream",
     "text": [
      "--------------------------------------\n",
      "epoch: 21, nuqls loss : 5.421\n",
      "--------------------------------------\n",
      "epoch: 46, nuqls loss : 0.5893\n"
     ]
    },
    {
     "name": "stderr",
     "output_type": "stream",
     "text": [
      " 40%|████      | 4/10 [00:00<00:01,  5.72it/s]"
     ]
    },
    {
     "name": "stdout",
     "output_type": "stream",
     "text": [
      "--------------------------------------\n",
      "epoch: 100, nuqls loss : 0.01656\n"
     ]
    },
    {
     "name": "stderr",
     "output_type": "stream",
     "text": [
      " 50%|█████     | 5/10 [00:01<00:01,  2.94it/s]"
     ]
    },
    {
     "name": "stdout",
     "output_type": "stream",
     "text": [
      "--------------------------------------\n",
      "epoch: 215, nuqls loss : 0.002688\n"
     ]
    },
    {
     "name": "stderr",
     "output_type": "stream",
     "text": [
      " 60%|██████    | 6/10 [00:02<00:02,  1.38it/s]"
     ]
    },
    {
     "name": "stdout",
     "output_type": "stream",
     "text": [
      "--------------------------------------\n",
      "epoch: 464, nuqls loss : 0.0003497\n"
     ]
    },
    {
     "name": "stderr",
     "output_type": "stream",
     "text": [
      " 70%|███████   | 7/10 [00:06<00:04,  1.59s/it]"
     ]
    },
    {
     "name": "stdout",
     "output_type": "stream",
     "text": [
      "--------------------------------------\n",
      "epoch: 1000, nuqls loss : 2.209e-05\n"
     ]
    },
    {
     "name": "stderr",
     "output_type": "stream",
     "text": [
      " 80%|████████  | 8/10 [00:14<00:06,  3.47s/it]"
     ]
    },
    {
     "name": "stdout",
     "output_type": "stream",
     "text": [
      "--------------------------------------\n",
      "epoch: 2154, nuqls loss : 9.614e-08\n"
     ]
    },
    {
     "name": "stderr",
     "output_type": "stream",
     "text": [
      " 90%|█████████ | 9/10 [00:31<00:07,  7.50s/it]"
     ]
    },
    {
     "name": "stdout",
     "output_type": "stream",
     "text": [
      "--------------------------------------\n",
      "epoch: 4641, nuqls loss : 8.432e-13\n"
     ]
    },
    {
     "name": "stderr",
     "output_type": "stream",
     "text": [
      "100%|██████████| 10/10 [01:08<00:00,  6.80s/it]\n"
     ]
    },
    {
     "name": "stdout",
     "output_type": "stream",
     "text": [
      "--------------------------------------\n",
      "epoch: 10000, nuqls loss : 1.003e-23\n"
     ]
    },
    {
     "name": "stderr",
     "output_type": "stream",
     "text": [
      " 10%|█         | 1/10 [00:01<00:13,  1.47s/it]"
     ]
    },
    {
     "name": "stdout",
     "output_type": "stream",
     "text": [
      "--------------------------------------\n",
      "S: 10, nuqls loss : 1.265e-11\n"
     ]
    },
    {
     "name": "stderr",
     "output_type": "stream",
     "text": [
      " 20%|██        | 2/10 [00:03<00:12,  1.54s/it]"
     ]
    },
    {
     "name": "stdout",
     "output_type": "stream",
     "text": [
      "--------------------------------------\n",
      "S: 21, nuqls loss : 1.722e-11\n"
     ]
    },
    {
     "name": "stderr",
     "output_type": "stream",
     "text": [
      " 30%|███       | 3/10 [00:04<00:11,  1.69s/it]"
     ]
    },
    {
     "name": "stdout",
     "output_type": "stream",
     "text": [
      "--------------------------------------\n",
      "S: 46, nuqls loss : 2.107e-11\n"
     ]
    },
    {
     "name": "stderr",
     "output_type": "stream",
     "text": [
      " 40%|████      | 4/10 [00:08<00:14,  2.42s/it]"
     ]
    },
    {
     "name": "stdout",
     "output_type": "stream",
     "text": [
      "--------------------------------------\n",
      "S: 100, nuqls loss : 1.608e-11\n"
     ]
    },
    {
     "name": "stderr",
     "output_type": "stream",
     "text": [
      " 50%|█████     | 5/10 [00:12<00:15,  3.15s/it]"
     ]
    },
    {
     "name": "stdout",
     "output_type": "stream",
     "text": [
      "--------------------------------------\n",
      "S: 215, nuqls loss : 1.999e-11\n"
     ]
    },
    {
     "name": "stderr",
     "output_type": "stream",
     "text": [
      " 60%|██████    | 6/10 [00:20<00:18,  4.66s/it]"
     ]
    },
    {
     "name": "stdout",
     "output_type": "stream",
     "text": [
      "--------------------------------------\n",
      "S: 464, nuqls loss : 1.736e-11\n"
     ]
    },
    {
     "name": "stderr",
     "output_type": "stream",
     "text": [
      " 70%|███████   | 7/10 [00:34<00:23,  7.82s/it]"
     ]
    },
    {
     "name": "stdout",
     "output_type": "stream",
     "text": [
      "--------------------------------------\n",
      "S: 1000, nuqls loss : 1.713e-11\n"
     ]
    },
    {
     "name": "stderr",
     "output_type": "stream",
     "text": [
      " 80%|████████  | 8/10 [01:03<00:29, 14.50s/it]"
     ]
    },
    {
     "name": "stdout",
     "output_type": "stream",
     "text": [
      "--------------------------------------\n",
      "S: 2154, nuqls loss : 1.692e-11\n"
     ]
    },
    {
     "name": "stderr",
     "output_type": "stream",
     "text": [
      " 90%|█████████ | 9/10 [02:16<00:32, 32.65s/it]"
     ]
    },
    {
     "name": "stdout",
     "output_type": "stream",
     "text": [
      "--------------------------------------\n",
      "S: 4641, nuqls loss : 1.681e-11\n"
     ]
    },
    {
     "name": "stderr",
     "output_type": "stream",
     "text": [
      "100%|██████████| 10/10 [06:23<00:00, 38.35s/it]"
     ]
    },
    {
     "name": "stdout",
     "output_type": "stream",
     "text": [
      "--------------------------------------\n",
      "S: 10000, nuqls loss : 1.661e-11\n"
     ]
    },
    {
     "name": "stderr",
     "output_type": "stream",
     "text": [
      "\n"
     ]
    },
    {
     "name": "stdout",
     "output_type": "stream",
     "text": [
      "nn loss : 8.587e-06\n",
      "Cond(J J^T) = 2e+04\n"
     ]
    },
    {
     "name": "stderr",
     "output_type": "stream",
     "text": [
      " 10%|█         | 1/10 [00:00<00:01,  8.42it/s]"
     ]
    },
    {
     "name": "stdout",
     "output_type": "stream",
     "text": [
      "--------------------------------------\n",
      "epoch: 10, nuqls loss : 19.18\n",
      "--------------------------------------\n",
      "epoch: 21, nuqls loss : 4.899\n"
     ]
    },
    {
     "name": "stderr",
     "output_type": "stream",
     "text": [
      " 30%|███       | 3/10 [00:00<00:01,  3.50it/s]"
     ]
    },
    {
     "name": "stdout",
     "output_type": "stream",
     "text": [
      "--------------------------------------\n",
      "epoch: 46, nuqls loss : 0.4939\n"
     ]
    },
    {
     "name": "stderr",
     "output_type": "stream",
     "text": [
      " 40%|████      | 4/10 [00:01<00:03,  1.97it/s]"
     ]
    },
    {
     "name": "stdout",
     "output_type": "stream",
     "text": [
      "--------------------------------------\n",
      "epoch: 100, nuqls loss : 0.02218\n"
     ]
    },
    {
     "name": "stderr",
     "output_type": "stream",
     "text": [
      " 50%|█████     | 5/10 [00:03<00:04,  1.04it/s]"
     ]
    },
    {
     "name": "stdout",
     "output_type": "stream",
     "text": [
      "--------------------------------------\n",
      "epoch: 215, nuqls loss : 0.004107\n"
     ]
    },
    {
     "name": "stderr",
     "output_type": "stream",
     "text": [
      " 60%|██████    | 6/10 [00:07<00:07,  1.92s/it]"
     ]
    },
    {
     "name": "stdout",
     "output_type": "stream",
     "text": [
      "--------------------------------------\n",
      "epoch: 464, nuqls loss : 0.0008631\n"
     ]
    },
    {
     "name": "stderr",
     "output_type": "stream",
     "text": [
      " 70%|███████   | 7/10 [00:15<00:12,  4.05s/it]"
     ]
    },
    {
     "name": "stdout",
     "output_type": "stream",
     "text": [
      "--------------------------------------\n",
      "epoch: 1000, nuqls loss : 0.0002001\n"
     ]
    },
    {
     "name": "stderr",
     "output_type": "stream",
     "text": [
      " 80%|████████  | 8/10 [00:33<00:16,  8.41s/it]"
     ]
    },
    {
     "name": "stdout",
     "output_type": "stream",
     "text": [
      "--------------------------------------\n",
      "epoch: 2154, nuqls loss : 2.361e-05\n"
     ]
    },
    {
     "name": "stderr",
     "output_type": "stream",
     "text": [
      " 90%|█████████ | 9/10 [01:11<00:17, 17.75s/it]"
     ]
    },
    {
     "name": "stdout",
     "output_type": "stream",
     "text": [
      "--------------------------------------\n",
      "epoch: 4641, nuqls loss : 3.415e-07\n"
     ]
    },
    {
     "name": "stderr",
     "output_type": "stream",
     "text": [
      "100%|██████████| 10/10 [02:33<00:00, 15.36s/it]\n"
     ]
    },
    {
     "name": "stdout",
     "output_type": "stream",
     "text": [
      "--------------------------------------\n",
      "epoch: 10000, nuqls loss : 4.136e-11\n"
     ]
    },
    {
     "name": "stderr",
     "output_type": "stream",
     "text": [
      " 10%|█         | 1/10 [00:03<00:34,  3.78s/it]"
     ]
    },
    {
     "name": "stdout",
     "output_type": "stream",
     "text": [
      "--------------------------------------\n",
      "S: 10, nuqls loss : 1.163e-06\n"
     ]
    },
    {
     "name": "stderr",
     "output_type": "stream",
     "text": [
      " 20%|██        | 2/10 [00:07<00:29,  3.74s/it]"
     ]
    },
    {
     "name": "stdout",
     "output_type": "stream",
     "text": [
      "--------------------------------------\n",
      "S: 21, nuqls loss : 5.737e-07\n"
     ]
    },
    {
     "name": "stderr",
     "output_type": "stream",
     "text": [
      " 30%|███       | 3/10 [00:12<00:28,  4.14s/it]"
     ]
    },
    {
     "name": "stdout",
     "output_type": "stream",
     "text": [
      "--------------------------------------\n",
      "S: 46, nuqls loss : 8.6e-07\n"
     ]
    },
    {
     "name": "stderr",
     "output_type": "stream",
     "text": [
      " 40%|████      | 4/10 [00:19<00:32,  5.46s/it]"
     ]
    },
    {
     "name": "stdout",
     "output_type": "stream",
     "text": [
      "--------------------------------------\n",
      "S: 100, nuqls loss : 1.052e-06\n"
     ]
    },
    {
     "name": "stderr",
     "output_type": "stream",
     "text": [
      " 50%|█████     | 5/10 [00:30<00:37,  7.41s/it]"
     ]
    },
    {
     "name": "stdout",
     "output_type": "stream",
     "text": [
      "--------------------------------------\n",
      "S: 215, nuqls loss : 1.057e-06\n"
     ]
    },
    {
     "name": "stderr",
     "output_type": "stream",
     "text": [
      " 60%|██████    | 6/10 [00:48<00:44, 11.03s/it]"
     ]
    },
    {
     "name": "stdout",
     "output_type": "stream",
     "text": [
      "--------------------------------------\n",
      "S: 464, nuqls loss : 9.61e-07\n"
     ]
    },
    {
     "name": "stderr",
     "output_type": "stream",
     "text": [
      " 70%|███████   | 7/10 [01:21<00:54, 18.15s/it]"
     ]
    },
    {
     "name": "stdout",
     "output_type": "stream",
     "text": [
      "--------------------------------------\n",
      "S: 1000, nuqls loss : 1.016e-06\n"
     ]
    },
    {
     "name": "stderr",
     "output_type": "stream",
     "text": [
      " 80%|████████  | 8/10 [02:31<01:09, 34.87s/it]"
     ]
    },
    {
     "name": "stdout",
     "output_type": "stream",
     "text": [
      "--------------------------------------\n",
      "S: 2154, nuqls loss : 1.042e-06\n"
     ]
    },
    {
     "name": "stderr",
     "output_type": "stream",
     "text": [
      " 90%|█████████ | 9/10 [05:14<01:14, 74.85s/it]"
     ]
    },
    {
     "name": "stdout",
     "output_type": "stream",
     "text": [
      "--------------------------------------\n",
      "S: 4641, nuqls loss : 1.012e-06\n"
     ]
    },
    {
     "name": "stderr",
     "output_type": "stream",
     "text": [
      "100%|██████████| 10/10 [10:53<00:00, 65.32s/it] "
     ]
    },
    {
     "name": "stdout",
     "output_type": "stream",
     "text": [
      "--------------------------------------\n",
      "S: 10000, nuqls loss : 9.918e-07\n",
      "single-layer, width=100, tanh\n"
     ]
    },
    {
     "name": "stderr",
     "output_type": "stream",
     "text": [
      "\n"
     ]
    },
    {
     "name": "stdout",
     "output_type": "stream",
     "text": [
      "nn loss : 5.165e-18\n",
      "Cond(J J^T) = 3e+03\n"
     ]
    },
    {
     "name": "stderr",
     "output_type": "stream",
     "text": [
      " 10%|█         | 1/10 [00:00<00:01,  7.95it/s]"
     ]
    },
    {
     "name": "stdout",
     "output_type": "stream",
     "text": [
      "--------------------------------------\n",
      "epoch: 10, nuqls loss : 4.693\n"
     ]
    },
    {
     "name": "stderr",
     "output_type": "stream",
     "text": [
      " 20%|██        | 2/10 [00:00<00:01,  5.27it/s]"
     ]
    },
    {
     "name": "stdout",
     "output_type": "stream",
     "text": [
      "--------------------------------------\n",
      "epoch: 21, nuqls loss : 1.669\n"
     ]
    },
    {
     "name": "stderr",
     "output_type": "stream",
     "text": [
      " 30%|███       | 3/10 [00:00<00:02,  3.14it/s]"
     ]
    },
    {
     "name": "stdout",
     "output_type": "stream",
     "text": [
      "--------------------------------------\n",
      "epoch: 46, nuqls loss : 0.2349\n"
     ]
    },
    {
     "name": "stderr",
     "output_type": "stream",
     "text": [
      " 40%|████      | 4/10 [00:01<00:03,  1.76it/s]"
     ]
    },
    {
     "name": "stdout",
     "output_type": "stream",
     "text": [
      "--------------------------------------\n",
      "epoch: 100, nuqls loss : 0.03862\n"
     ]
    },
    {
     "name": "stderr",
     "output_type": "stream",
     "text": [
      " 50%|█████     | 5/10 [00:03<00:05,  1.09s/it]"
     ]
    },
    {
     "name": "stdout",
     "output_type": "stream",
     "text": [
      "--------------------------------------\n",
      "epoch: 215, nuqls loss : 0.01034\n"
     ]
    },
    {
     "name": "stderr",
     "output_type": "stream",
     "text": [
      " 60%|██████    | 6/10 [00:08<00:08,  2.21s/it]"
     ]
    },
    {
     "name": "stdout",
     "output_type": "stream",
     "text": [
      "--------------------------------------\n",
      "epoch: 464, nuqls loss : 0.002059\n"
     ]
    },
    {
     "name": "stderr",
     "output_type": "stream",
     "text": [
      " 70%|███████   | 7/10 [00:17<00:13,  4.47s/it]"
     ]
    },
    {
     "name": "stdout",
     "output_type": "stream",
     "text": [
      "--------------------------------------\n",
      "epoch: 1000, nuqls loss : 0.0001698\n"
     ]
    },
    {
     "name": "stderr",
     "output_type": "stream",
     "text": [
      " 80%|████████  | 8/10 [00:37<00:18,  9.35s/it]"
     ]
    },
    {
     "name": "stdout",
     "output_type": "stream",
     "text": [
      "--------------------------------------\n",
      "epoch: 2154, nuqls loss : 2.04e-06\n"
     ]
    },
    {
     "name": "stderr",
     "output_type": "stream",
     "text": [
      " 90%|█████████ | 9/10 [01:19<00:19, 19.62s/it]"
     ]
    },
    {
     "name": "stdout",
     "output_type": "stream",
     "text": [
      "--------------------------------------\n",
      "epoch: 4641, nuqls loss : 3.101e-10\n"
     ]
    },
    {
     "name": "stderr",
     "output_type": "stream",
     "text": [
      "100%|██████████| 10/10 [02:52<00:00, 17.26s/it]\n"
     ]
    },
    {
     "name": "stdout",
     "output_type": "stream",
     "text": [
      "--------------------------------------\n",
      "epoch: 10000, nuqls loss : 4.535e-18\n"
     ]
    },
    {
     "name": "stderr",
     "output_type": "stream",
     "text": [
      " 10%|█         | 1/10 [00:03<00:32,  3.66s/it]"
     ]
    },
    {
     "name": "stdout",
     "output_type": "stream",
     "text": [
      "--------------------------------------\n",
      "S: 10, nuqls loss : 6.1e-09\n"
     ]
    },
    {
     "name": "stderr",
     "output_type": "stream",
     "text": [
      " 20%|██        | 2/10 [00:07<00:31,  3.90s/it]"
     ]
    },
    {
     "name": "stdout",
     "output_type": "stream",
     "text": [
      "--------------------------------------\n",
      "S: 21, nuqls loss : 4.229e-09\n"
     ]
    },
    {
     "name": "stderr",
     "output_type": "stream",
     "text": [
      " 30%|███       | 3/10 [00:12<00:31,  4.45s/it]"
     ]
    },
    {
     "name": "stdout",
     "output_type": "stream",
     "text": [
      "--------------------------------------\n",
      "S: 46, nuqls loss : 2.766e-09\n"
     ]
    },
    {
     "name": "stderr",
     "output_type": "stream",
     "text": [
      " 40%|████      | 4/10 [00:20<00:35,  5.87s/it]"
     ]
    },
    {
     "name": "stdout",
     "output_type": "stream",
     "text": [
      "--------------------------------------\n",
      "S: 100, nuqls loss : 3.069e-09\n"
     ]
    },
    {
     "name": "stderr",
     "output_type": "stream",
     "text": [
      " 50%|█████     | 5/10 [00:32<00:39,  7.96s/it]"
     ]
    },
    {
     "name": "stdout",
     "output_type": "stream",
     "text": [
      "--------------------------------------\n",
      "S: 215, nuqls loss : 2.833e-09\n"
     ]
    },
    {
     "name": "stderr",
     "output_type": "stream",
     "text": [
      " 60%|██████    | 6/10 [00:52<00:48, 12.18s/it]"
     ]
    },
    {
     "name": "stdout",
     "output_type": "stream",
     "text": [
      "--------------------------------------\n",
      "S: 464, nuqls loss : 2.77e-09\n"
     ]
    },
    {
     "name": "stderr",
     "output_type": "stream",
     "text": [
      " 70%|███████   | 7/10 [01:29<01:00, 20.18s/it]"
     ]
    },
    {
     "name": "stdout",
     "output_type": "stream",
     "text": [
      "--------------------------------------\n",
      "S: 1000, nuqls loss : 2.786e-09\n"
     ]
    },
    {
     "name": "stderr",
     "output_type": "stream",
     "text": [
      " 80%|████████  | 8/10 [02:52<01:20, 40.08s/it]"
     ]
    },
    {
     "name": "stdout",
     "output_type": "stream",
     "text": [
      "--------------------------------------\n",
      "S: 2154, nuqls loss : 2.875e-09\n"
     ]
    },
    {
     "name": "stderr",
     "output_type": "stream",
     "text": [
      " 90%|█████████ | 9/10 [05:52<01:23, 83.75s/it]"
     ]
    },
    {
     "name": "stdout",
     "output_type": "stream",
     "text": [
      "--------------------------------------\n",
      "S: 4641, nuqls loss : 2.964e-09\n"
     ]
    },
    {
     "name": "stderr",
     "output_type": "stream",
     "text": [
      "100%|██████████| 10/10 [10:31<00:00, 63.17s/it] "
     ]
    },
    {
     "name": "stdout",
     "output_type": "stream",
     "text": [
      "--------------------------------------\n",
      "S: 10000, nuqls loss : 2.913e-09\n"
     ]
    },
    {
     "name": "stderr",
     "output_type": "stream",
     "text": [
      "\n"
     ]
    },
    {
     "name": "stdout",
     "output_type": "stream",
     "text": [
      "nn loss : 1.733e-18\n",
      "Cond(J J^T) = 4e+03\n"
     ]
    },
    {
     "name": "stderr",
     "output_type": "stream",
     "text": [
      " 10%|█         | 1/10 [00:00<00:01,  7.30it/s]"
     ]
    },
    {
     "name": "stdout",
     "output_type": "stream",
     "text": [
      "--------------------------------------\n",
      "epoch: 10, nuqls loss : 4.748\n"
     ]
    },
    {
     "name": "stderr",
     "output_type": "stream",
     "text": [
      " 20%|██        | 2/10 [00:00<00:01,  5.03it/s]"
     ]
    },
    {
     "name": "stdout",
     "output_type": "stream",
     "text": [
      "--------------------------------------\n",
      "epoch: 21, nuqls loss : 2.074\n"
     ]
    },
    {
     "name": "stderr",
     "output_type": "stream",
     "text": [
      " 30%|███       | 3/10 [00:00<00:02,  3.05it/s]"
     ]
    },
    {
     "name": "stdout",
     "output_type": "stream",
     "text": [
      "--------------------------------------\n",
      "epoch: 46, nuqls loss : 0.2451\n"
     ]
    },
    {
     "name": "stderr",
     "output_type": "stream",
     "text": [
      " 40%|████      | 4/10 [00:01<00:03,  1.69it/s]"
     ]
    },
    {
     "name": "stdout",
     "output_type": "stream",
     "text": [
      "--------------------------------------\n",
      "epoch: 100, nuqls loss : 0.04029\n"
     ]
    },
    {
     "name": "stderr",
     "output_type": "stream",
     "text": [
      " 50%|█████     | 5/10 [00:03<00:05,  1.10s/it]"
     ]
    },
    {
     "name": "stdout",
     "output_type": "stream",
     "text": [
      "--------------------------------------\n",
      "epoch: 215, nuqls loss : 0.009877\n"
     ]
    },
    {
     "name": "stderr",
     "output_type": "stream",
     "text": [
      " 60%|██████    | 6/10 [00:08<00:08,  2.22s/it]"
     ]
    },
    {
     "name": "stdout",
     "output_type": "stream",
     "text": [
      "--------------------------------------\n",
      "epoch: 464, nuqls loss : 0.00178\n"
     ]
    },
    {
     "name": "stderr",
     "output_type": "stream",
     "text": [
      " 70%|███████   | 7/10 [00:17<00:13,  4.51s/it]"
     ]
    },
    {
     "name": "stdout",
     "output_type": "stream",
     "text": [
      "--------------------------------------\n",
      "epoch: 1000, nuqls loss : 0.0001788\n"
     ]
    },
    {
     "name": "stderr",
     "output_type": "stream",
     "text": [
      " 80%|████████  | 8/10 [00:37<00:19,  9.59s/it]"
     ]
    },
    {
     "name": "stdout",
     "output_type": "stream",
     "text": [
      "--------------------------------------\n",
      "epoch: 2154, nuqls loss : 4.441e-06\n"
     ]
    },
    {
     "name": "stderr",
     "output_type": "stream",
     "text": [
      " 90%|█████████ | 9/10 [01:20<00:19, 19.99s/it]"
     ]
    },
    {
     "name": "stdout",
     "output_type": "stream",
     "text": [
      "--------------------------------------\n",
      "epoch: 4641, nuqls loss : 3.663e-09\n"
     ]
    },
    {
     "name": "stderr",
     "output_type": "stream",
     "text": [
      "100%|██████████| 10/10 [02:53<00:00, 17.34s/it]\n"
     ]
    },
    {
     "name": "stdout",
     "output_type": "stream",
     "text": [
      "--------------------------------------\n",
      "epoch: 10000, nuqls loss : 1.314e-15\n"
     ]
    },
    {
     "name": "stderr",
     "output_type": "stream",
     "text": [
      " 10%|█         | 1/10 [00:03<00:32,  3.62s/it]"
     ]
    },
    {
     "name": "stdout",
     "output_type": "stream",
     "text": [
      "--------------------------------------\n",
      "S: 10, nuqls loss : 3.459e-08\n"
     ]
    },
    {
     "name": "stderr",
     "output_type": "stream",
     "text": [
      " 20%|██        | 2/10 [00:07<00:30,  3.86s/it]"
     ]
    },
    {
     "name": "stdout",
     "output_type": "stream",
     "text": [
      "--------------------------------------\n",
      "S: 21, nuqls loss : 2.309e-08\n"
     ]
    },
    {
     "name": "stderr",
     "output_type": "stream",
     "text": [
      " 30%|███       | 3/10 [00:12<00:31,  4.43s/it]"
     ]
    },
    {
     "name": "stdout",
     "output_type": "stream",
     "text": [
      "--------------------------------------\n",
      "S: 46, nuqls loss : 1.932e-08\n"
     ]
    },
    {
     "name": "stderr",
     "output_type": "stream",
     "text": [
      " 40%|████      | 4/10 [00:20<00:35,  5.87s/it]"
     ]
    },
    {
     "name": "stdout",
     "output_type": "stream",
     "text": [
      "--------------------------------------\n",
      "S: 100, nuqls loss : 2.158e-08\n"
     ]
    },
    {
     "name": "stderr",
     "output_type": "stream",
     "text": [
      " 50%|█████     | 5/10 [00:32<00:40,  8.09s/it]"
     ]
    },
    {
     "name": "stdout",
     "output_type": "stream",
     "text": [
      "--------------------------------------\n",
      "S: 215, nuqls loss : 2.513e-08\n"
     ]
    },
    {
     "name": "stderr",
     "output_type": "stream",
     "text": [
      " 60%|██████    | 6/10 [00:53<00:48, 12.25s/it]"
     ]
    },
    {
     "name": "stdout",
     "output_type": "stream",
     "text": [
      "--------------------------------------\n",
      "S: 464, nuqls loss : 2.324e-08\n"
     ]
    },
    {
     "name": "stderr",
     "output_type": "stream",
     "text": [
      " 70%|███████   | 7/10 [01:30<01:01, 20.37s/it]"
     ]
    },
    {
     "name": "stdout",
     "output_type": "stream",
     "text": [
      "--------------------------------------\n",
      "S: 1000, nuqls loss : 2.184e-08\n"
     ]
    },
    {
     "name": "stderr",
     "output_type": "stream",
     "text": [
      " 80%|████████  | 8/10 [02:53<01:21, 40.52s/it]"
     ]
    },
    {
     "name": "stdout",
     "output_type": "stream",
     "text": [
      "--------------------------------------\n",
      "S: 2154, nuqls loss : 2.227e-08\n"
     ]
    },
    {
     "name": "stderr",
     "output_type": "stream",
     "text": [
      " 90%|█████████ | 9/10 [05:39<01:19, 79.47s/it]"
     ]
    },
    {
     "name": "stdout",
     "output_type": "stream",
     "text": [
      "--------------------------------------\n",
      "S: 4641, nuqls loss : 2.204e-08\n"
     ]
    },
    {
     "name": "stderr",
     "output_type": "stream",
     "text": [
      "100%|██████████| 10/10 [12:09<00:00, 72.94s/it] "
     ]
    },
    {
     "name": "stdout",
     "output_type": "stream",
     "text": [
      "--------------------------------------\n",
      "S: 10000, nuqls loss : 2.196e-08\n"
     ]
    },
    {
     "name": "stderr",
     "output_type": "stream",
     "text": [
      "\n"
     ]
    }
   ],
   "source": [
    "samples = 2\n",
    "n = 100\n",
    "d = 5\n",
    "results_dict = {}\n",
    "\n",
    "# single-layer, width=20, tanh\n",
    "print(f'single-layer, width=20, tanh')\n",
    "layer_widths = [d,20]\n",
    "\n",
    "diff_e_av = []\n",
    "losses_e_av = []\n",
    "diff_s_av = []\n",
    "conds = []\n",
    "\n",
    "for i in range(samples):\n",
    "    diff_e,losses_e,epochs,diff_s,_,s_range,cond_i = convergence(n,d,layer_widths=layer_widths,nonlin='tanh',lr=0.1,verbose=True)\n",
    "    diff_e_av.append(diff_e)\n",
    "    losses_e_av.append(losses_e)\n",
    "    diff_s_av.append(diff_s)\n",
    "    conds.append(cond_i)\n",
    "\n",
    "epoch_sev_avg = torch.tensor(diff_e_av).mean(0); epoch_sev_var = torch.tensor(diff_e_av).var(0)\n",
    "epoch_loss_avg = torch.tensor(losses_e_av).mean(0); epoch_loss_var = torch.tensor(losses_e_av).var(0)\n",
    "s_sev_avg = torch.tensor(diff_s_av).mean(0); s_sev_var = torch.tensor(diff_s_av).var(0)\n",
    "cond_avg = torch.tensor(conds).mean(0)\n",
    "results_dict['tanh_single_20'] = {'epoch_sev_avg': epoch_sev_avg,\n",
    "                                  'epoch_sev_var': epoch_sev_var,\n",
    "                                  'epoch_loss_avg': epoch_loss_avg,\n",
    "                                  'epoch_loss_var': epoch_loss_var,\n",
    "                                  's_sev_avg': s_sev_avg,\n",
    "                                  's_sev_var': s_sev_var,\n",
    "                                  'cond_avg': cond_avg,\n",
    "                                  'epoch_range': epochs,\n",
    "                                  's_range': s_range}\n",
    "torch.save(results_dict,'convergence_result_dict.pt')\n",
    "\n",
    "# single-layer, width=20, relu\n",
    "print(f'single-layer, width=20, relu')\n",
    "layer_widths = [d,20]\n",
    "\n",
    "diff_e_av = []\n",
    "losses_e_av = []\n",
    "diff_s_av = []\n",
    "conds = []\n",
    "\n",
    "for i in range(samples):\n",
    "    diff_e,losses_e,epochs,diff_s,_,s_range,cond_i = convergence(n,d,layer_widths=layer_widths,nonlin='relu',lr=0.1,verbose=True)\n",
    "    diff_e_av.append(diff_e)\n",
    "    losses_e_av.append(losses_e)\n",
    "    diff_s_av.append(diff_s)\n",
    "    conds.append(cond_i)\n",
    "\n",
    "epoch_sev_avg = torch.tensor(diff_e_av).mean(0); epoch_sev_var = torch.tensor(diff_e_av).var(0)\n",
    "epoch_loss_avg = torch.tensor(losses_e_av).mean(0); epoch_loss_var = torch.tensor(losses_e_av).var(0)\n",
    "s_sev_avg = torch.tensor(diff_s_av).mean(0); s_sev_var = torch.tensor(diff_s_av).var(0)\n",
    "cond_avg = torch.tensor(conds).mean(0)\n",
    "results_dict['relu_single_20'] = {'epoch_sev_avg': epoch_sev_avg,\n",
    "                                  'epoch_sev_var': epoch_sev_var,\n",
    "                                  'epoch_loss_avg': epoch_loss_avg,\n",
    "                                  'epoch_loss_var': epoch_loss_var,\n",
    "                                  's_sev_avg': s_sev_avg,\n",
    "                                  's_sev_var': s_sev_var,\n",
    "                                  'cond_avg': cond_avg,\n",
    "                                  'epoch_range': epochs,\n",
    "                                  's_range': s_range}\n",
    "torch.save(results_dict,'convergence_result_dict.pt')\n",
    "\n",
    "# double-layer, width=20, relu\n",
    "print(f'double-layer, width=20, relu')\n",
    "layer_widths = [d,20,20]\n",
    "\n",
    "diff_e_av = []\n",
    "losses_e_av = []\n",
    "diff_s_av = []\n",
    "conds = []\n",
    "\n",
    "for i in range(samples):\n",
    "    diff_e,losses_e,epochs,diff_s,_,s_range,cond_i = convergence(n,d,layer_widths=layer_widths,nonlin='relu',lr=0.1,verbose=True)\n",
    "    diff_e_av.append(diff_e)\n",
    "    losses_e_av.append(losses_e)\n",
    "    diff_s_av.append(diff_s)\n",
    "    conds.append(cond_i)\n",
    "\n",
    "epoch_sev_avg = torch.tensor(diff_e_av).mean(0); epoch_sev_var = torch.tensor(diff_e_av).var(0)\n",
    "epoch_loss_avg = torch.tensor(losses_e_av).mean(0); epoch_loss_var = torch.tensor(losses_e_av).var(0)\n",
    "s_sev_avg = torch.tensor(diff_s_av).mean(0); s_sev_var = torch.tensor(diff_s_av).var(0)\n",
    "cond_avg = torch.tensor(conds).mean(0)\n",
    "results_dict['relu_double_20'] = {'epoch_sev_avg': epoch_sev_avg,\n",
    "                                  'epoch_sev_var': epoch_sev_var,\n",
    "                                  'epoch_loss_avg': epoch_loss_avg,\n",
    "                                  'epoch_loss_var': epoch_loss_var,\n",
    "                                  's_sev_avg': s_sev_avg,\n",
    "                                  's_sev_var': s_sev_var,\n",
    "                                  'cond_avg': cond_avg,\n",
    "                                  'epoch_range': epochs,\n",
    "                                  's_range': s_range}\n",
    "torch.save(results_dict,'convergence_result_dict.pt')\n",
    "\n",
    "# single-layer, width=100, tanh\n",
    "print(f'single-layer, width=100, tanh')\n",
    "layer_widths = [d,100]\n",
    "\n",
    "diff_e_av = []\n",
    "losses_e_av = []\n",
    "diff_s_av = []\n",
    "conds = []\n",
    "\n",
    "for i in range(samples):\n",
    "    diff_e,losses_e,epochs,diff_s,_,s_range,cond_i = convergence(n,d,layer_widths=layer_widths,nonlin='tanh',lr=0.1,verbose=True)\n",
    "    diff_e_av.append(diff_e)\n",
    "    losses_e_av.append(losses_e)\n",
    "    diff_s_av.append(diff_s)\n",
    "    conds.append(cond_i)\n",
    "\n",
    "epoch_sev_avg = torch.tensor(diff_e_av).mean(0); epoch_sev_var = torch.tensor(diff_e_av).var(0)\n",
    "epoch_loss_avg = torch.tensor(losses_e_av).mean(0); epoch_loss_var = torch.tensor(losses_e_av).var(0)\n",
    "s_sev_avg = torch.tensor(diff_s_av).mean(0); s_sev_var = torch.tensor(diff_s_av).var(0)\n",
    "cond_avg = torch.tensor(conds).mean(0)\n",
    "results_dict['tanh_single_100'] = {'epoch_sev_avg': epoch_sev_avg,\n",
    "                                  'epoch_sev_var': epoch_sev_var,\n",
    "                                  'epoch_loss_avg': epoch_loss_avg,\n",
    "                                  'epoch_loss_var': epoch_loss_var,\n",
    "                                  's_sev_avg': s_sev_avg,\n",
    "                                  's_sev_var': s_sev_var,\n",
    "                                  'cond_avg': cond_avg,\n",
    "                                  'epoch_range': epochs,\n",
    "                                  's_range': s_range}\n",
    "torch.save(results_dict,'convergence_result_dict.pt')\n",
    "\n"
   ]
  },
  {
   "cell_type": "code",
   "execution_count": 11,
   "metadata": {},
   "outputs": [
    {
     "name": "stderr",
     "output_type": "stream",
     "text": [
      "C:\\Users\\s4531973\\AppData\\Local\\Temp\\ipykernel_1468\\2772647244.py:6: FutureWarning: You are using `torch.load` with `weights_only=False` (the current default value), which uses the default pickle module implicitly. It is possible to construct malicious pickle data which will execute arbitrary code during unpickling (See https://github.com/pytorch/pytorch/blob/main/SECURITY.md#untrusted-models for more details). In a future release, the default value for `weights_only` will be flipped to `True`. This limits the functions that could be executed during unpickling. Arbitrary objects will no longer be allowed to be loaded via this mode unless they are explicitly allowlisted by the user via `torch.serialization.add_safe_globals`. We recommend you start setting `weights_only=True` for any use case where you don't have full control of the loaded file. Please open an issue on GitHub for any issues related to this experimental feature.\n",
      "  results_dict = torch.load('convergence_result_dict.pt')\n"
     ]
    },
    {
     "data": {
      "image/png": "[encoded data removed]",
      "text/plain": [
       "<Figure size 600x600 with 3 Axes>"
      ]
     },
     "metadata": {},
     "output_type": "display_data"
    }
   ],
   "source": [
    "import matplotlib.pyplot as plt\n",
    "import numpy as np\n",
    "from matplotlib.pyplot import cm\n",
    "import torch\n",
    "\n",
    "results_dict = torch.load('convergence_result_dict.pt')\n",
    "\n",
    "label_dict = {'tanh_single_20': 'Single-layer, width 20, Tanh',\n",
    "              'relu_single_20': 'Single-layer, width 20, ReLU',\n",
    "              'relu_double_20': 'Double-layer, width 20, ReLU',\n",
    "              'tanh_single_100': 'Single-layer, width 100, Tanh'}\n",
    "\n",
    "w, h, fs = 6, 6, 16\n",
    "fig, (ax1,ax2) = plt.subplots(2,1,figsize=(w,h),frameon=True,)\n",
    "color = cm.rainbow(np.linspace(0, 1, 4))\n",
    "\n",
    "ax1t = ax1.twinx()\n",
    "ax1.set_ylabel('SEV', fontsize=fs)\n",
    "ax1.set_xlabel('Epochs', fontsize=fs)\n",
    "ax1.tick_params(labelsize=fs)\n",
    "ax1.xaxis.tick_top()\n",
    "ax1.xaxis.set_label_position('top')\n",
    "ax1t.spines['right'].set_visible(True)\n",
    "ax1t.spines['top'].set_visible(True)\n",
    "ax1t.set_ylabel('Loss', fontsize=fs)\n",
    "ax1t.set_xscale('log')\n",
    "ax1t.tick_params(labelsize=fs)\n",
    "ax2.set_ylabel('SEV', fontsize=fs)\n",
    "ax2.set_xlabel('$s$', fontsize=fs)\n",
    "ax2.set_xscale('log')\n",
    "ax2.tick_params(labelsize=fs)\n",
    "\n",
    "for i,key in enumerate(results_dict.keys()):\n",
    "    exponent = int(floor(log10(abs(results_dict[key]['cond_avg']))))\n",
    "    ax1.plot(results_dict[key]['epoch_range'],\n",
    "             results_dict[key]['epoch_sev_avg'],\n",
    "             color=color[i],marker='o',linestyle='dashed',\n",
    "             label=label_dict[key] + f\" ($10^{exponent}$)\"\n",
    "    )\n",
    "    ax1.fill_between(results_dict[key]['epoch_range'],\n",
    "             results_dict[key]['epoch_sev_avg'] - 1.96 * np.sqrt(results_dict[key]['epoch_sev_var']),\n",
    "             results_dict[key]['epoch_sev_avg'] + 1.96 * np.sqrt(results_dict[key]['epoch_sev_var']),\n",
    "             color=color[i],alpha=0.1)\n",
    "    \n",
    "    ax1t.plot(results_dict[key]['epoch_range'],\n",
    "              results_dict[key]['epoch_loss_avg'],\n",
    "              color=color[i],marker='^',linestyle='none')\n",
    "    ax1t.fill_between(results_dict[key]['epoch_range'],\n",
    "             results_dict[key]['epoch_loss_avg'] - 1.96 * np.sqrt(results_dict[key]['epoch_loss_var']),\n",
    "             results_dict[key]['epoch_loss_avg'] + 1.96 * np.sqrt(results_dict[key]['epoch_loss_var']),\n",
    "             color=color[i],alpha=0.1)\n",
    "    \n",
    "    ax2.plot(results_dict[key]['s_range'],\n",
    "             results_dict[key]['s_sev_avg'],color=color[i],marker='o',linestyle='dashed',)\n",
    "    ax2.fill_between(results_dict[key]['epoch_range'],\n",
    "             results_dict[key]['s_sev_avg'] - 1.96 * np.sqrt(results_dict[key]['s_sev_var']),\n",
    "             results_dict[key]['s_sev_avg'] + 1.96 * np.sqrt(results_dict[key]['s_sev_var']),\n",
    "             color=color[i],alpha=0.1)\n",
    "\n",
    "ax1.legend(fontsize=int(fs * 0.75), frameon=False)\n",
    "fig.tight_layout()\n",
    "plt.subplots_adjust(wspace=0, hspace=0)\n",
    "plt.savefig(fname='epochs_ntk_convergence.pdf', format='pdf')"
   ]
  }
 ],
 "metadata": {
  "kernelspec": {
   "display_name": ".venv",
   "language": "python",
   "name": "python3"
  },
  "language_info": {
   "codemirror_mode": {
    "name": "ipython",
    "version": 3
   },
   "file_extension": ".py",
   "mimetype": "text/x-python",
   "name": "python",
   "nbconvert_exporter": "python",
   "pygments_lexer": "ipython3",
   "version": "3.11.9"
  }
 },
 "nbformat": 4,
 "nbformat_minor": 2
}
