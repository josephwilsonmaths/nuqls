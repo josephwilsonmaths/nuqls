{
 "cells": [
  {
   "cell_type": "markdown",
   "metadata": {},
   "source": [
    "# Multiple Plot"
   ]
  },
  {
   "cell_type": "code",
   "execution_count": null,
   "metadata": {},
   "outputs": [],
   "source": [
    "import torch\n",
    "from functorch import make_functional\n",
    "from torch.func import functional_call, vmap, jacrev, jvp\n",
    "    ## NUQLS\n",
    "import posteriors.nuqls as nuqls\n",
    "from importlib import reload\n",
    "reload(nuqls)\n",
    "from torch.utils.data import DataLoader, Dataset\n",
    "import tqdm\n",
    "\n",
    "class toy_dataset(Dataset):\n",
    "    def __init__(self,x,y):\n",
    "        self.x = x\n",
    "        self.y = y\n",
    "\n",
    "    def __len__(self):\n",
    "        return self.x.shape[0]\n",
    "\n",
    "    def __getitem__(self, i):\n",
    "        return self.x[i], self.y[i]\n",
    "    \n",
    "class variable_mlp(torch.nn.Module):\n",
    "    def __init__(self,layer_width,nonlin):\n",
    "        super().__init__()\n",
    "        self.layer_width = layer_width\n",
    "        self.linear_layers = torch.nn.ModuleList([torch.nn.Linear(layer_width[i],layer_width[i+1], bias=False) for i in range(len(self.layer_width)-1)])\n",
    "        self.lin_out = torch.nn.Linear(self.layer_width[-1],1, bias=False)\n",
    "        if nonlin=='tanh':\n",
    "            self.act = torch.nn.Tanh()\n",
    "        elif nonlin=='relu':\n",
    "            self.act = torch.nn.ReLU()\n",
    "\n",
    "        for lin in self.linear_layers:\n",
    "            torch.nn.init.normal_(lin.weight, 0, 1)\n",
    "        torch.nn.init.normal_(self.lin_out.weight, 0, 1)\n",
    "\n",
    "    # Return full output of nn\n",
    "    def forward(self,x):\n",
    "        for i, lin in enumerate(self.linear_layers):\n",
    "            x = self.act(lin(x)) / (self.layer_width[i]**0.5)\n",
    "        return self.lin_out(x)\n",
    "\n",
    "def convergence(n,d,layer_widths,nonlin,lr=1,verbose=False):\n",
    "    X = torch.randn((n,d))\n",
    "    Y = torch.randn((n,1))\n",
    "\n",
    "    X_test = torch.randn((n,d))\n",
    "\n",
    "    net = variable_mlp(layer_width=layer_widths,nonlin=nonlin)\n",
    "\n",
    "    optimizer = torch.optim.SGD(net.parameters(),lr=0.1,momentum=0.9)\n",
    "    loss_fn = torch.nn.MSELoss()\n",
    "    for i in range(5000):\n",
    "        optimizer.zero_grad()\n",
    "        pred = net(X)\n",
    "        loss = loss_fn(pred,Y)\n",
    "        loss.backward()\n",
    "        optimizer.step()\n",
    "\n",
    "    if verbose:\n",
    "        print(f'nn loss : {loss.item():.4}')\n",
    "\n",
    "    # Compute NTKGP\n",
    "    fnet, params = make_functional(net)\n",
    "\n",
    "    ## Compute jacobian of net, evaluated on training set\n",
    "    def fnet_single(params, x):\n",
    "        return fnet(params, x.unsqueeze(0)).squeeze(0)\n",
    "\n",
    "    def Jx(Xs):\n",
    "        J = vmap(jacrev(fnet_single), (None, 0))(params, Xs)\n",
    "        J = [j.detach().flatten(1) for j in J]\n",
    "        J = torch.cat(J,dim=1).detach()\n",
    "        return J\n",
    "\n",
    "    lam = 0\n",
    "    Jtrain = Jx(X)\n",
    "    NTK_X = Jtrain @ Jtrain.T + lam*torch.eye(n)\n",
    "    cond = torch.linalg.cond(NTK_X).item()\n",
    "    print(f'Cond(J J^T) = {cond:.1}')\n",
    "\n",
    "    var_ntk = []\n",
    "    for xi in X_test:\n",
    "        Jsingle = Jx(xi.unsqueeze(0))\n",
    "        KXx = Jtrain @ Jsingle.T\n",
    "        var = Jsingle @ Jsingle.T - KXx.T @ torch.linalg.solve(NTK_X,KXx)\n",
    "        var_ntk.append(var)\n",
    "    var_ntk = torch.tensor(var_ntk)\n",
    "    \n",
    "    train_data = toy_dataset(X,Y)\n",
    "    test_data = toy_dataset(X_test,Y)\n",
    "\n",
    "    diff_e = []\n",
    "    losses_e = []\n",
    "\n",
    "    epochs = torch.logspace(1,4,10)\n",
    "    for epoch in tqdm.tqdm(epochs):\n",
    "        # nuql_test_preds, loss = nuqls.regression_parallel(net, train=train_data, test=test_data, ood_test=None, train_bs = n, test_bs =n, \n",
    "        #                                             S = 1000, scale=1, lr=8, epochs=int(epoch.item()), mu=0.9)\n",
    "        \n",
    "        nuql = nuqls.small_regression_parallel(net, train=train_data, S = 1000, epochs=int(epoch.item()), lr=lr, bs=n, bs_test=n, init_scale=1)\n",
    "        loss,_ = nuql.train_linear(mu=0.9,weight_decay=0,my=0,sy=1,threshold=None,verbose=False, progress_bar=False)\n",
    "        nuql_test_preds = nuql.test_linear(test=test_data)\n",
    "        \n",
    "        var_nuqls = nuql_test_preds.var(1)\n",
    "\n",
    "        # print(f'epoch: {epoch}, convergence = {torch.linalg.norm(var_nuqls - var_ntk)}')\n",
    "        diff_e.append(torch.linalg.norm(var_nuqls - var_ntk).item())\n",
    "        losses_e.append(loss)\n",
    "        if verbose:\n",
    "            print('--------------------------------------')\n",
    "            print(f'epoch: {int(epoch)}, nuqls loss : {loss.item():.4}')\n",
    "\n",
    "    diff_s = []\n",
    "    losses_s = []\n",
    "\n",
    "    s_range = torch.logspace(1,4,10)\n",
    "    for s in tqdm.tqdm(s_range):\n",
    "        # nuql_test_preds, loss = nuqls.regression_parallel(net, train=train_data, test=test_data, ood_test=None, train_bs = n, test_bs =n, \n",
    "        #                                             S = int(s.item()), scale=1, lr=8, epochs=4000, mu=0.9)\n",
    "        \n",
    "        nuql = nuqls.small_regression_parallel(net, train=train_data, S = int(s.item()), epochs=4000, lr=lr, bs=n, bs_test=n, init_scale=1)\n",
    "        loss,_ = nuql.train_linear(mu=0.9,weight_decay=0,my=0,sy=1,threshold=None,verbose=False, progress_bar=False)\n",
    "        nuql_test_preds = nuql.test_linear(test=test_data)\n",
    "        \n",
    "        var_nuqls = nuql_test_preds.var(1)\n",
    "\n",
    "        # print(f's: {s}, convergence = {torch.linalg.norm(var_nuqls - var_ntk)}')\n",
    "        diff_s.append(torch.linalg.norm(var_nuqls - var_ntk).item())\n",
    "        losses_s.append(loss)\n",
    "        if verbose:\n",
    "            print('--------------------------------------')\n",
    "            print(f'S: {int(s)}, nuqls loss : {loss.item():.4}')\n",
    "\n",
    "    return diff_e,losses_e,epochs,diff_s,losses_s,s_range,cond\n"
   ]
  },
  {
   "cell_type": "code",
   "execution_count": null,
   "metadata": {},
   "outputs": [
    {
     "name": "stdout",
     "output_type": "stream",
     "text": [
      "single-layer, width=20, tanh\n"
     ]
    },
    {
     "name": "stderr",
     "output_type": "stream",
     "text": [
      "C:\\Users\\s4531973\\AppData\\Local\\Temp\\ipykernel_9080\\475677823.py:84: FutureWarning: We've integrated functorch into PyTorch. As the final step of the integration, `functorch.make_functional` is deprecated as of PyTorch 2.0 and will be deleted in a future version of PyTorch >= 2.3. Please use `torch.func.functional_call` instead; see the PyTorch 2.0 release notes and/or the `torch.func` migration guide for more details https://pytorch.org/docs/main/func.migrating.html\n",
      "  fnet, params = make_functional(net)\n"
     ]
    },
    {
     "name": "stdout",
     "output_type": "stream",
     "text": [
      "nn loss : 0.002964\n",
      "Cond(J J^T) = 9e+04\n"
     ]
    },
    {
     "name": "stderr",
     "output_type": "stream",
     "text": [
      "  0%|          | 0/10 [00:00<?, ?it/s]c:\\Users\\s4531973\\Documents\\PhD\\Code\\nuqls_paper\\posteriors\\nuqls.py:156: FutureWarning: We've integrated functorch into PyTorch. As the final step of the integration, `functorch.make_functional` is deprecated as of PyTorch 2.0 and will be deleted in a future version of PyTorch >= 2.3. Please use `torch.func.functional_call` instead; see the PyTorch 2.0 release notes and/or the `torch.func` migration guide for more details https://pytorch.org/docs/main/func.migrating.html\n",
      "  self.fnet, self.params = make_functional(self.net)\n",
      " 30%|███       | 3/10 [00:00<00:00, 23.14it/s]"
     ]
    },
    {
     "name": "stdout",
     "output_type": "stream",
     "text": [
      "--------------------------------------\n",
      "epoch: 10, nuqls loss : 5.727\n",
      "--------------------------------------\n",
      "epoch: 21, nuqls loss : 1.568\n",
      "--------------------------------------\n",
      "epoch: 46, nuqls loss : 0.1976\n",
      "--------------------------------------\n",
      "epoch: 100, nuqls loss : 0.04516\n",
      "--------------------------------------\n",
      "epoch: 215, nuqls loss : 0.019\n"
     ]
    },
    {
     "name": "stderr",
     "output_type": "stream",
     "text": [
      " 60%|██████    | 6/10 [00:01<00:00,  4.52it/s]"
     ]
    },
    {
     "name": "stdout",
     "output_type": "stream",
     "text": [
      "--------------------------------------\n",
      "epoch: 464, nuqls loss : 0.008873\n",
      "--------------------------------------\n",
      "epoch: 1000, nuqls loss : 0.004923\n"
     ]
    },
    {
     "name": "stderr",
     "output_type": "stream",
     "text": [
      " 80%|████████  | 8/10 [00:05<00:01,  1.05it/s]"
     ]
    },
    {
     "name": "stdout",
     "output_type": "stream",
     "text": [
      "--------------------------------------\n",
      "epoch: 2154, nuqls loss : 0.003278\n"
     ]
    },
    {
     "name": "stderr",
     "output_type": "stream",
     "text": [
      " 90%|█████████ | 9/10 [00:12<00:02,  2.07s/it]"
     ]
    },
    {
     "name": "stdout",
     "output_type": "stream",
     "text": [
      "--------------------------------------\n",
      "epoch: 4641, nuqls loss : 0.00222\n"
     ]
    },
    {
     "name": "stderr",
     "output_type": "stream",
     "text": [
      "100%|██████████| 10/10 [00:38<00:00,  3.87s/it]\n"
     ]
    },
    {
     "name": "stdout",
     "output_type": "stream",
     "text": [
      "--------------------------------------\n",
      "epoch: 10000, nuqls loss : 0.001264\n"
     ]
    },
    {
     "name": "stderr",
     "output_type": "stream",
     "text": [
      " 10%|█         | 1/10 [00:03<00:31,  3.46s/it]"
     ]
    },
    {
     "name": "stdout",
     "output_type": "stream",
     "text": [
      "--------------------------------------\n",
      "S: 10, nuqls loss : 0.00247\n"
     ]
    },
    {
     "name": "stderr",
     "output_type": "stream",
     "text": [
      " 20%|██        | 2/10 [00:07<00:28,  3.54s/it]"
     ]
    },
    {
     "name": "stdout",
     "output_type": "stream",
     "text": [
      "--------------------------------------\n",
      "S: 21, nuqls loss : 0.002448\n"
     ]
    },
    {
     "name": "stderr",
     "output_type": "stream",
     "text": [
      " 30%|███       | 3/10 [00:10<00:24,  3.50s/it]"
     ]
    },
    {
     "name": "stdout",
     "output_type": "stream",
     "text": [
      "--------------------------------------\n",
      "S: 46, nuqls loss : 0.002189\n"
     ]
    },
    {
     "name": "stderr",
     "output_type": "stream",
     "text": [
      " 40%|████      | 4/10 [00:14<00:21,  3.57s/it]"
     ]
    },
    {
     "name": "stdout",
     "output_type": "stream",
     "text": [
      "--------------------------------------\n",
      "S: 100, nuqls loss : 0.002396\n"
     ]
    },
    {
     "name": "stderr",
     "output_type": "stream",
     "text": [
      " 50%|█████     | 5/10 [00:18<00:19,  3.99s/it]"
     ]
    },
    {
     "name": "stdout",
     "output_type": "stream",
     "text": [
      "--------------------------------------\n",
      "S: 215, nuqls loss : 0.002337\n"
     ]
    },
    {
     "name": "stderr",
     "output_type": "stream",
     "text": [
      " 60%|██████    | 6/10 [00:27<00:22,  5.71s/it]"
     ]
    },
    {
     "name": "stdout",
     "output_type": "stream",
     "text": [
      "--------------------------------------\n",
      "S: 464, nuqls loss : 0.002373\n"
     ]
    },
    {
     "name": "stderr",
     "output_type": "stream",
     "text": [
      " 70%|███████   | 7/10 [00:40<00:24,  8.02s/it]"
     ]
    },
    {
     "name": "stdout",
     "output_type": "stream",
     "text": [
      "--------------------------------------\n",
      "S: 1000, nuqls loss : 0.002367\n"
     ]
    },
    {
     "name": "stderr",
     "output_type": "stream",
     "text": [
      " 80%|████████  | 8/10 [01:02<00:25, 12.51s/it]"
     ]
    },
    {
     "name": "stdout",
     "output_type": "stream",
     "text": [
      "--------------------------------------\n",
      "S: 2154, nuqls loss : 0.002362\n"
     ]
    },
    {
     "name": "stderr",
     "output_type": "stream",
     "text": [
      " 90%|█████████ | 9/10 [01:44<00:21, 21.49s/it]"
     ]
    },
    {
     "name": "stdout",
     "output_type": "stream",
     "text": [
      "--------------------------------------\n",
      "S: 4641, nuqls loss : 0.00238\n"
     ]
    },
    {
     "name": "stderr",
     "output_type": "stream",
     "text": [
      "100%|██████████| 10/10 [03:14<00:00, 19.45s/it]"
     ]
    },
    {
     "name": "stdout",
     "output_type": "stream",
     "text": [
      "--------------------------------------\n",
      "S: 10000, nuqls loss : 0.002376\n"
     ]
    },
    {
     "name": "stderr",
     "output_type": "stream",
     "text": [
      "\n"
     ]
    },
    {
     "name": "stdout",
     "output_type": "stream",
     "text": [
      "nn loss : 7.474e-05\n",
      "Cond(J J^T) = 4e+04\n"
     ]
    },
    {
     "name": "stderr",
     "output_type": "stream",
     "text": [
      " 20%|██        | 2/10 [00:00<00:00, 14.96it/s]"
     ]
    },
    {
     "name": "stdout",
     "output_type": "stream",
     "text": [
      "--------------------------------------\n",
      "epoch: 10, nuqls loss : 6.661\n",
      "--------------------------------------\n",
      "epoch: 21, nuqls loss : 1.42\n",
      "--------------------------------------\n",
      "epoch: 46, nuqls loss : 0.2015\n"
     ]
    },
    {
     "name": "stderr",
     "output_type": "stream",
     "text": [
      " 40%|████      | 4/10 [00:00<00:01,  4.76it/s]"
     ]
    },
    {
     "name": "stdout",
     "output_type": "stream",
     "text": [
      "--------------------------------------\n",
      "epoch: 100, nuqls loss : 0.03917\n"
     ]
    },
    {
     "name": "stderr",
     "output_type": "stream",
     "text": [
      " 50%|█████     | 5/10 [00:01<00:01,  2.60it/s]"
     ]
    },
    {
     "name": "stdout",
     "output_type": "stream",
     "text": [
      "--------------------------------------\n",
      "epoch: 215, nuqls loss : 0.01465\n"
     ]
    },
    {
     "name": "stderr",
     "output_type": "stream",
     "text": [
      " 60%|██████    | 6/10 [00:03<00:02,  1.40it/s]"
     ]
    },
    {
     "name": "stdout",
     "output_type": "stream",
     "text": [
      "--------------------------------------\n",
      "epoch: 464, nuqls loss : 0.005575\n"
     ]
    },
    {
     "name": "stderr",
     "output_type": "stream",
     "text": [
      " 70%|███████   | 7/10 [00:06<00:04,  1.49s/it]"
     ]
    },
    {
     "name": "stdout",
     "output_type": "stream",
     "text": [
      "--------------------------------------\n",
      "epoch: 1000, nuqls loss : 0.001844\n"
     ]
    },
    {
     "name": "stderr",
     "output_type": "stream",
     "text": [
      " 80%|████████  | 8/10 [00:13<00:06,  3.12s/it]"
     ]
    },
    {
     "name": "stdout",
     "output_type": "stream",
     "text": [
      "--------------------------------------\n",
      "epoch: 2154, nuqls loss : 0.0005507\n"
     ]
    },
    {
     "name": "stderr",
     "output_type": "stream",
     "text": [
      " 90%|█████████ | 9/10 [00:28<00:06,  6.65s/it]"
     ]
    },
    {
     "name": "stdout",
     "output_type": "stream",
     "text": [
      "--------------------------------------\n",
      "epoch: 4641, nuqls loss : 0.0001459\n"
     ]
    },
    {
     "name": "stderr",
     "output_type": "stream",
     "text": [
      "100%|██████████| 10/10 [01:00<00:00,  6.00s/it]\n"
     ]
    },
    {
     "name": "stdout",
     "output_type": "stream",
     "text": [
      "--------------------------------------\n",
      "epoch: 10000, nuqls loss : 2.595e-05\n"
     ]
    },
    {
     "name": "stderr",
     "output_type": "stream",
     "text": [
      " 10%|█         | 1/10 [00:03<00:32,  3.64s/it]"
     ]
    },
    {
     "name": "stdout",
     "output_type": "stream",
     "text": [
      "--------------------------------------\n",
      "S: 10, nuqls loss : 0.0002948\n"
     ]
    },
    {
     "name": "stderr",
     "output_type": "stream",
     "text": [
      " 20%|██        | 2/10 [00:07<00:31,  3.96s/it]"
     ]
    },
    {
     "name": "stdout",
     "output_type": "stream",
     "text": [
      "--------------------------------------\n",
      "S: 21, nuqls loss : 0.0002423\n"
     ]
    },
    {
     "name": "stderr",
     "output_type": "stream",
     "text": [
      " 30%|███       | 3/10 [00:11<00:25,  3.65s/it]"
     ]
    },
    {
     "name": "stdout",
     "output_type": "stream",
     "text": [
      "--------------------------------------\n",
      "S: 46, nuqls loss : 0.00021\n"
     ]
    },
    {
     "name": "stderr",
     "output_type": "stream",
     "text": [
      " 40%|████      | 4/10 [00:14<00:21,  3.58s/it]"
     ]
    },
    {
     "name": "stdout",
     "output_type": "stream",
     "text": [
      "--------------------------------------\n",
      "S: 100, nuqls loss : 0.0001794\n"
     ]
    },
    {
     "name": "stderr",
     "output_type": "stream",
     "text": [
      " 50%|█████     | 5/10 [00:19<00:20,  4.01s/it]"
     ]
    },
    {
     "name": "stdout",
     "output_type": "stream",
     "text": [
      "--------------------------------------\n",
      "S: 215, nuqls loss : 0.0001931\n"
     ]
    },
    {
     "name": "stderr",
     "output_type": "stream",
     "text": [
      " 60%|██████    | 6/10 [00:28<00:22,  5.65s/it]"
     ]
    },
    {
     "name": "stdout",
     "output_type": "stream",
     "text": [
      "--------------------------------------\n",
      "S: 464, nuqls loss : 0.0001931\n"
     ]
    },
    {
     "name": "stderr",
     "output_type": "stream",
     "text": [
      " 70%|███████   | 7/10 [00:34<00:17,  5.90s/it]"
     ]
    },
    {
     "name": "stdout",
     "output_type": "stream",
     "text": [
      "--------------------------------------\n",
      "S: 1000, nuqls loss : 0.0001893\n"
     ]
    },
    {
     "name": "stderr",
     "output_type": "stream",
     "text": [
      " 80%|████████  | 8/10 [00:43<00:13,  6.79s/it]"
     ]
    },
    {
     "name": "stdout",
     "output_type": "stream",
     "text": [
      "--------------------------------------\n",
      "S: 2154, nuqls loss : 0.0001956\n"
     ]
    },
    {
     "name": "stderr",
     "output_type": "stream",
     "text": [
      " 90%|█████████ | 9/10 [00:59<00:09,  9.87s/it]"
     ]
    },
    {
     "name": "stdout",
     "output_type": "stream",
     "text": [
      "--------------------------------------\n",
      "S: 4641, nuqls loss : 0.00019\n"
     ]
    },
    {
     "name": "stderr",
     "output_type": "stream",
     "text": [
      "100%|██████████| 10/10 [01:35<00:00,  9.52s/it]"
     ]
    },
    {
     "name": "stdout",
     "output_type": "stream",
     "text": [
      "--------------------------------------\n",
      "S: 10000, nuqls loss : 0.0001915\n",
      "single-layer, width=20, relu\n"
     ]
    },
    {
     "name": "stderr",
     "output_type": "stream",
     "text": [
      "\n"
     ]
    },
    {
     "name": "stdout",
     "output_type": "stream",
     "text": [
      "nn loss : 0.114\n",
      "Cond(J J^T) = 3e+07\n"
     ]
    },
    {
     "name": "stderr",
     "output_type": "stream",
     "text": [
      "  0%|          | 0/10 [00:00<?, ?it/s]"
     ]
    },
    {
     "name": "stdout",
     "output_type": "stream",
     "text": [
      "--------------------------------------\n",
      "epoch: 10, nuqls loss : 24.91\n",
      "--------------------------------------\n",
      "epoch: 21, nuqls loss : 9.018\n",
      "--------------------------------------\n",
      "epoch: 46, nuqls loss : 0.606\n"
     ]
    },
    {
     "name": "stderr",
     "output_type": "stream",
     "text": [
      " 30%|███       | 3/10 [00:00<00:00, 22.48it/s]"
     ]
    },
    {
     "name": "stdout",
     "output_type": "stream",
     "text": [
      "--------------------------------------\n",
      "epoch: 100, nuqls loss : 0.04782\n",
      "--------------------------------------\n",
      "epoch: 215, nuqls loss : 0.02349\n"
     ]
    },
    {
     "name": "stderr",
     "output_type": "stream",
     "text": [
      " 60%|██████    | 6/10 [00:01<00:00,  4.27it/s]"
     ]
    },
    {
     "name": "stdout",
     "output_type": "stream",
     "text": [
      "--------------------------------------\n",
      "epoch: 464, nuqls loss : 0.01427\n",
      "--------------------------------------\n",
      "epoch: 1000, nuqls loss : 0.01036\n"
     ]
    },
    {
     "name": "stderr",
     "output_type": "stream",
     "text": [
      " 80%|████████  | 8/10 [00:05<00:01,  1.06it/s]"
     ]
    },
    {
     "name": "stdout",
     "output_type": "stream",
     "text": [
      "--------------------------------------\n",
      "epoch: 2154, nuqls loss : 0.007589\n"
     ]
    },
    {
     "name": "stderr",
     "output_type": "stream",
     "text": [
      " 90%|█████████ | 9/10 [00:12<00:02,  2.09s/it]"
     ]
    },
    {
     "name": "stdout",
     "output_type": "stream",
     "text": [
      "--------------------------------------\n",
      "epoch: 4641, nuqls loss : 0.005055\n"
     ]
    },
    {
     "name": "stderr",
     "output_type": "stream",
     "text": [
      "100%|██████████| 10/10 [00:26<00:00,  2.62s/it]\n"
     ]
    },
    {
     "name": "stdout",
     "output_type": "stream",
     "text": [
      "--------------------------------------\n",
      "epoch: 10000, nuqls loss : 0.002754\n"
     ]
    },
    {
     "name": "stderr",
     "output_type": "stream",
     "text": [
      " 10%|█         | 1/10 [00:01<00:11,  1.23s/it]"
     ]
    },
    {
     "name": "stdout",
     "output_type": "stream",
     "text": [
      "--------------------------------------\n",
      "S: 10, nuqls loss : 0.005438\n"
     ]
    },
    {
     "name": "stderr",
     "output_type": "stream",
     "text": [
      " 20%|██        | 2/10 [00:02<00:09,  1.22s/it]"
     ]
    },
    {
     "name": "stdout",
     "output_type": "stream",
     "text": [
      "--------------------------------------\n",
      "S: 21, nuqls loss : 0.005558\n"
     ]
    },
    {
     "name": "stderr",
     "output_type": "stream",
     "text": [
      " 30%|███       | 3/10 [00:03<00:08,  1.27s/it]"
     ]
    },
    {
     "name": "stdout",
     "output_type": "stream",
     "text": [
      "--------------------------------------\n",
      "S: 46, nuqls loss : 0.005558\n"
     ]
    },
    {
     "name": "stderr",
     "output_type": "stream",
     "text": [
      " 40%|████      | 4/10 [00:05<00:08,  1.38s/it]"
     ]
    },
    {
     "name": "stdout",
     "output_type": "stream",
     "text": [
      "--------------------------------------\n",
      "S: 100, nuqls loss : 0.005654\n"
     ]
    },
    {
     "name": "stderr",
     "output_type": "stream",
     "text": [
      " 50%|█████     | 5/10 [00:07<00:07,  1.58s/it]"
     ]
    },
    {
     "name": "stdout",
     "output_type": "stream",
     "text": [
      "--------------------------------------\n",
      "S: 215, nuqls loss : 0.005514\n"
     ]
    },
    {
     "name": "stderr",
     "output_type": "stream",
     "text": [
      " 60%|██████    | 6/10 [00:11<00:10,  2.60s/it]"
     ]
    },
    {
     "name": "stdout",
     "output_type": "stream",
     "text": [
      "--------------------------------------\n",
      "S: 464, nuqls loss : 0.005587\n"
     ]
    },
    {
     "name": "stderr",
     "output_type": "stream",
     "text": [
      " 70%|███████   | 7/10 [00:17<00:10,  3.57s/it]"
     ]
    },
    {
     "name": "stdout",
     "output_type": "stream",
     "text": [
      "--------------------------------------\n",
      "S: 1000, nuqls loss : 0.005563\n"
     ]
    },
    {
     "name": "stderr",
     "output_type": "stream",
     "text": [
      " 80%|████████  | 8/10 [00:26<00:10,  5.23s/it]"
     ]
    },
    {
     "name": "stdout",
     "output_type": "stream",
     "text": [
      "--------------------------------------\n",
      "S: 2154, nuqls loss : 0.005553\n"
     ]
    },
    {
     "name": "stderr",
     "output_type": "stream",
     "text": [
      " 90%|█████████ | 9/10 [00:42<00:08,  8.84s/it]"
     ]
    },
    {
     "name": "stdout",
     "output_type": "stream",
     "text": [
      "--------------------------------------\n",
      "S: 4641, nuqls loss : 0.005531\n"
     ]
    },
    {
     "name": "stderr",
     "output_type": "stream",
     "text": [
      "100%|██████████| 10/10 [01:19<00:00,  7.97s/it]"
     ]
    },
    {
     "name": "stdout",
     "output_type": "stream",
     "text": [
      "--------------------------------------\n",
      "S: 10000, nuqls loss : 0.005541\n"
     ]
    },
    {
     "name": "stderr",
     "output_type": "stream",
     "text": [
      "\n"
     ]
    },
    {
     "name": "stdout",
     "output_type": "stream",
     "text": [
      "nn loss : 0.04079\n",
      "Cond(J J^T) = 2e+07\n"
     ]
    },
    {
     "name": "stderr",
     "output_type": "stream",
     "text": [
      "  0%|          | 0/10 [00:00<?, ?it/s]"
     ]
    },
    {
     "name": "stdout",
     "output_type": "stream",
     "text": [
      "--------------------------------------\n",
      "epoch: 10, nuqls loss : 37.05\n",
      "--------------------------------------\n",
      "epoch: 21, nuqls loss : 8.533\n",
      "--------------------------------------\n",
      "epoch: 46, nuqls loss : 0.9382\n"
     ]
    },
    {
     "name": "stderr",
     "output_type": "stream",
     "text": [
      " 30%|███       | 3/10 [00:00<00:00, 25.80it/s]"
     ]
    },
    {
     "name": "stdout",
     "output_type": "stream",
     "text": [
      "--------------------------------------\n",
      "epoch: 100, nuqls loss : 0.06397\n",
      "--------------------------------------\n",
      "epoch: 215, nuqls loss : 0.03996\n"
     ]
    },
    {
     "name": "stderr",
     "output_type": "stream",
     "text": [
      " 60%|██████    | 6/10 [00:01<00:00,  4.44it/s]"
     ]
    },
    {
     "name": "stdout",
     "output_type": "stream",
     "text": [
      "--------------------------------------\n",
      "epoch: 464, nuqls loss : 0.03079\n",
      "--------------------------------------\n",
      "epoch: 1000, nuqls loss : 0.0254\n"
     ]
    },
    {
     "name": "stderr",
     "output_type": "stream",
     "text": [
      " 80%|████████  | 8/10 [00:05<00:01,  1.04it/s]"
     ]
    },
    {
     "name": "stdout",
     "output_type": "stream",
     "text": [
      "--------------------------------------\n",
      "epoch: 2154, nuqls loss : 0.02102\n"
     ]
    },
    {
     "name": "stderr",
     "output_type": "stream",
     "text": [
      " 90%|█████████ | 9/10 [00:12<00:02,  2.18s/it]"
     ]
    },
    {
     "name": "stdout",
     "output_type": "stream",
     "text": [
      "--------------------------------------\n",
      "epoch: 4641, nuqls loss : 0.01696\n"
     ]
    },
    {
     "name": "stderr",
     "output_type": "stream",
     "text": [
      "100%|██████████| 10/10 [00:27<00:00,  2.75s/it]\n"
     ]
    },
    {
     "name": "stdout",
     "output_type": "stream",
     "text": [
      "--------------------------------------\n",
      "epoch: 10000, nuqls loss : 0.01247\n"
     ]
    },
    {
     "name": "stderr",
     "output_type": "stream",
     "text": [
      " 10%|█         | 1/10 [00:01<00:11,  1.28s/it]"
     ]
    },
    {
     "name": "stdout",
     "output_type": "stream",
     "text": [
      "--------------------------------------\n",
      "S: 10, nuqls loss : 0.01761\n"
     ]
    },
    {
     "name": "stderr",
     "output_type": "stream",
     "text": [
      " 20%|██        | 2/10 [00:02<00:10,  1.26s/it]"
     ]
    },
    {
     "name": "stdout",
     "output_type": "stream",
     "text": [
      "--------------------------------------\n",
      "S: 21, nuqls loss : 0.01776\n"
     ]
    },
    {
     "name": "stderr",
     "output_type": "stream",
     "text": [
      " 30%|███       | 3/10 [00:03<00:09,  1.30s/it]"
     ]
    },
    {
     "name": "stdout",
     "output_type": "stream",
     "text": [
      "--------------------------------------\n",
      "S: 46, nuqls loss : 0.01784\n"
     ]
    },
    {
     "name": "stderr",
     "output_type": "stream",
     "text": [
      " 40%|████      | 4/10 [00:05<00:08,  1.37s/it]"
     ]
    },
    {
     "name": "stdout",
     "output_type": "stream",
     "text": [
      "--------------------------------------\n",
      "S: 100, nuqls loss : 0.01768\n"
     ]
    },
    {
     "name": "stderr",
     "output_type": "stream",
     "text": [
      " 50%|█████     | 5/10 [00:07<00:07,  1.59s/it]"
     ]
    },
    {
     "name": "stdout",
     "output_type": "stream",
     "text": [
      "--------------------------------------\n",
      "S: 215, nuqls loss : 0.0178\n"
     ]
    },
    {
     "name": "stderr",
     "output_type": "stream",
     "text": [
      " 60%|██████    | 6/10 [00:12<00:10,  2.72s/it]"
     ]
    },
    {
     "name": "stdout",
     "output_type": "stream",
     "text": [
      "--------------------------------------\n",
      "S: 464, nuqls loss : 0.01779\n"
     ]
    },
    {
     "name": "stderr",
     "output_type": "stream",
     "text": [
      " 70%|███████   | 7/10 [00:18<00:11,  3.96s/it]"
     ]
    },
    {
     "name": "stdout",
     "output_type": "stream",
     "text": [
      "--------------------------------------\n",
      "S: 1000, nuqls loss : 0.01775\n"
     ]
    },
    {
     "name": "stderr",
     "output_type": "stream",
     "text": [
      " 80%|████████  | 8/10 [00:27<00:11,  5.63s/it]"
     ]
    },
    {
     "name": "stdout",
     "output_type": "stream",
     "text": [
      "--------------------------------------\n",
      "S: 2154, nuqls loss : 0.01777\n"
     ]
    },
    {
     "name": "stderr",
     "output_type": "stream",
     "text": [
      " 90%|█████████ | 9/10 [00:45<00:09,  9.36s/it]"
     ]
    },
    {
     "name": "stdout",
     "output_type": "stream",
     "text": [
      "--------------------------------------\n",
      "S: 4641, nuqls loss : 0.01773\n"
     ]
    },
    {
     "name": "stderr",
     "output_type": "stream",
     "text": [
      "100%|██████████| 10/10 [01:24<00:00,  8.40s/it]"
     ]
    },
    {
     "name": "stdout",
     "output_type": "stream",
     "text": [
      "--------------------------------------\n",
      "S: 10000, nuqls loss : 0.01773\n",
      "double-layer, width=20, relu\n"
     ]
    },
    {
     "name": "stderr",
     "output_type": "stream",
     "text": [
      "\n"
     ]
    },
    {
     "name": "stdout",
     "output_type": "stream",
     "text": [
      "nn loss : 5.138e-12\n",
      "Cond(J J^T) = 8e+03\n"
     ]
    },
    {
     "name": "stderr",
     "output_type": "stream",
     "text": [
      "  0%|          | 0/10 [00:00<?, ?it/s]"
     ]
    },
    {
     "name": "stdout",
     "output_type": "stream",
     "text": [
      "--------------------------------------\n",
      "epoch: 10, nuqls loss : 24.82\n"
     ]
    },
    {
     "name": "stderr",
     "output_type": "stream",
     "text": [
      " 20%|██        | 2/10 [00:00<00:00, 14.96it/s]"
     ]
    },
    {
     "name": "stdout",
     "output_type": "stream",
     "text": [
      "--------------------------------------\n",
      "epoch: 21, nuqls loss : 5.421\n",
      "--------------------------------------\n",
      "epoch: 46, nuqls loss : 0.5893\n"
     ]
    },
    {
     "name": "stderr",
     "output_type": "stream",
     "text": [
      " 40%|████      | 4/10 [00:00<00:01,  5.72it/s]"
     ]
    },
    {
     "name": "stdout",
     "output_type": "stream",
     "text": [
      "--------------------------------------\n",
      "epoch: 100, nuqls loss : 0.01656\n"
     ]
    },
    {
     "name": "stderr",
     "output_type": "stream",
     "text": [
      " 50%|█████     | 5/10 [00:01<00:01,  2.94it/s]"
     ]
    },
    {
     "name": "stdout",
     "output_type": "stream",
     "text": [
      "--------------------------------------\n",
      "epoch: 215, nuqls loss : 0.002688\n"
     ]
    },
    {
     "name": "stderr",
     "output_type": "stream",
     "text": [
      " 60%|██████    | 6/10 [00:02<00:02,  1.38it/s]"
     ]
    },
    {
     "name": "stdout",
     "output_type": "stream",
     "text": [
      "--------------------------------------\n",
      "epoch: 464, nuqls loss : 0.0003497\n"
     ]
    },
    {
     "name": "stderr",
     "output_type": "stream",
     "text": [
      " 70%|███████   | 7/10 [00:06<00:04,  1.59s/it]"
     ]
    },
    {
     "name": "stdout",
     "output_type": "stream",
     "text": [
      "--------------------------------------\n",
      "epoch: 1000, nuqls loss : 2.209e-05\n"
     ]
    },
    {
     "name": "stderr",
     "output_type": "stream",
     "text": [
      " 80%|████████  | 8/10 [00:14<00:06,  3.47s/it]"
     ]
    },
    {
     "name": "stdout",
     "output_type": "stream",
     "text": [
      "--------------------------------------\n",
      "epoch: 2154, nuqls loss : 9.614e-08\n"
     ]
    },
    {
     "name": "stderr",
     "output_type": "stream",
     "text": [
      " 90%|█████████ | 9/10 [00:31<00:07,  7.50s/it]"
     ]
    },
    {
     "name": "stdout",
     "output_type": "stream",
     "text": [
      "--------------------------------------\n",
      "epoch: 4641, nuqls loss : 8.432e-13\n"
     ]
    },
    {
     "name": "stderr",
     "output_type": "stream",
     "text": [
      "100%|██████████| 10/10 [01:08<00:00,  6.80s/it]\n"
     ]
    },
    {
     "name": "stdout",
     "output_type": "stream",
     "text": [
      "--------------------------------------\n",
      "epoch: 10000, nuqls loss : 1.003e-23\n"
     ]
    },
    {
     "name": "stderr",
     "output_type": "stream",
     "text": [
      " 10%|█         | 1/10 [00:01<00:13,  1.47s/it]"
     ]
    },
    {
     "name": "stdout",
     "output_type": "stream",
     "text": [
      "--------------------------------------\n",
      "S: 10, nuqls loss : 1.265e-11\n"
     ]
    },
    {
     "name": "stderr",
     "output_type": "stream",
     "text": [
      " 20%|██        | 2/10 [00:03<00:12,  1.54s/it]"
     ]
    },
    {
     "name": "stdout",
     "output_type": "stream",
     "text": [
      "--------------------------------------\n",
      "S: 21, nuqls loss : 1.722e-11\n"
     ]
    },
    {
     "name": "stderr",
     "output_type": "stream",
     "text": [
      " 30%|███       | 3/10 [00:04<00:11,  1.69s/it]"
     ]
    },
    {
     "name": "stdout",
     "output_type": "stream",
     "text": [
      "--------------------------------------\n",
      "S: 46, nuqls loss : 2.107e-11\n"
     ]
    },
    {
     "name": "stderr",
     "output_type": "stream",
     "text": [
      " 40%|████      | 4/10 [00:08<00:14,  2.42s/it]"
     ]
    },
    {
     "name": "stdout",
     "output_type": "stream",
     "text": [
      "--------------------------------------\n",
      "S: 100, nuqls loss : 1.608e-11\n"
     ]
    },
    {
     "name": "stderr",
     "output_type": "stream",
     "text": [
      " 50%|█████     | 5/10 [00:12<00:15,  3.15s/it]"
     ]
    },
    {
     "name": "stdout",
     "output_type": "stream",
     "text": [
      "--------------------------------------\n",
      "S: 215, nuqls loss : 1.999e-11\n"
     ]
    },
    {
     "name": "stderr",
     "output_type": "stream",
     "text": [
      " 60%|██████    | 6/10 [00:20<00:18,  4.66s/it]"
     ]
    },
    {
     "name": "stdout",
     "output_type": "stream",
     "text": [
      "--------------------------------------\n",
      "S: 464, nuqls loss : 1.736e-11\n"
     ]
    },
    {
     "name": "stderr",
     "output_type": "stream",
     "text": [
      " 70%|███████   | 7/10 [00:34<00:23,  7.82s/it]"
     ]
    },
    {
     "name": "stdout",
     "output_type": "stream",
     "text": [
      "--------------------------------------\n",
      "S: 1000, nuqls loss : 1.713e-11\n"
     ]
    },
    {
     "name": "stderr",
     "output_type": "stream",
     "text": [
      " 80%|████████  | 8/10 [01:03<00:29, 14.50s/it]"
     ]
    },
    {
     "name": "stdout",
     "output_type": "stream",
     "text": [
      "--------------------------------------\n",
      "S: 2154, nuqls loss : 1.692e-11\n"
     ]
    },
    {
     "name": "stderr",
     "output_type": "stream",
     "text": [
      " 90%|█████████ | 9/10 [02:16<00:32, 32.65s/it]"
     ]
    },
    {
     "name": "stdout",
     "output_type": "stream",
     "text": [
      "--------------------------------------\n",
      "S: 4641, nuqls loss : 1.681e-11\n"
     ]
    },
    {
     "name": "stderr",
     "output_type": "stream",
     "text": [
      "100%|██████████| 10/10 [06:23<00:00, 38.35s/it]"
     ]
    },
    {
     "name": "stdout",
     "output_type": "stream",
     "text": [
      "--------------------------------------\n",
      "S: 10000, nuqls loss : 1.661e-11\n"
     ]
    },
    {
     "name": "stderr",
     "output_type": "stream",
     "text": [
      "\n"
     ]
    },
    {
     "name": "stdout",
     "output_type": "stream",
     "text": [
      "nn loss : 8.587e-06\n",
      "Cond(J J^T) = 2e+04\n"
     ]
    },
    {
     "name": "stderr",
     "output_type": "stream",
     "text": [
      " 10%|█         | 1/10 [00:00<00:01,  8.42it/s]"
     ]
    },
    {
     "name": "stdout",
     "output_type": "stream",
     "text": [
      "--------------------------------------\n",
      "epoch: 10, nuqls loss : 19.18\n",
      "--------------------------------------\n",
      "epoch: 21, nuqls loss : 4.899\n"
     ]
    },
    {
     "name": "stderr",
     "output_type": "stream",
     "text": [
      " 30%|███       | 3/10 [00:00<00:01,  3.50it/s]"
     ]
    },
    {
     "name": "stdout",
     "output_type": "stream",
     "text": [
      "--------------------------------------\n",
      "epoch: 46, nuqls loss : 0.4939\n"
     ]
    },
    {
     "name": "stderr",
     "output_type": "stream",
     "text": [
      " 40%|████      | 4/10 [00:01<00:03,  1.97it/s]"
     ]
    },
    {
     "name": "stdout",
     "output_type": "stream",
     "text": [
      "--------------------------------------\n",
      "epoch: 100, nuqls loss : 0.02218\n"
     ]
    },
    {
     "name": "stderr",
     "output_type": "stream",
     "text": [
      " 50%|█████     | 5/10 [00:03<00:04,  1.04it/s]"
     ]
    },
    {
     "name": "stdout",
     "output_type": "stream",
     "text": [
      "--------------------------------------\n",
      "epoch: 215, nuqls loss : 0.004107\n"
     ]
    },
    {
     "name": "stderr",
     "output_type": "stream",
     "text": [
      " 60%|██████    | 6/10 [00:07<00:07,  1.92s/it]"
     ]
    },
    {
     "name": "stdout",
     "output_type": "stream",
     "text": [
      "--------------------------------------\n",
      "epoch: 464, nuqls loss : 0.0008631\n"
     ]
    },
    {
     "name": "stderr",
     "output_type": "stream",
     "text": [
      " 70%|███████   | 7/10 [00:15<00:12,  4.05s/it]"
     ]
    },
    {
     "name": "stdout",
     "output_type": "stream",
     "text": [
      "--------------------------------------\n",
      "epoch: 1000, nuqls loss : 0.0002001\n"
     ]
    },
    {
     "name": "stderr",
     "output_type": "stream",
     "text": [
      " 80%|████████  | 8/10 [00:33<00:16,  8.41s/it]"
     ]
    },
    {
     "name": "stdout",
     "output_type": "stream",
     "text": [
      "--------------------------------------\n",
      "epoch: 2154, nuqls loss : 2.361e-05\n"
     ]
    },
    {
     "name": "stderr",
     "output_type": "stream",
     "text": [
      " 90%|█████████ | 9/10 [01:11<00:17, 17.75s/it]"
     ]
    },
    {
     "name": "stdout",
     "output_type": "stream",
     "text": [
      "--------------------------------------\n",
      "epoch: 4641, nuqls loss : 3.415e-07\n"
     ]
    },
    {
     "name": "stderr",
     "output_type": "stream",
     "text": [
      "100%|██████████| 10/10 [02:33<00:00, 15.36s/it]\n"
     ]
    },
    {
     "name": "stdout",
     "output_type": "stream",
     "text": [
      "--------------------------------------\n",
      "epoch: 10000, nuqls loss : 4.136e-11\n"
     ]
    },
    {
     "name": "stderr",
     "output_type": "stream",
     "text": [
      " 10%|█         | 1/10 [00:03<00:34,  3.78s/it]"
     ]
    },
    {
     "name": "stdout",
     "output_type": "stream",
     "text": [
      "--------------------------------------\n",
      "S: 10, nuqls loss : 1.163e-06\n"
     ]
    },
    {
     "name": "stderr",
     "output_type": "stream",
     "text": [
      " 20%|██        | 2/10 [00:07<00:29,  3.74s/it]"
     ]
    },
    {
     "name": "stdout",
     "output_type": "stream",
     "text": [
      "--------------------------------------\n",
      "S: 21, nuqls loss : 5.737e-07\n"
     ]
    },
    {
     "name": "stderr",
     "output_type": "stream",
     "text": [
      " 30%|███       | 3/10 [00:12<00:28,  4.14s/it]"
     ]
    },
    {
     "name": "stdout",
     "output_type": "stream",
     "text": [
      "--------------------------------------\n",
      "S: 46, nuqls loss : 8.6e-07\n"
     ]
    },
    {
     "name": "stderr",
     "output_type": "stream",
     "text": [
      " 40%|████      | 4/10 [00:19<00:32,  5.46s/it]"
     ]
    },
    {
     "name": "stdout",
     "output_type": "stream",
     "text": [
      "--------------------------------------\n",
      "S: 100, nuqls loss : 1.052e-06\n"
     ]
    },
    {
     "name": "stderr",
     "output_type": "stream",
     "text": [
      " 50%|█████     | 5/10 [00:30<00:37,  7.41s/it]"
     ]
    },
    {
     "name": "stdout",
     "output_type": "stream",
     "text": [
      "--------------------------------------\n",
      "S: 215, nuqls loss : 1.057e-06\n"
     ]
    },
    {
     "name": "stderr",
     "output_type": "stream",
     "text": [
      " 60%|██████    | 6/10 [00:48<00:44, 11.03s/it]"
     ]
    },
    {
     "name": "stdout",
     "output_type": "stream",
     "text": [
      "--------------------------------------\n",
      "S: 464, nuqls loss : 9.61e-07\n"
     ]
    },
    {
     "name": "stderr",
     "output_type": "stream",
     "text": [
      " 70%|███████   | 7/10 [01:21<00:54, 18.15s/it]"
     ]
    },
    {
     "name": "stdout",
     "output_type": "stream",
     "text": [
      "--------------------------------------\n",
      "S: 1000, nuqls loss : 1.016e-06\n"
     ]
    },
    {
     "name": "stderr",
     "output_type": "stream",
     "text": [
      " 80%|████████  | 8/10 [02:31<01:09, 34.87s/it]"
     ]
    },
    {
     "name": "stdout",
     "output_type": "stream",
     "text": [
      "--------------------------------------\n",
      "S: 2154, nuqls loss : 1.042e-06\n"
     ]
    },
    {
     "name": "stderr",
     "output_type": "stream",
     "text": [
      " 90%|█████████ | 9/10 [05:14<01:14, 74.85s/it]"
     ]
    },
    {
     "name": "stdout",
     "output_type": "stream",
     "text": [
      "--------------------------------------\n",
      "S: 4641, nuqls loss : 1.012e-06\n"
     ]
    },
    {
     "name": "stderr",
     "output_type": "stream",
     "text": [
      "100%|██████████| 10/10 [10:53<00:00, 65.32s/it] "
     ]
    },
    {
     "name": "stdout",
     "output_type": "stream",
     "text": [
      "--------------------------------------\n",
      "S: 10000, nuqls loss : 9.918e-07\n",
      "single-layer, width=100, tanh\n"
     ]
    },
    {
     "name": "stderr",
     "output_type": "stream",
     "text": [
      "\n"
     ]
    },
    {
     "name": "stdout",
     "output_type": "stream",
     "text": [
      "nn loss : 5.165e-18\n",
      "Cond(J J^T) = 3e+03\n"
     ]
    },
    {
     "name": "stderr",
     "output_type": "stream",
     "text": [
      " 10%|█         | 1/10 [00:00<00:01,  7.95it/s]"
     ]
    },
    {
     "name": "stdout",
     "output_type": "stream",
     "text": [
      "--------------------------------------\n",
      "epoch: 10, nuqls loss : 4.693\n"
     ]
    },
    {
     "name": "stderr",
     "output_type": "stream",
     "text": [
      " 20%|██        | 2/10 [00:00<00:01,  5.27it/s]"
     ]
    },
    {
     "name": "stdout",
     "output_type": "stream",
     "text": [
      "--------------------------------------\n",
      "epoch: 21, nuqls loss : 1.669\n"
     ]
    },
    {
     "name": "stderr",
     "output_type": "stream",
     "text": [
      " 30%|███       | 3/10 [00:00<00:02,  3.14it/s]"
     ]
    },
    {
     "name": "stdout",
     "output_type": "stream",
     "text": [
      "--------------------------------------\n",
      "epoch: 46, nuqls loss : 0.2349\n"
     ]
    },
    {
     "name": "stderr",
     "output_type": "stream",
     "text": [
      " 40%|████      | 4/10 [00:01<00:03,  1.76it/s]"
     ]
    },
    {
     "name": "stdout",
     "output_type": "stream",
     "text": [
      "--------------------------------------\n",
      "epoch: 100, nuqls loss : 0.03862\n"
     ]
    },
    {
     "name": "stderr",
     "output_type": "stream",
     "text": [
      " 50%|█████     | 5/10 [00:03<00:05,  1.09s/it]"
     ]
    },
    {
     "name": "stdout",
     "output_type": "stream",
     "text": [
      "--------------------------------------\n",
      "epoch: 215, nuqls loss : 0.01034\n"
     ]
    },
    {
     "name": "stderr",
     "output_type": "stream",
     "text": [
      " 60%|██████    | 6/10 [00:08<00:08,  2.21s/it]"
     ]
    },
    {
     "name": "stdout",
     "output_type": "stream",
     "text": [
      "--------------------------------------\n",
      "epoch: 464, nuqls loss : 0.002059\n"
     ]
    },
    {
     "name": "stderr",
     "output_type": "stream",
     "text": [
      " 70%|███████   | 7/10 [00:17<00:13,  4.47s/it]"
     ]
    },
    {
     "name": "stdout",
     "output_type": "stream",
     "text": [
      "--------------------------------------\n",
      "epoch: 1000, nuqls loss : 0.0001698\n"
     ]
    },
    {
     "name": "stderr",
     "output_type": "stream",
     "text": [
      " 80%|████████  | 8/10 [00:37<00:18,  9.35s/it]"
     ]
    },
    {
     "name": "stdout",
     "output_type": "stream",
     "text": [
      "--------------------------------------\n",
      "epoch: 2154, nuqls loss : 2.04e-06\n"
     ]
    },
    {
     "name": "stderr",
     "output_type": "stream",
     "text": [
      " 90%|█████████ | 9/10 [01:19<00:19, 19.62s/it]"
     ]
    },
    {
     "name": "stdout",
     "output_type": "stream",
     "text": [
      "--------------------------------------\n",
      "epoch: 4641, nuqls loss : 3.101e-10\n"
     ]
    },
    {
     "name": "stderr",
     "output_type": "stream",
     "text": [
      "100%|██████████| 10/10 [02:52<00:00, 17.26s/it]\n"
     ]
    },
    {
     "name": "stdout",
     "output_type": "stream",
     "text": [
      "--------------------------------------\n",
      "epoch: 10000, nuqls loss : 4.535e-18\n"
     ]
    },
    {
     "name": "stderr",
     "output_type": "stream",
     "text": [
      " 10%|█         | 1/10 [00:03<00:32,  3.66s/it]"
     ]
    },
    {
     "name": "stdout",
     "output_type": "stream",
     "text": [
      "--------------------------------------\n",
      "S: 10, nuqls loss : 6.1e-09\n"
     ]
    },
    {
     "name": "stderr",
     "output_type": "stream",
     "text": [
      " 20%|██        | 2/10 [00:07<00:31,  3.90s/it]"
     ]
    },
    {
     "name": "stdout",
     "output_type": "stream",
     "text": [
      "--------------------------------------\n",
      "S: 21, nuqls loss : 4.229e-09\n"
     ]
    },
    {
     "name": "stderr",
     "output_type": "stream",
     "text": [
      " 30%|███       | 3/10 [00:12<00:31,  4.45s/it]"
     ]
    },
    {
     "name": "stdout",
     "output_type": "stream",
     "text": [
      "--------------------------------------\n",
      "S: 46, nuqls loss : 2.766e-09\n"
     ]
    },
    {
     "name": "stderr",
     "output_type": "stream",
     "text": [
      " 40%|████      | 4/10 [00:20<00:35,  5.87s/it]"
     ]
    },
    {
     "name": "stdout",
     "output_type": "stream",
     "text": [
      "--------------------------------------\n",
      "S: 100, nuqls loss : 3.069e-09\n"
     ]
    },
    {
     "name": "stderr",
     "output_type": "stream",
     "text": [
      " 50%|█████     | 5/10 [00:32<00:39,  7.96s/it]"
     ]
    },
    {
     "name": "stdout",
     "output_type": "stream",
     "text": [
      "--------------------------------------\n",
      "S: 215, nuqls loss : 2.833e-09\n"
     ]
    },
    {
     "name": "stderr",
     "output_type": "stream",
     "text": [
      " 60%|██████    | 6/10 [00:52<00:48, 12.18s/it]"
     ]
    },
    {
     "name": "stdout",
     "output_type": "stream",
     "text": [
      "--------------------------------------\n",
      "S: 464, nuqls loss : 2.77e-09\n"
     ]
    },
    {
     "name": "stderr",
     "output_type": "stream",
     "text": [
      " 70%|███████   | 7/10 [01:29<01:00, 20.18s/it]"
     ]
    },
    {
     "name": "stdout",
     "output_type": "stream",
     "text": [
      "--------------------------------------\n",
      "S: 1000, nuqls loss : 2.786e-09\n"
     ]
    },
    {
     "name": "stderr",
     "output_type": "stream",
     "text": [
      " 80%|████████  | 8/10 [02:52<01:20, 40.08s/it]"
     ]
    },
    {
     "name": "stdout",
     "output_type": "stream",
     "text": [
      "--------------------------------------\n",
      "S: 2154, nuqls loss : 2.875e-09\n"
     ]
    },
    {
     "name": "stderr",
     "output_type": "stream",
     "text": [
      " 90%|█████████ | 9/10 [05:52<01:23, 83.75s/it]"
     ]
    },
    {
     "name": "stdout",
     "output_type": "stream",
     "text": [
      "--------------------------------------\n",
      "S: 4641, nuqls loss : 2.964e-09\n"
     ]
    },
    {
     "name": "stderr",
     "output_type": "stream",
     "text": [
      "100%|██████████| 10/10 [10:31<00:00, 63.17s/it] "
     ]
    },
    {
     "name": "stdout",
     "output_type": "stream",
     "text": [
      "--------------------------------------\n",
      "S: 10000, nuqls loss : 2.913e-09\n"
     ]
    },
    {
     "name": "stderr",
     "output_type": "stream",
     "text": [
      "\n"
     ]
    },
    {
     "name": "stdout",
     "output_type": "stream",
     "text": [
      "nn loss : 1.733e-18\n",
      "Cond(J J^T) = 4e+03\n"
     ]
    },
    {
     "name": "stderr",
     "output_type": "stream",
     "text": [
      " 10%|█         | 1/10 [00:00<00:01,  7.30it/s]"
     ]
    },
    {
     "name": "stdout",
     "output_type": "stream",
     "text": [
      "--------------------------------------\n",
      "epoch: 10, nuqls loss : 4.748\n"
     ]
    },
    {
     "name": "stderr",
     "output_type": "stream",
     "text": [
      " 20%|██        | 2/10 [00:00<00:01,  5.03it/s]"
     ]
    },
    {
     "name": "stdout",
     "output_type": "stream",
     "text": [
      "--------------------------------------\n",
      "epoch: 21, nuqls loss : 2.074\n"
     ]
    },
    {
     "name": "stderr",
     "output_type": "stream",
     "text": [
      " 30%|███       | 3/10 [00:00<00:02,  3.05it/s]"
     ]
    },
    {
     "name": "stdout",
     "output_type": "stream",
     "text": [
      "--------------------------------------\n",
      "epoch: 46, nuqls loss : 0.2451\n"
     ]
    },
    {
     "name": "stderr",
     "output_type": "stream",
     "text": [
      " 40%|████      | 4/10 [00:01<00:03,  1.69it/s]"
     ]
    },
    {
     "name": "stdout",
     "output_type": "stream",
     "text": [
      "--------------------------------------\n",
      "epoch: 100, nuqls loss : 0.04029\n"
     ]
    },
    {
     "name": "stderr",
     "output_type": "stream",
     "text": [
      " 50%|█████     | 5/10 [00:03<00:05,  1.10s/it]"
     ]
    },
    {
     "name": "stdout",
     "output_type": "stream",
     "text": [
      "--------------------------------------\n",
      "epoch: 215, nuqls loss : 0.009877\n"
     ]
    },
    {
     "name": "stderr",
     "output_type": "stream",
     "text": [
      " 60%|██████    | 6/10 [00:08<00:08,  2.22s/it]"
     ]
    },
    {
     "name": "stdout",
     "output_type": "stream",
     "text": [
      "--------------------------------------\n",
      "epoch: 464, nuqls loss : 0.00178\n"
     ]
    },
    {
     "name": "stderr",
     "output_type": "stream",
     "text": [
      " 70%|███████   | 7/10 [00:17<00:13,  4.51s/it]"
     ]
    },
    {
     "name": "stdout",
     "output_type": "stream",
     "text": [
      "--------------------------------------\n",
      "epoch: 1000, nuqls loss : 0.0001788\n"
     ]
    },
    {
     "name": "stderr",
     "output_type": "stream",
     "text": [
      " 80%|████████  | 8/10 [00:37<00:19,  9.59s/it]"
     ]
    },
    {
     "name": "stdout",
     "output_type": "stream",
     "text": [
      "--------------------------------------\n",
      "epoch: 2154, nuqls loss : 4.441e-06\n"
     ]
    },
    {
     "name": "stderr",
     "output_type": "stream",
     "text": [
      " 90%|█████████ | 9/10 [01:20<00:19, 19.99s/it]"
     ]
    },
    {
     "name": "stdout",
     "output_type": "stream",
     "text": [
      "--------------------------------------\n",
      "epoch: 4641, nuqls loss : 3.663e-09\n"
     ]
    },
    {
     "name": "stderr",
     "output_type": "stream",
     "text": [
      "100%|██████████| 10/10 [02:53<00:00, 17.34s/it]\n"
     ]
    },
    {
     "name": "stdout",
     "output_type": "stream",
     "text": [
      "--------------------------------------\n",
      "epoch: 10000, nuqls loss : 1.314e-15\n"
     ]
    },
    {
     "name": "stderr",
     "output_type": "stream",
     "text": [
      " 10%|█         | 1/10 [00:03<00:32,  3.62s/it]"
     ]
    },
    {
     "name": "stdout",
     "output_type": "stream",
     "text": [
      "--------------------------------------\n",
      "S: 10, nuqls loss : 3.459e-08\n"
     ]
    },
    {
     "name": "stderr",
     "output_type": "stream",
     "text": [
      " 20%|██        | 2/10 [00:07<00:30,  3.86s/it]"
     ]
    },
    {
     "name": "stdout",
     "output_type": "stream",
     "text": [
      "--------------------------------------\n",
      "S: 21, nuqls loss : 2.309e-08\n"
     ]
    },
    {
     "name": "stderr",
     "output_type": "stream",
     "text": [
      " 30%|███       | 3/10 [00:12<00:31,  4.43s/it]"
     ]
    },
    {
     "name": "stdout",
     "output_type": "stream",
     "text": [
      "--------------------------------------\n",
      "S: 46, nuqls loss : 1.932e-08\n"
     ]
    },
    {
     "name": "stderr",
     "output_type": "stream",
     "text": [
      " 40%|████      | 4/10 [00:20<00:35,  5.87s/it]"
     ]
    },
    {
     "name": "stdout",
     "output_type": "stream",
     "text": [
      "--------------------------------------\n",
      "S: 100, nuqls loss : 2.158e-08\n"
     ]
    },
    {
     "name": "stderr",
     "output_type": "stream",
     "text": [
      " 50%|█████     | 5/10 [00:32<00:40,  8.09s/it]"
     ]
    },
    {
     "name": "stdout",
     "output_type": "stream",
     "text": [
      "--------------------------------------\n",
      "S: 215, nuqls loss : 2.513e-08\n"
     ]
    },
    {
     "name": "stderr",
     "output_type": "stream",
     "text": [
      " 60%|██████    | 6/10 [00:53<00:48, 12.25s/it]"
     ]
    },
    {
     "name": "stdout",
     "output_type": "stream",
     "text": [
      "--------------------------------------\n",
      "S: 464, nuqls loss : 2.324e-08\n"
     ]
    },
    {
     "name": "stderr",
     "output_type": "stream",
     "text": [
      " 70%|███████   | 7/10 [01:30<01:01, 20.37s/it]"
     ]
    },
    {
     "name": "stdout",
     "output_type": "stream",
     "text": [
      "--------------------------------------\n",
      "S: 1000, nuqls loss : 2.184e-08\n"
     ]
    },
    {
     "name": "stderr",
     "output_type": "stream",
     "text": [
      " 80%|████████  | 8/10 [02:53<01:21, 40.52s/it]"
     ]
    },
    {
     "name": "stdout",
     "output_type": "stream",
     "text": [
      "--------------------------------------\n",
      "S: 2154, nuqls loss : 2.227e-08\n"
     ]
    },
    {
     "name": "stderr",
     "output_type": "stream",
     "text": [
      " 90%|█████████ | 9/10 [05:39<01:19, 79.47s/it]"
     ]
    },
    {
     "name": "stdout",
     "output_type": "stream",
     "text": [
      "--------------------------------------\n",
      "S: 4641, nuqls loss : 2.204e-08\n"
     ]
    },
    {
     "name": "stderr",
     "output_type": "stream",
     "text": [
      "100%|██████████| 10/10 [12:09<00:00, 72.94s/it] "
     ]
    },
    {
     "name": "stdout",
     "output_type": "stream",
     "text": [
      "--------------------------------------\n",
      "S: 10000, nuqls loss : 2.196e-08\n"
     ]
    },
    {
     "name": "stderr",
     "output_type": "stream",
     "text": [
      "\n"
     ]
    }
   ],
   "source": [
    "samples = 2\n",
    "n = 100\n",
    "d = 5\n",
    "results_dict = {}\n",
    "\n",
    "# single-layer, width=20, tanh\n",
    "print(f'single-layer, width=20, tanh')\n",
    "layer_widths = [d,20]\n",
    "\n",
    "diff_e_av = []\n",
    "losses_e_av = []\n",
    "diff_s_av = []\n",
    "conds = []\n",
    "\n",
    "for i in range(samples):\n",
    "    diff_e,losses_e,epochs,diff_s,_,s_range,cond_i = convergence(n,d,layer_widths=layer_widths,nonlin='tanh',lr=0.1,verbose=True)\n",
    "    diff_e_av.append(diff_e)\n",
    "    losses_e_av.append(losses_e)\n",
    "    diff_s_av.append(diff_s)\n",
    "    conds.append(cond_i)\n",
    "\n",
    "epoch_sev_avg = torch.tensor(diff_e_av).mean(0); epoch_sev_var = torch.tensor(diff_e_av).var(0)\n",
    "epoch_loss_avg = torch.tensor(losses_e_av).mean(0); epoch_loss_var = torch.tensor(losses_e_av).var(0)\n",
    "s_sev_avg = torch.tensor(diff_s_av).mean(0); s_sev_var = torch.tensor(diff_s_av).var(0)\n",
    "cond_avg = torch.tensor(conds).mean(0)\n",
    "results_dict['tanh_single_20'] = {'epoch_sev_avg': epoch_sev_avg,\n",
    "                                  'epoch_sev_var': epoch_sev_var,\n",
    "                                  'epoch_loss_avg': epoch_loss_avg,\n",
    "                                  'epoch_loss_var': epoch_loss_var,\n",
    "                                  's_sev_avg': s_sev_avg,\n",
    "                                  's_sev_var': s_sev_var,\n",
    "                                  'cond_avg': cond_avg,\n",
    "                                  'epoch_range': epochs,\n",
    "                                  's_range': s_range}\n",
    "torch.save(results_dict,'paper/convergence_result_dict.pt')\n",
    "\n",
    "# single-layer, width=20, relu\n",
    "print(f'single-layer, width=20, relu')\n",
    "layer_widths = [d,20]\n",
    "\n",
    "diff_e_av = []\n",
    "losses_e_av = []\n",
    "diff_s_av = []\n",
    "conds = []\n",
    "\n",
    "for i in range(samples):\n",
    "    diff_e,losses_e,epochs,diff_s,_,s_range,cond_i = convergence(n,d,layer_widths=layer_widths,nonlin='relu',lr=0.1,verbose=True)\n",
    "    diff_e_av.append(diff_e)\n",
    "    losses_e_av.append(losses_e)\n",
    "    diff_s_av.append(diff_s)\n",
    "    conds.append(cond_i)\n",
    "\n",
    "epoch_sev_avg = torch.tensor(diff_e_av).mean(0); epoch_sev_var = torch.tensor(diff_e_av).var(0)\n",
    "epoch_loss_avg = torch.tensor(losses_e_av).mean(0); epoch_loss_var = torch.tensor(losses_e_av).var(0)\n",
    "s_sev_avg = torch.tensor(diff_s_av).mean(0); s_sev_var = torch.tensor(diff_s_av).var(0)\n",
    "cond_avg = torch.tensor(conds).mean(0)\n",
    "results_dict['relu_single_20'] = {'epoch_sev_avg': epoch_sev_avg,\n",
    "                                  'epoch_sev_var': epoch_sev_var,\n",
    "                                  'epoch_loss_avg': epoch_loss_avg,\n",
    "                                  'epoch_loss_var': epoch_loss_var,\n",
    "                                  's_sev_avg': s_sev_avg,\n",
    "                                  's_sev_var': s_sev_var,\n",
    "                                  'cond_avg': cond_avg,\n",
    "                                  'epoch_range': epochs,\n",
    "                                  's_range': s_range}\n",
    "torch.save(results_dict,'paper/convergence_result_dict.pt')\n",
    "\n",
    "# double-layer, width=20, relu\n",
    "print(f'double-layer, width=20, relu')\n",
    "layer_widths = [d,20,20]\n",
    "\n",
    "diff_e_av = []\n",
    "losses_e_av = []\n",
    "diff_s_av = []\n",
    "conds = []\n",
    "\n",
    "for i in range(samples):\n",
    "    diff_e,losses_e,epochs,diff_s,_,s_range,cond_i = convergence(n,d,layer_widths=layer_widths,nonlin='relu',lr=0.1,verbose=True)\n",
    "    diff_e_av.append(diff_e)\n",
    "    losses_e_av.append(losses_e)\n",
    "    diff_s_av.append(diff_s)\n",
    "    conds.append(cond_i)\n",
    "\n",
    "epoch_sev_avg = torch.tensor(diff_e_av).mean(0); epoch_sev_var = torch.tensor(diff_e_av).var(0)\n",
    "epoch_loss_avg = torch.tensor(losses_e_av).mean(0); epoch_loss_var = torch.tensor(losses_e_av).var(0)\n",
    "s_sev_avg = torch.tensor(diff_s_av).mean(0); s_sev_var = torch.tensor(diff_s_av).var(0)\n",
    "cond_avg = torch.tensor(conds).mean(0)\n",
    "results_dict['relu_double_20'] = {'epoch_sev_avg': epoch_sev_avg,\n",
    "                                  'epoch_sev_var': epoch_sev_var,\n",
    "                                  'epoch_loss_avg': epoch_loss_avg,\n",
    "                                  'epoch_loss_var': epoch_loss_var,\n",
    "                                  's_sev_avg': s_sev_avg,\n",
    "                                  's_sev_var': s_sev_var,\n",
    "                                  'cond_avg': cond_avg,\n",
    "                                  'epoch_range': epochs,\n",
    "                                  's_range': s_range}\n",
    "torch.save(results_dict,'paper/convergence_result_dict.pt')\n",
    "\n",
    "# single-layer, width=100, tanh\n",
    "print(f'single-layer, width=100, tanh')\n",
    "layer_widths = [d,100]\n",
    "\n",
    "diff_e_av = []\n",
    "losses_e_av = []\n",
    "diff_s_av = []\n",
    "conds = []\n",
    "\n",
    "for i in range(samples):\n",
    "    diff_e,losses_e,epochs,diff_s,_,s_range,cond_i = convergence(n,d,layer_widths=layer_widths,nonlin='tanh',lr=0.1,verbose=True)\n",
    "    diff_e_av.append(diff_e)\n",
    "    losses_e_av.append(losses_e)\n",
    "    diff_s_av.append(diff_s)\n",
    "    conds.append(cond_i)\n",
    "\n",
    "epoch_sev_avg = torch.tensor(diff_e_av).mean(0); epoch_sev_var = torch.tensor(diff_e_av).var(0)\n",
    "epoch_loss_avg = torch.tensor(losses_e_av).mean(0); epoch_loss_var = torch.tensor(losses_e_av).var(0)\n",
    "s_sev_avg = torch.tensor(diff_s_av).mean(0); s_sev_var = torch.tensor(diff_s_av).var(0)\n",
    "cond_avg = torch.tensor(conds).mean(0)\n",
    "results_dict['tanh_single_100'] = {'epoch_sev_avg': epoch_sev_avg,\n",
    "                                  'epoch_sev_var': epoch_sev_var,\n",
    "                                  'epoch_loss_avg': epoch_loss_avg,\n",
    "                                  'epoch_loss_var': epoch_loss_var,\n",
    "                                  's_sev_avg': s_sev_avg,\n",
    "                                  's_sev_var': s_sev_var,\n",
    "                                  'cond_avg': cond_avg,\n",
    "                                  'epoch_range': epochs,\n",
    "                                  's_range': s_range}\n",
    "torch.save(results_dict,'paper/convergence_result_dict.pt')\n",
    "\n"
   ]
  },
  {
   "cell_type": "code",
   "execution_count": null,
   "metadata": {},
   "outputs": [
    {
     "data": {
      "image/png": "[encoded data removed]",
      "text/plain": [
       "<Figure size 600x600 with 3 Axes>"
      ]
     },
     "metadata": {},
     "output_type": "display_data"
    }
   ],
   "source": [
    "import matplotlib.pyplot as plt\n",
    "import numpy as np\n",
    "from matplotlib.pyplot import cm\n",
    "import torch\n",
    "from math import floor,log10\n",
    "\n",
    "results_dict = torch.load('paper/convergence_result_dict.pt')\n",
    "\n",
    "label_dict = {'tanh_single_20': 'Single-layer, width 20, Tanh',\n",
    "              'relu_single_20': 'Single-layer, width 20, ReLU',\n",
    "              'relu_double_20': 'Double-layer, width 20, ReLU',\n",
    "              'tanh_single_100': 'Single-layer, width 100, Tanh'}\n",
    "\n",
    "w, h, fs = 6, 6, 16\n",
    "fig, (ax1,ax2) = plt.subplots(2,1,figsize=(w,h),frameon=True,)\n",
    "# color = cm.rainbow(np.linspace(0, 1, 4))\n",
    "\n",
    "color = plt.cm.viridis(np.linspace(0.2,0.8,4))\n",
    "\n",
    "ax1t = ax1.twinx()\n",
    "ax1.set_ylabel('SEV', fontsize=fs)\n",
    "ax1.set_xlabel('Epochs', fontsize=fs)\n",
    "ax1.tick_params(labelsize=fs)\n",
    "ax1.xaxis.tick_top()\n",
    "ax1.xaxis.set_label_position('top')\n",
    "ax1t.spines['right'].set_visible(True)\n",
    "ax1t.spines['top'].set_visible(True)\n",
    "ax1t.set_ylabel('Loss', fontsize=fs)\n",
    "ax1t.set_xscale('log')\n",
    "ax1t.tick_params(labelsize=fs)\n",
    "ax2.set_ylabel('SEV', fontsize=fs)\n",
    "ax2.set_xlabel('$s$', fontsize=fs)\n",
    "ax2.set_xscale('log')\n",
    "ax2.tick_params(labelsize=fs)\n",
    "\n",
    "for i,key in enumerate(results_dict.keys()):\n",
    "    exponent = int(floor(log10(abs(results_dict[key]['cond_avg']))))\n",
    "    ax1.plot(results_dict[key]['epoch_range'],\n",
    "             results_dict[key]['epoch_sev_avg'],\n",
    "             color=color[i],marker='o',linestyle='dashed',\n",
    "             label=label_dict[key] + f\" ($10^{exponent}$)\"\n",
    "    )\n",
    "    ax1.fill_between(results_dict[key]['epoch_range'],\n",
    "             results_dict[key]['epoch_sev_avg'] - 1.96 * np.sqrt(results_dict[key]['epoch_sev_var']),\n",
    "             results_dict[key]['epoch_sev_avg'] + 1.96 * np.sqrt(results_dict[key]['epoch_sev_var']),\n",
    "             color=color[i],alpha=0.1)\n",
    "    \n",
    "    ax1t.plot(results_dict[key]['epoch_range'],\n",
    "              results_dict[key]['epoch_loss_avg'],\n",
    "              color=color[i],marker='^',linestyle='none')\n",
    "    ax1t.fill_between(results_dict[key]['epoch_range'],\n",
    "             results_dict[key]['epoch_loss_avg'] - 1.96 * np.sqrt(results_dict[key]['epoch_loss_var']),\n",
    "             results_dict[key]['epoch_loss_avg'] + 1.96 * np.sqrt(results_dict[key]['epoch_loss_var']),\n",
    "             color=color[i],alpha=0.1)\n",
    "    \n",
    "    ax2.plot(results_dict[key]['s_range'],\n",
    "             results_dict[key]['s_sev_avg'],color=color[i],marker='o',linestyle='dashed',)\n",
    "    ax2.fill_between(results_dict[key]['epoch_range'],\n",
    "             results_dict[key]['s_sev_avg'] - 1.96 * np.sqrt(results_dict[key]['s_sev_var']),\n",
    "             results_dict[key]['s_sev_avg'] + 1.96 * np.sqrt(results_dict[key]['s_sev_var']),\n",
    "             color=color[i],alpha=0.1)\n",
    "\n",
    "ax1.legend(fontsize=int(fs * 0.75), frameon=False)\n",
    "fig.tight_layout()\n",
    "plt.subplots_adjust(wspace=0, hspace=0)\n",
    "plt.savefig(fname='paper/epochs_ntk_convergence.pdf', format='pdf')"
   ]
  }
 ],
 "metadata": {
  "kernelspec": {
   "display_name": "Python 3",
   "language": "python",
   "name": "python3"
  },
  "language_info": {
   "codemirror_mode": {
    "name": "ipython",
    "version": 3
   },
   "file_extension": ".py",
   "mimetype": "text/x-python",
   "name": "python",
   "nbconvert_exporter": "python",
   "pygments_lexer": "ipython3",
   "version": "3.11.9"
  }
 },
 "nbformat": 4,
 "nbformat_minor": 2
}
