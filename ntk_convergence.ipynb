{
 "cells": [
  {
   "cell_type": "markdown",
   "metadata": {},
   "source": [
    "# Multiple Plot"
   ]
  },
  {
   "cell_type": "code",
   "execution_count": 25,
   "metadata": {},
   "outputs": [],
   "source": [
    "import torch\n",
    "from functorch import make_functional\n",
    "from torch.func import functional_call, vmap, jacrev, jvp\n",
    "    ## NUQLS\n",
    "import posteriors.nuqls as nuqls\n",
    "from importlib import reload\n",
    "reload(nuqls)\n",
    "from torch.utils.data import DataLoader, Dataset\n",
    "import tqdm\n",
    "\n",
    "class toy_dataset(Dataset):\n",
    "    def __init__(self,x,y):\n",
    "        self.x = x\n",
    "        self.y = y\n",
    "\n",
    "    def __len__(self):\n",
    "        return self.x.shape[0]\n",
    "\n",
    "    def __getitem__(self, i):\n",
    "        return self.x[i], self.y[i]\n",
    "    \n",
    "class variable_mlp(torch.nn.Module):\n",
    "    def __init__(self,layer_width,nonlin):\n",
    "        super().__init__()\n",
    "        self.layer_width = layer_width\n",
    "        self.linear_layers = torch.nn.ModuleList([torch.nn.Linear(layer_width[i],layer_width[i+1], bias=True) for i in range(len(self.layer_width)-1)])\n",
    "        self.lin_out = torch.nn.Linear(self.layer_width[-1],1, bias=True)\n",
    "        if nonlin=='tanh':\n",
    "            self.act = torch.nn.Tanh()\n",
    "        elif nonlin=='relu':\n",
    "            self.act = torch.nn.ReLU()\n",
    "\n",
    "        for lin in self.linear_layers:\n",
    "            torch.nn.init.normal_(lin.weight, 0, 1)\n",
    "        torch.nn.init.normal_(self.lin_out.weight, 0, 1)\n",
    "\n",
    "    # Return full output of nn\n",
    "    def forward(self,x):\n",
    "        for i, lin in enumerate(self.linear_layers):\n",
    "            x = self.act(lin(x)) / (self.layer_width[i]**0.5)\n",
    "        return self.lin_out(x)\n",
    "\n",
    "def convergence(n,d,layer_widths,nonlin,lr=1,verbose=False):\n",
    "    X = torch.randn((n,d))\n",
    "    Y = torch.randn((n,1))\n",
    "\n",
    "    X_test = torch.randn((n,d))\n",
    "\n",
    "    net = variable_mlp(layer_width=layer_widths,nonlin=nonlin)\n",
    "\n",
    "    optimizer = torch.optim.SGD(net.parameters(),lr=0.1,momentum=0.9)\n",
    "    loss_fn = torch.nn.MSELoss()\n",
    "    for i in range(5000):\n",
    "        optimizer.zero_grad()\n",
    "        pred = net(X)\n",
    "        loss = loss_fn(pred,Y)\n",
    "        loss.backward()\n",
    "        optimizer.step()\n",
    "\n",
    "    if verbose:\n",
    "        print(f'nn loss : {loss.item():.4}')\n",
    "\n",
    "    # Compute NTKGP\n",
    "    fnet, params = make_functional(net)\n",
    "\n",
    "    ## Compute jacobian of net, evaluated on training set\n",
    "    def fnet_single(params, x):\n",
    "        return fnet(params, x.unsqueeze(0)).squeeze(0)\n",
    "\n",
    "    def Jx(Xs):\n",
    "        J = vmap(jacrev(fnet_single), (None, 0))(params, Xs)\n",
    "        # J = [j.detach().flatten(1) for j in J]\n",
    "        # J = torch.cat(J,dim=1).detach()\n",
    "        J = J[-2].detach().flatten(1).detach() # For last-layer test\n",
    "        return J\n",
    "\n",
    "    lam = 1e-12\n",
    "    scale = 1\n",
    "    Jtrain = Jx(X)\n",
    "    NTK_X = Jtrain @ Jtrain.T + lam*torch.eye(n)\n",
    "    cond = torch.linalg.cond(NTK_X).item()\n",
    "    print(f'Cond(J J^T) = {cond:.1}')\n",
    "    print(f'Rank: {torch.linalg.matrix_rank(Jtrain)}')\n",
    "    print(f'min eigenv: {torch.linalg.eigvalsh(NTK_X).min()}')\n",
    "\n",
    "    var_ntk = []\n",
    "    for xi in X_test:\n",
    "        Jsingle = Jx(xi.unsqueeze(0))\n",
    "        KXx = Jtrain @ Jsingle.T\n",
    "        var = Jsingle @ Jsingle.T - KXx.T @ torch.linalg.solve(NTK_X,KXx)\n",
    "        var_ntk.append(var)\n",
    "    var_ntk = torch.tensor(var_ntk)*scale\n",
    "    \n",
    "    train_data = toy_dataset(X,Y)\n",
    "    test_data = toy_dataset(X_test,Y)\n",
    "\n",
    "    diff_e = []\n",
    "    losses_e = []\n",
    "\n",
    "    epochs = torch.logspace(1,4,10)\n",
    "    for epoch in tqdm.tqdm(epochs):\n",
    "        # nuql_test_preds, loss = nuqls.regression_parallel(net, train=train_data, test=test_data, ood_test=None, train_bs = n, test_bs =n, \n",
    "        #                                             S = 1000, scale=1, lr=8, epochs=int(epoch.item()), mu=0.9)\n",
    "        \n",
    "        nuql = nuqls.small_regression_parallel_width(net, train=train_data, S = 1000, epochs=int(epoch.item()), lr=lr, bs=n, bs_test=n, width=layer_widths[-1], init_scale=scale)\n",
    "        loss,_ = nuql.train_linear(mu=0.9,weight_decay=0,my=0,sy=1,threshold=None,verbose=False, progress_bar=False)\n",
    "        nuql_test_preds = nuql.test_linear(test=test_data)\n",
    "        \n",
    "        var_nuqls = nuql_test_preds.var(1)\n",
    "\n",
    "        print(f'epoch: {epoch}, convergence = {torch.linalg.norm(var_nuqls - var_ntk)}')\n",
    "        diff_e.append(torch.linalg.norm(var_nuqls - var_ntk).item())\n",
    "        losses_e.append(loss)\n",
    "        if verbose:\n",
    "            print('--------------------------------------')\n",
    "            print(f'epoch: {int(epoch)}, nuqls loss : {loss.item():.4}')\n",
    "\n",
    "    diff_s = []\n",
    "    losses_s = []\n",
    "\n",
    "    s_range = torch.logspace(1,3,10)\n",
    "    for s in tqdm.tqdm(s_range):\n",
    "        # nuql_test_preds, loss = nuqls.regression_parallel(net, train=train_data, test=test_data, ood_test=None, train_bs = n, test_bs =n, \n",
    "        #                                             S = int(s.item()), scale=1, lr=8, epochs=4000, mu=0.9)\n",
    "        \n",
    "        nuql = nuqls.small_regression_parallel_width(net, train=train_data, S = int(s.item()), epochs=10000, lr=lr, bs=n, bs_test=n, width=layer_widths[-1], init_scale=1)\n",
    "        loss,_ = nuql.train_linear(mu=0.9,weight_decay=0,my=0,sy=1,threshold=None,verbose=False, progress_bar=False)\n",
    "        nuql_test_preds = nuql.test_linear(test=test_data)\n",
    "        \n",
    "        var_nuqls = nuql_test_preds.var(1)\n",
    "\n",
    "        # print(f's: {s}, convergence = {torch.linalg.norm(var_nuqls - var_ntk)}')\n",
    "        diff_s.append(torch.linalg.norm(var_nuqls - var_ntk).item())\n",
    "        losses_s.append(loss)\n",
    "        if verbose:\n",
    "            print('--------------------------------------')\n",
    "            print(f'S: {int(s)}, nuqls loss : {loss.item():.4}')\n",
    "\n",
    "    return diff_e,losses_e,epochs,diff_s,losses_s,s_range,cond\n"
   ]
  },
  {
   "cell_type": "code",
   "execution_count": 26,
   "metadata": {},
   "outputs": [
    {
     "name": "stdout",
     "output_type": "stream",
     "text": [
      "single-layer, width=20, tanh\n",
      "nn loss : 9.493e-08\n",
      "Cond(J J^T) = 9e+13\n",
      "Rank: 20\n",
      "min eigenv: 9.887880398231728e-13\n"
     ]
    },
    {
     "name": "stderr",
     "output_type": "stream",
     "text": [
      "  0%|          | 0/10 [00:00<?, ?it/s]"
     ]
    },
    {
     "name": "stdout",
     "output_type": "stream",
     "text": [
      "epoch: 10.0, convergence = 9.146445935398784\n",
      "--------------------------------------\n",
      "epoch: 10, nuqls loss : 0.8224\n",
      "epoch: 21.544346900318832, convergence = 3.4581768720758492\n",
      "--------------------------------------\n",
      "epoch: 21, nuqls loss : 0.2954\n",
      "epoch: 46.41588833612777, convergence = 0.7541739552487677\n",
      "--------------------------------------\n",
      "epoch: 46, nuqls loss : 0.04938\n"
     ]
    },
    {
     "name": "stderr",
     "output_type": "stream",
     "text": [
      " 40%|████      | 4/10 [00:00<00:00, 24.06it/s]"
     ]
    },
    {
     "name": "stdout",
     "output_type": "stream",
     "text": [
      "epoch: 100.0, convergence = 0.18366799841034837\n",
      "--------------------------------------\n",
      "epoch: 100, nuqls loss : 0.008855\n",
      "epoch: 215.44346900318823, convergence = 0.024974741431726726\n",
      "--------------------------------------\n",
      "epoch: 215, nuqls loss : 0.001002\n",
      "epoch: 464.1588833612782, convergence = 0.0006938540470233769\n",
      "--------------------------------------\n",
      "epoch: 464, nuqls loss : 2.527e-05\n"
     ]
    },
    {
     "name": "stderr",
     "output_type": "stream",
     "text": [
      " 70%|███████   | 7/10 [00:01<00:00,  4.04it/s]"
     ]
    },
    {
     "name": "stdout",
     "output_type": "stream",
     "text": [
      "epoch: 1000.0, convergence = 4.592150378859254e-07\n",
      "--------------------------------------\n",
      "epoch: 1000, nuqls loss : 1.101e-07\n",
      "epoch: 2154.4346900318847, convergence = 2.4838596730025124e-12\n",
      "--------------------------------------\n",
      "epoch: 2154, nuqls loss : 9.345e-08\n"
     ]
    },
    {
     "name": "stderr",
     "output_type": "stream",
     "text": [
      " 90%|█████████ | 9/10 [00:06<00:01,  1.01s/it]"
     ]
    },
    {
     "name": "stdout",
     "output_type": "stream",
     "text": [
      "epoch: 4641.588833612777, convergence = 2.5322053974527857e-12\n",
      "--------------------------------------\n",
      "epoch: 4641, nuqls loss : 9.345e-08\n"
     ]
    },
    {
     "name": "stderr",
     "output_type": "stream",
     "text": [
      "100%|██████████| 10/10 [00:14<00:00,  1.42s/it]\n"
     ]
    },
    {
     "name": "stdout",
     "output_type": "stream",
     "text": [
      "epoch: 10000.0, convergence = 2.5322053974527857e-12\n",
      "--------------------------------------\n",
      "epoch: 10000, nuqls loss : 9.345e-08\n"
     ]
    },
    {
     "name": "stderr",
     "output_type": "stream",
     "text": [
      " 10%|█         | 1/10 [00:01<00:11,  1.23s/it]"
     ]
    },
    {
     "name": "stdout",
     "output_type": "stream",
     "text": [
      "--------------------------------------\n",
      "S: 10, nuqls loss : 9.345e-08\n"
     ]
    },
    {
     "name": "stderr",
     "output_type": "stream",
     "text": [
      " 20%|██        | 2/10 [00:02<00:09,  1.24s/it]"
     ]
    },
    {
     "name": "stdout",
     "output_type": "stream",
     "text": [
      "--------------------------------------\n",
      "S: 16, nuqls loss : 9.345e-08\n"
     ]
    },
    {
     "name": "stderr",
     "output_type": "stream",
     "text": [
      " 30%|███       | 3/10 [00:03<00:08,  1.28s/it]"
     ]
    },
    {
     "name": "stdout",
     "output_type": "stream",
     "text": [
      "--------------------------------------\n",
      "S: 27, nuqls loss : 9.345e-08\n"
     ]
    },
    {
     "name": "stderr",
     "output_type": "stream",
     "text": [
      " 40%|████      | 4/10 [00:06<00:12,  2.03s/it]"
     ]
    },
    {
     "name": "stdout",
     "output_type": "stream",
     "text": [
      "--------------------------------------\n",
      "S: 46, nuqls loss : 9.345e-08\n"
     ]
    },
    {
     "name": "stderr",
     "output_type": "stream",
     "text": [
      " 50%|█████     | 5/10 [00:10<00:12,  2.58s/it]"
     ]
    },
    {
     "name": "stdout",
     "output_type": "stream",
     "text": [
      "--------------------------------------\n",
      "S: 77, nuqls loss : 9.345e-08\n"
     ]
    },
    {
     "name": "stderr",
     "output_type": "stream",
     "text": [
      " 60%|██████    | 6/10 [00:14<00:11,  2.99s/it]"
     ]
    },
    {
     "name": "stdout",
     "output_type": "stream",
     "text": [
      "--------------------------------------\n",
      "S: 129, nuqls loss : 9.345e-08\n"
     ]
    },
    {
     "name": "stderr",
     "output_type": "stream",
     "text": [
      " 70%|███████   | 7/10 [00:18<00:10,  3.38s/it]"
     ]
    },
    {
     "name": "stdout",
     "output_type": "stream",
     "text": [
      "--------------------------------------\n",
      "S: 215, nuqls loss : 9.345e-08\n"
     ]
    },
    {
     "name": "stderr",
     "output_type": "stream",
     "text": [
      " 80%|████████  | 8/10 [00:25<00:08,  4.40s/it]"
     ]
    },
    {
     "name": "stdout",
     "output_type": "stream",
     "text": [
      "--------------------------------------\n",
      "S: 359, nuqls loss : 9.345e-08\n"
     ]
    },
    {
     "name": "stderr",
     "output_type": "stream",
     "text": [
      " 90%|█████████ | 9/10 [00:32<00:05,  5.42s/it]"
     ]
    },
    {
     "name": "stdout",
     "output_type": "stream",
     "text": [
      "--------------------------------------\n",
      "S: 599, nuqls loss : 9.345e-08\n"
     ]
    },
    {
     "name": "stderr",
     "output_type": "stream",
     "text": [
      "100%|██████████| 10/10 [00:40<00:00,  4.05s/it]"
     ]
    },
    {
     "name": "stdout",
     "output_type": "stream",
     "text": [
      "--------------------------------------\n",
      "S: 1000, nuqls loss : 9.345e-08\n"
     ]
    },
    {
     "name": "stderr",
     "output_type": "stream",
     "text": [
      "\n"
     ]
    },
    {
     "name": "stdout",
     "output_type": "stream",
     "text": [
      "nn loss : 2.002e-08\n",
      "Cond(J J^T) = 8e+13\n",
      "Rank: 20\n",
      "min eigenv: 9.929936504536135e-13\n"
     ]
    },
    {
     "name": "stderr",
     "output_type": "stream",
     "text": [
      "  0%|          | 0/10 [00:00<?, ?it/s]"
     ]
    },
    {
     "name": "stdout",
     "output_type": "stream",
     "text": [
      "epoch: 10.0, convergence = 7.754741892459195\n",
      "--------------------------------------\n",
      "epoch: 10, nuqls loss : 0.7338\n",
      "epoch: 21.544346900318832, convergence = 3.66074921093745\n",
      "--------------------------------------\n",
      "epoch: 21, nuqls loss : 0.3127\n",
      "epoch: 46.41588833612777, convergence = 0.9002033032301683\n",
      "--------------------------------------\n",
      "epoch: 46, nuqls loss : 0.05248\n"
     ]
    },
    {
     "name": "stderr",
     "output_type": "stream",
     "text": [
      " 40%|████      | 4/10 [00:00<00:00, 22.67it/s]"
     ]
    },
    {
     "name": "stdout",
     "output_type": "stream",
     "text": [
      "epoch: 100.0, convergence = 0.24890356606608066\n",
      "--------------------------------------\n",
      "epoch: 100, nuqls loss : 0.00747\n",
      "epoch: 215.44346900318823, convergence = 0.06914086826645202\n",
      "--------------------------------------\n",
      "epoch: 215, nuqls loss : 0.001291\n",
      "epoch: 464.1588833612782, convergence = 0.007389632207667363\n",
      "--------------------------------------\n",
      "epoch: 464, nuqls loss : 8.989e-05\n"
     ]
    },
    {
     "name": "stderr",
     "output_type": "stream",
     "text": [
      " 70%|███████   | 7/10 [00:01<00:00,  4.24it/s]"
     ]
    },
    {
     "name": "stdout",
     "output_type": "stream",
     "text": [
      "epoch: 1000.0, convergence = 7.064230061553437e-05\n",
      "--------------------------------------\n",
      "epoch: 1000, nuqls loss : 7.844e-07\n",
      "epoch: 2154.4346900318847, convergence = 3.233898316323715e-09\n",
      "--------------------------------------\n",
      "epoch: 2154, nuqls loss : 1.962e-08\n"
     ]
    },
    {
     "name": "stderr",
     "output_type": "stream",
     "text": [
      " 90%|█████████ | 9/10 [00:06<00:01,  1.00s/it]"
     ]
    },
    {
     "name": "stdout",
     "output_type": "stream",
     "text": [
      "epoch: 4641.588833612777, convergence = 3.0210469699870143e-12\n",
      "--------------------------------------\n",
      "epoch: 4641, nuqls loss : 1.958e-08\n"
     ]
    },
    {
     "name": "stderr",
     "output_type": "stream",
     "text": [
      "100%|██████████| 10/10 [00:13<00:00,  1.40s/it]\n"
     ]
    },
    {
     "name": "stdout",
     "output_type": "stream",
     "text": [
      "epoch: 10000.0, convergence = 3.0210479930182967e-12\n",
      "--------------------------------------\n",
      "epoch: 10000, nuqls loss : 1.958e-08\n"
     ]
    },
    {
     "name": "stderr",
     "output_type": "stream",
     "text": [
      " 10%|█         | 1/10 [00:01<00:11,  1.27s/it]"
     ]
    },
    {
     "name": "stdout",
     "output_type": "stream",
     "text": [
      "--------------------------------------\n",
      "S: 10, nuqls loss : 1.958e-08\n"
     ]
    },
    {
     "name": "stderr",
     "output_type": "stream",
     "text": [
      " 20%|██        | 2/10 [00:02<00:10,  1.30s/it]"
     ]
    },
    {
     "name": "stdout",
     "output_type": "stream",
     "text": [
      "--------------------------------------\n",
      "S: 16, nuqls loss : 1.958e-08\n"
     ]
    },
    {
     "name": "stderr",
     "output_type": "stream",
     "text": [
      " 30%|███       | 3/10 [00:03<00:09,  1.33s/it]"
     ]
    },
    {
     "name": "stdout",
     "output_type": "stream",
     "text": [
      "--------------------------------------\n",
      "S: 27, nuqls loss : 1.958e-08\n"
     ]
    },
    {
     "name": "stderr",
     "output_type": "stream",
     "text": [
      " 40%|████      | 4/10 [00:07<00:12,  2.08s/it]"
     ]
    },
    {
     "name": "stdout",
     "output_type": "stream",
     "text": [
      "--------------------------------------\n",
      "S: 46, nuqls loss : 1.958e-08\n"
     ]
    },
    {
     "name": "stderr",
     "output_type": "stream",
     "text": [
      " 50%|█████     | 5/10 [00:10<00:12,  2.55s/it]"
     ]
    },
    {
     "name": "stdout",
     "output_type": "stream",
     "text": [
      "--------------------------------------\n",
      "S: 77, nuqls loss : 1.958e-08\n"
     ]
    },
    {
     "name": "stderr",
     "output_type": "stream",
     "text": [
      " 60%|██████    | 6/10 [00:14<00:11,  2.97s/it]"
     ]
    },
    {
     "name": "stdout",
     "output_type": "stream",
     "text": [
      "--------------------------------------\n",
      "S: 129, nuqls loss : 1.958e-08\n"
     ]
    },
    {
     "name": "stderr",
     "output_type": "stream",
     "text": [
      " 70%|███████   | 7/10 [00:18<00:09,  3.33s/it]"
     ]
    },
    {
     "name": "stdout",
     "output_type": "stream",
     "text": [
      "--------------------------------------\n",
      "S: 215, nuqls loss : 1.958e-08\n"
     ]
    },
    {
     "name": "stderr",
     "output_type": "stream",
     "text": [
      " 80%|████████  | 8/10 [00:24<00:08,  4.29s/it]"
     ]
    },
    {
     "name": "stdout",
     "output_type": "stream",
     "text": [
      "--------------------------------------\n",
      "S: 359, nuqls loss : 1.958e-08\n"
     ]
    },
    {
     "name": "stderr",
     "output_type": "stream",
     "text": [
      " 90%|█████████ | 9/10 [00:31<00:05,  5.16s/it]"
     ]
    },
    {
     "name": "stdout",
     "output_type": "stream",
     "text": [
      "--------------------------------------\n",
      "S: 599, nuqls loss : 1.958e-08\n"
     ]
    },
    {
     "name": "stderr",
     "output_type": "stream",
     "text": [
      "100%|██████████| 10/10 [00:39<00:00,  3.92s/it]"
     ]
    },
    {
     "name": "stdout",
     "output_type": "stream",
     "text": [
      "--------------------------------------\n",
      "S: 1000, nuqls loss : 1.958e-08\n",
      "single-layer, width=20, relu\n"
     ]
    },
    {
     "name": "stderr",
     "output_type": "stream",
     "text": [
      "\n"
     ]
    },
    {
     "name": "stdout",
     "output_type": "stream",
     "text": [
      "nn loss : 0.005206\n",
      "Cond(J J^T) = 5e+14\n",
      "Rank: 20\n",
      "min eigenv: 9.431592845529019e-13\n"
     ]
    },
    {
     "name": "stderr",
     "output_type": "stream",
     "text": [
      "  0%|          | 0/10 [00:00<?, ?it/s]"
     ]
    },
    {
     "name": "stdout",
     "output_type": "stream",
     "text": [
      "epoch: 10.0, convergence = 48.82798579832761\n",
      "--------------------------------------\n",
      "epoch: 10, nuqls loss : 2.45\n",
      "epoch: 21.544346900318832, convergence = 21.19648276879154\n",
      "--------------------------------------\n",
      "epoch: 21, nuqls loss : 1.034\n",
      "epoch: 46.41588833612777, convergence = 2.2217519276069537\n",
      "--------------------------------------\n",
      "epoch: 46, nuqls loss : 0.06129\n"
     ]
    },
    {
     "name": "stderr",
     "output_type": "stream",
     "text": [
      " 40%|████      | 4/10 [00:00<00:00, 23.99it/s]"
     ]
    },
    {
     "name": "stdout",
     "output_type": "stream",
     "text": [
      "epoch: 100.0, convergence = 0.6541633222401187\n",
      "--------------------------------------\n",
      "epoch: 100, nuqls loss : 0.01109\n",
      "epoch: 215.44346900318823, convergence = 0.16611229842926642\n",
      "--------------------------------------\n",
      "epoch: 215, nuqls loss : 0.004822\n",
      "epoch: 464.1588833612782, convergence = 0.029133050550071603\n",
      "--------------------------------------\n",
      "epoch: 464, nuqls loss : 0.002948\n"
     ]
    },
    {
     "name": "stderr",
     "output_type": "stream",
     "text": [
      " 70%|███████   | 7/10 [00:01<00:00,  4.18it/s]"
     ]
    },
    {
     "name": "stdout",
     "output_type": "stream",
     "text": [
      "epoch: 1000.0, convergence = 0.0014826389149752853\n",
      "--------------------------------------\n",
      "epoch: 1000, nuqls loss : 0.002525\n",
      "epoch: 2154.4346900318847, convergence = 3.6822216109173713e-06\n",
      "--------------------------------------\n",
      "epoch: 2154, nuqls loss : 0.0025\n"
     ]
    },
    {
     "name": "stderr",
     "output_type": "stream",
     "text": [
      " 90%|█████████ | 9/10 [00:06<00:01,  1.02s/it]"
     ]
    },
    {
     "name": "stdout",
     "output_type": "stream",
     "text": [
      "epoch: 4641.588833612777, convergence = 1.0850423153377514e-11\n",
      "--------------------------------------\n",
      "epoch: 4641, nuqls loss : 0.0025\n"
     ]
    },
    {
     "name": "stderr",
     "output_type": "stream",
     "text": [
      "100%|██████████| 10/10 [00:14<00:00,  1.41s/it]\n"
     ]
    },
    {
     "name": "stdout",
     "output_type": "stream",
     "text": [
      "epoch: 10000.0, convergence = 7.098437810733232e-12\n",
      "--------------------------------------\n",
      "epoch: 10000, nuqls loss : 0.0025\n"
     ]
    },
    {
     "name": "stderr",
     "output_type": "stream",
     "text": [
      " 10%|█         | 1/10 [00:01<00:11,  1.24s/it]"
     ]
    },
    {
     "name": "stdout",
     "output_type": "stream",
     "text": [
      "--------------------------------------\n",
      "S: 10, nuqls loss : 0.0025\n"
     ]
    },
    {
     "name": "stderr",
     "output_type": "stream",
     "text": [
      " 20%|██        | 2/10 [00:02<00:09,  1.20s/it]"
     ]
    },
    {
     "name": "stdout",
     "output_type": "stream",
     "text": [
      "--------------------------------------\n",
      "S: 16, nuqls loss : 0.0025\n"
     ]
    },
    {
     "name": "stderr",
     "output_type": "stream",
     "text": [
      " 30%|███       | 3/10 [00:03<00:08,  1.25s/it]"
     ]
    },
    {
     "name": "stdout",
     "output_type": "stream",
     "text": [
      "--------------------------------------\n",
      "S: 27, nuqls loss : 0.0025\n"
     ]
    },
    {
     "name": "stderr",
     "output_type": "stream",
     "text": [
      " 40%|████      | 4/10 [00:07<00:12,  2.06s/it]"
     ]
    },
    {
     "name": "stdout",
     "output_type": "stream",
     "text": [
      "--------------------------------------\n",
      "S: 46, nuqls loss : 0.0025\n"
     ]
    },
    {
     "name": "stderr",
     "output_type": "stream",
     "text": [
      " 50%|█████     | 5/10 [00:10<00:12,  2.57s/it]"
     ]
    },
    {
     "name": "stdout",
     "output_type": "stream",
     "text": [
      "--------------------------------------\n",
      "S: 77, nuqls loss : 0.0025\n"
     ]
    },
    {
     "name": "stderr",
     "output_type": "stream",
     "text": [
      " 60%|██████    | 6/10 [00:14<00:11,  2.96s/it]"
     ]
    },
    {
     "name": "stdout",
     "output_type": "stream",
     "text": [
      "--------------------------------------\n",
      "S: 129, nuqls loss : 0.0025\n"
     ]
    },
    {
     "name": "stderr",
     "output_type": "stream",
     "text": [
      " 70%|███████   | 7/10 [00:18<00:10,  3.37s/it]"
     ]
    },
    {
     "name": "stdout",
     "output_type": "stream",
     "text": [
      "--------------------------------------\n",
      "S: 215, nuqls loss : 0.0025\n"
     ]
    },
    {
     "name": "stderr",
     "output_type": "stream",
     "text": [
      " 80%|████████  | 8/10 [00:24<00:08,  4.35s/it]"
     ]
    },
    {
     "name": "stdout",
     "output_type": "stream",
     "text": [
      "--------------------------------------\n",
      "S: 359, nuqls loss : 0.0025\n"
     ]
    },
    {
     "name": "stderr",
     "output_type": "stream",
     "text": [
      " 90%|█████████ | 9/10 [00:31<00:05,  5.12s/it]"
     ]
    },
    {
     "name": "stdout",
     "output_type": "stream",
     "text": [
      "--------------------------------------\n",
      "S: 599, nuqls loss : 0.0025\n"
     ]
    },
    {
     "name": "stderr",
     "output_type": "stream",
     "text": [
      "100%|██████████| 10/10 [00:38<00:00,  3.90s/it]"
     ]
    },
    {
     "name": "stdout",
     "output_type": "stream",
     "text": [
      "--------------------------------------\n",
      "S: 1000, nuqls loss : 0.0025\n"
     ]
    },
    {
     "name": "stderr",
     "output_type": "stream",
     "text": [
      "\n"
     ]
    },
    {
     "name": "stdout",
     "output_type": "stream",
     "text": [
      "nn loss : 0.0166\n",
      "Cond(J J^T) = 8e+14\n",
      "Rank: 18\n",
      "min eigenv: 9.588994110800146e-13\n"
     ]
    },
    {
     "name": "stderr",
     "output_type": "stream",
     "text": [
      "  0%|          | 0/10 [00:00<?, ?it/s]"
     ]
    },
    {
     "name": "stdout",
     "output_type": "stream",
     "text": [
      "epoch: 10.0, convergence = 67.65012626794841\n",
      "--------------------------------------\n",
      "epoch: 10, nuqls loss : 4.149\n",
      "epoch: 21.544346900318832, convergence = 16.482640841142974\n",
      "--------------------------------------\n",
      "epoch: 21, nuqls loss : 0.9989\n",
      "epoch: 46.41588833612777, convergence = 1.3286400667802274\n",
      "--------------------------------------\n",
      "epoch: 46, nuqls loss : 0.07759\n"
     ]
    },
    {
     "name": "stderr",
     "output_type": "stream",
     "text": [
      " 40%|████      | 4/10 [00:00<00:00, 24.29it/s]"
     ]
    },
    {
     "name": "stdout",
     "output_type": "stream",
     "text": [
      "epoch: 100.0, convergence = 0.2381743461345519\n",
      "--------------------------------------\n",
      "epoch: 100, nuqls loss : 0.02034\n",
      "epoch: 215.44346900318823, convergence = 0.07242465239761248\n",
      "--------------------------------------\n",
      "epoch: 215, nuqls loss : 0.017\n",
      "epoch: 464.1588833612782, convergence = 0.008160908129085034\n",
      "--------------------------------------\n",
      "epoch: 464, nuqls loss : 0.01636\n"
     ]
    },
    {
     "name": "stderr",
     "output_type": "stream",
     "text": [
      " 70%|███████   | 7/10 [00:01<00:00,  4.29it/s]"
     ]
    },
    {
     "name": "stdout",
     "output_type": "stream",
     "text": [
      "epoch: 1000.0, convergence = 0.005551139764231573\n",
      "--------------------------------------\n",
      "epoch: 1000, nuqls loss : 0.01629\n",
      "epoch: 2154.4346900318847, convergence = 0.010870180888440205\n",
      "--------------------------------------\n",
      "epoch: 2154, nuqls loss : 0.01629\n"
     ]
    },
    {
     "name": "stderr",
     "output_type": "stream",
     "text": [
      " 90%|█████████ | 9/10 [00:06<00:01,  1.01s/it]"
     ]
    },
    {
     "name": "stdout",
     "output_type": "stream",
     "text": [
      "epoch: 4641.588833612777, convergence = 0.002694412292456297\n",
      "--------------------------------------\n",
      "epoch: 4641, nuqls loss : 0.01629\n"
     ]
    },
    {
     "name": "stderr",
     "output_type": "stream",
     "text": [
      "100%|██████████| 10/10 [00:14<00:00,  1.42s/it]\n"
     ]
    },
    {
     "name": "stdout",
     "output_type": "stream",
     "text": [
      "epoch: 10000.0, convergence = 0.001785879510567205\n",
      "--------------------------------------\n",
      "epoch: 10000, nuqls loss : 0.01629\n"
     ]
    },
    {
     "name": "stderr",
     "output_type": "stream",
     "text": [
      " 10%|█         | 1/10 [00:01<00:10,  1.20s/it]"
     ]
    },
    {
     "name": "stdout",
     "output_type": "stream",
     "text": [
      "--------------------------------------\n",
      "S: 10, nuqls loss : 0.01629\n"
     ]
    },
    {
     "name": "stderr",
     "output_type": "stream",
     "text": [
      " 20%|██        | 2/10 [00:02<00:09,  1.19s/it]"
     ]
    },
    {
     "name": "stdout",
     "output_type": "stream",
     "text": [
      "--------------------------------------\n",
      "S: 16, nuqls loss : 0.01629\n"
     ]
    },
    {
     "name": "stderr",
     "output_type": "stream",
     "text": [
      " 30%|███       | 3/10 [00:03<00:08,  1.26s/it]"
     ]
    },
    {
     "name": "stdout",
     "output_type": "stream",
     "text": [
      "--------------------------------------\n",
      "S: 27, nuqls loss : 0.01629\n"
     ]
    },
    {
     "name": "stderr",
     "output_type": "stream",
     "text": [
      " 40%|████      | 4/10 [00:07<00:12,  2.06s/it]"
     ]
    },
    {
     "name": "stdout",
     "output_type": "stream",
     "text": [
      "--------------------------------------\n",
      "S: 46, nuqls loss : 0.01629\n"
     ]
    },
    {
     "name": "stderr",
     "output_type": "stream",
     "text": [
      " 50%|█████     | 5/10 [00:10<00:12,  2.51s/it]"
     ]
    },
    {
     "name": "stdout",
     "output_type": "stream",
     "text": [
      "--------------------------------------\n",
      "S: 77, nuqls loss : 0.01629\n"
     ]
    },
    {
     "name": "stderr",
     "output_type": "stream",
     "text": [
      " 60%|██████    | 6/10 [00:13<00:11,  2.89s/it]"
     ]
    },
    {
     "name": "stdout",
     "output_type": "stream",
     "text": [
      "--------------------------------------\n",
      "S: 129, nuqls loss : 0.01629\n"
     ]
    },
    {
     "name": "stderr",
     "output_type": "stream",
     "text": [
      " 70%|███████   | 7/10 [00:17<00:09,  3.26s/it]"
     ]
    },
    {
     "name": "stdout",
     "output_type": "stream",
     "text": [
      "--------------------------------------\n",
      "S: 215, nuqls loss : 0.01629\n"
     ]
    },
    {
     "name": "stderr",
     "output_type": "stream",
     "text": [
      " 80%|████████  | 8/10 [00:24<00:08,  4.17s/it]"
     ]
    },
    {
     "name": "stdout",
     "output_type": "stream",
     "text": [
      "--------------------------------------\n",
      "S: 359, nuqls loss : 0.01629\n"
     ]
    },
    {
     "name": "stderr",
     "output_type": "stream",
     "text": [
      " 90%|█████████ | 9/10 [00:31<00:05,  5.07s/it]"
     ]
    },
    {
     "name": "stdout",
     "output_type": "stream",
     "text": [
      "--------------------------------------\n",
      "S: 599, nuqls loss : 0.01629\n"
     ]
    },
    {
     "name": "stderr",
     "output_type": "stream",
     "text": [
      "100%|██████████| 10/10 [00:38<00:00,  3.84s/it]"
     ]
    },
    {
     "name": "stdout",
     "output_type": "stream",
     "text": [
      "--------------------------------------\n",
      "S: 1000, nuqls loss : 0.01629\n",
      "double-layer, width=20, relu\n"
     ]
    },
    {
     "name": "stderr",
     "output_type": "stream",
     "text": [
      "\n"
     ]
    },
    {
     "name": "stdout",
     "output_type": "stream",
     "text": [
      "nn loss : 2.742e-15\n",
      "Cond(J J^T) = 3e+14\n",
      "Rank: 20\n",
      "min eigenv: 9.554856191162337e-13\n"
     ]
    },
    {
     "name": "stderr",
     "output_type": "stream",
     "text": [
      "  0%|          | 0/10 [00:00<?, ?it/s]"
     ]
    },
    {
     "name": "stdout",
     "output_type": "stream",
     "text": [
      "epoch: 10.0, convergence = 21.047101314065063\n",
      "--------------------------------------\n",
      "epoch: 10, nuqls loss : 1.19\n",
      "epoch: 21.544346900318832, convergence = 5.314491628425204\n",
      "--------------------------------------\n",
      "epoch: 21, nuqls loss : 0.3121\n"
     ]
    },
    {
     "name": "stderr",
     "output_type": "stream",
     "text": [
      " 40%|████      | 4/10 [00:00<00:00, 23.67it/s]"
     ]
    },
    {
     "name": "stdout",
     "output_type": "stream",
     "text": [
      "epoch: 46.41588833612777, convergence = 1.5110773036202145\n",
      "--------------------------------------\n",
      "epoch: 46, nuqls loss : 0.07234\n",
      "epoch: 100.0, convergence = 0.313416361579976\n",
      "--------------------------------------\n",
      "epoch: 100, nuqls loss : 0.008376\n",
      "epoch: 215.44346900318823, convergence = 0.1226431311988414\n",
      "--------------------------------------\n",
      "epoch: 215, nuqls loss : 0.001423\n",
      "epoch: 464.1588833612782, convergence = 0.0595461634725055\n",
      "--------------------------------------\n",
      "epoch: 464, nuqls loss : 0.0003786\n"
     ]
    },
    {
     "name": "stderr",
     "output_type": "stream",
     "text": [
      " 70%|███████   | 7/10 [00:01<00:00,  3.99it/s]"
     ]
    },
    {
     "name": "stdout",
     "output_type": "stream",
     "text": [
      "epoch: 1000.0, convergence = 0.01880159536401396\n",
      "--------------------------------------\n",
      "epoch: 1000, nuqls loss : 0.0001152\n",
      "epoch: 2154.4346900318847, convergence = 0.0014775172988889347\n",
      "--------------------------------------\n",
      "epoch: 2154, nuqls loss : 9.077e-06\n"
     ]
    },
    {
     "name": "stderr",
     "output_type": "stream",
     "text": [
      " 90%|█████████ | 9/10 [00:06<00:01,  1.03s/it]"
     ]
    },
    {
     "name": "stdout",
     "output_type": "stream",
     "text": [
      "epoch: 4641.588833612777, convergence = 5.088028191381639e-06\n",
      "--------------------------------------\n",
      "epoch: 4641, nuqls loss : 3.117e-08\n"
     ]
    },
    {
     "name": "stderr",
     "output_type": "stream",
     "text": [
      "100%|██████████| 10/10 [00:14<00:00,  1.44s/it]\n"
     ]
    },
    {
     "name": "stdout",
     "output_type": "stream",
     "text": [
      "epoch: 10000.0, convergence = 2.6005106875127586e-11\n",
      "--------------------------------------\n",
      "epoch: 10000, nuqls loss : 1.734e-13\n"
     ]
    },
    {
     "name": "stderr",
     "output_type": "stream",
     "text": [
      " 10%|█         | 1/10 [00:01<00:12,  1.40s/it]"
     ]
    },
    {
     "name": "stdout",
     "output_type": "stream",
     "text": [
      "--------------------------------------\n",
      "S: 10, nuqls loss : 2.237e-13\n"
     ]
    },
    {
     "name": "stderr",
     "output_type": "stream",
     "text": [
      " 20%|██        | 2/10 [00:02<00:11,  1.40s/it]"
     ]
    },
    {
     "name": "stdout",
     "output_type": "stream",
     "text": [
      "--------------------------------------\n",
      "S: 16, nuqls loss : 1.251e-13\n"
     ]
    },
    {
     "name": "stderr",
     "output_type": "stream",
     "text": [
      " 30%|███       | 3/10 [00:04<00:10,  1.46s/it]"
     ]
    },
    {
     "name": "stdout",
     "output_type": "stream",
     "text": [
      "--------------------------------------\n",
      "S: 27, nuqls loss : 2.349e-13\n"
     ]
    },
    {
     "name": "stderr",
     "output_type": "stream",
     "text": [
      " 40%|████      | 4/10 [00:07<00:13,  2.23s/it]"
     ]
    },
    {
     "name": "stdout",
     "output_type": "stream",
     "text": [
      "--------------------------------------\n",
      "S: 46, nuqls loss : 1.6e-13\n"
     ]
    },
    {
     "name": "stderr",
     "output_type": "stream",
     "text": [
      " 50%|█████     | 5/10 [00:11<00:13,  2.76s/it]"
     ]
    },
    {
     "name": "stdout",
     "output_type": "stream",
     "text": [
      "--------------------------------------\n",
      "S: 77, nuqls loss : 1.818e-13\n"
     ]
    },
    {
     "name": "stderr",
     "output_type": "stream",
     "text": [
      " 60%|██████    | 6/10 [00:15<00:12,  3.18s/it]"
     ]
    },
    {
     "name": "stdout",
     "output_type": "stream",
     "text": [
      "--------------------------------------\n",
      "S: 129, nuqls loss : 2.111e-13\n"
     ]
    },
    {
     "name": "stderr",
     "output_type": "stream",
     "text": [
      " 70%|███████   | 7/10 [00:19<00:10,  3.58s/it]"
     ]
    },
    {
     "name": "stdout",
     "output_type": "stream",
     "text": [
      "--------------------------------------\n",
      "S: 215, nuqls loss : 1.715e-13\n"
     ]
    },
    {
     "name": "stderr",
     "output_type": "stream",
     "text": [
      " 80%|████████  | 8/10 [00:26<00:08,  4.49s/it]"
     ]
    },
    {
     "name": "stdout",
     "output_type": "stream",
     "text": [
      "--------------------------------------\n",
      "S: 359, nuqls loss : 1.715e-13\n"
     ]
    },
    {
     "name": "stderr",
     "output_type": "stream",
     "text": [
      " 90%|█████████ | 9/10 [00:33<00:05,  5.36s/it]"
     ]
    },
    {
     "name": "stdout",
     "output_type": "stream",
     "text": [
      "--------------------------------------\n",
      "S: 599, nuqls loss : 1.888e-13\n"
     ]
    },
    {
     "name": "stderr",
     "output_type": "stream",
     "text": [
      "100%|██████████| 10/10 [00:41<00:00,  4.14s/it]"
     ]
    },
    {
     "name": "stdout",
     "output_type": "stream",
     "text": [
      "--------------------------------------\n",
      "S: 1000, nuqls loss : 1.611e-13\n"
     ]
    },
    {
     "name": "stderr",
     "output_type": "stream",
     "text": [
      "\n"
     ]
    },
    {
     "name": "stdout",
     "output_type": "stream",
     "text": [
      "nn loss : 2.517e-06\n",
      "Cond(J J^T) = 8e+13\n",
      "Rank: 16\n",
      "min eigenv: 9.956068754811219e-13\n"
     ]
    },
    {
     "name": "stderr",
     "output_type": "stream",
     "text": [
      "  0%|          | 0/10 [00:00<?, ?it/s]"
     ]
    },
    {
     "name": "stdout",
     "output_type": "stream",
     "text": [
      "epoch: 10.0, convergence = 7.747595909770437\n",
      "--------------------------------------\n",
      "epoch: 10, nuqls loss : 0.4613\n",
      "epoch: 21.544346900318832, convergence = 3.233976975905402\n",
      "--------------------------------------\n",
      "epoch: 21, nuqls loss : 0.1965\n"
     ]
    },
    {
     "name": "stderr",
     "output_type": "stream",
     "text": [
      " 40%|████      | 4/10 [00:00<00:00, 22.64it/s]"
     ]
    },
    {
     "name": "stdout",
     "output_type": "stream",
     "text": [
      "epoch: 46.41588833612777, convergence = 0.8073957437163836\n",
      "--------------------------------------\n",
      "epoch: 46, nuqls loss : 0.03611\n",
      "epoch: 100.0, convergence = 0.2821107563086155\n",
      "--------------------------------------\n",
      "epoch: 100, nuqls loss : 0.009417\n",
      "epoch: 215.44346900318823, convergence = 0.10620222088979261\n",
      "--------------------------------------\n",
      "epoch: 215, nuqls loss : 0.002605\n",
      "epoch: 464.1588833612782, convergence = 0.06762518844495094\n",
      "--------------------------------------\n",
      "epoch: 464, nuqls loss : 0.0004338\n"
     ]
    },
    {
     "name": "stderr",
     "output_type": "stream",
     "text": [
      " 70%|███████   | 7/10 [00:01<00:00,  3.92it/s]"
     ]
    },
    {
     "name": "stdout",
     "output_type": "stream",
     "text": [
      "epoch: 1000.0, convergence = 0.06582095393852433\n",
      "--------------------------------------\n",
      "epoch: 1000, nuqls loss : 5.805e-05\n",
      "epoch: 2154.4346900318847, convergence = 0.056445191810367855\n",
      "--------------------------------------\n",
      "epoch: 2154, nuqls loss : 3.888e-05\n"
     ]
    },
    {
     "name": "stderr",
     "output_type": "stream",
     "text": [
      " 90%|█████████ | 9/10 [00:06<00:01,  1.05s/it]"
     ]
    },
    {
     "name": "stdout",
     "output_type": "stream",
     "text": [
      "epoch: 4641.588833612777, convergence = 0.04564257667184684\n",
      "--------------------------------------\n",
      "epoch: 4641, nuqls loss : 3.181e-05\n"
     ]
    },
    {
     "name": "stderr",
     "output_type": "stream",
     "text": [
      "100%|██████████| 10/10 [00:14<00:00,  1.46s/it]\n"
     ]
    },
    {
     "name": "stdout",
     "output_type": "stream",
     "text": [
      "epoch: 10000.0, convergence = 0.030278498644779363\n",
      "--------------------------------------\n",
      "epoch: 10000, nuqls loss : 2.201e-05\n"
     ]
    },
    {
     "name": "stderr",
     "output_type": "stream",
     "text": [
      " 10%|█         | 1/10 [00:01<00:13,  1.47s/it]"
     ]
    },
    {
     "name": "stdout",
     "output_type": "stream",
     "text": [
      "--------------------------------------\n",
      "S: 10, nuqls loss : 2.743e-05\n"
     ]
    },
    {
     "name": "stderr",
     "output_type": "stream",
     "text": [
      " 20%|██        | 2/10 [00:02<00:11,  1.45s/it]"
     ]
    },
    {
     "name": "stdout",
     "output_type": "stream",
     "text": [
      "--------------------------------------\n",
      "S: 16, nuqls loss : 2.644e-05\n"
     ]
    },
    {
     "name": "stderr",
     "output_type": "stream",
     "text": [
      " 30%|███       | 3/10 [00:04<00:10,  1.51s/it]"
     ]
    },
    {
     "name": "stdout",
     "output_type": "stream",
     "text": [
      "--------------------------------------\n",
      "S: 27, nuqls loss : 2.022e-05\n"
     ]
    },
    {
     "name": "stderr",
     "output_type": "stream",
     "text": [
      " 40%|████      | 4/10 [00:07<00:13,  2.28s/it]"
     ]
    },
    {
     "name": "stdout",
     "output_type": "stream",
     "text": [
      "--------------------------------------\n",
      "S: 46, nuqls loss : 1.614e-05\n"
     ]
    },
    {
     "name": "stderr",
     "output_type": "stream",
     "text": [
      " 50%|█████     | 5/10 [00:11<00:13,  2.74s/it]"
     ]
    },
    {
     "name": "stdout",
     "output_type": "stream",
     "text": [
      "--------------------------------------\n",
      "S: 77, nuqls loss : 2.395e-05\n"
     ]
    },
    {
     "name": "stderr",
     "output_type": "stream",
     "text": [
      " 60%|██████    | 6/10 [00:15<00:12,  3.20s/it]"
     ]
    },
    {
     "name": "stdout",
     "output_type": "stream",
     "text": [
      "--------------------------------------\n",
      "S: 129, nuqls loss : 2.199e-05\n"
     ]
    },
    {
     "name": "stderr",
     "output_type": "stream",
     "text": [
      " 70%|███████   | 7/10 [00:19<00:10,  3.58s/it]"
     ]
    },
    {
     "name": "stdout",
     "output_type": "stream",
     "text": [
      "--------------------------------------\n",
      "S: 215, nuqls loss : 2.112e-05\n"
     ]
    },
    {
     "name": "stderr",
     "output_type": "stream",
     "text": [
      " 80%|████████  | 8/10 [00:26<00:09,  4.54s/it]"
     ]
    },
    {
     "name": "stdout",
     "output_type": "stream",
     "text": [
      "--------------------------------------\n",
      "S: 359, nuqls loss : 1.85e-05\n"
     ]
    },
    {
     "name": "stderr",
     "output_type": "stream",
     "text": [
      " 90%|█████████ | 9/10 [00:33<00:05,  5.43s/it]"
     ]
    },
    {
     "name": "stdout",
     "output_type": "stream",
     "text": [
      "--------------------------------------\n",
      "S: 599, nuqls loss : 2.027e-05\n"
     ]
    },
    {
     "name": "stderr",
     "output_type": "stream",
     "text": [
      "100%|██████████| 10/10 [00:41<00:00,  4.16s/it]"
     ]
    },
    {
     "name": "stdout",
     "output_type": "stream",
     "text": [
      "--------------------------------------\n",
      "S: 1000, nuqls loss : 2.248e-05\n",
      "single-layer, width=80, tanh\n"
     ]
    },
    {
     "name": "stderr",
     "output_type": "stream",
     "text": [
      "\n"
     ]
    },
    {
     "name": "stdout",
     "output_type": "stream",
     "text": [
      "nn loss : 8.06e-29\n",
      "Cond(J J^T) = 3e+14\n",
      "Rank: 80\n",
      "min eigenv: 9.912540250648979e-13\n"
     ]
    },
    {
     "name": "stderr",
     "output_type": "stream",
     "text": [
      "  0%|          | 0/10 [00:00<?, ?it/s]"
     ]
    },
    {
     "name": "stdout",
     "output_type": "stream",
     "text": [
      "epoch: 10.0, convergence = 72.10082604261693\n",
      "--------------------------------------\n",
      "epoch: 10, nuqls loss : 6.738\n",
      "epoch: 21.544346900318832, convergence = 14.478860564002252\n",
      "--------------------------------------\n",
      "epoch: 21, nuqls loss : 1.359\n"
     ]
    },
    {
     "name": "stderr",
     "output_type": "stream",
     "text": [
      " 30%|███       | 3/10 [00:00<00:00, 18.53it/s]"
     ]
    },
    {
     "name": "stdout",
     "output_type": "stream",
     "text": [
      "epoch: 46.41588833612777, convergence = 2.3694326407994764\n",
      "--------------------------------------\n",
      "epoch: 46, nuqls loss : 0.15\n",
      "epoch: 100.0, convergence = 0.5529749192416998\n",
      "--------------------------------------\n",
      "epoch: 100, nuqls loss : 0.003096\n"
     ]
    },
    {
     "name": "stderr",
     "output_type": "stream",
     "text": [
      " 50%|█████     | 5/10 [00:00<00:00,  7.19it/s]"
     ]
    },
    {
     "name": "stdout",
     "output_type": "stream",
     "text": [
      "epoch: 215.44346900318823, convergence = 0.3088968607537219\n",
      "--------------------------------------\n",
      "epoch: 215, nuqls loss : 0.0009426\n",
      "epoch: 464.1588833612782, convergence = 0.15665873138981537\n",
      "--------------------------------------\n",
      "epoch: 464, nuqls loss : 0.0003205\n"
     ]
    },
    {
     "name": "stderr",
     "output_type": "stream",
     "text": [
      " 70%|███████   | 7/10 [00:02<00:01,  1.96it/s]"
     ]
    },
    {
     "name": "stdout",
     "output_type": "stream",
     "text": [
      "epoch: 1000.0, convergence = 0.06673300748589235\n",
      "--------------------------------------\n",
      "epoch: 1000, nuqls loss : 9.391e-05\n"
     ]
    },
    {
     "name": "stderr",
     "output_type": "stream",
     "text": [
      " 80%|████████  | 8/10 [00:05<00:02,  1.09s/it]"
     ]
    },
    {
     "name": "stdout",
     "output_type": "stream",
     "text": [
      "epoch: 2154.4346900318847, convergence = 0.021665948673872348\n",
      "--------------------------------------\n",
      "epoch: 2154, nuqls loss : 1.951e-05\n"
     ]
    },
    {
     "name": "stderr",
     "output_type": "stream",
     "text": [
      " 90%|█████████ | 9/10 [00:12<00:02,  2.42s/it]"
     ]
    },
    {
     "name": "stdout",
     "output_type": "stream",
     "text": [
      "epoch: 4641.588833612777, convergence = 0.0035732341576591997\n",
      "--------------------------------------\n",
      "epoch: 4641, nuqls loss : 2.443e-06\n"
     ]
    },
    {
     "name": "stderr",
     "output_type": "stream",
     "text": [
      "100%|██████████| 10/10 [00:26<00:00,  2.64s/it]\n"
     ]
    },
    {
     "name": "stdout",
     "output_type": "stream",
     "text": [
      "epoch: 10000.0, convergence = 6.581785609544945e-05\n",
      "--------------------------------------\n",
      "epoch: 10000, nuqls loss : 4.172e-08\n"
     ]
    },
    {
     "name": "stderr",
     "output_type": "stream",
     "text": [
      " 10%|█         | 1/10 [00:03<00:33,  3.72s/it]"
     ]
    },
    {
     "name": "stdout",
     "output_type": "stream",
     "text": [
      "--------------------------------------\n",
      "S: 10, nuqls loss : 5.528e-08\n"
     ]
    },
    {
     "name": "stderr",
     "output_type": "stream",
     "text": [
      " 20%|██        | 2/10 [00:07<00:29,  3.71s/it]"
     ]
    },
    {
     "name": "stdout",
     "output_type": "stream",
     "text": [
      "--------------------------------------\n",
      "S: 16, nuqls loss : 3.471e-08\n"
     ]
    },
    {
     "name": "stderr",
     "output_type": "stream",
     "text": [
      " 30%|███       | 3/10 [00:11<00:26,  3.79s/it]"
     ]
    },
    {
     "name": "stdout",
     "output_type": "stream",
     "text": [
      "--------------------------------------\n",
      "S: 27, nuqls loss : 4.367e-08\n"
     ]
    },
    {
     "name": "stderr",
     "output_type": "stream",
     "text": [
      " 40%|████      | 4/10 [00:15<00:23,  3.94s/it]"
     ]
    },
    {
     "name": "stdout",
     "output_type": "stream",
     "text": [
      "--------------------------------------\n",
      "S: 46, nuqls loss : 4.434e-08\n"
     ]
    },
    {
     "name": "stderr",
     "output_type": "stream",
     "text": [
      " 50%|█████     | 5/10 [00:19<00:20,  4.07s/it]"
     ]
    },
    {
     "name": "stdout",
     "output_type": "stream",
     "text": [
      "--------------------------------------\n",
      "S: 77, nuqls loss : 4.242e-08\n"
     ]
    },
    {
     "name": "stderr",
     "output_type": "stream",
     "text": [
      " 60%|██████    | 6/10 [00:24<00:17,  4.34s/it]"
     ]
    },
    {
     "name": "stdout",
     "output_type": "stream",
     "text": [
      "--------------------------------------\n",
      "S: 129, nuqls loss : 4.721e-08\n"
     ]
    },
    {
     "name": "stderr",
     "output_type": "stream",
     "text": [
      " 70%|███████   | 7/10 [00:30<00:14,  4.73s/it]"
     ]
    },
    {
     "name": "stdout",
     "output_type": "stream",
     "text": [
      "--------------------------------------\n",
      "S: 215, nuqls loss : 4.267e-08\n"
     ]
    },
    {
     "name": "stderr",
     "output_type": "stream",
     "text": [
      " 80%|████████  | 8/10 [00:38<00:11,  5.82s/it]"
     ]
    },
    {
     "name": "stdout",
     "output_type": "stream",
     "text": [
      "--------------------------------------\n",
      "S: 359, nuqls loss : 4.239e-08\n"
     ]
    },
    {
     "name": "stderr",
     "output_type": "stream",
     "text": [
      " 90%|█████████ | 9/10 [00:51<00:08,  8.03s/it]"
     ]
    },
    {
     "name": "stdout",
     "output_type": "stream",
     "text": [
      "--------------------------------------\n",
      "S: 599, nuqls loss : 4.301e-08\n"
     ]
    },
    {
     "name": "stderr",
     "output_type": "stream",
     "text": [
      "100%|██████████| 10/10 [01:05<00:00,  6.54s/it]"
     ]
    },
    {
     "name": "stdout",
     "output_type": "stream",
     "text": [
      "--------------------------------------\n",
      "S: 1000, nuqls loss : 4.165e-08\n"
     ]
    },
    {
     "name": "stderr",
     "output_type": "stream",
     "text": [
      "\n"
     ]
    },
    {
     "name": "stdout",
     "output_type": "stream",
     "text": [
      "nn loss : 2.961e-30\n",
      "Cond(J J^T) = 3e+14\n",
      "Rank: 80\n",
      "min eigenv: 9.849612369906926e-13\n"
     ]
    },
    {
     "name": "stderr",
     "output_type": "stream",
     "text": [
      "  0%|          | 0/10 [00:00<?, ?it/s]"
     ]
    },
    {
     "name": "stdout",
     "output_type": "stream",
     "text": [
      "epoch: 10.0, convergence = 42.71294092556377\n",
      "--------------------------------------\n",
      "epoch: 10, nuqls loss : 3.94\n",
      "epoch: 21.544346900318832, convergence = 14.153883284038795\n",
      "--------------------------------------\n",
      "epoch: 21, nuqls loss : 1.432\n"
     ]
    },
    {
     "name": "stderr",
     "output_type": "stream",
     "text": [
      " 30%|███       | 3/10 [00:00<00:00, 21.95it/s]"
     ]
    },
    {
     "name": "stdout",
     "output_type": "stream",
     "text": [
      "epoch: 46.41588833612777, convergence = 1.725246351011403\n",
      "--------------------------------------\n",
      "epoch: 46, nuqls loss : 0.1107\n",
      "epoch: 100.0, convergence = 0.4771937203259996\n",
      "--------------------------------------\n",
      "epoch: 100, nuqls loss : 0.003104\n",
      "epoch: 215.44346900318823, convergence = 0.244684560981719\n",
      "--------------------------------------\n",
      "epoch: 215, nuqls loss : 0.0009067\n"
     ]
    },
    {
     "name": "stderr",
     "output_type": "stream",
     "text": [
      " 60%|██████    | 6/10 [00:01<00:00,  4.28it/s]"
     ]
    },
    {
     "name": "stdout",
     "output_type": "stream",
     "text": [
      "epoch: 464.1588833612782, convergence = 0.10253412329810399\n",
      "--------------------------------------\n",
      "epoch: 464, nuqls loss : 0.000249\n",
      "epoch: 1000.0, convergence = 0.03257716998110634\n",
      "--------------------------------------\n",
      "epoch: 1000, nuqls loss : 5.396e-05\n"
     ]
    },
    {
     "name": "stderr",
     "output_type": "stream",
     "text": [
      " 80%|████████  | 8/10 [00:05<00:01,  1.05it/s]"
     ]
    },
    {
     "name": "stdout",
     "output_type": "stream",
     "text": [
      "epoch: 2154.4346900318847, convergence = 0.006853624856932133\n",
      "--------------------------------------\n",
      "epoch: 2154, nuqls loss : 7.353e-06\n"
     ]
    },
    {
     "name": "stderr",
     "output_type": "stream",
     "text": [
      " 90%|█████████ | 9/10 [00:12<00:02,  2.14s/it]"
     ]
    },
    {
     "name": "stdout",
     "output_type": "stream",
     "text": [
      "epoch: 4641.588833612777, convergence = 0.0004912866433646131\n",
      "--------------------------------------\n",
      "epoch: 4641, nuqls loss : 4.288e-07\n"
     ]
    },
    {
     "name": "stderr",
     "output_type": "stream",
     "text": [
      "100%|██████████| 10/10 [00:27<00:00,  2.75s/it]\n"
     ]
    },
    {
     "name": "stdout",
     "output_type": "stream",
     "text": [
      "epoch: 10000.0, convergence = 1.5354121735274207e-06\n",
      "--------------------------------------\n",
      "epoch: 10000, nuqls loss : 1.308e-09\n"
     ]
    },
    {
     "name": "stderr",
     "output_type": "stream",
     "text": [
      " 10%|█         | 1/10 [00:04<00:38,  4.27s/it]"
     ]
    },
    {
     "name": "stdout",
     "output_type": "stream",
     "text": [
      "--------------------------------------\n",
      "S: 10, nuqls loss : 1.214e-09\n"
     ]
    },
    {
     "name": "stderr",
     "output_type": "stream",
     "text": [
      " 20%|██        | 2/10 [00:08<00:32,  4.06s/it]"
     ]
    },
    {
     "name": "stdout",
     "output_type": "stream",
     "text": [
      "--------------------------------------\n",
      "S: 16, nuqls loss : 3.012e-09\n"
     ]
    },
    {
     "name": "stderr",
     "output_type": "stream",
     "text": [
      " 30%|███       | 3/10 [00:12<00:28,  4.06s/it]"
     ]
    },
    {
     "name": "stdout",
     "output_type": "stream",
     "text": [
      "--------------------------------------\n",
      "S: 27, nuqls loss : 1.371e-09\n"
     ]
    },
    {
     "name": "stderr",
     "output_type": "stream",
     "text": [
      " 40%|████      | 4/10 [00:16<00:24,  4.10s/it]"
     ]
    },
    {
     "name": "stdout",
     "output_type": "stream",
     "text": [
      "--------------------------------------\n",
      "S: 46, nuqls loss : 1.106e-09\n"
     ]
    },
    {
     "name": "stderr",
     "output_type": "stream",
     "text": [
      " 50%|█████     | 5/10 [00:20<00:21,  4.25s/it]"
     ]
    },
    {
     "name": "stdout",
     "output_type": "stream",
     "text": [
      "--------------------------------------\n",
      "S: 77, nuqls loss : 1.435e-09\n"
     ]
    },
    {
     "name": "stderr",
     "output_type": "stream",
     "text": [
      " 60%|██████    | 6/10 [00:26<00:18,  4.58s/it]"
     ]
    },
    {
     "name": "stdout",
     "output_type": "stream",
     "text": [
      "--------------------------------------\n",
      "S: 129, nuqls loss : 1.471e-09\n"
     ]
    },
    {
     "name": "stderr",
     "output_type": "stream",
     "text": [
      " 70%|███████   | 7/10 [00:31<00:14,  4.95s/it]"
     ]
    },
    {
     "name": "stdout",
     "output_type": "stream",
     "text": [
      "--------------------------------------\n",
      "S: 215, nuqls loss : 1.457e-09\n"
     ]
    },
    {
     "name": "stderr",
     "output_type": "stream",
     "text": [
      " 80%|████████  | 8/10 [00:40<00:12,  6.04s/it]"
     ]
    },
    {
     "name": "stdout",
     "output_type": "stream",
     "text": [
      "--------------------------------------\n",
      "S: 359, nuqls loss : 1.469e-09\n"
     ]
    },
    {
     "name": "stderr",
     "output_type": "stream",
     "text": [
      " 90%|█████████ | 9/10 [00:53<00:08,  8.17s/it]"
     ]
    },
    {
     "name": "stdout",
     "output_type": "stream",
     "text": [
      "--------------------------------------\n",
      "S: 599, nuqls loss : 1.26e-09\n"
     ]
    },
    {
     "name": "stderr",
     "output_type": "stream",
     "text": [
      "100%|██████████| 10/10 [01:07<00:00,  6.77s/it]"
     ]
    },
    {
     "name": "stdout",
     "output_type": "stream",
     "text": [
      "--------------------------------------\n",
      "S: 1000, nuqls loss : 1.376e-09\n"
     ]
    },
    {
     "name": "stderr",
     "output_type": "stream",
     "text": [
      "\n"
     ]
    }
   ],
   "source": [
    "samples = 2\n",
    "n = 100\n",
    "d = 5\n",
    "results_dict = {}\n",
    "\n",
    "# single-layer, width=20, tanh\n",
    "print(f'single-layer, width=20, tanh')\n",
    "layer_widths = [d,20]\n",
    "\n",
    "diff_e_av = []\n",
    "losses_e_av = []\n",
    "diff_s_av = []\n",
    "conds = []\n",
    "\n",
    "for i in range(samples):\n",
    "    diff_e,losses_e,epochs,diff_s,_,s_range,cond_i = convergence(n,d,layer_widths=layer_widths,nonlin='tanh',lr=0.1,verbose=True)\n",
    "    diff_e_av.append(diff_e)\n",
    "    losses_e_av.append(losses_e)\n",
    "    diff_s_av.append(diff_s)\n",
    "    conds.append(cond_i)\n",
    "\n",
    "epoch_sev_avg = torch.tensor(diff_e_av).mean(0); epoch_sev_var = torch.tensor(diff_e_av).var(0)\n",
    "epoch_loss_avg = torch.tensor(losses_e_av).mean(0); epoch_loss_var = torch.tensor(losses_e_av).var(0)\n",
    "s_sev_avg = torch.tensor(diff_s_av).mean(0); s_sev_var = torch.tensor(diff_s_av).var(0)\n",
    "cond_avg = torch.tensor(conds).mean(0)\n",
    "results_dict['tanh_single_20'] = {'epoch_sev_avg': epoch_sev_avg,\n",
    "                                  'epoch_sev_var': epoch_sev_var,\n",
    "                                  'epoch_loss_avg': epoch_loss_avg,\n",
    "                                  'epoch_loss_var': epoch_loss_var,\n",
    "                                  's_sev_avg': s_sev_avg,\n",
    "                                  's_sev_var': s_sev_var,\n",
    "                                  'cond_avg': cond_avg,\n",
    "                                  'epoch_range': epochs,\n",
    "                                  's_range': s_range}\n",
    "torch.save(results_dict,'paper/convergence_result_dict.pt')\n",
    "\n",
    "# single-layer, width=20, relu\n",
    "print(f'single-layer, width=20, relu')\n",
    "layer_widths = [d,20]\n",
    "\n",
    "diff_e_av = []\n",
    "losses_e_av = []\n",
    "diff_s_av = []\n",
    "conds = []\n",
    "\n",
    "for i in range(samples):\n",
    "    diff_e,losses_e,epochs,diff_s,_,s_range,cond_i = convergence(n,d,layer_widths=layer_widths,nonlin='relu',lr=0.1,verbose=True)\n",
    "    diff_e_av.append(diff_e)\n",
    "    losses_e_av.append(losses_e)\n",
    "    diff_s_av.append(diff_s)\n",
    "    conds.append(cond_i)\n",
    "\n",
    "epoch_sev_avg = torch.tensor(diff_e_av).mean(0); epoch_sev_var = torch.tensor(diff_e_av).var(0)\n",
    "epoch_loss_avg = torch.tensor(losses_e_av).mean(0); epoch_loss_var = torch.tensor(losses_e_av).var(0)\n",
    "s_sev_avg = torch.tensor(diff_s_av).mean(0); s_sev_var = torch.tensor(diff_s_av).var(0)\n",
    "cond_avg = torch.tensor(conds).mean(0)\n",
    "results_dict['relu_single_20'] = {'epoch_sev_avg': epoch_sev_avg,\n",
    "                                  'epoch_sev_var': epoch_sev_var,\n",
    "                                  'epoch_loss_avg': epoch_loss_avg,\n",
    "                                  'epoch_loss_var': epoch_loss_var,\n",
    "                                  's_sev_avg': s_sev_avg,\n",
    "                                  's_sev_var': s_sev_var,\n",
    "                                  'cond_avg': cond_avg,\n",
    "                                  'epoch_range': epochs,\n",
    "                                  's_range': s_range}\n",
    "torch.save(results_dict,'paper/convergence_result_dict.pt')\n",
    "\n",
    "# double-layer, width=20, relu\n",
    "print(f'double-layer, width=20, relu')\n",
    "layer_widths = [d,20,20]\n",
    "\n",
    "diff_e_av = []\n",
    "losses_e_av = []\n",
    "diff_s_av = []\n",
    "conds = []\n",
    "\n",
    "for i in range(samples):\n",
    "    diff_e,losses_e,epochs,diff_s,_,s_range,cond_i = convergence(n,d,layer_widths=layer_widths,nonlin='relu',lr=0.1,verbose=True)\n",
    "    diff_e_av.append(diff_e)\n",
    "    losses_e_av.append(losses_e)\n",
    "    diff_s_av.append(diff_s)\n",
    "    conds.append(cond_i)\n",
    "\n",
    "epoch_sev_avg = torch.tensor(diff_e_av).mean(0); epoch_sev_var = torch.tensor(diff_e_av).var(0)\n",
    "epoch_loss_avg = torch.tensor(losses_e_av).mean(0); epoch_loss_var = torch.tensor(losses_e_av).var(0)\n",
    "s_sev_avg = torch.tensor(diff_s_av).mean(0); s_sev_var = torch.tensor(diff_s_av).var(0)\n",
    "cond_avg = torch.tensor(conds).mean(0)\n",
    "results_dict['relu_double_20'] = {'epoch_sev_avg': epoch_sev_avg,\n",
    "                                  'epoch_sev_var': epoch_sev_var,\n",
    "                                  'epoch_loss_avg': epoch_loss_avg,\n",
    "                                  'epoch_loss_var': epoch_loss_var,\n",
    "                                  's_sev_avg': s_sev_avg,\n",
    "                                  's_sev_var': s_sev_var,\n",
    "                                  'cond_avg': cond_avg,\n",
    "                                  'epoch_range': epochs,\n",
    "                                  's_range': s_range}\n",
    "torch.save(results_dict,'paper/convergence_result_dict.pt')\n",
    "\n",
    "# single-layer, width=80, tanh\n",
    "print(f'single-layer, width=80, tanh')\n",
    "layer_widths = [d,80]\n",
    "\n",
    "diff_e_av = []\n",
    "losses_e_av = []\n",
    "diff_s_av = []\n",
    "conds = []\n",
    "\n",
    "for i in range(samples):\n",
    "    diff_e,losses_e,epochs,diff_s,_,s_range,cond_i = convergence(n,d,layer_widths=layer_widths,nonlin='tanh',lr=1,verbose=True)\n",
    "    diff_e_av.append(diff_e)\n",
    "    losses_e_av.append(losses_e)\n",
    "    diff_s_av.append(diff_s)\n",
    "    conds.append(cond_i)\n",
    "\n",
    "epoch_sev_avg = torch.tensor(diff_e_av).mean(0); epoch_sev_var = torch.tensor(diff_e_av).var(0)\n",
    "epoch_loss_avg = torch.tensor(losses_e_av).mean(0); epoch_loss_var = torch.tensor(losses_e_av).var(0)\n",
    "s_sev_avg = torch.tensor(diff_s_av).mean(0); s_sev_var = torch.tensor(diff_s_av).var(0)\n",
    "cond_avg = torch.tensor(conds).mean(0)\n",
    "results_dict['tanh_single_80'] = {'epoch_sev_avg': epoch_sev_avg,\n",
    "                                  'epoch_sev_var': epoch_sev_var,\n",
    "                                  'epoch_loss_avg': epoch_loss_avg,\n",
    "                                  'epoch_loss_var': epoch_loss_var,\n",
    "                                  's_sev_avg': s_sev_avg,\n",
    "                                  's_sev_var': s_sev_var,\n",
    "                                  'cond_avg': cond_avg,\n",
    "                                  'epoch_range': epochs,\n",
    "                                  's_range': s_range}\n",
    "torch.save(results_dict,'paper/convergence_result_dict_ck.pt')\n",
    "\n"
   ]
  },
  {
   "cell_type": "code",
   "execution_count": 30,
   "metadata": {},
   "outputs": [
    {
     "data": {
      "image/png": "[encoded data removed]",
      "text/plain": [
       "<Figure size 600x600 with 3 Axes>"
      ]
     },
     "metadata": {},
     "output_type": "display_data"
    }
   ],
   "source": [
    "import matplotlib.pyplot as plt\n",
    "import numpy as np\n",
    "from matplotlib.pyplot import cm\n",
    "import torch\n",
    "from math import floor,log10\n",
    "\n",
    "results_dict = torch.load('paper/convergence_result_dict_ck.pt')\n",
    "\n",
    "label_dict = {'tanh_single_20': 'Single-layer, width 20, Tanh',\n",
    "              'relu_single_20': 'Single-layer, width 20, ReLU',\n",
    "              'relu_double_20': 'Double-layer, width 20, ReLU',\n",
    "              'tanh_single_80': 'Single-layer, width 100, Tanh'}\n",
    "\n",
    "w, h, fs = 6, 6, 16\n",
    "fig, (ax1,ax2) = plt.subplots(2,1,figsize=(w,h),frameon=True,)\n",
    "# color = cm.rainbow(np.linspace(0, 1, 4))\n",
    "\n",
    "color = plt.cm.viridis(np.linspace(0.2,0.8,4))\n",
    "\n",
    "ax1t = ax1.twinx()\n",
    "ax1.set_ylabel('SEV', fontsize=fs)\n",
    "ax1.set_xlabel('Epochs', fontsize=fs)\n",
    "ax1.tick_params(labelsize=fs)\n",
    "ax1.xaxis.tick_top()\n",
    "ax1.xaxis.set_label_position('top')\n",
    "ax1t.spines['right'].set_visible(True)\n",
    "ax1t.spines['top'].set_visible(True)\n",
    "ax1t.set_ylabel('Loss', fontsize=fs)\n",
    "ax1t.set_xscale('log')\n",
    "ax1t.tick_params(labelsize=fs)\n",
    "ax2.set_ylabel('SEV', fontsize=fs)\n",
    "ax2.set_xlabel('$s$', fontsize=fs)\n",
    "ax2.set_xscale('log')\n",
    "ax2.tick_params(labelsize=fs)\n",
    "\n",
    "for i,key in enumerate(results_dict.keys()):\n",
    "    exponent = int(floor(log10(abs(results_dict[key]['cond_avg']))))\n",
    "    ax1.plot(results_dict[key]['epoch_range'],\n",
    "             results_dict[key]['epoch_sev_avg'],\n",
    "             color=color[i],marker='o',linestyle='dashed',\n",
    "             label=label_dict[key] + f\" ($1e{exponent}$)\"\n",
    "    )\n",
    "    ax1.fill_between(results_dict[key]['epoch_range'],\n",
    "             results_dict[key]['epoch_sev_avg'] - 1.96 * np.sqrt(results_dict[key]['epoch_sev_var']),\n",
    "             results_dict[key]['epoch_sev_avg'] + 1.96 * np.sqrt(results_dict[key]['epoch_sev_var']),\n",
    "             color=color[i],alpha=0.1)\n",
    "    \n",
    "    ax1t.plot(results_dict[key]['epoch_range'],\n",
    "              results_dict[key]['epoch_loss_avg'],\n",
    "              color=color[i],marker='^',linestyle='none')\n",
    "    ax1t.fill_between(results_dict[key]['epoch_range'],\n",
    "             results_dict[key]['epoch_loss_avg'] - 1.96 * np.sqrt(results_dict[key]['epoch_loss_var']),\n",
    "             results_dict[key]['epoch_loss_avg'] + 1.96 * np.sqrt(results_dict[key]['epoch_loss_var']),\n",
    "             color=color[i],alpha=0.1)\n",
    "    \n",
    "    ax2.plot(results_dict[key]['s_range'],\n",
    "             results_dict[key]['s_sev_avg'],color=color[i],marker='o',linestyle='dashed',)\n",
    "    ax2.fill_between(results_dict[key]['s_range'],\n",
    "             results_dict[key]['s_sev_avg'] - 1.96 * np.sqrt(results_dict[key]['s_sev_var']),\n",
    "             results_dict[key]['s_sev_avg'] + 1.96 * np.sqrt(results_dict[key]['s_sev_var']),\n",
    "             color=color[i],alpha=0.1)\n",
    "\n",
    "ax1.legend(fontsize=int(fs * 0.75), frameon=False)\n",
    "# ax2.set_xlim(s_range[0],s_range[-1])\n",
    "fig.tight_layout()\n",
    "plt.subplots_adjust(wspace=0, hspace=0)\n",
    "plt.savefig(fname='paper/epochs_ck_convergence.pdf', format='pdf', bbox_inches='tight')"
   ]
  },
  {
   "cell_type": "code",
   "execution_count": 8,
   "metadata": {},
   "outputs": [
    {
     "name": "stdout",
     "output_type": "stream",
     "text": [
      "tanh_single_20\n",
      "tensor(8.4399e+10)\n",
      "tensor([3.0276e-09, 3.0276e-09, 3.0276e-09, 3.0276e-09, 3.0276e-09])\n",
      "relu_single_20\n",
      "tensor(3.6691e+11)\n",
      "tensor([0.0526, 0.0217, 0.0169, 0.0049, 0.0003])\n",
      "relu_double_20\n",
      "tensor(3.5131e+11)\n",
      "tensor([2.6942e-08, 3.6217e-08, 4.3508e-08, 4.1543e-08, 4.1103e-08])\n",
      "tanh_single_80\n",
      "tensor(2.5798e+11)\n",
      "tensor([0.0627, 0.0540, 0.0423, 0.0427, 0.0439])\n"
     ]
    }
   ],
   "source": [
    "for i,key in enumerate(results_dict.keys()):\n",
    "    print(key)\n",
    "    print(results_dict[key]['cond_avg'])\n",
    "    print(results_dict[key]['s_sev_avg'])"
   ]
  },
  {
   "cell_type": "markdown",
   "metadata": {},
   "source": [
    "# NTK vs CK"
   ]
  },
  {
   "cell_type": "code",
   "execution_count": 39,
   "metadata": {},
   "outputs": [],
   "source": [
    "import torch\n",
    "from functorch import make_functional\n",
    "from torch.func import functional_call, vmap, jacrev, jvp\n",
    "    ## NUQLS\n",
    "import posteriors.nuqls as nuqls\n",
    "from importlib import reload\n",
    "reload(nuqls)\n",
    "from torch.utils.data import DataLoader, Dataset\n",
    "import tqdm\n",
    "\n",
    "class toy_dataset(Dataset):\n",
    "    def __init__(self,x,y):\n",
    "        self.x = x\n",
    "        self.y = y\n",
    "\n",
    "    def __len__(self):\n",
    "        return self.x.shape[0]\n",
    "\n",
    "    def __getitem__(self, i):\n",
    "        return self.x[i], self.y[i]\n",
    "    \n",
    "class variable_mlp(torch.nn.Module):\n",
    "    def __init__(self,layer_width,nonlin):\n",
    "        super().__init__()\n",
    "        self.layer_width = layer_width\n",
    "        self.linear_layers = torch.nn.ModuleList([torch.nn.Linear(layer_width[i],layer_width[i+1], bias=True) for i in range(len(self.layer_width)-1)])\n",
    "        self.lin_out = torch.nn.Linear(self.layer_width[-1],1, bias=True)\n",
    "        if nonlin=='tanh':\n",
    "            self.act = torch.nn.Tanh()\n",
    "        elif nonlin=='relu':\n",
    "            self.act = torch.nn.ReLU()\n",
    "\n",
    "        for lin in self.linear_layers:\n",
    "            torch.nn.init.normal_(lin.weight, 0, 1)\n",
    "        torch.nn.init.normal_(self.lin_out.weight, 0, 1)\n",
    "\n",
    "    # Return full output of nn\n",
    "    def forward(self,x):\n",
    "        for i, lin in enumerate(self.linear_layers):\n",
    "            x = self.act(lin(x)) / (self.layer_width[i]**0.5)\n",
    "        return self.lin_out(x)\n",
    "\n",
    "def convergence(n,d,layer_widths,nonlin,lr=1,verbose=False):\n",
    "    X = torch.randn((n,d))\n",
    "    Y = torch.randn((n,1))\n",
    "\n",
    "    X_test = torch.randn((n,d))\n",
    "\n",
    "    net = variable_mlp(layer_width=layer_widths,nonlin=nonlin)\n",
    "\n",
    "    optimizer = torch.optim.SGD(net.parameters(),lr=0.1,momentum=0.9)\n",
    "    loss_fn = torch.nn.MSELoss()\n",
    "    for i in range(5000):\n",
    "        optimizer.zero_grad()\n",
    "        pred = net(X)\n",
    "        loss = loss_fn(pred,Y)\n",
    "        loss.backward()\n",
    "        optimizer.step()\n",
    "\n",
    "    if verbose:\n",
    "        print(f'nn loss : {loss.item():.4}')\n",
    "\n",
    "    # Compute NTKGP\n",
    "    fnet, params = make_functional(net)\n",
    "\n",
    "    ## Compute jacobian of net, evaluated on training set\n",
    "    def fnet_single(params, x):\n",
    "        return fnet(params, x.unsqueeze(0)).squeeze(0)\n",
    "\n",
    "    def Jx_ntk(Xs):\n",
    "        J = vmap(jacrev(fnet_single), (None, 0))(params, Xs)\n",
    "        J = [j.detach().flatten(1) for j in J]\n",
    "        J = torch.cat(J,dim=1).detach()\n",
    "        return J\n",
    "\n",
    "    lam = 1e-12\n",
    "    Jtrain = Jx_ntk(X)\n",
    "    NTK_X = Jtrain @ Jtrain.T + lam*torch.eye(n)\n",
    "    cond = torch.linalg.cond(NTK_X).item()\n",
    "    print(f'Cond(J J^T) = {cond:.1}')\n",
    "    print(f'Rank: {torch.linalg.matrix_rank(Jtrain)}')\n",
    "\n",
    "    var_ntk = []\n",
    "    for xi in X_test:\n",
    "        Jsingle = Jx_ntk(xi.unsqueeze(0))\n",
    "        KXx = Jtrain @ Jsingle.T\n",
    "        var = Jsingle @ Jsingle.T - KXx.T @ torch.linalg.solve(NTK_X,KXx)\n",
    "        var_ntk.append(var)\n",
    "    var_ntk = torch.tensor(var_ntk)\n",
    "\n",
    "    def Jx_ck(Xs):\n",
    "        J = vmap(jacrev(fnet_single), (None, 0))(params, Xs)\n",
    "        J = J[-2].detach().flatten(1).detach() # For last-layer test\n",
    "        return J\n",
    "    \n",
    "    lam = 1e-12\n",
    "    Jtrain = Jx_ck(X)\n",
    "    CK_X = Jtrain @ Jtrain.T + lam*torch.eye(n)\n",
    "    cond = torch.linalg.cond(CK_X).item()\n",
    "    print(f'Cond(J J^T) = {cond:.1}')\n",
    "    print(f'Rank: {torch.linalg.matrix_rank(Jtrain)}')\n",
    "\n",
    "    var_ck = []\n",
    "    for xi in X_test:\n",
    "        Jsingle = Jx_ck(xi.unsqueeze(0))\n",
    "        KXx = Jtrain @ Jsingle.T\n",
    "        var = Jsingle @ Jsingle.T - KXx.T @ torch.linalg.solve(CK_X,KXx)\n",
    "        var_ck.append(var)\n",
    "    var_ck = torch.tensor(var_ck)\n",
    "\n",
    "    return torch.linalg.norm(var_ck - var_ntk).item()\n"
   ]
  },
  {
   "cell_type": "code",
   "execution_count": 40,
   "metadata": {},
   "outputs": [
    {
     "name": "stdout",
     "output_type": "stream",
     "text": [
      "nn loss : 3.5e-07\n",
      "Cond(J J^T) = 7e+03\n",
      "Rank: 100\n",
      "Cond(J J^T) = 9e+13\n",
      "Rank: 20\n",
      "single-layer, width=20, tanh, diff: 15.795949550828457\n"
     ]
    },
    {
     "name": "stderr",
     "output_type": "stream",
     "text": [
      "C:\\Users\\s4531973\\AppData\\Local\\Packages\\PythonSoftwareFoundation.Python.3.11_qbz5n2kfra8p0\\LocalCache\\local-packages\\Python311\\site-packages\\torch\\_functorch\\deprecated.py:97: UserWarning: We've integrated functorch into PyTorch. As the final step of the integration, functorch.make_functional is deprecated as of PyTorch 2.0 and will be deleted in a future version of PyTorch >= 2.3. Please use torch.func.functional_call instead; see the PyTorch 2.0 release notes and/or the torch.func migration guide for more details https://pytorch.org/docs/master/func.migrating.html\n",
      "  warn_deprecated('make_functional', 'torch.func.functional_call')\n"
     ]
    },
    {
     "name": "stdout",
     "output_type": "stream",
     "text": [
      "nn loss : 0.1063\n",
      "Cond(J J^T) = 4e+04\n",
      "Rank: 100\n",
      "Cond(J J^T) = 8e+14\n",
      "Rank: 20\n",
      "single-layer, width=20, relu, diff: 19.87314539541433\n"
     ]
    }
   ],
   "source": [
    "samples = 1\n",
    "n = 100\n",
    "d = 5\n",
    "results_dict = {}\n",
    "\n",
    "# single-layer, width=20, tanh\n",
    "\n",
    "layer_widths = [d,20]\n",
    "\n",
    "for i in range(samples):\n",
    "    ck_ntk_diff = convergence(n,d,layer_widths=layer_widths,nonlin='tanh',lr=0.1,verbose=True)\n",
    "\n",
    "print(f'single-layer, width=20, tanh, diff: {ck_ntk_diff}')\n",
    "\n",
    "# single-layer, width=20, relu\n",
    "\n",
    "layer_widths = [d,20]\n",
    "\n",
    "for i in range(samples):\n",
    "    ck_ntk_diff = convergence(n,d,layer_widths=layer_widths,nonlin='relu',lr=0.1,verbose=True)\n",
    "\n",
    "print(f'single-layer, width=20, relu, diff: {ck_ntk_diff}')\n",
    "\n",
    "# # double-layer, width=20, relu\n",
    "# print(f'double-layer, width=20, relu')\n",
    "# layer_widths = [d,20,20]\n",
    "\n",
    "# diff_e_av = []\n",
    "# losses_e_av = []\n",
    "# diff_s_av = []\n",
    "# conds = []\n",
    "\n",
    "# for i in range(samples):\n",
    "#     diff_e,losses_e,epochs,diff_s,_,s_range,cond_i = convergence(n,d,layer_widths=layer_widths,nonlin='relu',lr=0.1,verbose=True)\n",
    "#     diff_e_av.append(diff_e)\n",
    "#     losses_e_av.append(losses_e)\n",
    "#     diff_s_av.append(diff_s)\n",
    "#     conds.append(cond_i)\n",
    "\n",
    "# epoch_sev_avg = torch.tensor(diff_e_av).mean(0); epoch_sev_var = torch.tensor(diff_e_av).var(0)\n",
    "# epoch_loss_avg = torch.tensor(losses_e_av).mean(0); epoch_loss_var = torch.tensor(losses_e_av).var(0)\n",
    "# s_sev_avg = torch.tensor(diff_s_av).mean(0); s_sev_var = torch.tensor(diff_s_av).var(0)\n",
    "# cond_avg = torch.tensor(conds).mean(0)\n",
    "# results_dict['relu_double_20'] = {'epoch_sev_avg': epoch_sev_avg,\n",
    "#                                   'epoch_sev_var': epoch_sev_var,\n",
    "#                                   'epoch_loss_avg': epoch_loss_avg,\n",
    "#                                   'epoch_loss_var': epoch_loss_var,\n",
    "#                                   's_sev_avg': s_sev_avg,\n",
    "#                                   's_sev_var': s_sev_var,\n",
    "#                                   'cond_avg': cond_avg,\n",
    "#                                   'epoch_range': epochs,\n",
    "#                                   's_range': s_range}\n",
    "# torch.save(results_dict,'paper/convergence_result_dict.pt')\n",
    "\n",
    "# # single-layer, width=80, tanh\n",
    "# print(f'single-layer, width=80, tanh')\n",
    "# layer_widths = [d,80]\n",
    "\n",
    "# diff_e_av = []\n",
    "# losses_e_av = []\n",
    "# diff_s_av = []\n",
    "# conds = []\n",
    "\n",
    "# for i in range(samples):\n",
    "#     diff_e,losses_e,epochs,diff_s,_,s_range,cond_i = convergence(n,d,layer_widths=layer_widths,nonlin='tanh',lr=0.1,verbose=True)\n",
    "#     diff_e_av.append(diff_e)\n",
    "#     losses_e_av.append(losses_e)\n",
    "#     diff_s_av.append(diff_s)\n",
    "#     conds.append(cond_i)\n",
    "\n",
    "# epoch_sev_avg = torch.tensor(diff_e_av).mean(0); epoch_sev_var = torch.tensor(diff_e_av).var(0)\n",
    "# epoch_loss_avg = torch.tensor(losses_e_av).mean(0); epoch_loss_var = torch.tensor(losses_e_av).var(0)\n",
    "# s_sev_avg = torch.tensor(diff_s_av).mean(0); s_sev_var = torch.tensor(diff_s_av).var(0)\n",
    "# cond_avg = torch.tensor(conds).mean(0)\n",
    "# results_dict['tanh_single_80'] = {'epoch_sev_avg': epoch_sev_avg,\n",
    "#                                   'epoch_sev_var': epoch_sev_var,\n",
    "#                                   'epoch_loss_avg': epoch_loss_avg,\n",
    "#                                   'epoch_loss_var': epoch_loss_var,\n",
    "#                                   's_sev_avg': s_sev_avg,\n",
    "#                                   's_sev_var': s_sev_var,\n",
    "#                                   'cond_avg': cond_avg,\n",
    "#                                   'epoch_range': epochs,\n",
    "#                                   's_range': s_range}\n",
    "# torch.save(results_dict,'paper/convergence_result_dict_ck.pt')\n",
    "\n"
   ]
  },
  {
   "cell_type": "code",
   "execution_count": null,
   "metadata": {},
   "outputs": [
    {
     "data": {
      "image/png": "[encoded data removed]",
      "text/plain": [
       "<Figure size 600x600 with 3 Axes>"
      ]
     },
     "metadata": {},
     "output_type": "display_data"
    }
   ],
   "source": [
    "import matplotlib.pyplot as plt\n",
    "import numpy as np\n",
    "from matplotlib.pyplot import cm\n",
    "import torch\n",
    "from math import floor,log10\n",
    "\n",
    "results_dict = torch.load('paper/convergence_result_dict_ck.pt')\n",
    "\n",
    "label_dict = {'tanh_single_20': 'Single-layer, width 20, Tanh',\n",
    "              'relu_single_20': 'Single-layer, width 20, ReLU',\n",
    "              'relu_double_20': 'Double-layer, width 20, ReLU',\n",
    "              'tanh_single_80': 'Single-layer, width 100, Tanh'}\n",
    "\n",
    "w, h, fs = 6, 6, 16\n",
    "fig, (ax1,ax2) = plt.subplots(2,1,figsize=(w,h),frameon=True,)\n",
    "# color = cm.rainbow(np.linspace(0, 1, 4))\n",
    "\n",
    "color = plt.cm.viridis(np.linspace(0.2,0.8,4))\n",
    "\n",
    "ax1t = ax1.twinx()\n",
    "ax1.set_ylabel('SEV', fontsize=fs)\n",
    "ax1.set_xlabel('Epochs', fontsize=fs)\n",
    "ax1.tick_params(labelsize=fs)\n",
    "ax1.xaxis.tick_top()\n",
    "ax1.xaxis.set_label_position('top')\n",
    "ax1t.spines['right'].set_visible(True)\n",
    "ax1t.spines['top'].set_visible(True)\n",
    "ax1t.set_ylabel('Loss', fontsize=fs)\n",
    "ax1t.set_xscale('log')\n",
    "ax1t.tick_params(labelsize=fs)\n",
    "ax2.set_ylabel('SEV', fontsize=fs)\n",
    "ax2.set_xlabel('$s$', fontsize=fs)\n",
    "ax2.set_xscale('log')\n",
    "ax2.tick_params(labelsize=fs)\n",
    "\n",
    "for i,key in enumerate(results_dict.keys()):\n",
    "    exponent = int(floor(log10(abs(results_dict[key]['cond_avg']))))\n",
    "    ax1.plot(results_dict[key]['epoch_range'],\n",
    "             results_dict[key]['epoch_sev_avg'],\n",
    "             color=color[i],marker='o',linestyle='dashed',\n",
    "             label=label_dict[key] + f\" ($1e{exponent}$)\"\n",
    "    )\n",
    "    ax1.fill_between(results_dict[key]['epoch_range'],\n",
    "             results_dict[key]['epoch_sev_avg'] - 1.96 * np.sqrt(results_dict[key]['epoch_sev_var']),\n",
    "             results_dict[key]['epoch_sev_avg'] + 1.96 * np.sqrt(results_dict[key]['epoch_sev_var']),\n",
    "             color=color[i],alpha=0.1)\n",
    "    \n",
    "    ax1t.plot(results_dict[key]['epoch_range'],\n",
    "              results_dict[key]['epoch_loss_avg'],\n",
    "              color=color[i],marker='^',linestyle='none')\n",
    "    ax1t.fill_between(results_dict[key]['epoch_range'],\n",
    "             results_dict[key]['epoch_loss_avg'] - 1.96 * np.sqrt(results_dict[key]['epoch_loss_var']),\n",
    "             results_dict[key]['epoch_loss_avg'] + 1.96 * np.sqrt(results_dict[key]['epoch_loss_var']),\n",
    "             color=color[i],alpha=0.1)\n",
    "    \n",
    "    ax2.plot(results_dict[key]['s_range'],\n",
    "             results_dict[key]['s_sev_avg'],color=color[i],marker='o',linestyle='dashed',)\n",
    "    ax2.fill_between(results_dict[key]['epoch_range'],\n",
    "             results_dict[key]['s_sev_avg'] - 1.96 * np.sqrt(results_dict[key]['s_sev_var']),\n",
    "             results_dict[key]['s_sev_avg'] + 1.96 * np.sqrt(results_dict[key]['s_sev_var']),\n",
    "             color=color[i],alpha=0.1)\n",
    "\n",
    "ax1.legend(fontsize=int(fs * 0.75), frameon=False)\n",
    "fig.tight_layout()\n",
    "plt.subplots_adjust(wspace=0, hspace=0)\n",
    "# plt.savefig(fname='paper/epochs_ck_convergence.pdf', format='pdf')"
   ]
  },
  {
   "cell_type": "markdown",
   "metadata": {},
   "source": [
    "# Classification"
   ]
  },
  {
   "cell_type": "code",
   "execution_count": 66,
   "metadata": {},
   "outputs": [],
   "source": [
    "import torch\n",
    "from functorch import make_functional\n",
    "from torch.func import functional_call, vmap, jacrev, jvp\n",
    "    ## NUQLS\n",
    "import posteriors.nuqls as nuqls\n",
    "from importlib import reload\n",
    "reload(nuqls)\n",
    "from torch.utils.data import DataLoader, Dataset\n",
    "import tqdm\n",
    "from nuqls.posterior import Nuqls\n",
    "\n",
    "class toy_dataset(Dataset):\n",
    "    def __init__(self,x,y):\n",
    "        self.x = x\n",
    "        self.y = y\n",
    "\n",
    "    def __len__(self):\n",
    "        return self.x.shape[0]\n",
    "\n",
    "    def __getitem__(self, i):\n",
    "        return self.x[i], self.y[i]\n",
    "    \n",
    "class variable_mlp(torch.nn.Module):\n",
    "    def __init__(self,layer_width,nonlin,num_output):\n",
    "        super().__init__()\n",
    "        self.layer_width = layer_width\n",
    "        self.linear_layers = torch.nn.ModuleList([torch.nn.Linear(layer_width[i],layer_width[i+1], bias=True) for i in range(len(self.layer_width)-1)])\n",
    "        self.lin_out = torch.nn.Linear(self.layer_width[-1],num_output, bias=True)\n",
    "        if nonlin=='tanh':\n",
    "            self.act = torch.nn.Tanh()\n",
    "        elif nonlin=='relu':\n",
    "            self.act = torch.nn.ReLU()\n",
    "\n",
    "        for lin in self.linear_layers:\n",
    "            torch.nn.init.normal_(lin.weight, 0, 1)\n",
    "        torch.nn.init.normal_(self.lin_out.weight, 0, 1)\n",
    "\n",
    "    # Return full output of nn\n",
    "    def forward(self,x):\n",
    "        for i, lin in enumerate(self.linear_layers):\n",
    "            x = self.act(lin(x)) / (self.layer_width[i]**0.5)\n",
    "        return self.lin_out(x)\n",
    "\n",
    "def convergence(n,d,c,layer_widths,nonlin,lr=1,verbose=False):\n",
    "    X = torch.randn((n,d))\n",
    "    Y = torch.randint(low=0, high=2, size=(n,))\n",
    "\n",
    "    X_test = torch.randn((n,d))\n",
    "\n",
    "    net = variable_mlp(layer_width=layer_widths,nonlin=nonlin,num_output=c)\n",
    "\n",
    "    optimizer = torch.optim.SGD(net.parameters(),lr=1e-0,momentum=0.9)\n",
    "    loss_fn = torch.nn.CrossEntropyLoss()\n",
    "    for i in range(10000):\n",
    "        optimizer.zero_grad()\n",
    "        pred = net(X)\n",
    "        loss = loss_fn(pred,Y)\n",
    "        loss.backward()\n",
    "        optimizer.step()\n",
    "\n",
    "    if verbose:\n",
    "        print(f'nn loss : {loss.item():.4}')\n",
    "\n",
    "    if verbose:\n",
    "        total_norm = 0\n",
    "        for p in net.parameters():\n",
    "            param_norm = p.grad.data.norm(2)\n",
    "            total_norm += param_norm.item() ** 2\n",
    "        total_norm = total_norm ** (1. / 2)\n",
    "        print(f'Gradient norm : {total_norm:.4}')\n",
    "\n",
    "    # Compute NTKGP\n",
    "    fnet, params = make_functional(net)\n",
    "\n",
    "    ## Compute jacobian of net, evaluated on training set\n",
    "    def fnet_single(params, x):\n",
    "        return fnet(params, x.unsqueeze(0)).squeeze(0)\n",
    "\n",
    "    def Jx(Xs):\n",
    "        J = vmap(jacrev(fnet_single), (None, 0))(params, Xs)\n",
    "        J = [j.detach().flatten(2) for j in J]\n",
    "        J = torch.cat(J,dim=2).detach()\n",
    "        return J\n",
    "\n",
    "    lam = 0\n",
    "    scale = 1\n",
    "    Jtrain = Jx(X).flatten(0,1)\n",
    "    NTK_X = Jtrain @ Jtrain.T + lam*torch.eye(n*c)\n",
    "    cond = torch.linalg.cond(NTK_X).item()\n",
    "    print(f'Cond(J J^T) = {cond:.1}')\n",
    "    print(f'Rank: {torch.linalg.matrix_rank(Jtrain)}')\n",
    "    print(f'min eigenv: {torch.linalg.eigvalsh(NTK_X).min()}')\n",
    "\n",
    "    var_ntk = []\n",
    "    for xi in X_test:\n",
    "        Jsingle = Jx(xi.unsqueeze(0)).flatten(0,1)\n",
    "        KXx = Jtrain @ Jsingle.T\n",
    "        var = Jsingle @ Jsingle.T - KXx.T @ torch.linalg.solve(NTK_X,KXx)\n",
    "        var_ntk.append(var)\n",
    "    var_ntk = torch.stack(var_ntk)*scale\n",
    "    var_ntk = torch.diagonal(var_ntk, dim1 = - 2, dim2 = -1)\n",
    "    \n",
    "    train_data = toy_dataset(X,Y)\n",
    "    test_data = toy_dataset(X_test,Y)\n",
    "\n",
    "    diff_e = []\n",
    "    losses_e = []\n",
    "\n",
    "    epochs = torch.logspace(1,4,10)\n",
    "    for epoch in tqdm.tqdm(epochs):\n",
    "\n",
    "        nuqls_posterior = Nuqls(net, task='classification')\n",
    "        loss,_ = nuqls_posterior.train(train=train_data, \n",
    "                                            train_bs=n, \n",
    "                                            n_output=c,\n",
    "                                            S=100,\n",
    "                                            scale=scale, \n",
    "                                            lr=lr, \n",
    "                                            epochs=int(epoch.item()), \n",
    "                                            mu=0.9,\n",
    "                                            verbose=False\n",
    "                                            )\n",
    "\n",
    "        nuql_test_preds = nuqls_posterior.test(test_data, n)\n",
    "        var_nuqls = nuql_test_preds.var(0)\n",
    "        print(f'epoch: {epoch}, convergence = {torch.linalg.norm(var_nuqls - var_ntk)}')\n",
    "        diff_e.append(torch.linalg.norm(var_nuqls - var_ntk).item())\n",
    "        losses_e.append(loss)\n",
    "        if verbose:\n",
    "            print('--------------------------------------')\n",
    "            print(f'epoch: {int(epoch)}, nuqls loss : {loss:.4}')\n",
    "\n",
    "    diff_s = []\n",
    "    losses_s = []\n",
    "\n",
    "    s_range = torch.logspace(1,3,10)\n",
    "    for s in tqdm.tqdm(s_range):\n",
    "\n",
    "        nuqls_posterior = Nuqls(net, task='classification')\n",
    "        loss,_ = nuqls_posterior.train(train=train_data, \n",
    "                                            train_bs=n, \n",
    "                                            n_output=c,\n",
    "                                            S=int(s.item()),\n",
    "                                            scale=scale, \n",
    "                                            lr=lr, \n",
    "                                            epochs=10000, \n",
    "                                            mu=0.9,\n",
    "                                            verbose=False\n",
    "                                            )\n",
    "\n",
    "        nuql_test_preds = nuqls_posterior.test(test_data, n)\n",
    "        var_nuqls = nuql_test_preds.var(0)\n",
    "\n",
    "        # print(f's: {s}, convergence = {torch.linalg.norm(var_nuqls - var_ntk)}')\n",
    "        diff_s.append(torch.linalg.norm(var_nuqls - var_ntk).item())\n",
    "        losses_s.append(loss)\n",
    "        if verbose:\n",
    "            print('--------------------------------------')\n",
    "            print(f'S: {int(s)}, nuqls loss : {loss.item():.4}')\n",
    "\n",
    "    return diff_e,losses_e,epochs,diff_s,losses_s,s_range,cond\n"
   ]
  },
  {
   "cell_type": "code",
   "execution_count": 67,
   "metadata": {},
   "outputs": [
    {
     "name": "stdout",
     "output_type": "stream",
     "text": [
      "single-layer, width=20, tanh\n",
      "nn loss : 5.566e-05\n",
      "Gradient norm : 2.479e-05\n",
      "Cond(J J^T) = 1e+04\n",
      "Rank: 300\n",
      "min eigenv: 0.1226845111002593\n"
     ]
    },
    {
     "name": "stderr",
     "output_type": "stream",
     "text": [
      "100%|██████████| 10/10 [00:00<00:00, 39.48it/s]\n",
      " 10%|█         | 1/10 [00:00<00:02,  3.70it/s]"
     ]
    },
    {
     "name": "stdout",
     "output_type": "stream",
     "text": [
      "epoch: 10.0, convergence = 572.4914298239108\n",
      "--------------------------------------\n",
      "epoch: 10, nuqls loss : 1.138\n"
     ]
    },
    {
     "name": "stderr",
     "output_type": "stream",
     "text": [
      "100%|██████████| 21/21 [00:00<00:00, 41.93it/s]\n",
      " 20%|██        | 2/10 [00:00<00:03,  2.36it/s]"
     ]
    },
    {
     "name": "stdout",
     "output_type": "stream",
     "text": [
      "epoch: 21.544346900318832, convergence = 534.2317961735678\n",
      "--------------------------------------\n",
      "epoch: 21, nuqls loss : 0.242\n"
     ]
    },
    {
     "name": "stderr",
     "output_type": "stream",
     "text": [
      "100%|██████████| 46/46 [00:01<00:00, 40.89it/s]\n",
      " 30%|███       | 3/10 [00:01<00:05,  1.31it/s]"
     ]
    },
    {
     "name": "stdout",
     "output_type": "stream",
     "text": [
      "epoch: 46.41588833612777, convergence = 523.709846633209\n",
      "--------------------------------------\n",
      "epoch: 46, nuqls loss : 0.008313\n"
     ]
    },
    {
     "name": "stderr",
     "output_type": "stream",
     "text": [
      " 40%|████      | 40/100 [00:01<00:01, 39.87it/s]\n",
      " 30%|███       | 3/10 [00:02<00:06,  1.01it/s]\n"
     ]
    },
    {
     "ename": "KeyboardInterrupt",
     "evalue": "",
     "output_type": "error",
     "traceback": [
      "\u001b[1;31m---------------------------------------------------------------------------\u001b[0m",
      "\u001b[1;31mKeyboardInterrupt\u001b[0m                         Traceback (most recent call last)",
      "Cell \u001b[1;32mIn[67], line 17\u001b[0m\n\u001b[0;32m     14\u001b[0m conds \u001b[38;5;241m=\u001b[39m []\n\u001b[0;32m     16\u001b[0m \u001b[38;5;28;01mfor\u001b[39;00m i \u001b[38;5;129;01min\u001b[39;00m \u001b[38;5;28mrange\u001b[39m(samples):\n\u001b[1;32m---> 17\u001b[0m     diff_e,losses_e,epochs,diff_s,_,s_range,cond_i \u001b[38;5;241m=\u001b[39m \u001b[43mconvergence\u001b[49m\u001b[43m(\u001b[49m\u001b[43mn\u001b[49m\u001b[43m,\u001b[49m\u001b[43md\u001b[49m\u001b[43m,\u001b[49m\u001b[43mc\u001b[49m\u001b[43m,\u001b[49m\u001b[43mlayer_widths\u001b[49m\u001b[38;5;241;43m=\u001b[39;49m\u001b[43mlayer_widths\u001b[49m\u001b[43m,\u001b[49m\u001b[43mnonlin\u001b[49m\u001b[38;5;241;43m=\u001b[39;49m\u001b[38;5;124;43m'\u001b[39;49m\u001b[38;5;124;43mtanh\u001b[39;49m\u001b[38;5;124;43m'\u001b[39;49m\u001b[43m,\u001b[49m\u001b[43mlr\u001b[49m\u001b[38;5;241;43m=\u001b[39;49m\u001b[38;5;241;43m1e-1\u001b[39;49m\u001b[43m,\u001b[49m\u001b[43mverbose\u001b[49m\u001b[38;5;241;43m=\u001b[39;49m\u001b[38;5;28;43;01mTrue\u001b[39;49;00m\u001b[43m)\u001b[49m\n\u001b[0;32m     18\u001b[0m     diff_e_av\u001b[38;5;241m.\u001b[39mappend(diff_e)\n\u001b[0;32m     19\u001b[0m     losses_e_av\u001b[38;5;241m.\u001b[39mappend(losses_e)\n",
      "Cell \u001b[1;32mIn[66], line 113\u001b[0m, in \u001b[0;36mconvergence\u001b[1;34m(n, d, c, layer_widths, nonlin, lr, verbose)\u001b[0m\n\u001b[0;32m    110\u001b[0m \u001b[38;5;28;01mfor\u001b[39;00m epoch \u001b[38;5;129;01min\u001b[39;00m tqdm\u001b[38;5;241m.\u001b[39mtqdm(epochs):\n\u001b[0;32m    112\u001b[0m     nuqls_posterior \u001b[38;5;241m=\u001b[39m Nuqls(net, task\u001b[38;5;241m=\u001b[39m\u001b[38;5;124m'\u001b[39m\u001b[38;5;124mclassification\u001b[39m\u001b[38;5;124m'\u001b[39m)\n\u001b[1;32m--> 113\u001b[0m     loss,_ \u001b[38;5;241m=\u001b[39m \u001b[43mnuqls_posterior\u001b[49m\u001b[38;5;241;43m.\u001b[39;49m\u001b[43mtrain\u001b[49m\u001b[43m(\u001b[49m\u001b[43mtrain\u001b[49m\u001b[38;5;241;43m=\u001b[39;49m\u001b[43mtrain_data\u001b[49m\u001b[43m,\u001b[49m\u001b[43m \u001b[49m\n\u001b[0;32m    114\u001b[0m \u001b[43m                                        \u001b[49m\u001b[43mtrain_bs\u001b[49m\u001b[38;5;241;43m=\u001b[39;49m\u001b[43mn\u001b[49m\u001b[43m,\u001b[49m\u001b[43m \u001b[49m\n\u001b[0;32m    115\u001b[0m \u001b[43m                                        \u001b[49m\u001b[43mn_output\u001b[49m\u001b[38;5;241;43m=\u001b[39;49m\u001b[43mc\u001b[49m\u001b[43m,\u001b[49m\n\u001b[0;32m    116\u001b[0m \u001b[43m                                        \u001b[49m\u001b[43mS\u001b[49m\u001b[38;5;241;43m=\u001b[39;49m\u001b[38;5;241;43m100\u001b[39;49m\u001b[43m,\u001b[49m\n\u001b[0;32m    117\u001b[0m \u001b[43m                                        \u001b[49m\u001b[43mscale\u001b[49m\u001b[38;5;241;43m=\u001b[39;49m\u001b[43mscale\u001b[49m\u001b[43m,\u001b[49m\u001b[43m \u001b[49m\n\u001b[0;32m    118\u001b[0m \u001b[43m                                        \u001b[49m\u001b[43mlr\u001b[49m\u001b[38;5;241;43m=\u001b[39;49m\u001b[43mlr\u001b[49m\u001b[43m,\u001b[49m\u001b[43m \u001b[49m\n\u001b[0;32m    119\u001b[0m \u001b[43m                                        \u001b[49m\u001b[43mepochs\u001b[49m\u001b[38;5;241;43m=\u001b[39;49m\u001b[38;5;28;43mint\u001b[39;49m\u001b[43m(\u001b[49m\u001b[43mepoch\u001b[49m\u001b[38;5;241;43m.\u001b[39;49m\u001b[43mitem\u001b[49m\u001b[43m(\u001b[49m\u001b[43m)\u001b[49m\u001b[43m)\u001b[49m\u001b[43m,\u001b[49m\u001b[43m \u001b[49m\n\u001b[0;32m    120\u001b[0m \u001b[43m                                        \u001b[49m\u001b[43mmu\u001b[49m\u001b[38;5;241;43m=\u001b[39;49m\u001b[38;5;241;43m0.9\u001b[39;49m\u001b[43m,\u001b[49m\n\u001b[0;32m    121\u001b[0m \u001b[43m                                        \u001b[49m\u001b[43mverbose\u001b[49m\u001b[38;5;241;43m=\u001b[39;49m\u001b[38;5;28;43;01mFalse\u001b[39;49;00m\n\u001b[0;32m    122\u001b[0m \u001b[43m                                        \u001b[49m\u001b[43m)\u001b[49m\n\u001b[0;32m    124\u001b[0m     nuql_test_preds \u001b[38;5;241m=\u001b[39m nuqls_posterior\u001b[38;5;241m.\u001b[39mtest(test_data, n)\n\u001b[0;32m    125\u001b[0m     var_nuqls \u001b[38;5;241m=\u001b[39m nuql_test_preds\u001b[38;5;241m.\u001b[39mvar(\u001b[38;5;241m0\u001b[39m)\n",
      "File \u001b[1;32m~\\AppData\\Local\\Packages\\PythonSoftwareFoundation.Python.3.11_qbz5n2kfra8p0\\LocalCache\\local-packages\\Python311\\site-packages\\nuqls\\classification.py:61\u001b[0m, in \u001b[0;36mclassificationParallel.train\u001b[1;34m(self, train, train_bs, n_output, scale, S, epochs, lr, mu, verbose, progress_bar)\u001b[0m\n\u001b[0;32m     59\u001b[0m x, y \u001b[38;5;241m=\u001b[39m x\u001b[38;5;241m.\u001b[39mto(device\u001b[38;5;241m=\u001b[39m\u001b[38;5;28mself\u001b[39m\u001b[38;5;241m.\u001b[39mdevice, non_blocking\u001b[38;5;241m=\u001b[39m\u001b[38;5;28;01mTrue\u001b[39;00m), y\u001b[38;5;241m.\u001b[39mto(device\u001b[38;5;241m=\u001b[39m\u001b[38;5;28mself\u001b[39m\u001b[38;5;241m.\u001b[39mdevice, non_blocking\u001b[38;5;241m=\u001b[39m\u001b[38;5;28;01mTrue\u001b[39;00m)\n\u001b[0;32m     60\u001b[0m f_nlin \u001b[38;5;241m=\u001b[39m \u001b[38;5;28mself\u001b[39m\u001b[38;5;241m.\u001b[39mnetwork(x)\n\u001b[1;32m---> 61\u001b[0m proj \u001b[38;5;241m=\u001b[39m \u001b[43mtorch\u001b[49m\u001b[38;5;241;43m.\u001b[39;49m\u001b[43mvmap\u001b[49m\u001b[43m(\u001b[49m\u001b[43mjvp_first\u001b[49m\u001b[43m,\u001b[49m\u001b[43m \u001b[49m\u001b[43m(\u001b[49m\u001b[38;5;241;43m1\u001b[39;49m\u001b[43m,\u001b[49m\u001b[38;5;28;43;01mNone\u001b[39;49;00m\u001b[43m,\u001b[49m\u001b[38;5;28;43;01mNone\u001b[39;49;00m\u001b[43m)\u001b[49m\u001b[43m)\u001b[49m\u001b[43m(\u001b[49m\u001b[43m(\u001b[49m\u001b[43mtheta_S\u001b[49m\u001b[43m)\u001b[49m\u001b[43m,\u001b[49m\u001b[43mparams\u001b[49m\u001b[43m,\u001b[49m\u001b[43mx\u001b[49m\u001b[43m)\u001b[49m\u001b[38;5;241m.\u001b[39mpermute(\u001b[38;5;241m1\u001b[39m,\u001b[38;5;241m2\u001b[39m,\u001b[38;5;241m0\u001b[39m)\n\u001b[0;32m     62\u001b[0m f_lin \u001b[38;5;241m=\u001b[39m (proj \u001b[38;5;241m+\u001b[39m f_nlin\u001b[38;5;241m.\u001b[39munsqueeze(\u001b[38;5;241m2\u001b[39m))\n\u001b[0;32m     63\u001b[0m Mubar \u001b[38;5;241m=\u001b[39m torch\u001b[38;5;241m.\u001b[39mclamp(torch\u001b[38;5;241m.\u001b[39mnn\u001b[38;5;241m.\u001b[39mfunctional\u001b[38;5;241m.\u001b[39msoftmax(f_lin,dim\u001b[38;5;241m=\u001b[39m\u001b[38;5;241m1\u001b[39m),\u001b[38;5;241m1e-32\u001b[39m,\u001b[38;5;241m1\u001b[39m)\n",
      "File \u001b[1;32m~\\AppData\\Local\\Packages\\PythonSoftwareFoundation.Python.3.11_qbz5n2kfra8p0\\LocalCache\\local-packages\\Python311\\site-packages\\torch\\_functorch\\vmap.py:434\u001b[0m, in \u001b[0;36mvmap.<locals>.wrapped\u001b[1;34m(*args, **kwargs)\u001b[0m\n\u001b[0;32m    430\u001b[0m     \u001b[38;5;28;01mreturn\u001b[39;00m _chunked_vmap(func, flat_in_dims, chunks_flat_args,\n\u001b[0;32m    431\u001b[0m                          args_spec, out_dims, randomness, \u001b[38;5;241m*\u001b[39m\u001b[38;5;241m*\u001b[39mkwargs)\n\u001b[0;32m    433\u001b[0m \u001b[38;5;66;03m# If chunk_size is not specified.\u001b[39;00m\n\u001b[1;32m--> 434\u001b[0m \u001b[38;5;28;01mreturn\u001b[39;00m \u001b[43m_flat_vmap\u001b[49m\u001b[43m(\u001b[49m\n\u001b[0;32m    435\u001b[0m \u001b[43m    \u001b[49m\u001b[43mfunc\u001b[49m\u001b[43m,\u001b[49m\u001b[43m \u001b[49m\u001b[43mbatch_size\u001b[49m\u001b[43m,\u001b[49m\u001b[43m \u001b[49m\u001b[43mflat_in_dims\u001b[49m\u001b[43m,\u001b[49m\u001b[43m \u001b[49m\u001b[43mflat_args\u001b[49m\u001b[43m,\u001b[49m\u001b[43m \u001b[49m\u001b[43margs_spec\u001b[49m\u001b[43m,\u001b[49m\u001b[43m \u001b[49m\u001b[43mout_dims\u001b[49m\u001b[43m,\u001b[49m\u001b[43m \u001b[49m\u001b[43mrandomness\u001b[49m\u001b[43m,\u001b[49m\u001b[43m \u001b[49m\u001b[38;5;241;43m*\u001b[39;49m\u001b[38;5;241;43m*\u001b[39;49m\u001b[43mkwargs\u001b[49m\n\u001b[0;32m    436\u001b[0m \u001b[43m\u001b[49m\u001b[43m)\u001b[49m\n",
      "File \u001b[1;32m~\\AppData\\Local\\Packages\\PythonSoftwareFoundation.Python.3.11_qbz5n2kfra8p0\\LocalCache\\local-packages\\Python311\\site-packages\\torch\\_functorch\\vmap.py:39\u001b[0m, in \u001b[0;36mdoesnt_support_saved_tensors_hooks.<locals>.fn\u001b[1;34m(*args, **kwargs)\u001b[0m\n\u001b[0;32m     36\u001b[0m \u001b[38;5;129m@functools\u001b[39m\u001b[38;5;241m.\u001b[39mwraps(f)\n\u001b[0;32m     37\u001b[0m \u001b[38;5;28;01mdef\u001b[39;00m \u001b[38;5;21mfn\u001b[39m(\u001b[38;5;241m*\u001b[39margs, \u001b[38;5;241m*\u001b[39m\u001b[38;5;241m*\u001b[39mkwargs):\n\u001b[0;32m     38\u001b[0m     \u001b[38;5;28;01mwith\u001b[39;00m torch\u001b[38;5;241m.\u001b[39mautograd\u001b[38;5;241m.\u001b[39mgraph\u001b[38;5;241m.\u001b[39mdisable_saved_tensors_hooks(message):\n\u001b[1;32m---> 39\u001b[0m         \u001b[38;5;28;01mreturn\u001b[39;00m \u001b[43mf\u001b[49m\u001b[43m(\u001b[49m\u001b[38;5;241;43m*\u001b[39;49m\u001b[43margs\u001b[49m\u001b[43m,\u001b[49m\u001b[43m \u001b[49m\u001b[38;5;241;43m*\u001b[39;49m\u001b[38;5;241;43m*\u001b[39;49m\u001b[43mkwargs\u001b[49m\u001b[43m)\u001b[49m\n",
      "File \u001b[1;32m~\\AppData\\Local\\Packages\\PythonSoftwareFoundation.Python.3.11_qbz5n2kfra8p0\\LocalCache\\local-packages\\Python311\\site-packages\\torch\\_functorch\\vmap.py:619\u001b[0m, in \u001b[0;36m_flat_vmap\u001b[1;34m(func, batch_size, flat_in_dims, flat_args, args_spec, out_dims, randomness, **kwargs)\u001b[0m\n\u001b[0;32m    617\u001b[0m \u001b[38;5;28;01mtry\u001b[39;00m:\n\u001b[0;32m    618\u001b[0m     batched_inputs \u001b[38;5;241m=\u001b[39m _create_batched_inputs(flat_in_dims, flat_args, vmap_level, args_spec)\n\u001b[1;32m--> 619\u001b[0m     batched_outputs \u001b[38;5;241m=\u001b[39m \u001b[43mfunc\u001b[49m\u001b[43m(\u001b[49m\u001b[38;5;241;43m*\u001b[39;49m\u001b[43mbatched_inputs\u001b[49m\u001b[43m,\u001b[49m\u001b[43m \u001b[49m\u001b[38;5;241;43m*\u001b[39;49m\u001b[38;5;241;43m*\u001b[39;49m\u001b[43mkwargs\u001b[49m\u001b[43m)\u001b[49m\n\u001b[0;32m    620\u001b[0m     \u001b[38;5;28;01mreturn\u001b[39;00m _unwrap_batched(batched_outputs, out_dims, vmap_level, batch_size, func)\n\u001b[0;32m    621\u001b[0m \u001b[38;5;28;01mfinally\u001b[39;00m:\n",
      "File \u001b[1;32m~\\AppData\\Local\\Packages\\PythonSoftwareFoundation.Python.3.11_qbz5n2kfra8p0\\LocalCache\\local-packages\\Python311\\site-packages\\nuqls\\classification.py:30\u001b[0m, in \u001b[0;36mclassificationParallel.train.<locals>.jvp_first\u001b[1;34m(theta_s, params, x)\u001b[0m\n\u001b[0;32m     28\u001b[0m \u001b[38;5;28;01mdef\u001b[39;00m \u001b[38;5;21mjvp_first\u001b[39m(theta_s,params,x):\n\u001b[0;32m     29\u001b[0m     dparams \u001b[38;5;241m=\u001b[39m utils\u001b[38;5;241m.\u001b[39m_dub(utils\u001b[38;5;241m.\u001b[39munflatten_like(theta_s, params\u001b[38;5;241m.\u001b[39mvalues()),params)\n\u001b[1;32m---> 30\u001b[0m     _, proj \u001b[38;5;241m=\u001b[39m \u001b[43mtorch\u001b[49m\u001b[38;5;241;43m.\u001b[39;49m\u001b[43mfunc\u001b[49m\u001b[38;5;241;43m.\u001b[39;49m\u001b[43mjvp\u001b[49m\u001b[43m(\u001b[49m\u001b[38;5;28;43;01mlambda\u001b[39;49;00m\u001b[43m \u001b[49m\u001b[43mparam\u001b[49m\u001b[43m:\u001b[49m\u001b[43m \u001b[49m\u001b[43mfnet\u001b[49m\u001b[43m(\u001b[49m\u001b[43mparam\u001b[49m\u001b[43m,\u001b[49m\u001b[43m \u001b[49m\u001b[43mx\u001b[49m\u001b[43m)\u001b[49m\u001b[43m,\u001b[49m\n\u001b[0;32m     31\u001b[0m \u001b[43m                            \u001b[49m\u001b[43m(\u001b[49m\u001b[43mparams\u001b[49m\u001b[43m,\u001b[49m\u001b[43m)\u001b[49m\u001b[43m,\u001b[49m\u001b[43m \u001b[49m\u001b[43m(\u001b[49m\u001b[43mdparams\u001b[49m\u001b[43m,\u001b[49m\u001b[43m)\u001b[49m\u001b[43m)\u001b[49m\n\u001b[0;32m     32\u001b[0m     proj \u001b[38;5;241m=\u001b[39m proj\u001b[38;5;241m.\u001b[39mdetach()\n\u001b[0;32m     33\u001b[0m     \u001b[38;5;28;01mreturn\u001b[39;00m proj\n",
      "File \u001b[1;32m~\\AppData\\Local\\Packages\\PythonSoftwareFoundation.Python.3.11_qbz5n2kfra8p0\\LocalCache\\local-packages\\Python311\\site-packages\\torch\\_functorch\\eager_transforms.py:916\u001b[0m, in \u001b[0;36mjvp\u001b[1;34m(func, primals, tangents, strict, has_aux)\u001b[0m\n\u001b[0;32m    864\u001b[0m \u001b[38;5;129m@exposed_in\u001b[39m(\u001b[38;5;124m\"\u001b[39m\u001b[38;5;124mtorch.func\u001b[39m\u001b[38;5;124m\"\u001b[39m)\n\u001b[0;32m    865\u001b[0m \u001b[38;5;28;01mdef\u001b[39;00m \u001b[38;5;21mjvp\u001b[39m(func: Callable, primals: Any, tangents: Any, \u001b[38;5;241m*\u001b[39m, strict: \u001b[38;5;28mbool\u001b[39m \u001b[38;5;241m=\u001b[39m \u001b[38;5;28;01mFalse\u001b[39;00m, has_aux: \u001b[38;5;28mbool\u001b[39m \u001b[38;5;241m=\u001b[39m \u001b[38;5;28;01mFalse\u001b[39;00m):\n\u001b[0;32m    866\u001b[0m \u001b[38;5;250m    \u001b[39m\u001b[38;5;124;03m\"\"\"\u001b[39;00m\n\u001b[0;32m    867\u001b[0m \u001b[38;5;124;03m    Standing for the Jacobian-vector product, returns a tuple containing\u001b[39;00m\n\u001b[0;32m    868\u001b[0m \u001b[38;5;124;03m    the output of `func(*primals)` and the \"Jacobian of ``func`` evaluated at\u001b[39;00m\n\u001b[1;32m   (...)\u001b[0m\n\u001b[0;32m    913\u001b[0m \n\u001b[0;32m    914\u001b[0m \u001b[38;5;124;03m    \"\"\"\u001b[39;00m\n\u001b[1;32m--> 916\u001b[0m     \u001b[38;5;28;01mreturn\u001b[39;00m \u001b[43m_jvp_with_argnums\u001b[49m\u001b[43m(\u001b[49m\u001b[43mfunc\u001b[49m\u001b[43m,\u001b[49m\u001b[43m \u001b[49m\u001b[43mprimals\u001b[49m\u001b[43m,\u001b[49m\u001b[43m \u001b[49m\u001b[43mtangents\u001b[49m\u001b[43m,\u001b[49m\u001b[43m \u001b[49m\u001b[43margnums\u001b[49m\u001b[38;5;241;43m=\u001b[39;49m\u001b[38;5;28;43;01mNone\u001b[39;49;00m\u001b[43m,\u001b[49m\u001b[43m \u001b[49m\u001b[43mstrict\u001b[49m\u001b[38;5;241;43m=\u001b[39;49m\u001b[43mstrict\u001b[49m\u001b[43m,\u001b[49m\u001b[43m \u001b[49m\u001b[43mhas_aux\u001b[49m\u001b[38;5;241;43m=\u001b[39;49m\u001b[43mhas_aux\u001b[49m\u001b[43m)\u001b[49m\n",
      "File \u001b[1;32m~\\AppData\\Local\\Packages\\PythonSoftwareFoundation.Python.3.11_qbz5n2kfra8p0\\LocalCache\\local-packages\\Python311\\site-packages\\torch\\_functorch\\vmap.py:39\u001b[0m, in \u001b[0;36mdoesnt_support_saved_tensors_hooks.<locals>.fn\u001b[1;34m(*args, **kwargs)\u001b[0m\n\u001b[0;32m     36\u001b[0m \u001b[38;5;129m@functools\u001b[39m\u001b[38;5;241m.\u001b[39mwraps(f)\n\u001b[0;32m     37\u001b[0m \u001b[38;5;28;01mdef\u001b[39;00m \u001b[38;5;21mfn\u001b[39m(\u001b[38;5;241m*\u001b[39margs, \u001b[38;5;241m*\u001b[39m\u001b[38;5;241m*\u001b[39mkwargs):\n\u001b[0;32m     38\u001b[0m     \u001b[38;5;28;01mwith\u001b[39;00m torch\u001b[38;5;241m.\u001b[39mautograd\u001b[38;5;241m.\u001b[39mgraph\u001b[38;5;241m.\u001b[39mdisable_saved_tensors_hooks(message):\n\u001b[1;32m---> 39\u001b[0m         \u001b[38;5;28;01mreturn\u001b[39;00m \u001b[43mf\u001b[49m\u001b[43m(\u001b[49m\u001b[38;5;241;43m*\u001b[39;49m\u001b[43margs\u001b[49m\u001b[43m,\u001b[49m\u001b[43m \u001b[49m\u001b[38;5;241;43m*\u001b[39;49m\u001b[38;5;241;43m*\u001b[39;49m\u001b[43mkwargs\u001b[49m\u001b[43m)\u001b[49m\n",
      "File \u001b[1;32m~\\AppData\\Local\\Packages\\PythonSoftwareFoundation.Python.3.11_qbz5n2kfra8p0\\LocalCache\\local-packages\\Python311\\site-packages\\torch\\_functorch\\eager_transforms.py:965\u001b[0m, in \u001b[0;36m_jvp_with_argnums\u001b[1;34m(func, primals, tangents, argnums, strict, has_aux)\u001b[0m\n\u001b[0;32m    963\u001b[0m     primals \u001b[38;5;241m=\u001b[39m _wrap_all_tensors(primals, level)\n\u001b[0;32m    964\u001b[0m     duals \u001b[38;5;241m=\u001b[39m _replace_args(primals, duals, argnums)\n\u001b[1;32m--> 965\u001b[0m result_duals \u001b[38;5;241m=\u001b[39m \u001b[43mfunc\u001b[49m\u001b[43m(\u001b[49m\u001b[38;5;241;43m*\u001b[39;49m\u001b[43mduals\u001b[49m\u001b[43m)\u001b[49m\n\u001b[0;32m    966\u001b[0m \u001b[38;5;28;01mif\u001b[39;00m has_aux:\n\u001b[0;32m    967\u001b[0m     \u001b[38;5;28;01mif\u001b[39;00m \u001b[38;5;129;01mnot\u001b[39;00m (\u001b[38;5;28misinstance\u001b[39m(result_duals, \u001b[38;5;28mtuple\u001b[39m) \u001b[38;5;129;01mand\u001b[39;00m \u001b[38;5;28mlen\u001b[39m(result_duals) \u001b[38;5;241m==\u001b[39m \u001b[38;5;241m2\u001b[39m):\n",
      "File \u001b[1;32m~\\AppData\\Local\\Packages\\PythonSoftwareFoundation.Python.3.11_qbz5n2kfra8p0\\LocalCache\\local-packages\\Python311\\site-packages\\nuqls\\classification.py:30\u001b[0m, in \u001b[0;36mclassificationParallel.train.<locals>.jvp_first.<locals>.<lambda>\u001b[1;34m(param)\u001b[0m\n\u001b[0;32m     28\u001b[0m \u001b[38;5;28;01mdef\u001b[39;00m \u001b[38;5;21mjvp_first\u001b[39m(theta_s,params,x):\n\u001b[0;32m     29\u001b[0m     dparams \u001b[38;5;241m=\u001b[39m utils\u001b[38;5;241m.\u001b[39m_dub(utils\u001b[38;5;241m.\u001b[39munflatten_like(theta_s, params\u001b[38;5;241m.\u001b[39mvalues()),params)\n\u001b[1;32m---> 30\u001b[0m     _, proj \u001b[38;5;241m=\u001b[39m torch\u001b[38;5;241m.\u001b[39mfunc\u001b[38;5;241m.\u001b[39mjvp(\u001b[38;5;28;01mlambda\u001b[39;00m param: \u001b[43mfnet\u001b[49m\u001b[43m(\u001b[49m\u001b[43mparam\u001b[49m\u001b[43m,\u001b[49m\u001b[43m \u001b[49m\u001b[43mx\u001b[49m\u001b[43m)\u001b[49m,\n\u001b[0;32m     31\u001b[0m                             (params,), (dparams,))\n\u001b[0;32m     32\u001b[0m     proj \u001b[38;5;241m=\u001b[39m proj\u001b[38;5;241m.\u001b[39mdetach()\n\u001b[0;32m     33\u001b[0m     \u001b[38;5;28;01mreturn\u001b[39;00m proj\n",
      "File \u001b[1;32m~\\AppData\\Local\\Packages\\PythonSoftwareFoundation.Python.3.11_qbz5n2kfra8p0\\LocalCache\\local-packages\\Python311\\site-packages\\nuqls\\classification.py:23\u001b[0m, in \u001b[0;36mclassificationParallel.train.<locals>.fnet\u001b[1;34m(params, x)\u001b[0m\n\u001b[0;32m     22\u001b[0m \u001b[38;5;28;01mdef\u001b[39;00m \u001b[38;5;21mfnet\u001b[39m(params, x):\n\u001b[1;32m---> 23\u001b[0m     \u001b[38;5;28;01mreturn\u001b[39;00m \u001b[43mfunctional_call\u001b[49m\u001b[43m(\u001b[49m\u001b[38;5;28;43mself\u001b[39;49m\u001b[38;5;241;43m.\u001b[39;49m\u001b[43mnetwork\u001b[49m\u001b[43m,\u001b[49m\u001b[43m \u001b[49m\u001b[43mparams\u001b[49m\u001b[43m,\u001b[49m\u001b[43m \u001b[49m\u001b[43mx\u001b[49m\u001b[43m)\u001b[49m\n",
      "File \u001b[1;32m~\\AppData\\Local\\Packages\\PythonSoftwareFoundation.Python.3.11_qbz5n2kfra8p0\\LocalCache\\local-packages\\Python311\\site-packages\\torch\\_functorch\\functional_call.py:143\u001b[0m, in \u001b[0;36mfunctional_call\u001b[1;34m(module, parameter_and_buffer_dicts, args, kwargs, tie_weights, strict)\u001b[0m\n\u001b[0;32m    137\u001b[0m \u001b[38;5;28;01melse\u001b[39;00m:\n\u001b[0;32m    138\u001b[0m     \u001b[38;5;28;01mraise\u001b[39;00m \u001b[38;5;167;01mValueError\u001b[39;00m(\n\u001b[0;32m    139\u001b[0m         \u001b[38;5;124mf\u001b[39m\u001b[38;5;124m\"\u001b[39m\u001b[38;5;124mExpected parameter_and_buffer_dicts to be a dict, or a list/tuple of dicts, \u001b[39m\u001b[38;5;124m\"\u001b[39m\n\u001b[0;32m    140\u001b[0m         \u001b[38;5;124mf\u001b[39m\u001b[38;5;124m\"\u001b[39m\u001b[38;5;124mbut got \u001b[39m\u001b[38;5;132;01m{\u001b[39;00m\u001b[38;5;28mtype\u001b[39m(parameter_and_buffer_dicts)\u001b[38;5;132;01m}\u001b[39;00m\u001b[38;5;124m\"\u001b[39m\n\u001b[0;32m    141\u001b[0m     )\n\u001b[1;32m--> 143\u001b[0m \u001b[38;5;28;01mreturn\u001b[39;00m \u001b[43mnn\u001b[49m\u001b[38;5;241;43m.\u001b[39;49m\u001b[43mutils\u001b[49m\u001b[38;5;241;43m.\u001b[39;49m\u001b[43mstateless\u001b[49m\u001b[38;5;241;43m.\u001b[39;49m\u001b[43m_functional_call\u001b[49m\u001b[43m(\u001b[49m\n\u001b[0;32m    144\u001b[0m \u001b[43m    \u001b[49m\u001b[43mmodule\u001b[49m\u001b[43m,\u001b[49m\n\u001b[0;32m    145\u001b[0m \u001b[43m    \u001b[49m\u001b[43mparameters_and_buffers\u001b[49m\u001b[43m,\u001b[49m\n\u001b[0;32m    146\u001b[0m \u001b[43m    \u001b[49m\u001b[43margs\u001b[49m\u001b[43m,\u001b[49m\n\u001b[0;32m    147\u001b[0m \u001b[43m    \u001b[49m\u001b[43mkwargs\u001b[49m\u001b[43m,\u001b[49m\n\u001b[0;32m    148\u001b[0m \u001b[43m    \u001b[49m\u001b[43mtie_weights\u001b[49m\u001b[38;5;241;43m=\u001b[39;49m\u001b[43mtie_weights\u001b[49m\u001b[43m,\u001b[49m\n\u001b[0;32m    149\u001b[0m \u001b[43m    \u001b[49m\u001b[43mstrict\u001b[49m\u001b[38;5;241;43m=\u001b[39;49m\u001b[43mstrict\u001b[49m\u001b[43m,\u001b[49m\n\u001b[0;32m    150\u001b[0m \u001b[43m\u001b[49m\u001b[43m)\u001b[49m\n",
      "File \u001b[1;32m~\\AppData\\Local\\Packages\\PythonSoftwareFoundation.Python.3.11_qbz5n2kfra8p0\\LocalCache\\local-packages\\Python311\\site-packages\\torch\\nn\\utils\\stateless.py:262\u001b[0m, in \u001b[0;36m_functional_call\u001b[1;34m(module, parameters_and_buffers, args, kwargs, tie_weights, strict)\u001b[0m\n\u001b[0;32m    258\u001b[0m     args \u001b[38;5;241m=\u001b[39m (args,)\n\u001b[0;32m    259\u001b[0m \u001b[38;5;28;01mwith\u001b[39;00m _reparametrize_module(\n\u001b[0;32m    260\u001b[0m     module, parameters_and_buffers, tie_weights\u001b[38;5;241m=\u001b[39mtie_weights, strict\u001b[38;5;241m=\u001b[39mstrict\n\u001b[0;32m    261\u001b[0m ):\n\u001b[1;32m--> 262\u001b[0m     \u001b[38;5;28;01mreturn\u001b[39;00m \u001b[43mmodule\u001b[49m\u001b[43m(\u001b[49m\u001b[38;5;241;43m*\u001b[39;49m\u001b[43margs\u001b[49m\u001b[43m,\u001b[49m\u001b[43m \u001b[49m\u001b[38;5;241;43m*\u001b[39;49m\u001b[38;5;241;43m*\u001b[39;49m\u001b[43mkwargs\u001b[49m\u001b[43m)\u001b[49m\n",
      "File \u001b[1;32m~\\AppData\\Local\\Packages\\PythonSoftwareFoundation.Python.3.11_qbz5n2kfra8p0\\LocalCache\\local-packages\\Python311\\site-packages\\torch\\nn\\modules\\module.py:1501\u001b[0m, in \u001b[0;36mModule._call_impl\u001b[1;34m(self, *args, **kwargs)\u001b[0m\n\u001b[0;32m   1496\u001b[0m \u001b[38;5;66;03m# If we don't have any hooks, we want to skip the rest of the logic in\u001b[39;00m\n\u001b[0;32m   1497\u001b[0m \u001b[38;5;66;03m# this function, and just call forward.\u001b[39;00m\n\u001b[0;32m   1498\u001b[0m \u001b[38;5;28;01mif\u001b[39;00m \u001b[38;5;129;01mnot\u001b[39;00m (\u001b[38;5;28mself\u001b[39m\u001b[38;5;241m.\u001b[39m_backward_hooks \u001b[38;5;129;01mor\u001b[39;00m \u001b[38;5;28mself\u001b[39m\u001b[38;5;241m.\u001b[39m_backward_pre_hooks \u001b[38;5;129;01mor\u001b[39;00m \u001b[38;5;28mself\u001b[39m\u001b[38;5;241m.\u001b[39m_forward_hooks \u001b[38;5;129;01mor\u001b[39;00m \u001b[38;5;28mself\u001b[39m\u001b[38;5;241m.\u001b[39m_forward_pre_hooks\n\u001b[0;32m   1499\u001b[0m         \u001b[38;5;129;01mor\u001b[39;00m _global_backward_pre_hooks \u001b[38;5;129;01mor\u001b[39;00m _global_backward_hooks\n\u001b[0;32m   1500\u001b[0m         \u001b[38;5;129;01mor\u001b[39;00m _global_forward_hooks \u001b[38;5;129;01mor\u001b[39;00m _global_forward_pre_hooks):\n\u001b[1;32m-> 1501\u001b[0m     \u001b[38;5;28;01mreturn\u001b[39;00m \u001b[43mforward_call\u001b[49m\u001b[43m(\u001b[49m\u001b[38;5;241;43m*\u001b[39;49m\u001b[43margs\u001b[49m\u001b[43m,\u001b[49m\u001b[43m \u001b[49m\u001b[38;5;241;43m*\u001b[39;49m\u001b[38;5;241;43m*\u001b[39;49m\u001b[43mkwargs\u001b[49m\u001b[43m)\u001b[49m\n\u001b[0;32m   1502\u001b[0m \u001b[38;5;66;03m# Do not call functions when jit is used\u001b[39;00m\n\u001b[0;32m   1503\u001b[0m full_backward_hooks, non_full_backward_hooks \u001b[38;5;241m=\u001b[39m [], []\n",
      "Cell \u001b[1;32mIn[66], line 41\u001b[0m, in \u001b[0;36mvariable_mlp.forward\u001b[1;34m(self, x)\u001b[0m\n\u001b[0;32m     39\u001b[0m \u001b[38;5;28;01mdef\u001b[39;00m \u001b[38;5;21mforward\u001b[39m(\u001b[38;5;28mself\u001b[39m,x):\n\u001b[0;32m     40\u001b[0m     \u001b[38;5;28;01mfor\u001b[39;00m i, lin \u001b[38;5;129;01min\u001b[39;00m \u001b[38;5;28menumerate\u001b[39m(\u001b[38;5;28mself\u001b[39m\u001b[38;5;241m.\u001b[39mlinear_layers):\n\u001b[1;32m---> 41\u001b[0m         x \u001b[38;5;241m=\u001b[39m \u001b[38;5;28mself\u001b[39m\u001b[38;5;241m.\u001b[39mact(\u001b[43mlin\u001b[49m\u001b[43m(\u001b[49m\u001b[43mx\u001b[49m\u001b[43m)\u001b[49m) \u001b[38;5;241m/\u001b[39m (\u001b[38;5;28mself\u001b[39m\u001b[38;5;241m.\u001b[39mlayer_width[i]\u001b[38;5;241m*\u001b[39m\u001b[38;5;241m*\u001b[39m\u001b[38;5;241m0.5\u001b[39m)\n\u001b[0;32m     42\u001b[0m     \u001b[38;5;28;01mreturn\u001b[39;00m \u001b[38;5;28mself\u001b[39m\u001b[38;5;241m.\u001b[39mlin_out(x)\n",
      "File \u001b[1;32m~\\AppData\\Local\\Packages\\PythonSoftwareFoundation.Python.3.11_qbz5n2kfra8p0\\LocalCache\\local-packages\\Python311\\site-packages\\torch\\nn\\modules\\module.py:1501\u001b[0m, in \u001b[0;36mModule._call_impl\u001b[1;34m(self, *args, **kwargs)\u001b[0m\n\u001b[0;32m   1496\u001b[0m \u001b[38;5;66;03m# If we don't have any hooks, we want to skip the rest of the logic in\u001b[39;00m\n\u001b[0;32m   1497\u001b[0m \u001b[38;5;66;03m# this function, and just call forward.\u001b[39;00m\n\u001b[0;32m   1498\u001b[0m \u001b[38;5;28;01mif\u001b[39;00m \u001b[38;5;129;01mnot\u001b[39;00m (\u001b[38;5;28mself\u001b[39m\u001b[38;5;241m.\u001b[39m_backward_hooks \u001b[38;5;129;01mor\u001b[39;00m \u001b[38;5;28mself\u001b[39m\u001b[38;5;241m.\u001b[39m_backward_pre_hooks \u001b[38;5;129;01mor\u001b[39;00m \u001b[38;5;28mself\u001b[39m\u001b[38;5;241m.\u001b[39m_forward_hooks \u001b[38;5;129;01mor\u001b[39;00m \u001b[38;5;28mself\u001b[39m\u001b[38;5;241m.\u001b[39m_forward_pre_hooks\n\u001b[0;32m   1499\u001b[0m         \u001b[38;5;129;01mor\u001b[39;00m _global_backward_pre_hooks \u001b[38;5;129;01mor\u001b[39;00m _global_backward_hooks\n\u001b[0;32m   1500\u001b[0m         \u001b[38;5;129;01mor\u001b[39;00m _global_forward_hooks \u001b[38;5;129;01mor\u001b[39;00m _global_forward_pre_hooks):\n\u001b[1;32m-> 1501\u001b[0m     \u001b[38;5;28;01mreturn\u001b[39;00m \u001b[43mforward_call\u001b[49m\u001b[43m(\u001b[49m\u001b[38;5;241;43m*\u001b[39;49m\u001b[43margs\u001b[49m\u001b[43m,\u001b[49m\u001b[43m \u001b[49m\u001b[38;5;241;43m*\u001b[39;49m\u001b[38;5;241;43m*\u001b[39;49m\u001b[43mkwargs\u001b[49m\u001b[43m)\u001b[49m\n\u001b[0;32m   1502\u001b[0m \u001b[38;5;66;03m# Do not call functions when jit is used\u001b[39;00m\n\u001b[0;32m   1503\u001b[0m full_backward_hooks, non_full_backward_hooks \u001b[38;5;241m=\u001b[39m [], []\n",
      "File \u001b[1;32m~\\AppData\\Local\\Packages\\PythonSoftwareFoundation.Python.3.11_qbz5n2kfra8p0\\LocalCache\\local-packages\\Python311\\site-packages\\torch\\nn\\modules\\linear.py:114\u001b[0m, in \u001b[0;36mLinear.forward\u001b[1;34m(self, input)\u001b[0m\n\u001b[0;32m    113\u001b[0m \u001b[38;5;28;01mdef\u001b[39;00m \u001b[38;5;21mforward\u001b[39m(\u001b[38;5;28mself\u001b[39m, \u001b[38;5;28minput\u001b[39m: Tensor) \u001b[38;5;241m-\u001b[39m\u001b[38;5;241m>\u001b[39m Tensor:\n\u001b[1;32m--> 114\u001b[0m     \u001b[38;5;28;01mreturn\u001b[39;00m \u001b[43mF\u001b[49m\u001b[38;5;241;43m.\u001b[39;49m\u001b[43mlinear\u001b[49m\u001b[43m(\u001b[49m\u001b[38;5;28;43minput\u001b[39;49m\u001b[43m,\u001b[49m\u001b[43m \u001b[49m\u001b[38;5;28;43mself\u001b[39;49m\u001b[38;5;241;43m.\u001b[39;49m\u001b[43mweight\u001b[49m\u001b[43m,\u001b[49m\u001b[43m \u001b[49m\u001b[38;5;28;43mself\u001b[39;49m\u001b[38;5;241;43m.\u001b[39;49m\u001b[43mbias\u001b[49m\u001b[43m)\u001b[49m\n",
      "\u001b[1;31mKeyboardInterrupt\u001b[0m: "
     ]
    }
   ],
   "source": [
    "samples = 2\n",
    "n = 100\n",
    "d = 5\n",
    "c = 3\n",
    "results_dict = {}\n",
    "\n",
    "# single-layer, width=20, tanh\n",
    "print(f'single-layer, width=20, tanh')\n",
    "layer_widths = [d,120]\n",
    "\n",
    "diff_e_av = []\n",
    "losses_e_av = []\n",
    "diff_s_av = []\n",
    "conds = []\n",
    "\n",
    "for i in range(samples):\n",
    "    diff_e,losses_e,epochs,diff_s,_,s_range,cond_i = convergence(n,d,c,layer_widths=layer_widths,nonlin='tanh',lr=1e-1,verbose=True)\n",
    "    diff_e_av.append(diff_e)\n",
    "    losses_e_av.append(losses_e)\n",
    "    diff_s_av.append(diff_s)\n",
    "    conds.append(cond_i)\n",
    "\n",
    "epoch_sev_avg = torch.tensor(diff_e_av).mean(0); epoch_sev_var = torch.tensor(diff_e_av).var(0)\n",
    "epoch_loss_avg = torch.tensor(losses_e_av).mean(0); epoch_loss_var = torch.tensor(losses_e_av).var(0)\n",
    "s_sev_avg = torch.tensor(diff_s_av).mean(0); s_sev_var = torch.tensor(diff_s_av).var(0)\n",
    "cond_avg = torch.tensor(conds).mean(0)\n",
    "results_dict['tanh_single_20'] = {'epoch_sev_avg': epoch_sev_avg,\n",
    "                                  'epoch_sev_var': epoch_sev_var,\n",
    "                                  'epoch_loss_avg': epoch_loss_avg,\n",
    "                                  'epoch_loss_var': epoch_loss_var,\n",
    "                                  's_sev_avg': s_sev_avg,\n",
    "                                  's_sev_var': s_sev_var,\n",
    "                                  'cond_avg': cond_avg,\n",
    "                                  'epoch_range': epochs,\n",
    "                                  's_range': s_range}\n",
    "torch.save(results_dict,'paper/convergence_result_dict.pt')"
   ]
  },
  {
   "cell_type": "code",
   "execution_count": 29,
   "metadata": {},
   "outputs": [
    {
     "name": "stdout",
     "output_type": "stream",
     "text": [
      "single-layer, width=20, tanh\n",
      "nn loss : 0.0001414\n",
      "Cond(J J^T) = 1e+12\n",
      "Rank: 183\n",
      "min eigenv: 9.998717815982123e-10\n"
     ]
    },
    {
     "name": "stderr",
     "output_type": "stream",
     "text": [
      "100%|██████████| 10/10 [00:00<00:00, 195.33it/s, min_loss=0.0852, max_loss=1.01, min_acc=0.82, max_acc=0.97, resid_norm=0.000855, gpu_mem=0]\n"
     ]
    },
    {
     "name": "stdout",
     "output_type": "stream",
     "text": [
      "Posterior samples computed!\n",
      "epoch: 10.0, convergence = 568.589622442282\n",
      "--------------------------------------\n",
      "epoch: 10, nuqls loss : 1.014\n"
     ]
    },
    {
     "name": "stderr",
     "output_type": "stream",
     "text": [
      "100%|██████████| 21/21 [00:00<00:00, 135.62it/s, min_loss=0.0113, max_loss=0.381, min_acc=0.92, max_acc=1, resid_norm=0.000233, gpu_mem=0]\n",
      " 20%|██        | 2/10 [00:00<00:00,  8.29it/s]"
     ]
    },
    {
     "name": "stdout",
     "output_type": "stream",
     "text": [
      "Posterior samples computed!\n",
      "epoch: 21.544346900318832, convergence = 461.44584671843575\n",
      "--------------------------------------\n",
      "epoch: 21, nuqls loss : 0.3809\n"
     ]
    },
    {
     "name": "stderr",
     "output_type": "stream",
     "text": [
      "100%|██████████| 46/46 [00:00<00:00, 154.90it/s, min_loss=0.003, max_loss=0.0128, min_acc=1, max_acc=1, resid_norm=2.01e-6, gpu_mem=0]\n",
      " 30%|███       | 3/10 [00:00<00:01,  5.01it/s]"
     ]
    },
    {
     "name": "stdout",
     "output_type": "stream",
     "text": [
      "Posterior samples computed!\n",
      "epoch: 46.41588833612777, convergence = 426.220698446344\n",
      "--------------------------------------\n",
      "epoch: 46, nuqls loss : 0.01284\n"
     ]
    },
    {
     "name": "stderr",
     "output_type": "stream",
     "text": [
      " 94%|█████████▍| 94/100 [00:00<00:00, 154.72it/s, min_loss=0.00156, max_loss=0.00499, min_acc=1, max_acc=1, resid_norm=9.12e-8, gpu_mem=0]\n",
      " 30%|███       | 3/10 [00:01<00:02,  2.57it/s]\n"
     ]
    },
    {
     "ename": "KeyboardInterrupt",
     "evalue": "",
     "output_type": "error",
     "traceback": [
      "\u001b[1;31m---------------------------------------------------------------------------\u001b[0m",
      "\u001b[1;31mKeyboardInterrupt\u001b[0m                         Traceback (most recent call last)",
      "Cell \u001b[1;32mIn[29], line 17\u001b[0m\n\u001b[0;32m     14\u001b[0m conds \u001b[38;5;241m=\u001b[39m []\n\u001b[0;32m     16\u001b[0m \u001b[38;5;28;01mfor\u001b[39;00m i \u001b[38;5;129;01min\u001b[39;00m \u001b[38;5;28mrange\u001b[39m(samples):\n\u001b[1;32m---> 17\u001b[0m     diff_e,losses_e,epochs,diff_s,_,s_range,cond_i \u001b[38;5;241m=\u001b[39m \u001b[43mconvergence\u001b[49m\u001b[43m(\u001b[49m\u001b[43mn\u001b[49m\u001b[43m,\u001b[49m\u001b[43md\u001b[49m\u001b[43m,\u001b[49m\u001b[43mc\u001b[49m\u001b[43m,\u001b[49m\u001b[43mlayer_widths\u001b[49m\u001b[38;5;241;43m=\u001b[39;49m\u001b[43mlayer_widths\u001b[49m\u001b[43m,\u001b[49m\u001b[43mnonlin\u001b[49m\u001b[38;5;241;43m=\u001b[39;49m\u001b[38;5;124;43m'\u001b[39;49m\u001b[38;5;124;43mtanh\u001b[39;49m\u001b[38;5;124;43m'\u001b[39;49m\u001b[43m,\u001b[49m\u001b[43mlr\u001b[49m\u001b[38;5;241;43m=\u001b[39;49m\u001b[38;5;241;43m1e-1\u001b[39;49m\u001b[43m,\u001b[49m\u001b[43mverbose\u001b[49m\u001b[38;5;241;43m=\u001b[39;49m\u001b[38;5;28;43;01mTrue\u001b[39;49;00m\u001b[43m)\u001b[49m\n\u001b[0;32m     18\u001b[0m     diff_e_av\u001b[38;5;241m.\u001b[39mappend(diff_e)\n\u001b[0;32m     19\u001b[0m     losses_e_av\u001b[38;5;241m.\u001b[39mappend(losses_e)\n",
      "Cell \u001b[1;32mIn[28], line 105\u001b[0m, in \u001b[0;36mconvergence\u001b[1;34m(n, d, c, layer_widths, nonlin, lr, verbose)\u001b[0m\n\u001b[0;32m    102\u001b[0m \u001b[38;5;28;01mfor\u001b[39;00m epoch \u001b[38;5;129;01min\u001b[39;00m tqdm\u001b[38;5;241m.\u001b[39mtqdm(epochs):\n\u001b[0;32m    104\u001b[0m     nuqls_posterior \u001b[38;5;241m=\u001b[39m Nuqls(net, task\u001b[38;5;241m=\u001b[39m\u001b[38;5;124m'\u001b[39m\u001b[38;5;124mclassification\u001b[39m\u001b[38;5;124m'\u001b[39m)\n\u001b[1;32m--> 105\u001b[0m     loss,_ \u001b[38;5;241m=\u001b[39m \u001b[43mnuqls_posterior\u001b[49m\u001b[38;5;241;43m.\u001b[39;49m\u001b[43mtrain\u001b[49m\u001b[43m(\u001b[49m\u001b[43mtrain\u001b[49m\u001b[38;5;241;43m=\u001b[39;49m\u001b[43mtrain_data\u001b[49m\u001b[43m,\u001b[49m\u001b[43m \u001b[49m\n\u001b[0;32m    106\u001b[0m \u001b[43m                                        \u001b[49m\u001b[43mtrain_bs\u001b[49m\u001b[38;5;241;43m=\u001b[39;49m\u001b[43mn\u001b[49m\u001b[43m,\u001b[49m\u001b[43m \u001b[49m\n\u001b[0;32m    107\u001b[0m \u001b[43m                                        \u001b[49m\u001b[43mn_output\u001b[49m\u001b[38;5;241;43m=\u001b[39;49m\u001b[43mc\u001b[49m\u001b[43m,\u001b[49m\n\u001b[0;32m    108\u001b[0m \u001b[43m                                        \u001b[49m\u001b[43mS\u001b[49m\u001b[38;5;241;43m=\u001b[39;49m\u001b[38;5;241;43m100\u001b[39;49m\u001b[43m,\u001b[49m\n\u001b[0;32m    109\u001b[0m \u001b[43m                                        \u001b[49m\u001b[43mscale\u001b[49m\u001b[38;5;241;43m=\u001b[39;49m\u001b[43mscale\u001b[49m\u001b[43m,\u001b[49m\u001b[43m \u001b[49m\n\u001b[0;32m    110\u001b[0m \u001b[43m                                        \u001b[49m\u001b[43mlr\u001b[49m\u001b[38;5;241;43m=\u001b[39;49m\u001b[43mlr\u001b[49m\u001b[43m,\u001b[49m\u001b[43m \u001b[49m\n\u001b[0;32m    111\u001b[0m \u001b[43m                                        \u001b[49m\u001b[43mepochs\u001b[49m\u001b[38;5;241;43m=\u001b[39;49m\u001b[38;5;28;43mint\u001b[39;49m\u001b[43m(\u001b[49m\u001b[43mepoch\u001b[49m\u001b[38;5;241;43m.\u001b[39;49m\u001b[43mitem\u001b[49m\u001b[43m(\u001b[49m\u001b[43m)\u001b[49m\u001b[43m)\u001b[49m\u001b[43m,\u001b[49m\u001b[43m \u001b[49m\n\u001b[0;32m    112\u001b[0m \u001b[43m                                        \u001b[49m\u001b[43mmu\u001b[49m\u001b[38;5;241;43m=\u001b[39;49m\u001b[38;5;241;43m0.9\u001b[39;49m\u001b[43m,\u001b[49m\n\u001b[0;32m    113\u001b[0m \u001b[43m                                        \u001b[49m\u001b[43mverbose\u001b[49m\u001b[38;5;241;43m=\u001b[39;49m\u001b[43mverbose\u001b[49m\n\u001b[0;32m    114\u001b[0m \u001b[43m                                        \u001b[49m\u001b[43m)\u001b[49m\n\u001b[0;32m    116\u001b[0m     nuql_test_preds \u001b[38;5;241m=\u001b[39m nuqls_posterior\u001b[38;5;241m.\u001b[39mtest(test_data, n)\n\u001b[0;32m    117\u001b[0m     var_nuqls \u001b[38;5;241m=\u001b[39m nuql_test_preds\u001b[38;5;241m.\u001b[39mvar(\u001b[38;5;241m0\u001b[39m)\n",
      "File \u001b[1;32m~\\AppData\\Local\\Packages\\PythonSoftwareFoundation.Python.3.11_qbz5n2kfra8p0\\LocalCache\\local-packages\\Python311\\site-packages\\nuqls\\classification.py:61\u001b[0m, in \u001b[0;36mclassificationParallel.train\u001b[1;34m(self, train, train_bs, n_output, scale, S, epochs, lr, mu, verbose, progress_bar)\u001b[0m\n\u001b[0;32m     59\u001b[0m x, y \u001b[38;5;241m=\u001b[39m x\u001b[38;5;241m.\u001b[39mto(device\u001b[38;5;241m=\u001b[39m\u001b[38;5;28mself\u001b[39m\u001b[38;5;241m.\u001b[39mdevice, non_blocking\u001b[38;5;241m=\u001b[39m\u001b[38;5;28;01mTrue\u001b[39;00m), y\u001b[38;5;241m.\u001b[39mto(device\u001b[38;5;241m=\u001b[39m\u001b[38;5;28mself\u001b[39m\u001b[38;5;241m.\u001b[39mdevice, non_blocking\u001b[38;5;241m=\u001b[39m\u001b[38;5;28;01mTrue\u001b[39;00m)\n\u001b[0;32m     60\u001b[0m f_nlin \u001b[38;5;241m=\u001b[39m \u001b[38;5;28mself\u001b[39m\u001b[38;5;241m.\u001b[39mnetwork(x)\n\u001b[1;32m---> 61\u001b[0m proj \u001b[38;5;241m=\u001b[39m \u001b[43mtorch\u001b[49m\u001b[38;5;241;43m.\u001b[39;49m\u001b[43mvmap\u001b[49m\u001b[43m(\u001b[49m\u001b[43mjvp_first\u001b[49m\u001b[43m,\u001b[49m\u001b[43m \u001b[49m\u001b[43m(\u001b[49m\u001b[38;5;241;43m1\u001b[39;49m\u001b[43m,\u001b[49m\u001b[38;5;28;43;01mNone\u001b[39;49;00m\u001b[43m,\u001b[49m\u001b[38;5;28;43;01mNone\u001b[39;49;00m\u001b[43m)\u001b[49m\u001b[43m)\u001b[49m\u001b[43m(\u001b[49m\u001b[43m(\u001b[49m\u001b[43mtheta_S\u001b[49m\u001b[43m)\u001b[49m\u001b[43m,\u001b[49m\u001b[43mparams\u001b[49m\u001b[43m,\u001b[49m\u001b[43mx\u001b[49m\u001b[43m)\u001b[49m\u001b[38;5;241m.\u001b[39mpermute(\u001b[38;5;241m1\u001b[39m,\u001b[38;5;241m2\u001b[39m,\u001b[38;5;241m0\u001b[39m)\n\u001b[0;32m     62\u001b[0m f_lin \u001b[38;5;241m=\u001b[39m (proj \u001b[38;5;241m+\u001b[39m f_nlin\u001b[38;5;241m.\u001b[39munsqueeze(\u001b[38;5;241m2\u001b[39m))\n\u001b[0;32m     63\u001b[0m Mubar \u001b[38;5;241m=\u001b[39m torch\u001b[38;5;241m.\u001b[39mclamp(torch\u001b[38;5;241m.\u001b[39mnn\u001b[38;5;241m.\u001b[39mfunctional\u001b[38;5;241m.\u001b[39msoftmax(f_lin,dim\u001b[38;5;241m=\u001b[39m\u001b[38;5;241m1\u001b[39m),\u001b[38;5;241m1e-32\u001b[39m,\u001b[38;5;241m1\u001b[39m)\n",
      "File \u001b[1;32m~\\AppData\\Local\\Packages\\PythonSoftwareFoundation.Python.3.11_qbz5n2kfra8p0\\LocalCache\\local-packages\\Python311\\site-packages\\torch\\_functorch\\vmap.py:434\u001b[0m, in \u001b[0;36mvmap.<locals>.wrapped\u001b[1;34m(*args, **kwargs)\u001b[0m\n\u001b[0;32m    430\u001b[0m     \u001b[38;5;28;01mreturn\u001b[39;00m _chunked_vmap(func, flat_in_dims, chunks_flat_args,\n\u001b[0;32m    431\u001b[0m                          args_spec, out_dims, randomness, \u001b[38;5;241m*\u001b[39m\u001b[38;5;241m*\u001b[39mkwargs)\n\u001b[0;32m    433\u001b[0m \u001b[38;5;66;03m# If chunk_size is not specified.\u001b[39;00m\n\u001b[1;32m--> 434\u001b[0m \u001b[38;5;28;01mreturn\u001b[39;00m \u001b[43m_flat_vmap\u001b[49m\u001b[43m(\u001b[49m\n\u001b[0;32m    435\u001b[0m \u001b[43m    \u001b[49m\u001b[43mfunc\u001b[49m\u001b[43m,\u001b[49m\u001b[43m \u001b[49m\u001b[43mbatch_size\u001b[49m\u001b[43m,\u001b[49m\u001b[43m \u001b[49m\u001b[43mflat_in_dims\u001b[49m\u001b[43m,\u001b[49m\u001b[43m \u001b[49m\u001b[43mflat_args\u001b[49m\u001b[43m,\u001b[49m\u001b[43m \u001b[49m\u001b[43margs_spec\u001b[49m\u001b[43m,\u001b[49m\u001b[43m \u001b[49m\u001b[43mout_dims\u001b[49m\u001b[43m,\u001b[49m\u001b[43m \u001b[49m\u001b[43mrandomness\u001b[49m\u001b[43m,\u001b[49m\u001b[43m \u001b[49m\u001b[38;5;241;43m*\u001b[39;49m\u001b[38;5;241;43m*\u001b[39;49m\u001b[43mkwargs\u001b[49m\n\u001b[0;32m    436\u001b[0m \u001b[43m\u001b[49m\u001b[43m)\u001b[49m\n",
      "File \u001b[1;32m~\\AppData\\Local\\Packages\\PythonSoftwareFoundation.Python.3.11_qbz5n2kfra8p0\\LocalCache\\local-packages\\Python311\\site-packages\\torch\\_functorch\\vmap.py:39\u001b[0m, in \u001b[0;36mdoesnt_support_saved_tensors_hooks.<locals>.fn\u001b[1;34m(*args, **kwargs)\u001b[0m\n\u001b[0;32m     36\u001b[0m \u001b[38;5;129m@functools\u001b[39m\u001b[38;5;241m.\u001b[39mwraps(f)\n\u001b[0;32m     37\u001b[0m \u001b[38;5;28;01mdef\u001b[39;00m \u001b[38;5;21mfn\u001b[39m(\u001b[38;5;241m*\u001b[39margs, \u001b[38;5;241m*\u001b[39m\u001b[38;5;241m*\u001b[39mkwargs):\n\u001b[0;32m     38\u001b[0m     \u001b[38;5;28;01mwith\u001b[39;00m torch\u001b[38;5;241m.\u001b[39mautograd\u001b[38;5;241m.\u001b[39mgraph\u001b[38;5;241m.\u001b[39mdisable_saved_tensors_hooks(message):\n\u001b[1;32m---> 39\u001b[0m         \u001b[38;5;28;01mreturn\u001b[39;00m \u001b[43mf\u001b[49m\u001b[43m(\u001b[49m\u001b[38;5;241;43m*\u001b[39;49m\u001b[43margs\u001b[49m\u001b[43m,\u001b[49m\u001b[43m \u001b[49m\u001b[38;5;241;43m*\u001b[39;49m\u001b[38;5;241;43m*\u001b[39;49m\u001b[43mkwargs\u001b[49m\u001b[43m)\u001b[49m\n",
      "File \u001b[1;32m~\\AppData\\Local\\Packages\\PythonSoftwareFoundation.Python.3.11_qbz5n2kfra8p0\\LocalCache\\local-packages\\Python311\\site-packages\\torch\\_functorch\\vmap.py:619\u001b[0m, in \u001b[0;36m_flat_vmap\u001b[1;34m(func, batch_size, flat_in_dims, flat_args, args_spec, out_dims, randomness, **kwargs)\u001b[0m\n\u001b[0;32m    617\u001b[0m \u001b[38;5;28;01mtry\u001b[39;00m:\n\u001b[0;32m    618\u001b[0m     batched_inputs \u001b[38;5;241m=\u001b[39m _create_batched_inputs(flat_in_dims, flat_args, vmap_level, args_spec)\n\u001b[1;32m--> 619\u001b[0m     batched_outputs \u001b[38;5;241m=\u001b[39m \u001b[43mfunc\u001b[49m\u001b[43m(\u001b[49m\u001b[38;5;241;43m*\u001b[39;49m\u001b[43mbatched_inputs\u001b[49m\u001b[43m,\u001b[49m\u001b[43m \u001b[49m\u001b[38;5;241;43m*\u001b[39;49m\u001b[38;5;241;43m*\u001b[39;49m\u001b[43mkwargs\u001b[49m\u001b[43m)\u001b[49m\n\u001b[0;32m    620\u001b[0m     \u001b[38;5;28;01mreturn\u001b[39;00m _unwrap_batched(batched_outputs, out_dims, vmap_level, batch_size, func)\n\u001b[0;32m    621\u001b[0m \u001b[38;5;28;01mfinally\u001b[39;00m:\n",
      "File \u001b[1;32m~\\AppData\\Local\\Packages\\PythonSoftwareFoundation.Python.3.11_qbz5n2kfra8p0\\LocalCache\\local-packages\\Python311\\site-packages\\nuqls\\classification.py:30\u001b[0m, in \u001b[0;36mclassificationParallel.train.<locals>.jvp_first\u001b[1;34m(theta_s, params, x)\u001b[0m\n\u001b[0;32m     28\u001b[0m \u001b[38;5;28;01mdef\u001b[39;00m \u001b[38;5;21mjvp_first\u001b[39m(theta_s,params,x):\n\u001b[0;32m     29\u001b[0m     dparams \u001b[38;5;241m=\u001b[39m utils\u001b[38;5;241m.\u001b[39m_dub(utils\u001b[38;5;241m.\u001b[39munflatten_like(theta_s, params\u001b[38;5;241m.\u001b[39mvalues()),params)\n\u001b[1;32m---> 30\u001b[0m     _, proj \u001b[38;5;241m=\u001b[39m \u001b[43mtorch\u001b[49m\u001b[38;5;241;43m.\u001b[39;49m\u001b[43mfunc\u001b[49m\u001b[38;5;241;43m.\u001b[39;49m\u001b[43mjvp\u001b[49m\u001b[43m(\u001b[49m\u001b[38;5;28;43;01mlambda\u001b[39;49;00m\u001b[43m \u001b[49m\u001b[43mparam\u001b[49m\u001b[43m:\u001b[49m\u001b[43m \u001b[49m\u001b[43mfnet\u001b[49m\u001b[43m(\u001b[49m\u001b[43mparam\u001b[49m\u001b[43m,\u001b[49m\u001b[43m \u001b[49m\u001b[43mx\u001b[49m\u001b[43m)\u001b[49m\u001b[43m,\u001b[49m\n\u001b[0;32m     31\u001b[0m \u001b[43m                            \u001b[49m\u001b[43m(\u001b[49m\u001b[43mparams\u001b[49m\u001b[43m,\u001b[49m\u001b[43m)\u001b[49m\u001b[43m,\u001b[49m\u001b[43m \u001b[49m\u001b[43m(\u001b[49m\u001b[43mdparams\u001b[49m\u001b[43m,\u001b[49m\u001b[43m)\u001b[49m\u001b[43m)\u001b[49m\n\u001b[0;32m     32\u001b[0m     proj \u001b[38;5;241m=\u001b[39m proj\u001b[38;5;241m.\u001b[39mdetach()\n\u001b[0;32m     33\u001b[0m     \u001b[38;5;28;01mreturn\u001b[39;00m proj\n",
      "File \u001b[1;32m~\\AppData\\Local\\Packages\\PythonSoftwareFoundation.Python.3.11_qbz5n2kfra8p0\\LocalCache\\local-packages\\Python311\\site-packages\\torch\\_functorch\\eager_transforms.py:916\u001b[0m, in \u001b[0;36mjvp\u001b[1;34m(func, primals, tangents, strict, has_aux)\u001b[0m\n\u001b[0;32m    864\u001b[0m \u001b[38;5;129m@exposed_in\u001b[39m(\u001b[38;5;124m\"\u001b[39m\u001b[38;5;124mtorch.func\u001b[39m\u001b[38;5;124m\"\u001b[39m)\n\u001b[0;32m    865\u001b[0m \u001b[38;5;28;01mdef\u001b[39;00m \u001b[38;5;21mjvp\u001b[39m(func: Callable, primals: Any, tangents: Any, \u001b[38;5;241m*\u001b[39m, strict: \u001b[38;5;28mbool\u001b[39m \u001b[38;5;241m=\u001b[39m \u001b[38;5;28;01mFalse\u001b[39;00m, has_aux: \u001b[38;5;28mbool\u001b[39m \u001b[38;5;241m=\u001b[39m \u001b[38;5;28;01mFalse\u001b[39;00m):\n\u001b[0;32m    866\u001b[0m \u001b[38;5;250m    \u001b[39m\u001b[38;5;124;03m\"\"\"\u001b[39;00m\n\u001b[0;32m    867\u001b[0m \u001b[38;5;124;03m    Standing for the Jacobian-vector product, returns a tuple containing\u001b[39;00m\n\u001b[0;32m    868\u001b[0m \u001b[38;5;124;03m    the output of `func(*primals)` and the \"Jacobian of ``func`` evaluated at\u001b[39;00m\n\u001b[1;32m   (...)\u001b[0m\n\u001b[0;32m    913\u001b[0m \n\u001b[0;32m    914\u001b[0m \u001b[38;5;124;03m    \"\"\"\u001b[39;00m\n\u001b[1;32m--> 916\u001b[0m     \u001b[38;5;28;01mreturn\u001b[39;00m \u001b[43m_jvp_with_argnums\u001b[49m\u001b[43m(\u001b[49m\u001b[43mfunc\u001b[49m\u001b[43m,\u001b[49m\u001b[43m \u001b[49m\u001b[43mprimals\u001b[49m\u001b[43m,\u001b[49m\u001b[43m \u001b[49m\u001b[43mtangents\u001b[49m\u001b[43m,\u001b[49m\u001b[43m \u001b[49m\u001b[43margnums\u001b[49m\u001b[38;5;241;43m=\u001b[39;49m\u001b[38;5;28;43;01mNone\u001b[39;49;00m\u001b[43m,\u001b[49m\u001b[43m \u001b[49m\u001b[43mstrict\u001b[49m\u001b[38;5;241;43m=\u001b[39;49m\u001b[43mstrict\u001b[49m\u001b[43m,\u001b[49m\u001b[43m \u001b[49m\u001b[43mhas_aux\u001b[49m\u001b[38;5;241;43m=\u001b[39;49m\u001b[43mhas_aux\u001b[49m\u001b[43m)\u001b[49m\n",
      "File \u001b[1;32m~\\AppData\\Local\\Packages\\PythonSoftwareFoundation.Python.3.11_qbz5n2kfra8p0\\LocalCache\\local-packages\\Python311\\site-packages\\torch\\_functorch\\vmap.py:39\u001b[0m, in \u001b[0;36mdoesnt_support_saved_tensors_hooks.<locals>.fn\u001b[1;34m(*args, **kwargs)\u001b[0m\n\u001b[0;32m     36\u001b[0m \u001b[38;5;129m@functools\u001b[39m\u001b[38;5;241m.\u001b[39mwraps(f)\n\u001b[0;32m     37\u001b[0m \u001b[38;5;28;01mdef\u001b[39;00m \u001b[38;5;21mfn\u001b[39m(\u001b[38;5;241m*\u001b[39margs, \u001b[38;5;241m*\u001b[39m\u001b[38;5;241m*\u001b[39mkwargs):\n\u001b[0;32m     38\u001b[0m     \u001b[38;5;28;01mwith\u001b[39;00m torch\u001b[38;5;241m.\u001b[39mautograd\u001b[38;5;241m.\u001b[39mgraph\u001b[38;5;241m.\u001b[39mdisable_saved_tensors_hooks(message):\n\u001b[1;32m---> 39\u001b[0m         \u001b[38;5;28;01mreturn\u001b[39;00m \u001b[43mf\u001b[49m\u001b[43m(\u001b[49m\u001b[38;5;241;43m*\u001b[39;49m\u001b[43margs\u001b[49m\u001b[43m,\u001b[49m\u001b[43m \u001b[49m\u001b[38;5;241;43m*\u001b[39;49m\u001b[38;5;241;43m*\u001b[39;49m\u001b[43mkwargs\u001b[49m\u001b[43m)\u001b[49m\n",
      "File \u001b[1;32m~\\AppData\\Local\\Packages\\PythonSoftwareFoundation.Python.3.11_qbz5n2kfra8p0\\LocalCache\\local-packages\\Python311\\site-packages\\torch\\_functorch\\eager_transforms.py:965\u001b[0m, in \u001b[0;36m_jvp_with_argnums\u001b[1;34m(func, primals, tangents, argnums, strict, has_aux)\u001b[0m\n\u001b[0;32m    963\u001b[0m     primals \u001b[38;5;241m=\u001b[39m _wrap_all_tensors(primals, level)\n\u001b[0;32m    964\u001b[0m     duals \u001b[38;5;241m=\u001b[39m _replace_args(primals, duals, argnums)\n\u001b[1;32m--> 965\u001b[0m result_duals \u001b[38;5;241m=\u001b[39m \u001b[43mfunc\u001b[49m\u001b[43m(\u001b[49m\u001b[38;5;241;43m*\u001b[39;49m\u001b[43mduals\u001b[49m\u001b[43m)\u001b[49m\n\u001b[0;32m    966\u001b[0m \u001b[38;5;28;01mif\u001b[39;00m has_aux:\n\u001b[0;32m    967\u001b[0m     \u001b[38;5;28;01mif\u001b[39;00m \u001b[38;5;129;01mnot\u001b[39;00m (\u001b[38;5;28misinstance\u001b[39m(result_duals, \u001b[38;5;28mtuple\u001b[39m) \u001b[38;5;129;01mand\u001b[39;00m \u001b[38;5;28mlen\u001b[39m(result_duals) \u001b[38;5;241m==\u001b[39m \u001b[38;5;241m2\u001b[39m):\n",
      "File \u001b[1;32m~\\AppData\\Local\\Packages\\PythonSoftwareFoundation.Python.3.11_qbz5n2kfra8p0\\LocalCache\\local-packages\\Python311\\site-packages\\nuqls\\classification.py:30\u001b[0m, in \u001b[0;36mclassificationParallel.train.<locals>.jvp_first.<locals>.<lambda>\u001b[1;34m(param)\u001b[0m\n\u001b[0;32m     28\u001b[0m \u001b[38;5;28;01mdef\u001b[39;00m \u001b[38;5;21mjvp_first\u001b[39m(theta_s,params,x):\n\u001b[0;32m     29\u001b[0m     dparams \u001b[38;5;241m=\u001b[39m utils\u001b[38;5;241m.\u001b[39m_dub(utils\u001b[38;5;241m.\u001b[39munflatten_like(theta_s, params\u001b[38;5;241m.\u001b[39mvalues()),params)\n\u001b[1;32m---> 30\u001b[0m     _, proj \u001b[38;5;241m=\u001b[39m torch\u001b[38;5;241m.\u001b[39mfunc\u001b[38;5;241m.\u001b[39mjvp(\u001b[38;5;28;01mlambda\u001b[39;00m param: \u001b[43mfnet\u001b[49m\u001b[43m(\u001b[49m\u001b[43mparam\u001b[49m\u001b[43m,\u001b[49m\u001b[43m \u001b[49m\u001b[43mx\u001b[49m\u001b[43m)\u001b[49m,\n\u001b[0;32m     31\u001b[0m                             (params,), (dparams,))\n\u001b[0;32m     32\u001b[0m     proj \u001b[38;5;241m=\u001b[39m proj\u001b[38;5;241m.\u001b[39mdetach()\n\u001b[0;32m     33\u001b[0m     \u001b[38;5;28;01mreturn\u001b[39;00m proj\n",
      "File \u001b[1;32m~\\AppData\\Local\\Packages\\PythonSoftwareFoundation.Python.3.11_qbz5n2kfra8p0\\LocalCache\\local-packages\\Python311\\site-packages\\nuqls\\classification.py:23\u001b[0m, in \u001b[0;36mclassificationParallel.train.<locals>.fnet\u001b[1;34m(params, x)\u001b[0m\n\u001b[0;32m     22\u001b[0m \u001b[38;5;28;01mdef\u001b[39;00m \u001b[38;5;21mfnet\u001b[39m(params, x):\n\u001b[1;32m---> 23\u001b[0m     \u001b[38;5;28;01mreturn\u001b[39;00m \u001b[43mfunctional_call\u001b[49m\u001b[43m(\u001b[49m\u001b[38;5;28;43mself\u001b[39;49m\u001b[38;5;241;43m.\u001b[39;49m\u001b[43mnetwork\u001b[49m\u001b[43m,\u001b[49m\u001b[43m \u001b[49m\u001b[43mparams\u001b[49m\u001b[43m,\u001b[49m\u001b[43m \u001b[49m\u001b[43mx\u001b[49m\u001b[43m)\u001b[49m\n",
      "File \u001b[1;32m~\\AppData\\Local\\Packages\\PythonSoftwareFoundation.Python.3.11_qbz5n2kfra8p0\\LocalCache\\local-packages\\Python311\\site-packages\\torch\\_functorch\\functional_call.py:143\u001b[0m, in \u001b[0;36mfunctional_call\u001b[1;34m(module, parameter_and_buffer_dicts, args, kwargs, tie_weights, strict)\u001b[0m\n\u001b[0;32m    137\u001b[0m \u001b[38;5;28;01melse\u001b[39;00m:\n\u001b[0;32m    138\u001b[0m     \u001b[38;5;28;01mraise\u001b[39;00m \u001b[38;5;167;01mValueError\u001b[39;00m(\n\u001b[0;32m    139\u001b[0m         \u001b[38;5;124mf\u001b[39m\u001b[38;5;124m\"\u001b[39m\u001b[38;5;124mExpected parameter_and_buffer_dicts to be a dict, or a list/tuple of dicts, \u001b[39m\u001b[38;5;124m\"\u001b[39m\n\u001b[0;32m    140\u001b[0m         \u001b[38;5;124mf\u001b[39m\u001b[38;5;124m\"\u001b[39m\u001b[38;5;124mbut got \u001b[39m\u001b[38;5;132;01m{\u001b[39;00m\u001b[38;5;28mtype\u001b[39m(parameter_and_buffer_dicts)\u001b[38;5;132;01m}\u001b[39;00m\u001b[38;5;124m\"\u001b[39m\n\u001b[0;32m    141\u001b[0m     )\n\u001b[1;32m--> 143\u001b[0m \u001b[38;5;28;01mreturn\u001b[39;00m \u001b[43mnn\u001b[49m\u001b[38;5;241;43m.\u001b[39;49m\u001b[43mutils\u001b[49m\u001b[38;5;241;43m.\u001b[39;49m\u001b[43mstateless\u001b[49m\u001b[38;5;241;43m.\u001b[39;49m\u001b[43m_functional_call\u001b[49m\u001b[43m(\u001b[49m\n\u001b[0;32m    144\u001b[0m \u001b[43m    \u001b[49m\u001b[43mmodule\u001b[49m\u001b[43m,\u001b[49m\n\u001b[0;32m    145\u001b[0m \u001b[43m    \u001b[49m\u001b[43mparameters_and_buffers\u001b[49m\u001b[43m,\u001b[49m\n\u001b[0;32m    146\u001b[0m \u001b[43m    \u001b[49m\u001b[43margs\u001b[49m\u001b[43m,\u001b[49m\n\u001b[0;32m    147\u001b[0m \u001b[43m    \u001b[49m\u001b[43mkwargs\u001b[49m\u001b[43m,\u001b[49m\n\u001b[0;32m    148\u001b[0m \u001b[43m    \u001b[49m\u001b[43mtie_weights\u001b[49m\u001b[38;5;241;43m=\u001b[39;49m\u001b[43mtie_weights\u001b[49m\u001b[43m,\u001b[49m\n\u001b[0;32m    149\u001b[0m \u001b[43m    \u001b[49m\u001b[43mstrict\u001b[49m\u001b[38;5;241;43m=\u001b[39;49m\u001b[43mstrict\u001b[49m\u001b[43m,\u001b[49m\n\u001b[0;32m    150\u001b[0m \u001b[43m\u001b[49m\u001b[43m)\u001b[49m\n",
      "File \u001b[1;32m~\\AppData\\Local\\Packages\\PythonSoftwareFoundation.Python.3.11_qbz5n2kfra8p0\\LocalCache\\local-packages\\Python311\\site-packages\\torch\\nn\\utils\\stateless.py:262\u001b[0m, in \u001b[0;36m_functional_call\u001b[1;34m(module, parameters_and_buffers, args, kwargs, tie_weights, strict)\u001b[0m\n\u001b[0;32m    258\u001b[0m     args \u001b[38;5;241m=\u001b[39m (args,)\n\u001b[0;32m    259\u001b[0m \u001b[38;5;28;01mwith\u001b[39;00m _reparametrize_module(\n\u001b[0;32m    260\u001b[0m     module, parameters_and_buffers, tie_weights\u001b[38;5;241m=\u001b[39mtie_weights, strict\u001b[38;5;241m=\u001b[39mstrict\n\u001b[0;32m    261\u001b[0m ):\n\u001b[1;32m--> 262\u001b[0m     \u001b[38;5;28;01mreturn\u001b[39;00m \u001b[43mmodule\u001b[49m\u001b[43m(\u001b[49m\u001b[38;5;241;43m*\u001b[39;49m\u001b[43margs\u001b[49m\u001b[43m,\u001b[49m\u001b[43m \u001b[49m\u001b[38;5;241;43m*\u001b[39;49m\u001b[38;5;241;43m*\u001b[39;49m\u001b[43mkwargs\u001b[49m\u001b[43m)\u001b[49m\n",
      "File \u001b[1;32m~\\AppData\\Local\\Packages\\PythonSoftwareFoundation.Python.3.11_qbz5n2kfra8p0\\LocalCache\\local-packages\\Python311\\site-packages\\torch\\nn\\modules\\module.py:1501\u001b[0m, in \u001b[0;36mModule._call_impl\u001b[1;34m(self, *args, **kwargs)\u001b[0m\n\u001b[0;32m   1496\u001b[0m \u001b[38;5;66;03m# If we don't have any hooks, we want to skip the rest of the logic in\u001b[39;00m\n\u001b[0;32m   1497\u001b[0m \u001b[38;5;66;03m# this function, and just call forward.\u001b[39;00m\n\u001b[0;32m   1498\u001b[0m \u001b[38;5;28;01mif\u001b[39;00m \u001b[38;5;129;01mnot\u001b[39;00m (\u001b[38;5;28mself\u001b[39m\u001b[38;5;241m.\u001b[39m_backward_hooks \u001b[38;5;129;01mor\u001b[39;00m \u001b[38;5;28mself\u001b[39m\u001b[38;5;241m.\u001b[39m_backward_pre_hooks \u001b[38;5;129;01mor\u001b[39;00m \u001b[38;5;28mself\u001b[39m\u001b[38;5;241m.\u001b[39m_forward_hooks \u001b[38;5;129;01mor\u001b[39;00m \u001b[38;5;28mself\u001b[39m\u001b[38;5;241m.\u001b[39m_forward_pre_hooks\n\u001b[0;32m   1499\u001b[0m         \u001b[38;5;129;01mor\u001b[39;00m _global_backward_pre_hooks \u001b[38;5;129;01mor\u001b[39;00m _global_backward_hooks\n\u001b[0;32m   1500\u001b[0m         \u001b[38;5;129;01mor\u001b[39;00m _global_forward_hooks \u001b[38;5;129;01mor\u001b[39;00m _global_forward_pre_hooks):\n\u001b[1;32m-> 1501\u001b[0m     \u001b[38;5;28;01mreturn\u001b[39;00m \u001b[43mforward_call\u001b[49m\u001b[43m(\u001b[49m\u001b[38;5;241;43m*\u001b[39;49m\u001b[43margs\u001b[49m\u001b[43m,\u001b[49m\u001b[43m \u001b[49m\u001b[38;5;241;43m*\u001b[39;49m\u001b[38;5;241;43m*\u001b[39;49m\u001b[43mkwargs\u001b[49m\u001b[43m)\u001b[49m\n\u001b[0;32m   1502\u001b[0m \u001b[38;5;66;03m# Do not call functions when jit is used\u001b[39;00m\n\u001b[0;32m   1503\u001b[0m full_backward_hooks, non_full_backward_hooks \u001b[38;5;241m=\u001b[39m [], []\n",
      "Cell \u001b[1;32mIn[28], line 42\u001b[0m, in \u001b[0;36mvariable_mlp.forward\u001b[1;34m(self, x)\u001b[0m\n\u001b[0;32m     40\u001b[0m \u001b[38;5;28;01mfor\u001b[39;00m i, lin \u001b[38;5;129;01min\u001b[39;00m \u001b[38;5;28menumerate\u001b[39m(\u001b[38;5;28mself\u001b[39m\u001b[38;5;241m.\u001b[39mlinear_layers):\n\u001b[0;32m     41\u001b[0m     x \u001b[38;5;241m=\u001b[39m \u001b[38;5;28mself\u001b[39m\u001b[38;5;241m.\u001b[39mact(lin(x)) \u001b[38;5;241m/\u001b[39m (\u001b[38;5;28mself\u001b[39m\u001b[38;5;241m.\u001b[39mlayer_width[i]\u001b[38;5;241m*\u001b[39m\u001b[38;5;241m*\u001b[39m\u001b[38;5;241m0.5\u001b[39m)\n\u001b[1;32m---> 42\u001b[0m \u001b[38;5;28;01mreturn\u001b[39;00m \u001b[38;5;28;43mself\u001b[39;49m\u001b[38;5;241;43m.\u001b[39;49m\u001b[43mlin_out\u001b[49m\u001b[43m(\u001b[49m\u001b[43mx\u001b[49m\u001b[43m)\u001b[49m\n",
      "File \u001b[1;32m~\\AppData\\Local\\Packages\\PythonSoftwareFoundation.Python.3.11_qbz5n2kfra8p0\\LocalCache\\local-packages\\Python311\\site-packages\\torch\\nn\\modules\\module.py:1501\u001b[0m, in \u001b[0;36mModule._call_impl\u001b[1;34m(self, *args, **kwargs)\u001b[0m\n\u001b[0;32m   1496\u001b[0m \u001b[38;5;66;03m# If we don't have any hooks, we want to skip the rest of the logic in\u001b[39;00m\n\u001b[0;32m   1497\u001b[0m \u001b[38;5;66;03m# this function, and just call forward.\u001b[39;00m\n\u001b[0;32m   1498\u001b[0m \u001b[38;5;28;01mif\u001b[39;00m \u001b[38;5;129;01mnot\u001b[39;00m (\u001b[38;5;28mself\u001b[39m\u001b[38;5;241m.\u001b[39m_backward_hooks \u001b[38;5;129;01mor\u001b[39;00m \u001b[38;5;28mself\u001b[39m\u001b[38;5;241m.\u001b[39m_backward_pre_hooks \u001b[38;5;129;01mor\u001b[39;00m \u001b[38;5;28mself\u001b[39m\u001b[38;5;241m.\u001b[39m_forward_hooks \u001b[38;5;129;01mor\u001b[39;00m \u001b[38;5;28mself\u001b[39m\u001b[38;5;241m.\u001b[39m_forward_pre_hooks\n\u001b[0;32m   1499\u001b[0m         \u001b[38;5;129;01mor\u001b[39;00m _global_backward_pre_hooks \u001b[38;5;129;01mor\u001b[39;00m _global_backward_hooks\n\u001b[0;32m   1500\u001b[0m         \u001b[38;5;129;01mor\u001b[39;00m _global_forward_hooks \u001b[38;5;129;01mor\u001b[39;00m _global_forward_pre_hooks):\n\u001b[1;32m-> 1501\u001b[0m     \u001b[38;5;28;01mreturn\u001b[39;00m \u001b[43mforward_call\u001b[49m\u001b[43m(\u001b[49m\u001b[38;5;241;43m*\u001b[39;49m\u001b[43margs\u001b[49m\u001b[43m,\u001b[49m\u001b[43m \u001b[49m\u001b[38;5;241;43m*\u001b[39;49m\u001b[38;5;241;43m*\u001b[39;49m\u001b[43mkwargs\u001b[49m\u001b[43m)\u001b[49m\n\u001b[0;32m   1502\u001b[0m \u001b[38;5;66;03m# Do not call functions when jit is used\u001b[39;00m\n\u001b[0;32m   1503\u001b[0m full_backward_hooks, non_full_backward_hooks \u001b[38;5;241m=\u001b[39m [], []\n",
      "File \u001b[1;32m~\\AppData\\Local\\Packages\\PythonSoftwareFoundation.Python.3.11_qbz5n2kfra8p0\\LocalCache\\local-packages\\Python311\\site-packages\\torch\\nn\\modules\\linear.py:114\u001b[0m, in \u001b[0;36mLinear.forward\u001b[1;34m(self, input)\u001b[0m\n\u001b[0;32m    113\u001b[0m \u001b[38;5;28;01mdef\u001b[39;00m \u001b[38;5;21mforward\u001b[39m(\u001b[38;5;28mself\u001b[39m, \u001b[38;5;28minput\u001b[39m: Tensor) \u001b[38;5;241m-\u001b[39m\u001b[38;5;241m>\u001b[39m Tensor:\n\u001b[1;32m--> 114\u001b[0m     \u001b[38;5;28;01mreturn\u001b[39;00m \u001b[43mF\u001b[49m\u001b[38;5;241;43m.\u001b[39;49m\u001b[43mlinear\u001b[49m\u001b[43m(\u001b[49m\u001b[38;5;28;43minput\u001b[39;49m\u001b[43m,\u001b[49m\u001b[43m \u001b[49m\u001b[38;5;28;43mself\u001b[39;49m\u001b[38;5;241;43m.\u001b[39;49m\u001b[43mweight\u001b[49m\u001b[43m,\u001b[49m\u001b[43m \u001b[49m\u001b[38;5;28;43mself\u001b[39;49m\u001b[38;5;241;43m.\u001b[39;49m\u001b[43mbias\u001b[49m\u001b[43m)\u001b[49m\n",
      "\u001b[1;31mKeyboardInterrupt\u001b[0m: "
     ]
    }
   ],
   "source": [
    "samples = 2\n",
    "n = 100\n",
    "d = 5\n",
    "c = 3\n",
    "results_dict = {}\n",
    "\n",
    "# single-layer, width=20, tanh\n",
    "print(f'single-layer, width=20, tanh')\n",
    "layer_widths = [d,20]\n",
    "\n",
    "diff_e_av = []\n",
    "losses_e_av = []\n",
    "diff_s_av = []\n",
    "conds = []\n",
    "\n",
    "for i in range(samples):\n",
    "    diff_e,losses_e,epochs,diff_s,_,s_range,cond_i = convergence(n,d,c,layer_widths=layer_widths,nonlin='tanh',lr=1e-1,verbose=True)\n",
    "    diff_e_av.append(diff_e)\n",
    "    losses_e_av.append(losses_e)\n",
    "    diff_s_av.append(diff_s)\n",
    "    conds.append(cond_i)\n",
    "\n",
    "epoch_sev_avg = torch.tensor(diff_e_av).mean(0); epoch_sev_var = torch.tensor(diff_e_av).var(0)\n",
    "epoch_loss_avg = torch.tensor(losses_e_av).mean(0); epoch_loss_var = torch.tensor(losses_e_av).var(0)\n",
    "s_sev_avg = torch.tensor(diff_s_av).mean(0); s_sev_var = torch.tensor(diff_s_av).var(0)\n",
    "cond_avg = torch.tensor(conds).mean(0)\n",
    "results_dict['tanh_single_20'] = {'epoch_sev_avg': epoch_sev_avg,\n",
    "                                  'epoch_sev_var': epoch_sev_var,\n",
    "                                  'epoch_loss_avg': epoch_loss_avg,\n",
    "                                  'epoch_loss_var': epoch_loss_var,\n",
    "                                  's_sev_avg': s_sev_avg,\n",
    "                                  's_sev_var': s_sev_var,\n",
    "                                  'cond_avg': cond_avg,\n",
    "                                  'epoch_range': epochs,\n",
    "                                  's_range': s_range}\n",
    "torch.save(results_dict,'paper/convergence_result_dict.pt')\n",
    "\n",
    "# # single-layer, width=20, relu\n",
    "# print(f'single-layer, width=20, relu')\n",
    "# layer_widths = [d,20]\n",
    "\n",
    "# diff_e_av = []\n",
    "# losses_e_av = []\n",
    "# diff_s_av = []\n",
    "# conds = []\n",
    "\n",
    "# for i in range(samples):\n",
    "#     diff_e,losses_e,epochs,diff_s,_,s_range,cond_i = convergence(n,d,layer_widths=layer_widths,nonlin='relu',lr=0.1,verbose=True)\n",
    "#     diff_e_av.append(diff_e)\n",
    "#     losses_e_av.append(losses_e)\n",
    "#     diff_s_av.append(diff_s)\n",
    "#     conds.append(cond_i)\n",
    "\n",
    "# epoch_sev_avg = torch.tensor(diff_e_av).mean(0); epoch_sev_var = torch.tensor(diff_e_av).var(0)\n",
    "# epoch_loss_avg = torch.tensor(losses_e_av).mean(0); epoch_loss_var = torch.tensor(losses_e_av).var(0)\n",
    "# s_sev_avg = torch.tensor(diff_s_av).mean(0); s_sev_var = torch.tensor(diff_s_av).var(0)\n",
    "# cond_avg = torch.tensor(conds).mean(0)\n",
    "# results_dict['relu_single_20'] = {'epoch_sev_avg': epoch_sev_avg,\n",
    "#                                   'epoch_sev_var': epoch_sev_var,\n",
    "#                                   'epoch_loss_avg': epoch_loss_avg,\n",
    "#                                   'epoch_loss_var': epoch_loss_var,\n",
    "#                                   's_sev_avg': s_sev_avg,\n",
    "#                                   's_sev_var': s_sev_var,\n",
    "#                                   'cond_avg': cond_avg,\n",
    "#                                   'epoch_range': epochs,\n",
    "#                                   's_range': s_range}\n",
    "# torch.save(results_dict,'paper/convergence_result_dict.pt')\n",
    "\n",
    "# # double-layer, width=20, relu\n",
    "# print(f'double-layer, width=20, relu')\n",
    "# layer_widths = [d,20,20]\n",
    "\n",
    "# diff_e_av = []\n",
    "# losses_e_av = []\n",
    "# diff_s_av = []\n",
    "# conds = []\n",
    "\n",
    "# for i in range(samples):\n",
    "#     diff_e,losses_e,epochs,diff_s,_,s_range,cond_i = convergence(n,d,layer_widths=layer_widths,nonlin='relu',lr=0.1,verbose=True)\n",
    "#     diff_e_av.append(diff_e)\n",
    "#     losses_e_av.append(losses_e)\n",
    "#     diff_s_av.append(diff_s)\n",
    "#     conds.append(cond_i)\n",
    "\n",
    "# epoch_sev_avg = torch.tensor(diff_e_av).mean(0); epoch_sev_var = torch.tensor(diff_e_av).var(0)\n",
    "# epoch_loss_avg = torch.tensor(losses_e_av).mean(0); epoch_loss_var = torch.tensor(losses_e_av).var(0)\n",
    "# s_sev_avg = torch.tensor(diff_s_av).mean(0); s_sev_var = torch.tensor(diff_s_av).var(0)\n",
    "# cond_avg = torch.tensor(conds).mean(0)\n",
    "# results_dict['relu_double_20'] = {'epoch_sev_avg': epoch_sev_avg,\n",
    "#                                   'epoch_sev_var': epoch_sev_var,\n",
    "#                                   'epoch_loss_avg': epoch_loss_avg,\n",
    "#                                   'epoch_loss_var': epoch_loss_var,\n",
    "#                                   's_sev_avg': s_sev_avg,\n",
    "#                                   's_sev_var': s_sev_var,\n",
    "#                                   'cond_avg': cond_avg,\n",
    "#                                   'epoch_range': epochs,\n",
    "#                                   's_range': s_range}\n",
    "# torch.save(results_dict,'paper/convergence_result_dict.pt')\n",
    "\n",
    "# # single-layer, width=80, tanh\n",
    "# print(f'single-layer, width=80, tanh')\n",
    "# layer_widths = [d,80]\n",
    "\n",
    "# diff_e_av = []\n",
    "# losses_e_av = []\n",
    "# diff_s_av = []\n",
    "# conds = []\n",
    "\n",
    "# for i in range(samples):\n",
    "#     diff_e,losses_e,epochs,diff_s,_,s_range,cond_i = convergence(n,d,layer_widths=layer_widths,nonlin='tanh',lr=1,verbose=True)\n",
    "#     diff_e_av.append(diff_e)\n",
    "#     losses_e_av.append(losses_e)\n",
    "#     diff_s_av.append(diff_s)\n",
    "#     conds.append(cond_i)\n",
    "\n",
    "# epoch_sev_avg = torch.tensor(diff_e_av).mean(0); epoch_sev_var = torch.tensor(diff_e_av).var(0)\n",
    "# epoch_loss_avg = torch.tensor(losses_e_av).mean(0); epoch_loss_var = torch.tensor(losses_e_av).var(0)\n",
    "# s_sev_avg = torch.tensor(diff_s_av).mean(0); s_sev_var = torch.tensor(diff_s_av).var(0)\n",
    "# cond_avg = torch.tensor(conds).mean(0)\n",
    "# results_dict['tanh_single_80'] = {'epoch_sev_avg': epoch_sev_avg,\n",
    "#                                   'epoch_sev_var': epoch_sev_var,\n",
    "#                                   'epoch_loss_avg': epoch_loss_avg,\n",
    "#                                   'epoch_loss_var': epoch_loss_var,\n",
    "#                                   's_sev_avg': s_sev_avg,\n",
    "#                                   's_sev_var': s_sev_var,\n",
    "#                                   'cond_avg': cond_avg,\n",
    "#                                   'epoch_range': epochs,\n",
    "#                                   's_range': s_range}\n",
    "# torch.save(results_dict,'paper/convergence_result_dict_ck.pt')\n",
    "\n"
   ]
  }
 ],
 "metadata": {
  "kernelspec": {
   "display_name": "Python 3",
   "language": "python",
   "name": "python3"
  },
  "language_info": {
   "codemirror_mode": {
    "name": "ipython",
    "version": 3
   },
   "file_extension": ".py",
   "mimetype": "text/x-python",
   "name": "python",
   "nbconvert_exporter": "python",
   "pygments_lexer": "ipython3",
   "version": "3.11.9"
  }
 },
 "nbformat": 4,
 "nbformat_minor": 2
}
