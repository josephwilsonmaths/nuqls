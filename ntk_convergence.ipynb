{
 "cells": [
  {
   "cell_type": "markdown",
   "metadata": {},
   "source": [
    "# Multiple Plot"
   ]
  },
  {
   "cell_type": "code",
   "execution_count": null,
   "metadata": {},
   "outputs": [],
   "source": [
    "import torch\n",
    "from functorch import make_functional\n",
    "from torch.func import functional_call, vmap, jacrev, jvp\n",
    "    ## NUQLS\n",
    "# import posteriors.nuqls as nuqls\n",
    "from nuqls.posterior import Nuqls\n",
    "from importlib import reload\n",
    "from torch.utils.data import DataLoader, Dataset\n",
    "import tqdm\n",
    "\n",
    "class toy_dataset(Dataset):\n",
    "    def __init__(self,x,y):\n",
    "        self.x = x\n",
    "        self.y = y\n",
    "\n",
    "    def __len__(self):\n",
    "        return self.x.shape[0]\n",
    "\n",
    "    def __getitem__(self, i):\n",
    "        return self.x[i], self.y[i]\n",
    "    \n",
    "class variable_mlp(torch.nn.Module):\n",
    "    def __init__(self,layer_width,nonlin):\n",
    "        super().__init__()\n",
    "        self.layer_width = layer_width\n",
    "        self.linear_layers = torch.nn.ModuleList([torch.nn.Linear(layer_width[i],layer_width[i+1], bias=True) for i in range(len(self.layer_width)-1)])\n",
    "        self.lin_out = torch.nn.Linear(self.layer_width[-1],1, bias=True)\n",
    "        if nonlin=='tanh':\n",
    "            self.act = torch.nn.Tanh()\n",
    "        elif nonlin=='relu':\n",
    "            self.act = torch.nn.ReLU()\n",
    "\n",
    "        for lin in self.linear_layers:\n",
    "            torch.nn.init.normal_(lin.weight, 0, 1)\n",
    "        torch.nn.init.normal_(self.lin_out.weight, 0, 1)\n",
    "\n",
    "    # Return full output of nn\n",
    "    def forward(self,x):\n",
    "        for i, lin in enumerate(self.linear_layers):\n",
    "            x = self.act(lin(x)) / (self.layer_width[i]**0.5)\n",
    "        return self.lin_out(x)\n",
    "\n",
    "def convergence(n,d,layer_widths,nonlin,lr=1,verbose=False):\n",
    "    X = torch.randn((n,d))\n",
    "    Y = torch.randn((n,1))\n",
    "\n",
    "    X_test = torch.randn((n,d))\n",
    "\n",
    "    net = variable_mlp(layer_width=layer_widths,nonlin=nonlin)\n",
    "\n",
    "    optimizer = torch.optim.SGD(net.parameters(),lr=0.1,momentum=0.9)\n",
    "    loss_fn = torch.nn.MSELoss()\n",
    "    for i in range(5000):\n",
    "        optimizer.zero_grad()\n",
    "        pred = net(X)\n",
    "        loss = loss_fn(pred,Y)\n",
    "        loss.backward()\n",
    "        optimizer.step()\n",
    "\n",
    "    if verbose:\n",
    "        print(f'nn loss : {loss.item():.4}')\n",
    "\n",
    "    # Compute NTKGP\n",
    "    fnet, params = make_functional(net)\n",
    "\n",
    "    ## Compute jacobian of net, evaluated on training set\n",
    "    def fnet_single(params, x):\n",
    "        return fnet(params, x.unsqueeze(0)).squeeze(0)\n",
    "\n",
    "    def Jx(Xs):\n",
    "        J = vmap(jacrev(fnet_single), (None, 0))(params, Xs)\n",
    "        J = [j.detach().flatten(1) for j in J]\n",
    "        J = torch.cat(J,dim=1).detach()\n",
    "        return J\n",
    "\n",
    "    lam = 0\n",
    "    scale = 1\n",
    "    Jtrain = Jx(X)\n",
    "    print(f'||I - pinv(J)J||_2: {torch.linalg.norm(torch.eye(Jtrain.shape[1]) - torch.linalg.pinv(Jtrain) @ Jtrain)}')\n",
    "    NTK_X = Jtrain @ Jtrain.T + lam*torch.eye(n)\n",
    "    cond = torch.linalg.cond(NTK_X).item()\n",
    "    print(f'Cond(J J^T) = {cond:.1}')\n",
    "    print(f'Rank: {torch.linalg.matrix_rank(Jtrain)}')\n",
    "    print(f'min eigenv: {torch.linalg.eigvalsh(NTK_X).min()}')\n",
    "\n",
    "    var_ntk = []\n",
    "    for xi in X_test:\n",
    "        Jsingle = Jx(xi.unsqueeze(0))\n",
    "        KXx = Jtrain @ Jsingle.T\n",
    "        var = Jsingle @ Jsingle.T - KXx.T @ torch.linalg.solve(NTK_X,KXx)\n",
    "        var_ntk.append(var)\n",
    "    var_ntk = torch.tensor(var_ntk)*scale\n",
    "    \n",
    "    train_data = toy_dataset(X,Y)\n",
    "    test_data = toy_dataset(X_test,Y)\n",
    "\n",
    "    diff_e = []\n",
    "    losses_e = []\n",
    "\n",
    "    epochs = torch.logspace(1,4,10)\n",
    "    for epoch in tqdm.tqdm(epochs):\n",
    "        nuqls_posterior = Nuqls(net, task='regression', full_dataset=True)\n",
    "        res = nuqls_posterior.train(train=train_data, \n",
    "                            scale=1, \n",
    "                            S=1000, \n",
    "                            epochs=int(epoch), \n",
    "                            lr=lr, \n",
    "                            mu=0.9, \n",
    "                            verbose=False)\n",
    "        nuql_test_preds = nuqls_posterior.test(test_data, test_bs=50)\n",
    "        var_nuqls = nuql_test_preds.var(1)\n",
    "\n",
    "        print(f'epoch: {epoch}, convergence = {torch.linalg.norm(var_nuqls - var_ntk).item() / torch.linalg.norm(var_ntk).item()}')\n",
    "        diff_e.append(torch.linalg.norm(var_nuqls - var_ntk).item() / torch.linalg.norm(var_ntk).item())\n",
    "        losses_e.append(res[0])\n",
    "        if verbose:\n",
    "            print('--------------------------------------')\n",
    "            print(f'epoch: {int(epoch)}, nuqls loss : {loss.item():.4}')\n",
    "\n",
    "    diff_s = []\n",
    "    losses_s = []\n",
    "\n",
    "    s_range = torch.logspace(1,3,10)\n",
    "    for s in tqdm.tqdm(s_range):\n",
    "        nuqls_posterior = Nuqls(net, task='regression', full_dataset=True)\n",
    "        res = nuqls_posterior.train(train=train_data, \n",
    "                            scale=1, \n",
    "                            S=int(s), \n",
    "                            epochs=10000, \n",
    "                            lr=lr, \n",
    "                            mu=0.9, \n",
    "                            verbose=False)\n",
    "        nuql_test_preds = nuqls_posterior.test(test_data, test_bs=50)\n",
    "        var_nuqls = nuql_test_preds.var(1)\n",
    "\n",
    "        # print(f's: {s}, convergence = {torch.linalg.norm(var_nuqls - var_ntk)}')\n",
    "        diff_s.append(torch.linalg.norm(var_nuqls - var_ntk).item() / torch.linalg.norm(var_ntk).item())\n",
    "        losses_s.append(res[0])\n",
    "        if verbose:\n",
    "            print('--------------------------------------')\n",
    "            print(f'S: {int(s)}, nuqls loss : {loss.item():.4}')\n",
    "\n",
    "    return diff_e,losses_e,epochs,diff_s,losses_s,s_range,cond\n"
   ]
  },
  {
   "cell_type": "code",
   "execution_count": 11,
   "metadata": {},
   "outputs": [
    {
     "name": "stdout",
     "output_type": "stream",
     "text": [
      "single-layer, width=20, tanh\n"
     ]
    },
    {
     "name": "stderr",
     "output_type": "stream",
     "text": [
      "C:\\Users\\s4531973\\AppData\\Local\\Temp\\ipykernel_23728\\3989334737.py:64: FutureWarning: We've integrated functorch into PyTorch. As the final step of the integration, `functorch.make_functional` is deprecated as of PyTorch 2.0 and will be deleted in a future version of PyTorch >= 2.3. Please use `torch.func.functional_call` instead; see the PyTorch 2.0 release notes and/or the `torch.func` migration guide for more details https://pytorch.org/docs/main/func.migrating.html\n",
      "  fnet, params = make_functional(net)\n"
     ]
    },
    {
     "name": "stdout",
     "output_type": "stream",
     "text": [
      "nn loss : 1.43e-07\n",
      "||I - pinv(J)J||_2: 6.4031242374328485\n",
      "Cond(J J^T) = 7e+03\n",
      "Rank: 100\n",
      "min eigenv: 0.04668939618296844\n"
     ]
    },
    {
     "name": "stderr",
     "output_type": "stream",
     "text": [
      "  0%|          | 0/10 [00:00<?, ?it/s]"
     ]
    },
    {
     "name": "stdout",
     "output_type": "stream",
     "text": [
      "epoch: 10.0, convergence = 6.346441475499269, norm: 143.0719856260832\n",
      "--------------------------------------\n",
      "epoch: 10, nuqls loss : 1.43e-07\n",
      "epoch: 21.544346900318832, convergence = 4.924851564820691, norm: 115.2974411773134\n",
      "--------------------------------------\n",
      "epoch: 21, nuqls loss : 1.43e-07\n"
     ]
    },
    {
     "name": "stderr",
     "output_type": "stream",
     "text": [
      "c:\\Users\\s4531973\\Documents\\PhD\\Code\\nuqls\\.venv\\Lib\\site-packages\\nuqls\\regressionfull.py:20: FutureWarning: We've integrated functorch into PyTorch. As the final step of the integration, `functorch.make_functional` is deprecated as of PyTorch 2.0 and will be deleted in a future version of PyTorch >= 2.3. Please use `torch.func.functional_call` instead; see the PyTorch 2.0 release notes and/or the `torch.func` migration guide for more details https://pytorch.org/docs/main/func.migrating.html\n",
      "  fnet, params = make_functional(self.network)\n",
      "c:\\Users\\s4531973\\Documents\\PhD\\Code\\nuqls\\.venv\\Lib\\site-packages\\nuqls\\regressionfull.py:82: FutureWarning: We've integrated functorch into PyTorch. As the final step of the integration, `functorch.make_functional` is deprecated as of PyTorch 2.0 and will be deleted in a future version of PyTorch >= 2.3. Please use `torch.func.functional_call` instead; see the PyTorch 2.0 release notes and/or the `torch.func` migration guide for more details https://pytorch.org/docs/main/func.migrating.html\n",
      "  fnet, params = make_functional(self.network)\n",
      " 30%|███       | 3/10 [00:00<00:00, 20.19it/s]"
     ]
    },
    {
     "name": "stdout",
     "output_type": "stream",
     "text": [
      "epoch: 46.41588833612777, convergence = 3.145087038260632, norm: 80.52576385563219\n",
      "--------------------------------------\n",
      "epoch: 46, nuqls loss : 1.43e-07\n",
      "epoch: 100.0, convergence = 2.007029426198814, norm: 58.320771213941136\n",
      "--------------------------------------\n",
      "epoch: 100, nuqls loss : 1.43e-07\n",
      "epoch: 215.44346900318823, convergence = 1.2687011579762042, norm: 44.03704529660705\n",
      "--------------------------------------\n",
      "epoch: 215, nuqls loss : 1.43e-07\n"
     ]
    },
    {
     "name": "stderr",
     "output_type": "stream",
     "text": [
      " 60%|██████    | 6/10 [00:01<00:00,  4.19it/s]"
     ]
    },
    {
     "name": "stdout",
     "output_type": "stream",
     "text": [
      "epoch: 464.1588833612782, convergence = 0.7477435012584016, norm: 33.96811366593722\n",
      "--------------------------------------\n",
      "epoch: 464, nuqls loss : 1.43e-07\n"
     ]
    },
    {
     "name": "stderr",
     "output_type": "stream",
     "text": [
      " 70%|███████   | 7/10 [00:02<00:01,  2.05it/s]"
     ]
    },
    {
     "name": "stdout",
     "output_type": "stream",
     "text": [
      "epoch: 1000.0, convergence = 0.4211532512593442, norm: 27.636266839446204\n",
      "--------------------------------------\n",
      "epoch: 1000, nuqls loss : 1.43e-07\n"
     ]
    },
    {
     "name": "stderr",
     "output_type": "stream",
     "text": [
      " 80%|████████  | 8/10 [00:05<00:02,  1.07s/it]"
     ]
    },
    {
     "name": "stdout",
     "output_type": "stream",
     "text": [
      "epoch: 2154.4346900318847, convergence = 0.22736810108218167, norm: 23.860946188710546\n",
      "--------------------------------------\n",
      "epoch: 2154, nuqls loss : 1.43e-07\n"
     ]
    },
    {
     "name": "stderr",
     "output_type": "stream",
     "text": [
      " 90%|█████████ | 9/10 [00:11<00:02,  2.36s/it]"
     ]
    },
    {
     "name": "stdout",
     "output_type": "stream",
     "text": [
      "epoch: 4641.588833612777, convergence = 0.0916008735807768, norm: 21.009632577921803\n",
      "--------------------------------------\n",
      "epoch: 4641, nuqls loss : 1.43e-07\n"
     ]
    },
    {
     "name": "stderr",
     "output_type": "stream",
     "text": [
      "100%|██████████| 10/10 [00:25<00:00,  2.51s/it]\n"
     ]
    },
    {
     "name": "stdout",
     "output_type": "stream",
     "text": [
      "epoch: 10000.0, convergence = 0.0603625995941042, norm: 20.50374098768252\n",
      "--------------------------------------\n",
      "epoch: 10000, nuqls loss : 1.43e-07\n",
      "GP variance: tensor([1.2385, 1.0279, 0.6299, 5.5906, 0.4231, 0.7834, 0.8961, 0.1572, 0.9705,\n",
      "        1.7049, 0.9768, 2.0731, 0.5772, 1.6585, 0.6903, 2.8807, 0.7140, 1.9149,\n",
      "        0.3802, 0.4047, 1.2352, 0.9751, 1.3695, 0.5916, 0.1928, 3.9609, 1.1180,\n",
      "        1.9857, 0.3619, 1.8063, 0.7773, 1.2935, 0.7722, 6.3377, 1.1858, 3.0848,\n",
      "        1.3058, 1.5621, 0.6230, 1.2614, 0.5500, 3.5660, 1.2626, 3.1079, 4.2415,\n",
      "        1.3443, 2.6935, 0.5378, 0.7472, 2.1468, 0.4395, 1.9584, 2.9890, 0.8215,\n",
      "        0.5281, 2.1557, 1.3250, 5.8240, 0.3005, 1.7189, 3.9194, 2.5845, 3.1643,\n",
      "        0.7191, 0.7889, 0.2709, 0.6355, 2.4005, 1.2660, 0.9764, 1.7650, 1.6363,\n",
      "        0.6112, 0.5173, 0.7969, 1.4510, 1.2815, 0.5867, 1.6817, 2.6398, 1.4381,\n",
      "        2.4692, 2.2783, 1.0846, 1.1461, 3.7862, 0.5694, 0.1376, 0.7776, 0.5927,\n",
      "        1.3482, 3.0953, 1.9330, 2.0840, 0.5429, 1.6161, 0.4527, 0.4414, 2.1729,\n",
      "        1.5908])\n",
      "NUQLS variance: tensor([1.2420, 1.0137, 0.6724, 5.8996, 0.4570, 0.8072, 0.8545, 0.1475, 1.0266,\n",
      "        1.8157, 1.0127, 2.0682, 0.6343, 1.7248, 0.7438, 2.9542, 0.7473, 2.1530,\n",
      "        0.4036, 0.4218, 1.3322, 0.9395, 1.4043, 0.6321, 0.1859, 4.1586, 1.0938,\n",
      "        2.0416, 0.3841, 1.8882, 0.7980, 1.4173, 0.8287, 6.4034, 1.3176, 3.1884,\n",
      "        1.3895, 1.5752, 0.5970, 1.3076, 0.5703, 3.8599, 1.3164, 3.1276, 3.9980,\n",
      "        1.4307, 2.8795, 0.5634, 0.8239, 2.2929, 0.4691, 1.9423, 3.2561, 0.8871,\n",
      "        0.5190, 2.4689, 1.3475, 6.1046, 0.3346, 1.8509, 4.1683, 3.1478, 3.2150,\n",
      "        0.7547, 0.8236, 0.2657, 0.6570, 2.5042, 1.1972, 1.0077, 1.9638, 1.6511,\n",
      "        0.6433, 0.5584, 0.7524, 1.5544, 1.3589, 0.5932, 1.7131, 2.5487, 1.5853,\n",
      "        2.5906, 2.1680, 1.1511, 1.1627, 3.9738, 0.5948, 0.1541, 0.8158, 0.6525,\n",
      "        1.4735, 3.1280, 1.8949, 2.1372, 0.5399, 1.6055, 0.4424, 0.4503, 2.2975,\n",
      "        1.6589])\n"
     ]
    },
    {
     "name": "stderr",
     "output_type": "stream",
     "text": [
      " 10%|█         | 1/10 [00:03<00:28,  3.19s/it]"
     ]
    },
    {
     "name": "stdout",
     "output_type": "stream",
     "text": [
      "--------------------------------------\n",
      "S: 10, nuqls loss : 1.43e-07\n"
     ]
    },
    {
     "name": "stderr",
     "output_type": "stream",
     "text": [
      " 20%|██        | 2/10 [00:06<00:25,  3.20s/it]"
     ]
    },
    {
     "name": "stdout",
     "output_type": "stream",
     "text": [
      "--------------------------------------\n",
      "S: 16, nuqls loss : 1.43e-07\n"
     ]
    },
    {
     "name": "stderr",
     "output_type": "stream",
     "text": [
      " 30%|███       | 3/10 [00:09<00:23,  3.32s/it]"
     ]
    },
    {
     "name": "stdout",
     "output_type": "stream",
     "text": [
      "--------------------------------------\n",
      "S: 27, nuqls loss : 1.43e-07\n"
     ]
    },
    {
     "name": "stderr",
     "output_type": "stream",
     "text": [
      " 40%|████      | 4/10 [00:13<00:20,  3.40s/it]"
     ]
    },
    {
     "name": "stdout",
     "output_type": "stream",
     "text": [
      "--------------------------------------\n",
      "S: 46, nuqls loss : 1.43e-07\n"
     ]
    },
    {
     "name": "stderr",
     "output_type": "stream",
     "text": [
      " 50%|█████     | 5/10 [00:17<00:17,  3.55s/it]"
     ]
    },
    {
     "name": "stdout",
     "output_type": "stream",
     "text": [
      "--------------------------------------\n",
      "S: 77, nuqls loss : 1.43e-07\n"
     ]
    },
    {
     "name": "stderr",
     "output_type": "stream",
     "text": [
      " 60%|██████    | 6/10 [00:21<00:15,  3.84s/it]"
     ]
    },
    {
     "name": "stdout",
     "output_type": "stream",
     "text": [
      "--------------------------------------\n",
      "S: 129, nuqls loss : 1.43e-07\n"
     ]
    },
    {
     "name": "stderr",
     "output_type": "stream",
     "text": [
      " 70%|███████   | 7/10 [00:27<00:13,  4.37s/it]"
     ]
    },
    {
     "name": "stdout",
     "output_type": "stream",
     "text": [
      "--------------------------------------\n",
      "S: 215, nuqls loss : 1.43e-07\n"
     ]
    },
    {
     "name": "stderr",
     "output_type": "stream",
     "text": [
      " 80%|████████  | 8/10 [00:38<00:12,  6.49s/it]"
     ]
    },
    {
     "name": "stdout",
     "output_type": "stream",
     "text": [
      "--------------------------------------\n",
      "S: 359, nuqls loss : 1.43e-07\n"
     ]
    },
    {
     "name": "stderr",
     "output_type": "stream",
     "text": [
      " 90%|█████████ | 9/10 [00:49<00:08,  8.17s/it]"
     ]
    },
    {
     "name": "stdout",
     "output_type": "stream",
     "text": [
      "--------------------------------------\n",
      "S: 599, nuqls loss : 1.43e-07\n"
     ]
    },
    {
     "name": "stderr",
     "output_type": "stream",
     "text": [
      "100%|██████████| 10/10 [01:04<00:00,  6.45s/it]"
     ]
    },
    {
     "name": "stdout",
     "output_type": "stream",
     "text": [
      "--------------------------------------\n",
      "S: 1000, nuqls loss : 1.43e-07\n",
      "single-layer, width=20, relu\n"
     ]
    },
    {
     "name": "stderr",
     "output_type": "stream",
     "text": [
      "\n",
      "C:\\Users\\s4531973\\AppData\\Local\\Temp\\ipykernel_23728\\1865546110.py:22: UserWarning: var(): degrees of freedom is <= 0. Correction should be strictly less than the reduction factor (input numel divided by output numel). (Triggered internally at C:\\actions-runner\\_work\\pytorch\\pytorch\\pytorch\\aten\\src\\ATen\\native\\ReduceOps.cpp:1839.)\n",
      "  epoch_sev_avg = torch.tensor(diff_e_av).mean(0); epoch_sev_var = torch.tensor(diff_e_av).var(0)\n",
      "C:\\Users\\s4531973\\AppData\\Local\\Temp\\ipykernel_23728\\1865546110.py:23: UserWarning: var(): degrees of freedom is <= 0. Correction should be strictly less than the reduction factor (input numel divided by output numel). (Triggered internally at C:\\actions-runner\\_work\\pytorch\\pytorch\\pytorch\\aten\\src\\ATen\\native\\ReduceOps.cpp:1839.)\n",
      "  epoch_loss_avg = torch.tensor(losses_e_av).mean(0); epoch_loss_var = torch.tensor(losses_e_av).var(0)\n",
      "C:\\Users\\s4531973\\AppData\\Local\\Temp\\ipykernel_23728\\1865546110.py:24: UserWarning: var(): degrees of freedom is <= 0. Correction should be strictly less than the reduction factor (input numel divided by output numel). (Triggered internally at C:\\actions-runner\\_work\\pytorch\\pytorch\\pytorch\\aten\\src\\ATen\\native\\ReduceOps.cpp:1839.)\n",
      "  s_sev_avg = torch.tensor(diff_s_av).mean(0); s_sev_var = torch.tensor(diff_s_av).var(0)\n"
     ]
    },
    {
     "name": "stdout",
     "output_type": "stream",
     "text": [
      "nn loss : 0.02462\n",
      "||I - pinv(J)J||_2: 6.403124237432852\n",
      "Cond(J J^T) = 1e+05\n",
      "Rank: 100\n",
      "min eigenv: 0.01795260811345128\n"
     ]
    },
    {
     "name": "stderr",
     "output_type": "stream",
     "text": [
      "  0%|          | 0/10 [00:00<?, ?it/s]"
     ]
    },
    {
     "name": "stdout",
     "output_type": "stream",
     "text": [
      "epoch: 10.0, convergence = 16.297508595290076, norm: 344.8770413087935\n",
      "--------------------------------------\n",
      "epoch: 10, nuqls loss : 0.02462\n",
      "epoch: 21.544346900318832, convergence = 4.617606296331683, norm: 111.47396640865938\n",
      "--------------------------------------\n",
      "epoch: 21, nuqls loss : 0.02462\n"
     ]
    },
    {
     "name": "stderr",
     "output_type": "stream",
     "text": [
      " 30%|███       | 3/10 [00:00<00:00, 19.90it/s]"
     ]
    },
    {
     "name": "stdout",
     "output_type": "stream",
     "text": [
      "epoch: 46.41588833612777, convergence = 1.1987199923616465, norm: 43.607485352508114\n",
      "--------------------------------------\n",
      "epoch: 46, nuqls loss : 0.02462\n",
      "epoch: 100.0, convergence = 0.6619684706684459, norm: 32.8214885449825\n",
      "--------------------------------------\n",
      "epoch: 100, nuqls loss : 0.02462\n"
     ]
    },
    {
     "name": "stderr",
     "output_type": "stream",
     "text": [
      " 50%|█████     | 5/10 [00:00<00:00,  6.83it/s]"
     ]
    },
    {
     "name": "stdout",
     "output_type": "stream",
     "text": [
      "epoch: 215.44346900318823, convergence = 0.41014458327145314, norm: 27.71358089386988\n",
      "--------------------------------------\n",
      "epoch: 215, nuqls loss : 0.02462\n",
      "epoch: 464.1588833612782, convergence = 0.2053809210061209, norm: 23.475141775159912\n",
      "--------------------------------------\n",
      "epoch: 464, nuqls loss : 0.02462\n"
     ]
    },
    {
     "name": "stderr",
     "output_type": "stream",
     "text": [
      " 70%|███████   | 7/10 [00:02<00:01,  2.00it/s]"
     ]
    },
    {
     "name": "stdout",
     "output_type": "stream",
     "text": [
      "epoch: 1000.0, convergence = 0.11412867865137577, norm: 21.677966000508807\n",
      "--------------------------------------\n",
      "epoch: 1000, nuqls loss : 0.02462\n"
     ]
    },
    {
     "name": "stderr",
     "output_type": "stream",
     "text": [
      " 80%|████████  | 8/10 [00:05<00:02,  1.07s/it]"
     ]
    },
    {
     "name": "stdout",
     "output_type": "stream",
     "text": [
      "epoch: 2154.4346900318847, convergence = 0.08391774042346499, norm: 21.33692994881596\n",
      "--------------------------------------\n",
      "epoch: 2154, nuqls loss : 0.02462\n"
     ]
    },
    {
     "name": "stderr",
     "output_type": "stream",
     "text": [
      " 90%|█████████ | 9/10 [00:12<00:02,  2.41s/it]"
     ]
    },
    {
     "name": "stdout",
     "output_type": "stream",
     "text": [
      "epoch: 4641.588833612777, convergence = 0.0647775944569717, norm: 20.69085123601152\n",
      "--------------------------------------\n",
      "epoch: 4641, nuqls loss : 0.02462\n"
     ]
    },
    {
     "name": "stderr",
     "output_type": "stream",
     "text": [
      "100%|██████████| 10/10 [00:26<00:00,  2.64s/it]\n"
     ]
    },
    {
     "name": "stdout",
     "output_type": "stream",
     "text": [
      "epoch: 10000.0, convergence = 0.03261467979226586, norm: 20.103774297697857\n",
      "--------------------------------------\n",
      "epoch: 10000, nuqls loss : 0.02462\n",
      "GP variance: tensor([0.5936, 0.2588, 2.4829, 0.1906, 0.8748, 1.9717, 0.9618, 0.2564, 4.0649,\n",
      "        0.2033, 5.6563, 1.8970, 0.9498, 0.5704, 0.6245, 1.0254, 4.6168, 0.1722,\n",
      "        0.3380, 0.1171, 1.5508, 3.0660, 1.3220, 0.8284, 3.5932, 0.3657, 4.8382,\n",
      "        0.6849, 1.3878, 6.5103, 1.7145, 1.6302, 0.3487, 1.4674, 1.0333, 1.0137,\n",
      "        3.4982, 1.2291, 0.4963, 0.1598, 0.0700, 0.1149, 0.6837, 3.7811, 0.7095,\n",
      "        1.7541, 0.5240, 0.3243, 1.2422, 0.3964, 0.8789, 0.1308, 0.8401, 1.7853,\n",
      "        1.9591, 0.3925, 1.8078, 3.7012, 1.0126, 0.1736, 0.9414, 1.0069, 1.5432,\n",
      "        2.1756, 1.2604, 0.7015, 3.8368, 6.6048, 1.8944, 0.9604, 1.0762, 0.5368,\n",
      "        0.6332, 0.6625, 0.1751, 0.0795, 0.0702, 1.8059, 2.8063, 0.4506, 2.5647,\n",
      "        1.4996, 2.5980, 1.0628, 2.3018, 2.3022, 2.1289, 1.1969, 0.9324, 1.2742,\n",
      "        1.0843, 1.3511, 1.3196, 1.0413, 1.1774, 1.0412, 3.8884, 0.2428, 1.1525,\n",
      "        0.1385])\n",
      "NUQLS variance: tensor([0.6053, 0.2528, 2.5946, 0.1941, 0.8656, 1.9279, 0.9695, 0.2427, 4.0818,\n",
      "        0.2009, 5.6740, 1.7847, 0.9108, 0.5473, 0.5777, 1.0071, 4.8056, 0.1866,\n",
      "        0.3518, 0.1271, 1.5093, 3.0973, 1.2871, 0.8190, 3.5732, 0.3691, 4.7515,\n",
      "        0.6694, 1.3632, 6.5028, 1.7443, 1.7062, 0.3352, 1.5397, 1.0712, 1.0372,\n",
      "        3.2988, 1.1336, 0.4998, 0.1480, 0.0711, 0.1209, 0.6647, 3.8359, 0.7604,\n",
      "        1.7794, 0.5430, 0.3108, 1.2472, 0.3807, 0.8988, 0.1300, 0.8601, 1.7362,\n",
      "        2.0552, 0.3841, 1.8515, 3.6412, 0.9676, 0.1742, 0.8627, 0.9795, 1.6533,\n",
      "        2.3212, 1.2534, 0.7103, 3.8941, 6.5628, 1.9532, 1.0012, 1.0979, 0.5028,\n",
      "        0.6307, 0.6426, 0.1769, 0.0796, 0.0672, 1.7744, 2.9154, 0.4696, 2.2553,\n",
      "        1.6049, 2.7285, 1.1402, 2.2134, 2.3401, 2.2681, 1.2500, 0.8866, 1.1949,\n",
      "        1.0957, 1.3958, 1.2995, 1.0287, 1.1181, 0.9641, 3.7959, 0.2465, 1.1347,\n",
      "        0.1267])\n"
     ]
    },
    {
     "name": "stderr",
     "output_type": "stream",
     "text": [
      " 10%|█         | 1/10 [00:03<00:28,  3.14s/it]"
     ]
    },
    {
     "name": "stdout",
     "output_type": "stream",
     "text": [
      "--------------------------------------\n",
      "S: 10, nuqls loss : 0.02462\n"
     ]
    },
    {
     "name": "stderr",
     "output_type": "stream",
     "text": [
      " 20%|██        | 2/10 [00:06<00:25,  3.21s/it]"
     ]
    },
    {
     "name": "stdout",
     "output_type": "stream",
     "text": [
      "--------------------------------------\n",
      "S: 16, nuqls loss : 0.02462\n"
     ]
    },
    {
     "name": "stderr",
     "output_type": "stream",
     "text": [
      " 30%|███       | 3/10 [00:09<00:23,  3.29s/it]"
     ]
    },
    {
     "name": "stdout",
     "output_type": "stream",
     "text": [
      "--------------------------------------\n",
      "S: 27, nuqls loss : 0.02462\n"
     ]
    },
    {
     "name": "stderr",
     "output_type": "stream",
     "text": [
      " 40%|████      | 4/10 [00:13<00:20,  3.35s/it]"
     ]
    },
    {
     "name": "stdout",
     "output_type": "stream",
     "text": [
      "--------------------------------------\n",
      "S: 46, nuqls loss : 0.02462\n"
     ]
    },
    {
     "name": "stderr",
     "output_type": "stream",
     "text": [
      " 50%|█████     | 5/10 [00:17<00:17,  3.54s/it]"
     ]
    },
    {
     "name": "stdout",
     "output_type": "stream",
     "text": [
      "--------------------------------------\n",
      "S: 77, nuqls loss : 0.02462\n"
     ]
    },
    {
     "name": "stderr",
     "output_type": "stream",
     "text": [
      " 60%|██████    | 6/10 [00:21<00:15,  3.80s/it]"
     ]
    },
    {
     "name": "stdout",
     "output_type": "stream",
     "text": [
      "--------------------------------------\n",
      "S: 129, nuqls loss : 0.02462\n"
     ]
    },
    {
     "name": "stderr",
     "output_type": "stream",
     "text": [
      " 70%|███████   | 7/10 [00:26<00:12,  4.26s/it]"
     ]
    },
    {
     "name": "stdout",
     "output_type": "stream",
     "text": [
      "--------------------------------------\n",
      "S: 215, nuqls loss : 0.02462\n"
     ]
    },
    {
     "name": "stderr",
     "output_type": "stream",
     "text": [
      " 80%|████████  | 8/10 [00:36<00:12,  6.16s/it]"
     ]
    },
    {
     "name": "stdout",
     "output_type": "stream",
     "text": [
      "--------------------------------------\n",
      "S: 359, nuqls loss : 0.02462\n"
     ]
    },
    {
     "name": "stderr",
     "output_type": "stream",
     "text": [
      " 90%|█████████ | 9/10 [00:48<00:07,  7.87s/it]"
     ]
    },
    {
     "name": "stdout",
     "output_type": "stream",
     "text": [
      "--------------------------------------\n",
      "S: 599, nuqls loss : 0.02462\n"
     ]
    },
    {
     "name": "stderr",
     "output_type": "stream",
     "text": [
      "100%|██████████| 10/10 [01:02<00:00,  6.29s/it]"
     ]
    },
    {
     "name": "stdout",
     "output_type": "stream",
     "text": [
      "--------------------------------------\n",
      "S: 1000, nuqls loss : 0.02462\n",
      "double-layer, width=20, relu\n"
     ]
    },
    {
     "name": "stderr",
     "output_type": "stream",
     "text": [
      "\n",
      "C:\\Users\\s4531973\\AppData\\Local\\Temp\\ipykernel_23728\\1865546110.py:53: UserWarning: var(): degrees of freedom is <= 0. Correction should be strictly less than the reduction factor (input numel divided by output numel). (Triggered internally at C:\\actions-runner\\_work\\pytorch\\pytorch\\pytorch\\aten\\src\\ATen\\native\\ReduceOps.cpp:1839.)\n",
      "  epoch_sev_avg = torch.tensor(diff_e_av).mean(0); epoch_sev_var = torch.tensor(diff_e_av).var(0)\n",
      "C:\\Users\\s4531973\\AppData\\Local\\Temp\\ipykernel_23728\\1865546110.py:54: UserWarning: var(): degrees of freedom is <= 0. Correction should be strictly less than the reduction factor (input numel divided by output numel). (Triggered internally at C:\\actions-runner\\_work\\pytorch\\pytorch\\pytorch\\aten\\src\\ATen\\native\\ReduceOps.cpp:1839.)\n",
      "  epoch_loss_avg = torch.tensor(losses_e_av).mean(0); epoch_loss_var = torch.tensor(losses_e_av).var(0)\n",
      "C:\\Users\\s4531973\\AppData\\Local\\Temp\\ipykernel_23728\\1865546110.py:55: UserWarning: var(): degrees of freedom is <= 0. Correction should be strictly less than the reduction factor (input numel divided by output numel). (Triggered internally at C:\\actions-runner\\_work\\pytorch\\pytorch\\pytorch\\aten\\src\\ATen\\native\\ReduceOps.cpp:1839.)\n",
      "  s_sev_avg = torch.tensor(diff_s_av).mean(0); s_sev_var = torch.tensor(diff_s_av).var(0)\n"
     ]
    },
    {
     "name": "stdout",
     "output_type": "stream",
     "text": [
      "nn loss : 4.165e-12\n",
      "||I - pinv(J)J||_2: 21.470910553583874\n",
      "Cond(J J^T) = 3e+03\n",
      "Rank: 100\n",
      "min eigenv: 0.5449647188172692\n"
     ]
    },
    {
     "name": "stderr",
     "output_type": "stream",
     "text": [
      " 20%|██        | 2/10 [00:00<00:00, 12.73it/s]"
     ]
    },
    {
     "name": "stdout",
     "output_type": "stream",
     "text": [
      "epoch: 10.0, convergence = 1.4079828385260356, norm: 203.74992969538374\n",
      "--------------------------------------\n",
      "epoch: 10, nuqls loss : 4.165e-12\n",
      "epoch: 21.544346900318832, convergence = 0.6221840891147344, norm: 137.50123875248326\n",
      "--------------------------------------\n",
      "epoch: 21, nuqls loss : 4.165e-12\n",
      "epoch: 46.41588833612777, convergence = 0.10227649090073035, norm: 93.60267729902839\n",
      "--------------------------------------\n",
      "epoch: 46, nuqls loss : 4.165e-12\n"
     ]
    },
    {
     "name": "stderr",
     "output_type": "stream",
     "text": [
      " 40%|████      | 4/10 [00:00<00:01,  5.17it/s]"
     ]
    },
    {
     "name": "stdout",
     "output_type": "stream",
     "text": [
      "epoch: 100.0, convergence = 0.05338564223639547, norm: 88.81154737173324\n",
      "--------------------------------------\n",
      "epoch: 100, nuqls loss : 4.165e-12\n"
     ]
    },
    {
     "name": "stderr",
     "output_type": "stream",
     "text": [
      " 50%|█████     | 5/10 [00:01<00:01,  2.63it/s]"
     ]
    },
    {
     "name": "stdout",
     "output_type": "stream",
     "text": [
      "epoch: 215.44346900318823, convergence = 0.045737121793922836, norm: 85.90008841650842\n",
      "--------------------------------------\n",
      "epoch: 215, nuqls loss : 4.165e-12\n"
     ]
    },
    {
     "name": "stderr",
     "output_type": "stream",
     "text": [
      " 60%|██████    | 6/10 [00:03<00:03,  1.28it/s]"
     ]
    },
    {
     "name": "stdout",
     "output_type": "stream",
     "text": [
      "epoch: 464.1588833612782, convergence = 0.04485604253444107, norm: 86.89848398229918\n",
      "--------------------------------------\n",
      "epoch: 464, nuqls loss : 4.165e-12\n"
     ]
    },
    {
     "name": "stderr",
     "output_type": "stream",
     "text": [
      " 70%|███████   | 7/10 [00:07<00:05,  1.72s/it]"
     ]
    },
    {
     "name": "stdout",
     "output_type": "stream",
     "text": [
      "epoch: 1000.0, convergence = 0.041131769318487874, norm: 87.27684782712046\n",
      "--------------------------------------\n",
      "epoch: 1000, nuqls loss : 4.165e-12\n"
     ]
    },
    {
     "name": "stderr",
     "output_type": "stream",
     "text": [
      " 80%|████████  | 8/10 [00:15<00:07,  3.70s/it]"
     ]
    },
    {
     "name": "stdout",
     "output_type": "stream",
     "text": [
      "epoch: 2154.4346900318847, convergence = 0.04744829549298726, norm: 85.16097645791476\n",
      "--------------------------------------\n",
      "epoch: 2154, nuqls loss : 4.165e-12\n"
     ]
    },
    {
     "name": "stderr",
     "output_type": "stream",
     "text": [
      " 90%|█████████ | 9/10 [00:33<00:07,  7.94s/it]"
     ]
    },
    {
     "name": "stdout",
     "output_type": "stream",
     "text": [
      "epoch: 4641.588833612777, convergence = 0.051705476624571436, norm: 84.87037736877814\n",
      "--------------------------------------\n",
      "epoch: 4641, nuqls loss : 4.165e-12\n"
     ]
    },
    {
     "name": "stderr",
     "output_type": "stream",
     "text": [
      "100%|██████████| 10/10 [01:11<00:00,  7.13s/it]\n"
     ]
    },
    {
     "name": "stdout",
     "output_type": "stream",
     "text": [
      "epoch: 10000.0, convergence = 0.03830711267231055, norm: 86.04005978291222\n",
      "--------------------------------------\n",
      "epoch: 10000, nuqls loss : 4.165e-12\n",
      "GP variance: tensor([ 7.5460, 18.4823,  6.4939, 13.1050,  3.8391,  8.8098, 13.8392,  2.0585,\n",
      "         1.8832,  2.1195,  6.4439,  2.7946, 12.8815,  0.9811,  5.3202,  3.0297,\n",
      "        10.5647,  5.6457,  4.0103,  3.5224,  4.1461,  9.6543,  1.9455,  6.2238,\n",
      "         5.2018,  6.6184,  4.4881,  2.9903,  4.2529,  8.3342,  1.8377,  8.1726,\n",
      "        12.9973,  4.2164,  1.0609,  3.1268,  5.1405, 11.3096,  9.7346,  8.8225,\n",
      "         6.3067,  1.7585,  3.7521,  2.7239,  6.2185,  3.1504, 11.9956,  5.6926,\n",
      "         3.9547, 10.8240, 10.1055, 22.4006,  8.4534,  7.4081, 10.3227,  3.2422,\n",
      "         7.6698,  2.0920,  2.9447, 16.5540,  0.7324,  2.2615,  1.7374,  4.7027,\n",
      "        10.2877,  6.3864,  6.8650, 19.5064, 12.5963,  5.8275,  9.8157,  2.3670,\n",
      "         8.4576, 10.3230, 13.1602,  4.9830,  6.5330,  8.0723,  3.1745,  5.2878,\n",
      "         2.3767,  9.8564,  4.2130,  2.4437,  3.6481, 16.8712,  1.4540,  4.3679,\n",
      "         6.8837,  2.5319, 12.6977, 31.8302,  1.8813, 11.0351,  8.6826,  5.7691,\n",
      "         8.4808,  2.2299, 10.2515,  4.1725])\n",
      "NUQLS variance: tensor([ 7.5154, 17.8497,  6.5161, 12.8905,  4.0194,  8.1333, 14.1970,  1.9826,\n",
      "         2.0592,  2.0779,  6.6974,  2.9253, 13.1227,  1.0425,  5.5462,  3.1647,\n",
      "         9.7654,  5.1393,  3.9328,  3.6187,  4.2256,  9.8171,  2.0162,  6.5631,\n",
      "         4.5075,  6.7635,  4.1223,  2.9418,  4.1003,  8.6629,  1.9451,  8.1148,\n",
      "        12.2997,  4.2272,  1.0754,  3.0282,  5.3453, 10.4853,  9.6595,  9.1119,\n",
      "         5.9718,  1.6751,  3.9988,  2.6078,  6.6239,  3.1540, 11.5843,  5.6587,\n",
      "         3.7533, 10.7298, 10.2195, 22.7846,  7.7847,  7.4373, 10.3780,  3.5403,\n",
      "         7.2306,  2.0911,  3.1183, 16.6894,  0.6862,  2.3553,  1.9046,  4.4480,\n",
      "        10.6563,  6.6885,  7.3401, 18.4681, 12.5001,  5.9470, 10.1787,  2.3490,\n",
      "         8.2420, 10.5949, 13.8879,  4.7687,  6.7134,  7.8720,  3.1858,  4.9315,\n",
      "         2.4137, 10.1395,  4.3982,  2.5784,  3.7391, 17.5489,  1.3915,  4.2004,\n",
      "         6.8741,  2.8677, 13.0935, 31.8962,  1.7374, 11.9623,  8.2014,  5.4364,\n",
      "         8.3239,  2.4110, 10.1793,  4.2601])\n"
     ]
    },
    {
     "name": "stderr",
     "output_type": "stream",
     "text": [
      " 10%|█         | 1/10 [00:03<00:33,  3.77s/it]"
     ]
    },
    {
     "name": "stdout",
     "output_type": "stream",
     "text": [
      "--------------------------------------\n",
      "S: 10, nuqls loss : 4.165e-12\n"
     ]
    },
    {
     "name": "stderr",
     "output_type": "stream",
     "text": [
      " 20%|██        | 2/10 [00:07<00:29,  3.75s/it]"
     ]
    },
    {
     "name": "stdout",
     "output_type": "stream",
     "text": [
      "--------------------------------------\n",
      "S: 16, nuqls loss : 4.165e-12\n"
     ]
    },
    {
     "name": "stderr",
     "output_type": "stream",
     "text": [
      " 30%|███       | 3/10 [00:11<00:27,  4.00s/it]"
     ]
    },
    {
     "name": "stdout",
     "output_type": "stream",
     "text": [
      "--------------------------------------\n",
      "S: 27, nuqls loss : 4.165e-12\n"
     ]
    },
    {
     "name": "stderr",
     "output_type": "stream",
     "text": [
      " 40%|████      | 4/10 [00:16<00:26,  4.41s/it]"
     ]
    },
    {
     "name": "stdout",
     "output_type": "stream",
     "text": [
      "--------------------------------------\n",
      "S: 46, nuqls loss : 4.165e-12\n"
     ]
    },
    {
     "name": "stderr",
     "output_type": "stream",
     "text": [
      " 50%|█████     | 5/10 [00:25<00:29,  5.90s/it]"
     ]
    },
    {
     "name": "stdout",
     "output_type": "stream",
     "text": [
      "--------------------------------------\n",
      "S: 77, nuqls loss : 4.165e-12\n"
     ]
    },
    {
     "name": "stderr",
     "output_type": "stream",
     "text": [
      " 60%|██████    | 6/10 [00:34<00:28,  7.15s/it]"
     ]
    },
    {
     "name": "stdout",
     "output_type": "stream",
     "text": [
      "--------------------------------------\n",
      "S: 129, nuqls loss : 4.165e-12\n"
     ]
    },
    {
     "name": "stderr",
     "output_type": "stream",
     "text": [
      " 70%|███████   | 7/10 [00:47<00:26,  8.84s/it]"
     ]
    },
    {
     "name": "stdout",
     "output_type": "stream",
     "text": [
      "--------------------------------------\n",
      "S: 215, nuqls loss : 4.165e-12\n"
     ]
    },
    {
     "name": "stderr",
     "output_type": "stream",
     "text": [
      " 80%|████████  | 8/10 [01:06<00:23, 11.99s/it]"
     ]
    },
    {
     "name": "stdout",
     "output_type": "stream",
     "text": [
      "--------------------------------------\n",
      "S: 359, nuqls loss : 4.165e-12\n"
     ]
    },
    {
     "name": "stderr",
     "output_type": "stream",
     "text": [
      " 90%|█████████ | 9/10 [01:31<00:16, 16.36s/it]"
     ]
    },
    {
     "name": "stdout",
     "output_type": "stream",
     "text": [
      "--------------------------------------\n",
      "S: 599, nuqls loss : 4.165e-12\n"
     ]
    },
    {
     "name": "stderr",
     "output_type": "stream",
     "text": [
      "100%|██████████| 10/10 [02:10<00:00, 13.10s/it]"
     ]
    },
    {
     "name": "stdout",
     "output_type": "stream",
     "text": [
      "--------------------------------------\n",
      "S: 1000, nuqls loss : 4.165e-12\n",
      "single-layer, width=80, tanh\n"
     ]
    },
    {
     "name": "stderr",
     "output_type": "stream",
     "text": [
      "\n",
      "C:\\Users\\s4531973\\AppData\\Local\\Temp\\ipykernel_23728\\1865546110.py:84: UserWarning: var(): degrees of freedom is <= 0. Correction should be strictly less than the reduction factor (input numel divided by output numel). (Triggered internally at C:\\actions-runner\\_work\\pytorch\\pytorch\\pytorch\\aten\\src\\ATen\\native\\ReduceOps.cpp:1839.)\n",
      "  epoch_sev_avg = torch.tensor(diff_e_av).mean(0); epoch_sev_var = torch.tensor(diff_e_av).var(0)\n",
      "C:\\Users\\s4531973\\AppData\\Local\\Temp\\ipykernel_23728\\1865546110.py:85: UserWarning: var(): degrees of freedom is <= 0. Correction should be strictly less than the reduction factor (input numel divided by output numel). (Triggered internally at C:\\actions-runner\\_work\\pytorch\\pytorch\\pytorch\\aten\\src\\ATen\\native\\ReduceOps.cpp:1839.)\n",
      "  epoch_loss_avg = torch.tensor(losses_e_av).mean(0); epoch_loss_var = torch.tensor(losses_e_av).var(0)\n",
      "C:\\Users\\s4531973\\AppData\\Local\\Temp\\ipykernel_23728\\1865546110.py:86: UserWarning: var(): degrees of freedom is <= 0. Correction should be strictly less than the reduction factor (input numel divided by output numel). (Triggered internally at C:\\actions-runner\\_work\\pytorch\\pytorch\\pytorch\\aten\\src\\ATen\\native\\ReduceOps.cpp:1839.)\n",
      "  s_sev_avg = torch.tensor(diff_s_av).mean(0); s_sev_var = torch.tensor(diff_s_av).var(0)\n"
     ]
    },
    {
     "name": "stdout",
     "output_type": "stream",
     "text": [
      "nn loss : 9.384e-20\n",
      "||I - pinv(J)J||_2: 21.47091055358385\n",
      "Cond(J J^T) = 2e+03\n",
      "Rank: 100\n",
      "min eigenv: 0.1937635578526569\n"
     ]
    },
    {
     "name": "stderr",
     "output_type": "stream",
     "text": [
      "  0%|          | 0/10 [00:00<?, ?it/s]"
     ]
    },
    {
     "name": "stdout",
     "output_type": "stream",
     "text": [
      "epoch: 10.0, convergence = 106.75815163245262, norm: 6868.660106173476"
     ]
    },
    {
     "name": "stderr",
     "output_type": "stream",
     "text": [
      " 20%|██        | 2/10 [00:00<00:00, 12.61it/s]"
     ]
    },
    {
     "name": "stdout",
     "output_type": "stream",
     "text": [
      "\n",
      "--------------------------------------\n",
      "epoch: 10, nuqls loss : 9.384e-20\n",
      "epoch: 21.544346900318832, convergence = 184.22592832825796, norm: 11827.873808396593\n",
      "--------------------------------------\n",
      "epoch: 21, nuqls loss : 9.384e-20\n",
      "epoch: 46.41588833612777, convergence = 159.52015081540677, norm: 10246.172447367218\n",
      "--------------------------------------\n",
      "epoch: 46, nuqls loss : 9.384e-20\n"
     ]
    },
    {
     "name": "stderr",
     "output_type": "stream",
     "text": [
      " 40%|████      | 4/10 [00:00<00:01,  4.69it/s]"
     ]
    },
    {
     "name": "stdout",
     "output_type": "stream",
     "text": [
      "epoch: 100.0, convergence = 60.41594246259145, norm: 3901.748459346059\n",
      "--------------------------------------\n",
      "epoch: 100, nuqls loss : 9.384e-20\n"
     ]
    },
    {
     "name": "stderr",
     "output_type": "stream",
     "text": [
      " 50%|█████     | 5/10 [00:01<00:02,  2.42it/s]"
     ]
    },
    {
     "name": "stdout",
     "output_type": "stream",
     "text": [
      "epoch: 215.44346900318823, convergence = 6.936189320088513, norm: 480.5989150496849\n",
      "--------------------------------------\n",
      "epoch: 215, nuqls loss : 9.384e-20\n"
     ]
    },
    {
     "name": "stderr",
     "output_type": "stream",
     "text": [
      " 60%|██████    | 6/10 [00:03<00:03,  1.15it/s]"
     ]
    },
    {
     "name": "stdout",
     "output_type": "stream",
     "text": [
      "epoch: 464.1588833612782, convergence = 0.08950652866194288, norm: 67.11469706055165\n",
      "--------------------------------------\n",
      "epoch: 464, nuqls loss : 9.384e-20\n"
     ]
    },
    {
     "name": "stderr",
     "output_type": "stream",
     "text": [
      " 70%|███████   | 7/10 [00:07<00:05,  1.78s/it]"
     ]
    },
    {
     "name": "stdout",
     "output_type": "stream",
     "text": [
      "epoch: 1000.0, convergence = 0.03913891872837377, norm: 64.37188950095653\n",
      "--------------------------------------\n",
      "epoch: 1000, nuqls loss : 9.384e-20\n"
     ]
    },
    {
     "name": "stderr",
     "output_type": "stream",
     "text": [
      " 80%|████████  | 8/10 [00:16<00:07,  3.78s/it]"
     ]
    },
    {
     "name": "stdout",
     "output_type": "stream",
     "text": [
      "epoch: 2154.4346900318847, convergence = 0.0351376783364293, norm: 64.42427859276292\n",
      "--------------------------------------\n",
      "epoch: 2154, nuqls loss : 9.384e-20\n"
     ]
    },
    {
     "name": "stderr",
     "output_type": "stream",
     "text": [
      " 90%|█████████ | 9/10 [00:34<00:08,  8.08s/it]"
     ]
    },
    {
     "name": "stdout",
     "output_type": "stream",
     "text": [
      "epoch: 4641.588833612777, convergence = 0.041729577418389716, norm: 64.6151713224008\n",
      "--------------------------------------\n",
      "epoch: 4641, nuqls loss : 9.384e-20\n"
     ]
    },
    {
     "name": "stderr",
     "output_type": "stream",
     "text": [
      "100%|██████████| 10/10 [01:12<00:00,  7.28s/it]\n"
     ]
    },
    {
     "name": "stdout",
     "output_type": "stream",
     "text": [
      "epoch: 10000.0, convergence = 0.0489705834574696, norm: 63.14001691767586\n",
      "--------------------------------------\n",
      "epoch: 10000, nuqls loss : 9.384e-20\n",
      "GP variance: tensor([10.0869,  5.4846,  8.6613,  6.5863, 15.2344,  3.5906,  3.3876,  3.7760,\n",
      "         8.3650,  3.7895,  7.2121, 10.1285,  5.2075,  4.4645,  4.1388,  6.4206,\n",
      "         6.4080, 10.8053,  6.7435,  4.1395,  3.0965,  7.4873,  6.5733,  1.0130,\n",
      "         4.0095, 10.3452,  4.2080,  5.4254,  4.3349,  6.2676,  1.9362,  3.4797,\n",
      "        11.7202,  9.8499,  3.2870,  3.0847,  3.7280,  5.3327,  3.1449,  5.0332,\n",
      "         1.7136,  5.2841,  4.5087, 13.0773,  4.6203,  4.1759,  6.0155,  5.8678,\n",
      "        18.2014,  8.9664,  4.3689,  9.2029,  3.0559,  2.6023,  2.9862,  4.1367,\n",
      "         1.9370,  8.4398,  5.0256,  8.9744,  3.0088,  4.8159,  6.5654,  6.5962,\n",
      "         7.3334,  2.0988,  4.6783,  3.5043,  2.8265,  6.3448,  2.8071,  4.4742,\n",
      "         3.7436,  4.5423,  4.1889,  3.3456,  3.7085,  9.1164,  5.5530,  5.3169,\n",
      "         3.6585,  4.8092,  3.1476,  3.2743, 10.2192,  8.1658,  2.0174,  5.8122,\n",
      "         3.4097,  4.9958,  2.0775,  7.3110,  6.5326,  9.0041,  7.2372,  6.4290,\n",
      "        11.8577,  2.3708,  3.2073,  3.9258])\n",
      "NUQLS variance: tensor([10.8784,  5.2796,  8.4800,  5.9135, 14.8802,  3.6152,  3.1778,  3.5404,\n",
      "         7.8561,  3.7996,  7.0019, 10.3903,  5.0478,  4.3868,  4.0165,  6.6159,\n",
      "         6.1501,  9.9071,  6.4967,  3.9174,  2.9832,  7.4666,  6.9867,  1.0918,\n",
      "         4.0976, 11.2558,  4.2474,  5.4966,  4.3408,  6.5030,  2.0546,  3.6394,\n",
      "        12.0729, 10.4322,  3.4704,  3.1853,  3.5648,  5.1031,  3.1544,  4.8454,\n",
      "         1.6674,  4.6896,  4.4359, 12.6191,  4.4983,  4.4229,  5.7691,  6.2280,\n",
      "        17.3700,  9.2807,  4.6405,  9.3848,  3.1595,  2.5649,  2.8221,  4.0821,\n",
      "         1.9110,  7.7763,  4.7013,  8.7454,  2.9543,  4.5304,  6.7620,  6.1075,\n",
      "         7.5396,  2.1068,  5.0590,  3.2833,  3.0139,  6.2406,  2.7852,  4.4027,\n",
      "         3.6366,  4.5572,  4.3918,  3.3210,  3.7351,  8.7611,  5.2934,  5.5238,\n",
      "         3.3738,  4.7563,  3.0797,  3.0660,  9.7515,  8.0732,  2.1340,  5.4463,\n",
      "         3.7061,  4.9407,  2.0037,  7.0999,  6.4703,  8.4523,  7.0780,  6.5037,\n",
      "        10.9036,  2.4077,  3.3404,  3.7618])\n"
     ]
    },
    {
     "name": "stderr",
     "output_type": "stream",
     "text": [
      " 10%|█         | 1/10 [00:04<00:37,  4.21s/it]"
     ]
    },
    {
     "name": "stdout",
     "output_type": "stream",
     "text": [
      "--------------------------------------\n",
      "S: 10, nuqls loss : 9.384e-20\n"
     ]
    },
    {
     "name": "stderr",
     "output_type": "stream",
     "text": [
      " 20%|██        | 2/10 [00:08<00:33,  4.21s/it]"
     ]
    },
    {
     "name": "stdout",
     "output_type": "stream",
     "text": [
      "--------------------------------------\n",
      "S: 16, nuqls loss : 9.384e-20\n"
     ]
    },
    {
     "name": "stderr",
     "output_type": "stream",
     "text": [
      " 30%|███       | 3/10 [00:13<00:31,  4.46s/it]"
     ]
    },
    {
     "name": "stdout",
     "output_type": "stream",
     "text": [
      "--------------------------------------\n",
      "S: 27, nuqls loss : 9.384e-20\n"
     ]
    },
    {
     "name": "stderr",
     "output_type": "stream",
     "text": [
      " 40%|████      | 4/10 [00:18<00:29,  4.88s/it]"
     ]
    },
    {
     "name": "stdout",
     "output_type": "stream",
     "text": [
      "--------------------------------------\n",
      "S: 46, nuqls loss : 9.384e-20\n"
     ]
    },
    {
     "name": "stderr",
     "output_type": "stream",
     "text": [
      " 50%|█████     | 5/10 [00:27<00:32,  6.43s/it]"
     ]
    },
    {
     "name": "stdout",
     "output_type": "stream",
     "text": [
      "--------------------------------------\n",
      "S: 77, nuqls loss : 9.384e-20\n"
     ]
    },
    {
     "name": "stderr",
     "output_type": "stream",
     "text": [
      " 60%|██████    | 6/10 [00:38<00:31,  7.80s/it]"
     ]
    },
    {
     "name": "stdout",
     "output_type": "stream",
     "text": [
      "--------------------------------------\n",
      "S: 129, nuqls loss : 9.384e-20\n"
     ]
    },
    {
     "name": "stderr",
     "output_type": "stream",
     "text": [
      " 70%|███████   | 7/10 [00:50<00:27,  9.25s/it]"
     ]
    },
    {
     "name": "stdout",
     "output_type": "stream",
     "text": [
      "--------------------------------------\n",
      "S: 215, nuqls loss : 9.384e-20\n"
     ]
    },
    {
     "name": "stderr",
     "output_type": "stream",
     "text": [
      " 80%|████████  | 8/10 [01:09<00:24, 12.40s/it]"
     ]
    },
    {
     "name": "stdout",
     "output_type": "stream",
     "text": [
      "--------------------------------------\n",
      "S: 359, nuqls loss : 9.384e-20\n"
     ]
    },
    {
     "name": "stderr",
     "output_type": "stream",
     "text": [
      " 90%|█████████ | 9/10 [01:36<00:16, 16.76s/it]"
     ]
    },
    {
     "name": "stdout",
     "output_type": "stream",
     "text": [
      "--------------------------------------\n",
      "S: 599, nuqls loss : 9.384e-20\n"
     ]
    },
    {
     "name": "stderr",
     "output_type": "stream",
     "text": [
      "100%|██████████| 10/10 [02:14<00:00, 13.40s/it]"
     ]
    },
    {
     "name": "stdout",
     "output_type": "stream",
     "text": [
      "--------------------------------------\n",
      "S: 1000, nuqls loss : 9.384e-20\n"
     ]
    },
    {
     "name": "stderr",
     "output_type": "stream",
     "text": [
      "\n",
      "C:\\Users\\s4531973\\AppData\\Local\\Temp\\ipykernel_23728\\1865546110.py:115: UserWarning: var(): degrees of freedom is <= 0. Correction should be strictly less than the reduction factor (input numel divided by output numel). (Triggered internally at C:\\actions-runner\\_work\\pytorch\\pytorch\\pytorch\\aten\\src\\ATen\\native\\ReduceOps.cpp:1839.)\n",
      "  epoch_sev_avg = torch.tensor(diff_e_av).mean(0); epoch_sev_var = torch.tensor(diff_e_av).var(0)\n",
      "C:\\Users\\s4531973\\AppData\\Local\\Temp\\ipykernel_23728\\1865546110.py:116: UserWarning: var(): degrees of freedom is <= 0. Correction should be strictly less than the reduction factor (input numel divided by output numel). (Triggered internally at C:\\actions-runner\\_work\\pytorch\\pytorch\\pytorch\\aten\\src\\ATen\\native\\ReduceOps.cpp:1839.)\n",
      "  epoch_loss_avg = torch.tensor(losses_e_av).mean(0); epoch_loss_var = torch.tensor(losses_e_av).var(0)\n",
      "C:\\Users\\s4531973\\AppData\\Local\\Temp\\ipykernel_23728\\1865546110.py:117: UserWarning: var(): degrees of freedom is <= 0. Correction should be strictly less than the reduction factor (input numel divided by output numel). (Triggered internally at C:\\actions-runner\\_work\\pytorch\\pytorch\\pytorch\\aten\\src\\ATen\\native\\ReduceOps.cpp:1839.)\n",
      "  s_sev_avg = torch.tensor(diff_s_av).mean(0); s_sev_var = torch.tensor(diff_s_av).var(0)\n"
     ]
    }
   ],
   "source": [
    "samples = 1\n",
    "n = 100\n",
    "d = 5\n",
    "results_dict = {}\n",
    "\n",
    "# single-layer, width=20, tanh\n",
    "print(f'single-layer, width=20, tanh')\n",
    "layer_widths = [d,20]\n",
    "\n",
    "diff_e_av = []\n",
    "losses_e_av = []\n",
    "diff_s_av = []\n",
    "conds = []\n",
    "\n",
    "for i in range(samples):\n",
    "    diff_e,losses_e,epochs,diff_s,_,s_range,cond_i = convergence(n,d,layer_widths=layer_widths,nonlin='tanh',lr=0.01,verbose=True)\n",
    "    diff_e_av.append(diff_e)\n",
    "    losses_e_av.append(losses_e)\n",
    "    diff_s_av.append(diff_s)\n",
    "    conds.append(cond_i)\n",
    "\n",
    "epoch_sev_avg = torch.tensor(diff_e_av).mean(0); epoch_sev_var = torch.tensor(diff_e_av).var(0)\n",
    "epoch_loss_avg = torch.tensor(losses_e_av).mean(0); epoch_loss_var = torch.tensor(losses_e_av).var(0)\n",
    "s_sev_avg = torch.tensor(diff_s_av).mean(0); s_sev_var = torch.tensor(diff_s_av).var(0)\n",
    "cond_avg = torch.tensor(conds).mean(0)\n",
    "results_dict['tanh_single_20'] = {'epoch_sev_avg': epoch_sev_avg,\n",
    "                                  'epoch_sev_var': epoch_sev_var,\n",
    "                                  'epoch_loss_avg': epoch_loss_avg,\n",
    "                                  'epoch_loss_var': epoch_loss_var,\n",
    "                                  's_sev_avg': s_sev_avg,\n",
    "                                  's_sev_var': s_sev_var,\n",
    "                                  'cond_avg': cond_avg,\n",
    "                                  'epoch_range': epochs,\n",
    "                                  's_range': s_range}\n",
    "torch.save(results_dict,'paper/convergence_result_dict.pt')\n",
    "\n",
    "# single-layer, width=20, relu\n",
    "print(f'single-layer, width=20, relu')\n",
    "layer_widths = [d,20]\n",
    "\n",
    "diff_e_av = []\n",
    "losses_e_av = []\n",
    "diff_s_av = []\n",
    "conds = []\n",
    "\n",
    "for i in range(samples):\n",
    "    diff_e,losses_e,epochs,diff_s,_,s_range,cond_i = convergence(n,d,layer_widths=layer_widths,nonlin='relu',lr=0.1,verbose=True)\n",
    "    diff_e_av.append(diff_e)\n",
    "    losses_e_av.append(losses_e)\n",
    "    diff_s_av.append(diff_s)\n",
    "    conds.append(cond_i)\n",
    "\n",
    "epoch_sev_avg = torch.tensor(diff_e_av).mean(0); epoch_sev_var = torch.tensor(diff_e_av).var(0)\n",
    "epoch_loss_avg = torch.tensor(losses_e_av).mean(0); epoch_loss_var = torch.tensor(losses_e_av).var(0)\n",
    "s_sev_avg = torch.tensor(diff_s_av).mean(0); s_sev_var = torch.tensor(diff_s_av).var(0)\n",
    "cond_avg = torch.tensor(conds).mean(0)\n",
    "results_dict['relu_single_20'] = {'epoch_sev_avg': epoch_sev_avg,\n",
    "                                  'epoch_sev_var': epoch_sev_var,\n",
    "                                  'epoch_loss_avg': epoch_loss_avg,\n",
    "                                  'epoch_loss_var': epoch_loss_var,\n",
    "                                  's_sev_avg': s_sev_avg,\n",
    "                                  's_sev_var': s_sev_var,\n",
    "                                  'cond_avg': cond_avg,\n",
    "                                  'epoch_range': epochs,\n",
    "                                  's_range': s_range}\n",
    "torch.save(results_dict,'paper/convergence_result_dict.pt')\n",
    "\n",
    "# double-layer, width=20, relu\n",
    "print(f'double-layer, width=20, relu')\n",
    "layer_widths = [d,20,20]\n",
    "\n",
    "diff_e_av = []\n",
    "losses_e_av = []\n",
    "diff_s_av = []\n",
    "conds = []\n",
    "\n",
    "for i in range(samples):\n",
    "    diff_e,losses_e,epochs,diff_s,_,s_range,cond_i = convergence(n,d,layer_widths=layer_widths,nonlin='relu',lr=0.1,verbose=True)\n",
    "    diff_e_av.append(diff_e)\n",
    "    losses_e_av.append(losses_e)\n",
    "    diff_s_av.append(diff_s)\n",
    "    conds.append(cond_i)\n",
    "\n",
    "epoch_sev_avg = torch.tensor(diff_e_av).mean(0); epoch_sev_var = torch.tensor(diff_e_av).var(0)\n",
    "epoch_loss_avg = torch.tensor(losses_e_av).mean(0); epoch_loss_var = torch.tensor(losses_e_av).var(0)\n",
    "s_sev_avg = torch.tensor(diff_s_av).mean(0); s_sev_var = torch.tensor(diff_s_av).var(0)\n",
    "cond_avg = torch.tensor(conds).mean(0)\n",
    "results_dict['relu_double_20'] = {'epoch_sev_avg': epoch_sev_avg,\n",
    "                                  'epoch_sev_var': epoch_sev_var,\n",
    "                                  'epoch_loss_avg': epoch_loss_avg,\n",
    "                                  'epoch_loss_var': epoch_loss_var,\n",
    "                                  's_sev_avg': s_sev_avg,\n",
    "                                  's_sev_var': s_sev_var,\n",
    "                                  'cond_avg': cond_avg,\n",
    "                                  'epoch_range': epochs,\n",
    "                                  's_range': s_range}\n",
    "torch.save(results_dict,'paper/convergence_result_dict.pt')\n",
    "\n",
    "# single-layer, width=80, tanh\n",
    "print(f'single-layer, width=80, tanh')\n",
    "layer_widths = [d,80]\n",
    "\n",
    "diff_e_av = []\n",
    "losses_e_av = []\n",
    "diff_s_av = []\n",
    "conds = []\n",
    "\n",
    "for i in range(samples):\n",
    "    diff_e,losses_e,epochs,diff_s,_,s_range,cond_i = convergence(n,d,layer_widths=layer_widths,nonlin='tanh',lr=1,verbose=True)\n",
    "    diff_e_av.append(diff_e)\n",
    "    losses_e_av.append(losses_e)\n",
    "    diff_s_av.append(diff_s)\n",
    "    conds.append(cond_i)\n",
    "\n",
    "epoch_sev_avg = torch.tensor(diff_e_av).mean(0); epoch_sev_var = torch.tensor(diff_e_av).var(0)\n",
    "epoch_loss_avg = torch.tensor(losses_e_av).mean(0); epoch_loss_var = torch.tensor(losses_e_av).var(0)\n",
    "s_sev_avg = torch.tensor(diff_s_av).mean(0); s_sev_var = torch.tensor(diff_s_av).var(0)\n",
    "cond_avg = torch.tensor(conds).mean(0)\n",
    "results_dict['tanh_single_80'] = {'epoch_sev_avg': epoch_sev_avg,\n",
    "                                  'epoch_sev_var': epoch_sev_var,\n",
    "                                  'epoch_loss_avg': epoch_loss_avg,\n",
    "                                  'epoch_loss_var': epoch_loss_var,\n",
    "                                  's_sev_avg': s_sev_avg,\n",
    "                                  's_sev_var': s_sev_var,\n",
    "                                  'cond_avg': cond_avg,\n",
    "                                  'epoch_range': epochs,\n",
    "                                  's_range': s_range}\n",
    "torch.save(results_dict,'paper/convergence_result_dict.pt')\n",
    "\n"
   ]
  },
  {
   "cell_type": "code",
   "execution_count": 12,
   "metadata": {},
   "outputs": [
    {
     "name": "stderr",
     "output_type": "stream",
     "text": [
      "C:\\Users\\s4531973\\AppData\\Local\\Temp\\ipykernel_23728\\3932160719.py:45: DeprecationWarning: __array_wrap__ must accept context and return_scalar arguments (positionally) in the future. (Deprecated NumPy 2.0)\n",
      "  results_dict[key]['epoch_sev_avg'] - 1.96 * np.sqrt(results_dict[key]['epoch_sev_var']),\n",
      "C:\\Users\\s4531973\\AppData\\Local\\Temp\\ipykernel_23728\\3932160719.py:46: DeprecationWarning: __array_wrap__ must accept context and return_scalar arguments (positionally) in the future. (Deprecated NumPy 2.0)\n",
      "  results_dict[key]['epoch_sev_avg'] + 1.96 * np.sqrt(results_dict[key]['epoch_sev_var']),\n",
      "C:\\Users\\s4531973\\AppData\\Local\\Temp\\ipykernel_23728\\3932160719.py:53: DeprecationWarning: __array_wrap__ must accept context and return_scalar arguments (positionally) in the future. (Deprecated NumPy 2.0)\n",
      "  results_dict[key]['epoch_loss_avg'] - 1.96 * np.sqrt(results_dict[key]['epoch_loss_var']),\n",
      "C:\\Users\\s4531973\\AppData\\Local\\Temp\\ipykernel_23728\\3932160719.py:54: DeprecationWarning: __array_wrap__ must accept context and return_scalar arguments (positionally) in the future. (Deprecated NumPy 2.0)\n",
      "  results_dict[key]['epoch_loss_avg'] + 1.96 * np.sqrt(results_dict[key]['epoch_loss_var']),\n",
      "C:\\Users\\s4531973\\AppData\\Local\\Temp\\ipykernel_23728\\3932160719.py:60: DeprecationWarning: __array_wrap__ must accept context and return_scalar arguments (positionally) in the future. (Deprecated NumPy 2.0)\n",
      "  results_dict[key]['s_sev_avg'] - 1.96 * np.sqrt(results_dict[key]['s_sev_var']),\n",
      "C:\\Users\\s4531973\\AppData\\Local\\Temp\\ipykernel_23728\\3932160719.py:61: DeprecationWarning: __array_wrap__ must accept context and return_scalar arguments (positionally) in the future. (Deprecated NumPy 2.0)\n",
      "  results_dict[key]['s_sev_avg'] + 1.96 * np.sqrt(results_dict[key]['s_sev_var']),\n"
     ]
    },
    {
     "data": {
      "image/png": "[encoded data removed]",
      "text/plain": [
       "<Figure size 600x600 with 3 Axes>"
      ]
     },
     "metadata": {},
     "output_type": "display_data"
    }
   ],
   "source": [
    "import matplotlib.pyplot as plt\n",
    "import numpy as np\n",
    "from matplotlib.pyplot import cm\n",
    "import torch\n",
    "from math import floor,log10\n",
    "\n",
    "results_dict = torch.load('paper/convergence_result_dict.pt')\n",
    "\n",
    "label_dict = {'tanh_single_20': 'Single-layer, width 20, Tanh',\n",
    "              'relu_single_20': 'Single-layer, width 20, ReLU',\n",
    "              'relu_double_20': 'Double-layer, width 20, ReLU',\n",
    "              'tanh_single_80': 'Single-layer, width 100, Tanh'}\n",
    "\n",
    "w, h, fs = 6, 6, 16\n",
    "fig, (ax1,ax2) = plt.subplots(2,1,figsize=(w,h),frameon=True,)\n",
    "# color = cm.rainbow(np.linspace(0, 1, 4))\n",
    "\n",
    "color = plt.cm.viridis(np.linspace(0.2,0.8,4))\n",
    "\n",
    "ax1t = ax1.twinx()\n",
    "ax1.set_ylabel('SEV', fontsize=fs)\n",
    "ax1.set_xlabel('Epochs', fontsize=fs)\n",
    "ax1.tick_params(labelsize=fs)\n",
    "ax1.xaxis.tick_top()\n",
    "ax1.xaxis.set_label_position('top')\n",
    "ax1t.spines['right'].set_visible(True)\n",
    "ax1t.spines['top'].set_visible(True)\n",
    "ax1t.set_ylabel('Loss', fontsize=fs)\n",
    "ax1t.set_xscale('log')\n",
    "ax1t.tick_params(labelsize=fs)\n",
    "ax2.set_ylabel('SEV', fontsize=fs)\n",
    "ax2.set_xlabel('$s$', fontsize=fs)\n",
    "ax2.set_xscale('log')\n",
    "ax2.tick_params(labelsize=fs)\n",
    "\n",
    "for i,key in enumerate(results_dict.keys()):\n",
    "    results_dict[key]['cond_avg'] = min(results_dict[key]['cond_avg'], 1e50)\n",
    "    exponent = int(floor(log10(abs(results_dict[key]['cond_avg']))))\n",
    "    ax1.plot(results_dict[key]['epoch_range'],\n",
    "             results_dict[key]['epoch_sev_avg'],\n",
    "             color=color[i],marker='o',linestyle='dashed',\n",
    "             label=label_dict[key] + f\" ($1e{exponent}$)\"\n",
    "    )\n",
    "    ax1.fill_between(results_dict[key]['epoch_range'],\n",
    "             results_dict[key]['epoch_sev_avg'] - 1.96 * np.sqrt(results_dict[key]['epoch_sev_var']),\n",
    "             results_dict[key]['epoch_sev_avg'] + 1.96 * np.sqrt(results_dict[key]['epoch_sev_var']),\n",
    "             color=color[i],alpha=0.1)\n",
    "    \n",
    "    ax1t.plot(results_dict[key]['epoch_range'],\n",
    "              results_dict[key]['epoch_loss_avg'],\n",
    "              color=color[i],marker='^',linestyle='none')\n",
    "    ax1t.fill_between(results_dict[key]['epoch_range'],\n",
    "             results_dict[key]['epoch_loss_avg'] - 1.96 * np.sqrt(results_dict[key]['epoch_loss_var']),\n",
    "             results_dict[key]['epoch_loss_avg'] + 1.96 * np.sqrt(results_dict[key]['epoch_loss_var']),\n",
    "             color=color[i],alpha=0.1)\n",
    "    \n",
    "    ax2.plot(results_dict[key]['s_range'],\n",
    "             results_dict[key]['s_sev_avg'],color=color[i],marker='o',linestyle='dashed',)\n",
    "    ax2.fill_between(results_dict[key]['s_range'],\n",
    "             results_dict[key]['s_sev_avg'] - 1.96 * np.sqrt(results_dict[key]['s_sev_var']),\n",
    "             results_dict[key]['s_sev_avg'] + 1.96 * np.sqrt(results_dict[key]['s_sev_var']),\n",
    "             color=color[i],alpha=0.1)\n",
    "\n",
    "ax1.legend(fontsize=int(fs * 0.75), frameon=False)\n",
    "# ax2.set_xlim(s_range[0],s_range[-1])\n",
    "fig.tight_layout()\n",
    "plt.subplots_adjust(wspace=0, hspace=0)\n",
    "plt.savefig(fname='paper/convergence.pdf', format='pdf', bbox_inches='tight')"
   ]
  }
 ],
 "metadata": {
  "kernelspec": {
   "display_name": ".venv",
   "language": "python",
   "name": "python3"
  },
  "language_info": {
   "codemirror_mode": {
    "name": "ipython",
    "version": 3
   },
   "file_extension": ".py",
   "mimetype": "text/x-python",
   "name": "python",
   "nbconvert_exporter": "python",
   "pygments_lexer": "ipython3",
   "version": "3.11.9"
  }
 },
 "nbformat": 4,
 "nbformat_minor": 2
}
