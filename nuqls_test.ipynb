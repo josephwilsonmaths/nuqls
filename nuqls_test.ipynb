{
 "cells": [
  {
   "cell_type": "code",
   "execution_count": null,
   "id": "3b95b8f1",
   "metadata": {},
   "outputs": [],
   "source": [
    "import torch\n",
    "from torch.utils.data import Dataset\n",
    "\n",
    "class toy_dataset(Dataset):\n",
    "    def __init__(self,x,y):\n",
    "        self.x = x\n",
    "        self.y = y\n",
    "\n",
    "    def __len__(self):\n",
    "        return self.x.shape[0]\n",
    "\n",
    "    def __getitem__(self, i):\n",
    "        return self.x[i], self.y[i]\n",
    "    \n",
    "class variable_mlp(torch.nn.Module):\n",
    "    def __init__(self,layer_width,nonlin):\n",
    "        super().__init__()\n",
    "        self.layer_width = layer_width\n",
    "        self.linear_layers = torch.nn.ModuleList([torch.nn.Linear(layer_width[i],layer_width[i+1], bias=False) for i in range(len(self.layer_width)-1)])\n",
    "        self.lin_out = torch.nn.Linear(self.layer_width[-1],1, bias=False)\n",
    "        if nonlin=='tanh':\n",
    "            self.act = torch.nn.Tanh()\n",
    "        elif nonlin=='relu':\n",
    "            self.act = torch.nn.ReLU()\n",
    "\n",
    "        for lin in self.linear_layers:\n",
    "            torch.nn.init.normal_(lin.weight, 0, 1)\n",
    "        torch.nn.init.normal_(self.lin_out.weight, 0, 1)\n",
    "\n",
    "    # Return full output of nn\n",
    "    def forward(self,x):\n",
    "        for i, lin in enumerate(self.linear_layers):\n",
    "            x = self.act(lin(x)) / (self.layer_width[i]**0.5)\n",
    "        return self.lin_out(x)"
   ]
  },
  {
   "cell_type": "code",
   "execution_count": 2,
   "id": "397d8762",
   "metadata": {},
   "outputs": [
    {
     "name": "stdout",
     "output_type": "stream",
     "text": [
      "nn loss : 0.8223\n"
     ]
    }
   ],
   "source": [
    "# Train MLP on Gaussian Data\n",
    "\n",
    "n = 1000\n",
    "d = 5\n",
    "d1 = 20\n",
    "layer_widths = [d,d1]\n",
    "\n",
    "X = torch.randn((n,d))\n",
    "Y = torch.randn((n,1))\n",
    "\n",
    "X_test = torch.randn((n,d))\n",
    "\n",
    "net = variable_mlp(layer_width=layer_widths,nonlin='tanh')\n",
    "\n",
    "optimizer = torch.optim.SGD(net.parameters(),lr=0.1,momentum=0.9)\n",
    "loss_fn = torch.nn.MSELoss()\n",
    "for i in range(5000):\n",
    "    optimizer.zero_grad()\n",
    "    pred = net(X)\n",
    "    loss = loss_fn(pred,Y)\n",
    "    loss.backward()\n",
    "    optimizer.step()\n",
    "\n",
    "print(f'nn loss : {loss.item():.4}')"
   ]
  },
  {
   "cell_type": "code",
   "execution_count": 3,
   "id": "672daa07",
   "metadata": {},
   "outputs": [
    {
     "name": "stderr",
     "output_type": "stream",
     "text": [
      "C:\\Users\\s4531973\\AppData\\Local\\Packages\\PythonSoftwareFoundation.Python.3.11_qbz5n2kfra8p0\\LocalCache\\local-packages\\Python311\\site-packages\\torch\\_functorch\\deprecated.py:97: UserWarning: We've integrated functorch into PyTorch. As the final step of the integration, functorch.make_functional is deprecated as of PyTorch 2.0 and will be deleted in a future version of PyTorch >= 2.3. Please use torch.func.functional_call instead; see the PyTorch 2.0 release notes and/or the torch.func migration guide for more details https://pytorch.org/docs/master/func.migrating.html\n",
      "  warn_deprecated('make_functional', 'torch.func.functional_call')\n",
      "100%|██████████| 100/100 [00:04<00:00, 22.46it/s, max_loss=0.884, resid_norm=0.00149, gpu_mem=0]"
     ]
    },
    {
     "name": "stdout",
     "output_type": "stream",
     "text": [
      "Posterior samples computed!\n"
     ]
    },
    {
     "name": "stderr",
     "output_type": "stream",
     "text": [
      "\n"
     ]
    }
   ],
   "source": [
    "# Test NUQLS\n",
    "from importlib import reload\n",
    "import posteriors.nuqlsPosterior.nuqls as nqls; reload(nqls)\n",
    "\n",
    "train = toy_dataset(X, Y)\n",
    "\n",
    "nuqls_posterior = nqls.Nuqls(net, task='regression', full_dataset=False)\n",
    "res = nuqls_posterior.train(train=train, \n",
    "                      train_bs=50, \n",
    "                      scale=0.1, \n",
    "                      S=10, \n",
    "                      epochs=100, \n",
    "                      lr=0.1, \n",
    "                      mu=0.9, \n",
    "                      verbose=True)\n",
    "\n",
    "\n"
   ]
  }
 ],
 "metadata": {
  "kernelspec": {
   "display_name": "Python 3",
   "language": "python",
   "name": "python3"
  },
  "language_info": {
   "codemirror_mode": {
    "name": "ipython",
    "version": 3
   },
   "file_extension": ".py",
   "mimetype": "text/x-python",
   "name": "python",
   "nbconvert_exporter": "python",
   "pygments_lexer": "ipython3",
   "version": "3.11.9"
  }
 },
 "nbformat": 4,
 "nbformat_minor": 5
}
