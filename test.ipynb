{
 "cells": [
  {
   "cell_type": "code",
   "execution_count": 2,
   "id": "7726a767",
   "metadata": {},
   "outputs": [
    {
     "ename": "AttributeError",
     "evalue": "module 'torchvision.datasets' has no attribute 'Imagenette'",
     "output_type": "error",
     "traceback": [
      "\u001b[1;31m---------------------------------------------------------------------------\u001b[0m",
      "\u001b[1;31mAttributeError\u001b[0m                            Traceback (most recent call last)",
      "Cell \u001b[1;32mIn[2], line 4\u001b[0m\n\u001b[0;32m      1\u001b[0m \u001b[38;5;28;01mimport\u001b[39;00m \u001b[38;5;21;01mtorchvision\u001b[39;00m\n\u001b[0;32m      2\u001b[0m \u001b[38;5;28;01mimport\u001b[39;00m \u001b[38;5;21;01mtorch\u001b[39;00m\n\u001b[1;32m----> 4\u001b[0m train_dataset \u001b[38;5;241m=\u001b[39m \u001b[43mtorchvision\u001b[49m\u001b[38;5;241;43m.\u001b[39;49m\u001b[43mdatasets\u001b[49m\u001b[38;5;241;43m.\u001b[39;49m\u001b[43mImagenette\u001b[49m(root\u001b[38;5;241m=\u001b[39m\u001b[38;5;124m'\u001b[39m\u001b[38;5;124m./data/imagenette\u001b[39m\u001b[38;5;124m'\u001b[39m,\n\u001b[0;32m      5\u001b[0m                                                 split \u001b[38;5;241m=\u001b[39m \u001b[38;5;124m'\u001b[39m\u001b[38;5;124mtrain\u001b[39m\u001b[38;5;124m'\u001b[39m,                \n\u001b[0;32m      6\u001b[0m                                                 download \u001b[38;5;241m=\u001b[39m \u001b[38;5;28;01mTrue\u001b[39;00m\n\u001b[0;32m      7\u001b[0m                                                 )\n",
      "File \u001b[1;32m~\\AppData\\Local\\Packages\\PythonSoftwareFoundation.Python.3.11_qbz5n2kfra8p0\\LocalCache\\local-packages\\Python311\\site-packages\\torchvision\\datasets\\__init__.py:145\u001b[0m, in \u001b[0;36m__getattr__\u001b[1;34m(name)\u001b[0m\n\u001b[0;32m    141\u001b[0m     \u001b[38;5;28;01mfrom\u001b[39;00m \u001b[38;5;21;01mtorchvision\u001b[39;00m\u001b[38;5;21;01m.\u001b[39;00m\u001b[38;5;21;01mdatapoints\u001b[39;00m\u001b[38;5;21;01m.\u001b[39;00m\u001b[38;5;21;01m_dataset_wrapper\u001b[39;00m \u001b[38;5;28;01mimport\u001b[39;00m wrap_dataset_for_transforms_v2\n\u001b[0;32m    143\u001b[0m     \u001b[38;5;28;01mreturn\u001b[39;00m wrap_dataset_for_transforms_v2\n\u001b[1;32m--> 145\u001b[0m \u001b[38;5;28;01mraise\u001b[39;00m \u001b[38;5;167;01mAttributeError\u001b[39;00m(\u001b[38;5;124mf\u001b[39m\u001b[38;5;124m\"\u001b[39m\u001b[38;5;124mmodule \u001b[39m\u001b[38;5;132;01m{\u001b[39;00m\u001b[38;5;18m__name__\u001b[39m\u001b[38;5;132;01m!r}\u001b[39;00m\u001b[38;5;124m has no attribute \u001b[39m\u001b[38;5;132;01m{\u001b[39;00mname\u001b[38;5;132;01m!r}\u001b[39;00m\u001b[38;5;124m\"\u001b[39m)\n",
      "\u001b[1;31mAttributeError\u001b[0m: module 'torchvision.datasets' has no attribute 'Imagenette'"
     ]
    }
   ],
   "source": [
    "import torchvision\n",
    "import torch\n",
    "\n",
    "train_dataset = torchvision.datasets.Imagenette(root='./data/imagenette',\n",
    "                                                split = 'train',                \n",
    "                                                download = True\n",
    "                                                )"
   ]
  },
  {
   "cell_type": "code",
   "execution_count": 11,
   "id": "18c51f5e",
   "metadata": {},
   "outputs": [
    {
     "name": "stdout",
     "output_type": "stream",
     "text": [
      "Using downloaded and verified file: ./data/SVHN\\train_32x32.mat\n",
      "Files already downloaded and verified\n"
     ]
    }
   ],
   "source": [
    "import torch\n",
    "from torchvision.transforms import ToTensor\n",
    "\n",
    "train = torchvision.datasets.SVHN(root='./data/SVHN',\n",
    "                          split='train',\n",
    "                          download=True,\n",
    "                          transform=ToTensor())\n",
    "\n",
    "ood_test_data = torchvision.datasets.CIFAR10(\n",
    "        root=\"data/CIFAR10\",\n",
    "        train=False,\n",
    "        download=True,\n",
    "        transform=ToTensor()\n",
    "    ) "
   ]
  },
  {
   "cell_type": "code",
   "execution_count": 8,
   "id": "21532361",
   "metadata": {},
   "outputs": [
    {
     "name": "stdout",
     "output_type": "stream",
     "text": [
      "tensor([1, 9, 2,  ..., 1, 6, 9])\n"
     ]
    }
   ],
   "source": [
    "from utils.metrics import *\n",
    "_,targets = next(iter(DataLoader(train,len(train))))\n",
    "print(targets)"
   ]
  },
  {
   "cell_type": "code",
   "execution_count": 13,
   "id": "185700ae",
   "metadata": {},
   "outputs": [
    {
     "name": "stdout",
     "output_type": "stream",
     "text": [
      "tensor([3, 8, 8,  ..., 5, 1, 7])\n"
     ]
    }
   ],
   "source": [
    "print(torch.tensor(ood_test_data.targets))"
   ]
  },
  {
   "cell_type": "code",
   "execution_count": 2,
   "id": "a7d76f3e",
   "metadata": {},
   "outputs": [
    {
     "data": {
      "text/plain": [
       "tensor([-1.1258e+00, -1.1524e+00, -2.5058e-01, -4.3388e-01,  8.4871e-01,\n",
       "         6.9201e-01, -3.1601e-01, -2.1152e+00,  3.2227e-01, -1.2633e+00,\n",
       "         3.4998e-01,  3.0813e-01,  1.1984e-01,  1.2377e+00,  1.1168e+00,\n",
       "        -2.4728e-01, -1.3527e+00, -1.6959e+00,  5.6665e-01,  7.9351e-01,\n",
       "         5.9884e-01, -1.5551e+00, -3.4136e-01,  1.8530e+00,  7.5019e-01,\n",
       "        -5.8550e-01, -1.7340e-01,  1.8348e-01,  1.3894e+00,  1.5863e+00,\n",
       "         9.4630e-01, -8.4368e-01, -6.1358e-01,  3.1593e-02, -4.9268e-01,\n",
       "         2.4841e-01,  4.3970e-01,  1.1241e-01,  6.4079e-01,  4.4116e-01,\n",
       "        -1.0231e-01,  7.9244e-01, -2.8967e-01,  5.2507e-02,  5.2286e-01,\n",
       "         2.3022e+00, -1.4689e+00, -1.5867e+00, -6.7309e-01,  8.7283e-01,\n",
       "         1.0554e+00,  1.7784e-01, -2.3034e-01, -3.9175e-01,  5.4329e-01,\n",
       "        -3.9516e-01, -4.4622e-01,  7.4402e-01,  1.5210e+00,  3.4105e+00,\n",
       "        -1.5312e+00, -1.2341e+00,  1.8197e+00, -5.5153e-01, -5.6925e-01,\n",
       "         9.1997e-01,  1.1108e+00,  1.2899e+00, -1.4782e+00,  2.5672e+00,\n",
       "        -4.7312e-01,  3.3555e-01, -1.6293e+00, -5.4974e-01, -4.7983e-01,\n",
       "        -4.9968e-01, -1.0670e+00,  1.1149e+00, -1.4067e-01,  8.0575e-01,\n",
       "        -9.3348e-02,  6.8705e-01, -8.3832e-01,  8.9182e-04, -2.6133e+00,\n",
       "        -1.6965e+00, -2.2824e-01,  2.7995e-01,  7.3246e-02,  1.1133e+00,\n",
       "         2.8227e-01,  4.3423e-01,  4.5694e-01, -8.6537e-01,  7.8131e-01,\n",
       "        -9.2679e-01,  2.0642e-01, -3.3345e-01, -4.2883e-01,  2.3292e-01])"
      ]
     },
     "execution_count": 2,
     "metadata": {},
     "output_type": "execute_result"
    }
   ],
   "source": [
    "import torch\n",
    "torch.manual_seed(0)\n",
    "torch.randn(100)"
   ]
  },
  {
   "cell_type": "code",
   "execution_count": 14,
   "id": "5e0449be",
   "metadata": {},
   "outputs": [
    {
     "name": "stdout",
     "output_type": "stream",
     "text": [
      "tensor([3, 8, 8,  ..., 5, 1, 7])\n"
     ]
    }
   ],
   "source": [
    "\n",
    "_,targets = next(iter(DataLoader(ood_test_data,len(ood_test_data))))\n",
    "print(targets)"
   ]
  },
  {
   "cell_type": "code",
   "execution_count": 39,
   "id": "b1bcf274",
   "metadata": {},
   "outputs": [
    {
     "data": {
      "text/plain": [
       "tensor([0.4377, 0.4438, 0.4728])"
      ]
     },
     "execution_count": 39,
     "metadata": {},
     "output_type": "execute_result"
    }
   ],
   "source": [
    "loader = torch.utils.data.DataLoader(train,len(train))\n",
    "train_set,_ = next(iter(loader))\n",
    "\n",
    "train_set.mean((0,2,3))"
   ]
  },
  {
   "cell_type": "code",
   "execution_count": 14,
   "id": "5eec9ed6",
   "metadata": {},
   "outputs": [
    {
     "name": "stdout",
     "output_type": "stream",
     "text": [
      "Downloading https://www.cs.toronto.edu/~kriz/cifar-10-python.tar.gz to ./data/CIFAR10\\cifar-10-python.tar.gz\n"
     ]
    },
    {
     "name": "stderr",
     "output_type": "stream",
     "text": [
      "100%|██████████| 170498071/170498071 [00:13<00:00, 12887125.91it/s]\n"
     ]
    },
    {
     "name": "stdout",
     "output_type": "stream",
     "text": [
      "Extracting ./data/CIFAR10\\cifar-10-python.tar.gz to ./data/CIFAR10\n"
     ]
    }
   ],
   "source": [
    "train = torchvision.datasets.CIFAR10(root='./data/CIFAR10',\n",
    "                          train=True,\n",
    "                          download=True,\n",
    "                          transform=ToTensor())"
   ]
  },
  {
   "cell_type": "code",
   "execution_count": 25,
   "id": "a559b11e",
   "metadata": {},
   "outputs": [],
   "source": [
    "loader = torch.utils.data.DataLoader(train,len(train))\n",
    "train_set,_ = next(iter(loader))"
   ]
  },
  {
   "cell_type": "code",
   "execution_count": 35,
   "id": "626bd493",
   "metadata": {},
   "outputs": [
    {
     "data": {
      "text/plain": [
       "tensor([0.2470, 0.2435, 0.2616])"
      ]
     },
     "execution_count": 35,
     "metadata": {},
     "output_type": "execute_result"
    }
   ],
   "source": [
    "train_set.std((0,2,3))"
   ]
  },
  {
   "cell_type": "code",
   "execution_count": 31,
   "id": "5020ade2",
   "metadata": {},
   "outputs": [
    {
     "name": "stderr",
     "output_type": "stream",
     "text": [
      "GEN 9: 100%|██████████| 10/10 [00:01<00:00,  9.60it/s, loss=0.815, gen=454, str=h, lst=[1, 2]]\n",
      "Batch      4.5\n"
     ]
    }
   ],
   "source": [
    "from tqdm import tqdm, trange\n",
    "from random import random, randint\n",
    "from time import sleep\n",
    "\n",
    "with trange(10) as t:\n",
    "    for i in t:\n",
    "        # Description will be displayed on the left\n",
    "        t.set_description('GEN %i' % i)\n",
    "        # Postfix will be displayed on the right,\n",
    "        # formatted automatically based on argument's datatype\n",
    "        metrics = {'loss': random(),\n",
    "                   'gen': randint(1,999),\n",
    "                   'str': 'h',\n",
    "                   'lst': [1,2]}\n",
    "        t.set_postfix(metrics)\n",
    "        # t.set_postfix(loss=random(), gen=randint(1,999), str='h',\n",
    "        #               lst=[1, 2])\n",
    "        sleep(0.1)\n",
    "\n",
    "with tqdm(total=10, bar_format=\"{postfix[0]} {postfix[1][value]:>8.2g}\",\n",
    "          postfix=[\"Batch\", {\"value\": 0}]) as t:\n",
    "    for i in range(10):\n",
    "        sleep(0.1)\n",
    "        t.postfix[1][\"value\"] = i / 2\n",
    "        t.update()"
   ]
  },
  {
   "cell_type": "code",
   "execution_count": 18,
   "id": "f3c3dc17",
   "metadata": {},
   "outputs": [
    {
     "name": "stderr",
     "output_type": "stream",
     "text": [
      "00:00 in total: 44%|0000.     | 4/9 [00:00<?, ?it/s]\n"
     ]
    }
   ],
   "source": [
    "from tqdm import tqdm\n",
    "class TqdmExtraFormat(tqdm):\n",
    "    \"\"\"Provides a `total_time` format parameter\"\"\"\n",
    "    @property\n",
    "    def format_dict(self):\n",
    "        d = super().format_dict\n",
    "        total_time = d[\"elapsed\"] * (d[\"total\"] or 0) / max(d[\"n\"], 1)\n",
    "        d.update(total_time=self.format_interval(total_time) + \" in total\")\n",
    "        return d\n",
    "\n",
    "for i in TqdmExtraFormat(\n",
    "      range(9), ascii=\" .oO0\",\n",
    "      bar_format=\"{total_time}: {percentage:.0f}%|{bar}{r_bar}\"):\n",
    "    if i == 4:\n",
    "        break"
   ]
  },
  {
   "cell_type": "code",
   "execution_count": 32,
   "id": "1f5b8116",
   "metadata": {},
   "outputs": [
    {
     "name": "stdout",
     "output_type": "stream",
     "text": [
      "0\n",
      "50\n",
      "100\n",
      "150\n",
      "200\n",
      "250\n",
      "300\n",
      "350\n",
      "400\n",
      "450\n"
     ]
    }
   ],
   "source": [
    "epochs = 500\n",
    "\n",
    "t = range(500)\n",
    "\n",
    "for ti in t:\n",
    "    if ti % (epochs // 10) == 0:\n",
    "        print(ti)"
   ]
  }
 ],
 "metadata": {
  "kernelspec": {
   "display_name": "Python 3",
   "language": "python",
   "name": "python3"
  },
  "language_info": {
   "codemirror_mode": {
    "name": "ipython",
    "version": 3
   },
   "file_extension": ".py",
   "mimetype": "text/x-python",
   "name": "python",
   "nbconvert_exporter": "python",
   "pygments_lexer": "ipython3",
   "version": "3.11.9"
  }
 },
 "nbformat": 4,
 "nbformat_minor": 5
}
