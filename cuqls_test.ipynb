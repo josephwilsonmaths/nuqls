{
 "cells": [
  {
   "cell_type": "code",
   "execution_count": 8,
   "id": "c34e36a9",
   "metadata": {},
   "outputs": [
    {
     "name": "stdout",
     "output_type": "stream",
     "text": [
      "len = 5\n"
     ]
    }
   ],
   "source": [
    "import torch\n",
    "from torch import nn\n",
    "\n",
    "class MLPS(nn.Sequential):\n",
    "    def __init__(self, input_size, hidden_sizes, output_size, activation=\"tanh\", flatten=False, bias=True):\n",
    "        super(MLPS, self).__init__()\n",
    "        self.input_size = input_size\n",
    "        self.hidden_sizes = hidden_sizes\n",
    "        self.activation = activation\n",
    "        if output_size is not None:\n",
    "            self.output_size = output_size\n",
    "        else:\n",
    "            self.output_size = 1\n",
    "\n",
    "        # Set activation function\n",
    "        if activation == \"relu\":\n",
    "            act = nn.ReLU\n",
    "        elif activation == \"tanh\":\n",
    "            act = nn.Tanh\n",
    "        else:\n",
    "            raise ValueError('invalid activation')\n",
    "\n",
    "        if flatten:\n",
    "            self.add_module('flatten', nn.Flatten())\n",
    "\n",
    "        if len(hidden_sizes) == 0:\n",
    "            # Linear Model\n",
    "            self.add_module('lin_layer', nn.Linear(self.input_size, self.output_size, bias=bias))\n",
    "        else:\n",
    "            # MLP\n",
    "            in_outs = zip([self.input_size] + hidden_sizes[:-1], hidden_sizes)\n",
    "            for i, (in_size, out_size) in enumerate(in_outs):\n",
    "                self.add_module(f'layer{i+1}', nn.Linear(in_size, out_size, bias=bias))\n",
    "                self.add_module(f'{activation}{i+1}', act())\n",
    "            self.add_module('out_layer', nn.Linear(hidden_sizes[-1], self.output_size, bias=bias))\n",
    "\n",
    "\n",
    "input_dim = 9\n",
    "input_start = 1\n",
    "hidden_sizes = [100,100]\n",
    "\n",
    "map_net = MLPS(input_size=input_dim-input_start, hidden_sizes=hidden_sizes, output_size=1, activation='tanh', flatten=False, bias=True)\n",
    "\n",
    "\n",
    "print(f'len = {len(list(map_net.children()))}')\n",
    "first_layers = list(map_net.children())[:-1]\n",
    "ck = torch.nn.Sequential(*first_layers)\n",
    "\n",
    "llp = list(ck.parameters())[-1].shape[0]"
   ]
  },
  {
   "cell_type": "code",
   "execution_count": 15,
   "id": "c9cfcf2d",
   "metadata": {},
   "outputs": [
    {
     "name": "stdout",
     "output_type": "stream",
     "text": [
      "len = 1\n",
      "final layer width : 50\n"
     ]
    }
   ],
   "source": [
    "## Set up neural network.\n",
    "width = 50\n",
    "\n",
    "class oneLayerMLP(torch.nn.Module):\n",
    "    def __init__(self, width):\n",
    "        super().__init__()\n",
    "        self.output_size = 1\n",
    "        self.net = torch.nn.Sequential(\n",
    "            torch.nn.Linear(1, width),\n",
    "            torch.nn.SiLU(),\n",
    "            torch.nn.Linear(width, 1)\n",
    "        )\n",
    "\n",
    "    def forward(self, x):\n",
    "        output = self.net(x)\n",
    "        return output\n",
    "    \n",
    "\n",
    "## MSE Model\n",
    "map_net = oneLayerMLP(width)\n",
    "\n",
    "print(f'len = {len(list(map_net.children()))}') # if len of children == 1, then the child is a Sequential container, and we need to index it.\n",
    "\n",
    "child_list = list(map_net.children())\n",
    "if len(child_list) > 1:\n",
    "    first_layers = child_list[:-1]\n",
    "elif len(child_list) == 1:\n",
    "    first_layers = child_list[0][:-1]\n",
    "ck = torch.nn.Sequential(*first_layers)\n",
    "\n",
    "llp = list(ck.parameters())[-1].shape[0]\n",
    "print(f'final layer width : {llp}')"
   ]
  },
  {
   "cell_type": "code",
   "execution_count": 13,
   "id": "ded6be9d",
   "metadata": {},
   "outputs": [
    {
     "data": {
      "text/plain": [
       "Sequential(\n",
       "  (0): Linear(in_features=1, out_features=50, bias=True)\n",
       "  (1): SiLU()\n",
       ")"
      ]
     },
     "execution_count": 13,
     "metadata": {},
     "output_type": "execute_result"
    }
   ],
   "source": [
    "list(map_net.children())[0][:-1]"
   ]
  },
  {
   "cell_type": "code",
   "execution_count": 38,
   "id": "635d32b9",
   "metadata": {},
   "outputs": [
    {
     "data": {
      "text/plain": [
       "True"
      ]
     },
     "execution_count": 38,
     "metadata": {},
     "output_type": "execute_result"
    }
   ],
   "source": [
    "len(final_parameters) == 2"
   ]
  },
  {
   "cell_type": "code",
   "execution_count": 4,
   "id": "8bc87432",
   "metadata": {},
   "outputs": [],
   "source": [
    "import models as model\n",
    "import torch\n",
    "from torch import nn\n",
    "from functorch import make_functional, make_functional_with_buffers\n",
    "\n",
    "class LeNet5(nn.Module):\n",
    "    def __init__(self):\n",
    "        super().__init__()\n",
    "        self.net = torch.nn.Sequential(\n",
    "            nn.Conv2d(1, 6, kernel_size=5, padding=2),\n",
    "            nn.Sigmoid(),\n",
    "            nn.AvgPool2d(kernel_size=2, stride=2),\n",
    "            nn.Conv2d(6, 16, kernel_size=5),\n",
    "            nn.Sigmoid(),\n",
    "            nn.AvgPool2d(kernel_size=2, stride=2),\n",
    "            nn.Flatten(),\n",
    "            nn.Linear(16 * 5 * 5, 120),\n",
    "            nn.Sigmoid(),\n",
    "            nn.Linear(120, 84),\n",
    "            nn.Sigmoid(),\n",
    "            nn.Linear(84, 10, bias=False),\n",
    "        )\n",
    "\n",
    "    def forward(self,x):\n",
    "        return self.net(x)"
   ]
  },
  {
   "cell_type": "code",
   "execution_count": 14,
   "id": "4da48f69",
   "metadata": {},
   "outputs": [
    {
     "data": {
      "text/plain": [
       "20480"
      ]
     },
     "execution_count": 14,
     "metadata": {},
     "output_type": "execute_result"
    }
   ],
   "source": [
    "512 * 4* 10"
   ]
  },
  {
   "cell_type": "code",
   "execution_count": null,
   "id": "845b9e8a",
   "metadata": {},
   "outputs": [
    {
     "name": "stdout",
     "output_type": "stream",
     "text": [
      "840\n",
      "final_layer = torch.Size([10, 84])\n",
      "num_output = torch.Size([10, 84])\n"
     ]
    }
   ],
   "source": [
    "network = model.LeNet5()\n",
    "params = tuple(network.parameters())\n",
    "child_list = list(network.children())\n",
    "if len(child_list) > 1:\n",
    "    child_list = child_list\n",
    "elif len(child_list) == 1:\n",
    "    child_list = child_list[0]\n",
    "first_layers = child_list[:-1]\n",
    "final_layer = child_list[-1]\n",
    "llp = list(final_layer.parameters())[0].size().numel()\n",
    "print(llp)\n",
    "print(f'final_layer = {list(final_layer.parameters())[0].shape}')\n",
    "print(f'num_output = {list(final_layer.parameters())[0].shape[0]}')"
   ]
  }
 ],
 "metadata": {
  "kernelspec": {
   "display_name": ".venv",
   "language": "python",
   "name": "python3"
  },
  "language_info": {
   "codemirror_mode": {
    "name": "ipython",
    "version": 3
   },
   "file_extension": ".py",
   "mimetype": "text/x-python",
   "name": "python",
   "nbconvert_exporter": "python",
   "pygments_lexer": "ipython3",
   "version": "3.11.9"
  }
 },
 "nbformat": 4,
 "nbformat_minor": 5
}
