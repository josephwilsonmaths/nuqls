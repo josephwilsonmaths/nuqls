{
 "cells": [
  {
   "cell_type": "code",
   "execution_count": 1,
   "id": "3d273409",
   "metadata": {},
   "outputs": [
    {
     "name": "stdout",
     "output_type": "stream",
     "text": [
      "Using cpu device\n"
     ]
    }
   ],
   "source": [
    "import torch\n",
    "import nuqls.posterior as nqls\n",
    "from scipy.stats import t\n",
    "import torch.nn.functional as F\n",
    "import numpy as np\n",
    "import torch.utils.data as data\n",
    "import torch.optim as optim\n",
    "from scipy.stats import norm\n",
    "from importlib import reload\n",
    "device = (\n",
    "    \"cuda\"\n",
    "    if torch.cuda.is_available()\n",
    "    else \"mps\"\n",
    "    if torch.backends.mps.is_available()\n",
    "    else \"cpu\"\n",
    ")\n",
    "print(f\"Using {device} device\")"
   ]
  },
  {
   "cell_type": "code",
   "execution_count": 31,
   "id": "cc5c4d61",
   "metadata": {},
   "outputs": [],
   "source": [
    "def generate_data(data_dim, data_length, gt_label = False):\n",
    "    x0 = torch.rand(data_length, data_dim) * 0.2\n",
    "    x = torch.sin(x0)\n",
    "    y = torch.sum(x, -1)\n",
    "    if not gt_label:\n",
    "        y += torch.normal(mean=0, std = 0.001, size = y.shape)\n",
    "    return x0, y\n",
    "\n",
    "class ImdbData(data.Dataset):\n",
    "    def __init__(self, X, y):\n",
    "        self.X = X\n",
    "        self.y = y\n",
    "\n",
    "    def __getitem__(self, index):\n",
    "        X = self.X[index]\n",
    "        y = self.y[index]\n",
    "        return X, y\n",
    "\n",
    "    def __len__(self):\n",
    "        return len(self.y)\n",
    "\n",
    "class Net(torch.nn.Module):\n",
    "    def __init__(self, input_channel, hidden_layer):\n",
    "        super(Net, self).__init__()\n",
    "        self.fc1 = torch.nn.Linear(input_channel, hidden_layer)\n",
    "        self.fc2 = torch.nn.Linear(hidden_layer, 1)\n",
    "        self.hidden_layer = hidden_layer\n",
    "\n",
    "\n",
    "    def forward(self, x ):\n",
    "        x = torch.flatten(x, 1)\n",
    "        x = self.fc1(x)\n",
    "        x = F.relu(x)\n",
    "        x = x * np.sqrt(2/self.hidden_layer)\n",
    "        x = self.fc2(x)\n",
    "        return x\n",
    "\n",
    "def weight_init(m):\n",
    "    if isinstance(m, torch.nn.Linear):\n",
    "        torch.nn.init.normal_(m.weight.data, mean=0.0, std=1.0)\n",
    "        torch.nn.init.zeros_(m.bias)\n",
    "\n",
    "def train(model, device, train_loader, optimizer, epoch, epochs):\n",
    "    model.train()\n",
    "    for batch_idx, (data, target) in enumerate(train_loader):\n",
    "        data, target = data.to(device), target.to(device)\n",
    "        optimizer.zero_grad()\n",
    "        output = model(data)\n",
    "        loss_func = torch.nn.MSELoss()\n",
    "        output = torch.reshape(output, target.shape)\n",
    "        loss = loss_func(output, target)\n",
    "        loss.backward()\n",
    "        optimizer.step()\n",
    "\n",
    "    if epoch%500==0 or epoch == epochs:\n",
    "        print('Train Epoch: {} \\tLoss: {:.6f}'.format(\n",
    "            epoch, loss.item()))\n",
    "        \n",
    "    return loss.item()\n",
    "    "
   ]
  },
  {
   "cell_type": "code",
   "execution_count": 32,
   "id": "5bb17287",
   "metadata": {},
   "outputs": [
    {
     "name": "stdout",
     "output_type": "stream",
     "text": [
      "\n",
      "dim: 4, n: 256\n",
      "Training the base model\n",
      "Train Epoch: 500 \tLoss: 0.000052\n",
      "Train Epoch: 1000 \tLoss: 0.000036\n",
      "train_error: 3.644e-05, test error: 0.000276\n"
     ]
    },
    {
     "name": "stderr",
     "output_type": "stream",
     "text": [
      "100%|██████████| 200/200 [00:00<00:00, 540.99it/s, mean_loss=2.29e-5, resid_norm=1.1e-12, gpu_mem=0] \n"
     ]
    },
    {
     "name": "stdout",
     "output_type": "stream",
     "text": [
      "Posterior samples computed!\n",
      "Converged.\n",
      "T_y: 0.399, nuql mean: 0.41, model mean: 0.416, width: 0.0337\n",
      "repeats 0, 95% c_values: 1.00, 90% c_values: 1.00, width: 0.0283, pred: 0.4101\n",
      "Training the base model\n",
      "Train Epoch: 500 \tLoss: 0.000106\n",
      "Train Epoch: 1000 \tLoss: 0.000066\n",
      "train_error: 6.58e-05, test error: 0.0001324\n"
     ]
    },
    {
     "name": "stderr",
     "output_type": "stream",
     "text": [
      "100%|██████████| 200/200 [00:00<00:00, 538.98it/s, mean_loss=3.33e-5, resid_norm=1.98e-12, gpu_mem=0]\n"
     ]
    },
    {
     "name": "stdout",
     "output_type": "stream",
     "text": [
      "Posterior samples computed!\n",
      "Converged.\n",
      "T_y: 0.399, nuql mean: 0.411, model mean: 0.411, width: 0.0138\n",
      "repeats 1, 95% c_values: 0.50, 90% c_values: 0.50, width: 0.0199, pred: 0.4107\n",
      "Training the base model\n",
      "Train Epoch: 500 \tLoss: 0.000068\n",
      "Train Epoch: 1000 \tLoss: 0.000046\n",
      "train_error: 4.593e-05, test error: 7.071e-05\n"
     ]
    },
    {
     "name": "stderr",
     "output_type": "stream",
     "text": [
      "100%|██████████| 200/200 [00:00<00:00, 544.99it/s, mean_loss=2.42e-5, resid_norm=1.11e-12, gpu_mem=0]\n"
     ]
    },
    {
     "name": "stdout",
     "output_type": "stream",
     "text": [
      "Posterior samples computed!\n",
      "Converged.\n",
      "T_y: 0.399, nuql mean: 0.406, model mean: 0.408, width: 0.016\n",
      "repeats 2, 95% c_values: 0.67, 90% c_values: 0.33, width: 0.0178, pred: 0.4092\n",
      "Training the base model\n",
      "Train Epoch: 500 \tLoss: 0.000079\n",
      "Train Epoch: 1000 \tLoss: 0.000050\n",
      "train_error: 5.041e-05, test error: 2.818e-05\n"
     ]
    },
    {
     "name": "stderr",
     "output_type": "stream",
     "text": [
      "100%|██████████| 200/200 [00:00<00:00, 543.58it/s, mean_loss=2.32e-5, resid_norm=1.4e-12, gpu_mem=0] \n"
     ]
    },
    {
     "name": "stdout",
     "output_type": "stream",
     "text": [
      "Posterior samples computed!\n",
      "Converged.\n",
      "T_y: 0.399, nuql mean: 0.402, model mean: 0.405, width: 0.0196\n",
      "repeats 3, 95% c_values: 0.75, 90% c_values: 0.50, width: 0.0174, pred: 0.4074\n",
      "Training the base model\n",
      "Train Epoch: 500 \tLoss: 0.000161\n",
      "Train Epoch: 1000 \tLoss: 0.000287\n",
      "train_error: 0.0002871, test error: 0.0002664\n"
     ]
    },
    {
     "name": "stderr",
     "output_type": "stream",
     "text": [
      "100%|██████████| 200/200 [00:00<00:00, 547.09it/s, mean_loss=1.67e-5, resid_norm=9.74e-13, gpu_mem=0]\n"
     ]
    },
    {
     "name": "stdout",
     "output_type": "stream",
     "text": [
      "Posterior samples computed!\n",
      "Converged.\n",
      "T_y: 0.399, nuql mean: 0.4, model mean: 0.416, width: 0.0111\n",
      "repeats 4, 95% c_values: 0.80, 90% c_values: 0.60, width: 0.0158, pred: 0.4058\n",
      "Training the base model\n",
      "Train Epoch: 500 \tLoss: 0.000061\n",
      "Train Epoch: 1000 \tLoss: 0.000035\n",
      "train_error: 3.484e-05, test error: 2.017e-06\n"
     ]
    },
    {
     "name": "stderr",
     "output_type": "stream",
     "text": [
      "100%|██████████| 200/200 [00:00<00:00, 541.29it/s, mean_loss=2.04e-5, resid_norm=1.14e-12, gpu_mem=0]\n"
     ]
    },
    {
     "name": "stdout",
     "output_type": "stream",
     "text": [
      "Posterior samples computed!\n",
      "Converged.\n",
      "T_y: 0.399, nuql mean: 0.398, model mean: 0.398, width: 0.0325\n",
      "repeats 5, 95% c_values: 0.83, 90% c_values: 0.67, width: 0.0177, pred: 0.4046\n",
      "Training the base model\n",
      "Train Epoch: 500 \tLoss: 0.000069\n",
      "Train Epoch: 1000 \tLoss: 0.000037\n",
      "train_error: 3.7e-05, test error: 2.064e-06\n"
     ]
    },
    {
     "name": "stderr",
     "output_type": "stream",
     "text": [
      "100%|██████████| 200/200 [00:00<00:00, 513.01it/s, mean_loss=2.57e-5, resid_norm=1.13e-12, gpu_mem=0]\n"
     ]
    },
    {
     "name": "stdout",
     "output_type": "stream",
     "text": [
      "Posterior samples computed!\n",
      "Converged.\n",
      "T_y: 0.399, nuql mean: 0.399, model mean: 0.401, width: 0.0153\n",
      "repeats 6, 95% c_values: 0.86, 90% c_values: 0.71, width: 0.0170, pred: 0.4037\n",
      "Training the base model\n",
      "Train Epoch: 500 \tLoss: 0.000111\n",
      "Train Epoch: 1000 \tLoss: 0.000059\n",
      "train_error: 5.893e-05, test error: 0.0001036\n"
     ]
    },
    {
     "name": "stderr",
     "output_type": "stream",
     "text": [
      "100%|██████████| 200/200 [00:00<00:00, 486.29it/s, mean_loss=3.83e-5, resid_norm=2.09e-12, gpu_mem=0]\n"
     ]
    },
    {
     "name": "stdout",
     "output_type": "stream",
     "text": [
      "Posterior samples computed!\n",
      "Converged.\n",
      "T_y: 0.399, nuql mean: 0.408, model mean: 0.41, width: 0.0209\n",
      "repeats 7, 95% c_values: 0.88, 90% c_values: 0.75, width: 0.0171, pred: 0.4042\n",
      "Training the base model\n",
      "Train Epoch: 500 \tLoss: 0.000060\n",
      "Train Epoch: 1000 \tLoss: 0.000044\n",
      "train_error: 4.441e-05, test error: 7.337e-05\n"
     ]
    },
    {
     "name": "stderr",
     "output_type": "stream",
     "text": [
      "100%|██████████| 200/200 [00:00<00:00, 537.86it/s, mean_loss=2.26e-5, resid_norm=1.27e-12, gpu_mem=0]\n"
     ]
    },
    {
     "name": "stdout",
     "output_type": "stream",
     "text": [
      "Posterior samples computed!\n",
      "Converged.\n",
      "T_y: 0.399, nuql mean: 0.406, model mean: 0.408, width: 0.02\n",
      "repeats 8, 95% c_values: 0.89, 90% c_values: 0.78, width: 0.0171, pred: 0.4045\n",
      "Training the base model\n",
      "Train Epoch: 500 \tLoss: 0.000070\n",
      "Train Epoch: 1000 \tLoss: 0.000030\n",
      "train_error: 2.977e-05, test error: 3.989e-05\n"
     ]
    },
    {
     "name": "stderr",
     "output_type": "stream",
     "text": [
      "100%|██████████| 200/200 [00:00<00:00, 505.84it/s, mean_loss=2.22e-5, resid_norm=9.47e-13, gpu_mem=0]\n"
     ]
    },
    {
     "name": "stdout",
     "output_type": "stream",
     "text": [
      "Posterior samples computed!\n",
      "Converged.\n",
      "T_y: 0.399, nuql mean: 0.405, model mean: 0.406, width: 0.0229\n",
      "repeats 9, 95% c_values: 0.90, 90% c_values: 0.80, width: 0.0173, pred: 0.4046\n",
      "Training the base model\n",
      "Train Epoch: 500 \tLoss: 0.000101\n",
      "Train Epoch: 1000 \tLoss: 0.000046\n",
      "train_error: 4.576e-05, test error: 1.827e-05\n"
     ]
    },
    {
     "name": "stderr",
     "output_type": "stream",
     "text": [
      "100%|██████████| 200/200 [00:00<00:00, 546.18it/s, mean_loss=3.34e-5, resid_norm=1.1e-12, gpu_mem=0] \n"
     ]
    },
    {
     "name": "stdout",
     "output_type": "stream",
     "text": [
      "Posterior samples computed!\n",
      "Converged.\n",
      "T_y: 0.399, nuql mean: 0.404, model mean: 0.404, width: 0.0193\n",
      "repeats 10, 95% c_values: 0.91, 90% c_values: 0.82, width: 0.0172, pred: 0.4046\n",
      "Training the base model\n",
      "Train Epoch: 500 \tLoss: 0.000102\n",
      "Train Epoch: 1000 \tLoss: 0.000068\n",
      "train_error: 6.801e-05, test error: 0.0001692\n"
     ]
    },
    {
     "name": "stderr",
     "output_type": "stream",
     "text": [
      "100%|██████████| 200/200 [00:00<00:00, 536.77it/s, mean_loss=3.11e-5, resid_norm=1.67e-12, gpu_mem=0]\n"
     ]
    },
    {
     "name": "stdout",
     "output_type": "stream",
     "text": [
      "Posterior samples computed!\n",
      "Converged.\n",
      "T_y: 0.399, nuql mean: 0.413, model mean: 0.412, width: 0.0324\n",
      "repeats 11, 95% c_values: 0.92, 90% c_values: 0.75, width: 0.0180, pred: 0.4053\n",
      "Training the base model\n",
      "Train Epoch: 500 \tLoss: 0.000062\n",
      "Train Epoch: 1000 \tLoss: 0.000034\n",
      "train_error: 3.358e-05, test error: 0.0001306\n"
     ]
    },
    {
     "name": "stderr",
     "output_type": "stream",
     "text": [
      "100%|██████████| 200/200 [00:00<00:00, 543.70it/s, mean_loss=2.2e-5, resid_norm=8.25e-13, gpu_mem=0] \n"
     ]
    },
    {
     "name": "stdout",
     "output_type": "stream",
     "text": [
      "Posterior samples computed!\n",
      "Converged.\n",
      "T_y: 0.399, nuql mean: 0.406, model mean: 0.411, width: 0.0182\n",
      "repeats 12, 95% c_values: 0.92, 90% c_values: 0.77, width: 0.0178, pred: 0.4054\n",
      "Training the base model\n",
      "Train Epoch: 500 \tLoss: 0.000065\n",
      "Train Epoch: 1000 \tLoss: 0.000038\n",
      "train_error: 3.759e-05, test error: 5.867e-06\n"
     ]
    },
    {
     "name": "stderr",
     "output_type": "stream",
     "text": [
      "100%|██████████| 200/200 [00:00<00:00, 541.46it/s, mean_loss=1.85e-5, resid_norm=9.48e-13, gpu_mem=0]\n"
     ]
    },
    {
     "name": "stdout",
     "output_type": "stream",
     "text": [
      "Posterior samples computed!\n",
      "Converged.\n",
      "T_y: 0.399, nuql mean: 0.398, model mean: 0.402, width: 0.0093\n",
      "repeats 13, 95% c_values: 0.93, 90% c_values: 0.79, width: 0.0171, pred: 0.4049\n",
      "Training the base model\n",
      "Train Epoch: 500 \tLoss: 0.000072\n",
      "Train Epoch: 1000 \tLoss: 0.000059\n",
      "train_error: 5.938e-05, test error: 3.813e-05\n"
     ]
    },
    {
     "name": "stderr",
     "output_type": "stream",
     "text": [
      "100%|██████████| 200/200 [00:00<00:00, 556.84it/s, mean_loss=3.22e-5, resid_norm=1.41e-12, gpu_mem=0]\n"
     ]
    },
    {
     "name": "stdout",
     "output_type": "stream",
     "text": [
      "Posterior samples computed!\n",
      "Converged.\n",
      "T_y: 0.399, nuql mean: 0.409, model mean: 0.406, width: 0.0278\n",
      "repeats 14, 95% c_values: 0.93, 90% c_values: 0.80, width: 0.0175, pred: 0.4051\n",
      "Training the base model\n",
      "Train Epoch: 500 \tLoss: 0.000088\n",
      "Train Epoch: 1000 \tLoss: 0.000048\n",
      "train_error: 4.848e-05, test error: 8.819e-05\n"
     ]
    },
    {
     "name": "stderr",
     "output_type": "stream",
     "text": [
      "100%|██████████| 200/200 [00:00<00:00, 523.10it/s, mean_loss=2.95e-5, resid_norm=1.42e-12, gpu_mem=0]\n"
     ]
    },
    {
     "name": "stdout",
     "output_type": "stream",
     "text": [
      "Posterior samples computed!\n",
      "Converged.\n",
      "T_y: 0.399, nuql mean: 0.41, model mean: 0.409, width: 0.0288\n",
      "repeats 15, 95% c_values: 0.94, 90% c_values: 0.81, width: 0.0179, pred: 0.4054\n",
      "Training the base model\n",
      "Train Epoch: 500 \tLoss: 0.000045\n",
      "Train Epoch: 1000 \tLoss: 0.000024\n",
      "train_error: 2.427e-05, test error: 4.801e-06\n"
     ]
    },
    {
     "name": "stderr",
     "output_type": "stream",
     "text": [
      "100%|██████████| 200/200 [00:00<00:00, 493.78it/s, mean_loss=1.48e-5, resid_norm=6.93e-13, gpu_mem=0]\n"
     ]
    },
    {
     "name": "stdout",
     "output_type": "stream",
     "text": [
      "Posterior samples computed!\n",
      "Converged.\n",
      "T_y: 0.399, nuql mean: 0.402, model mean: 0.402, width: 0.0156\n",
      "repeats 16, 95% c_values: 0.94, 90% c_values: 0.82, width: 0.0176, pred: 0.4052\n",
      "Training the base model\n",
      "Train Epoch: 500 \tLoss: 0.000065\n",
      "Train Epoch: 1000 \tLoss: 0.000037\n",
      "train_error: 3.725e-05, test error: 4.537e-05\n"
     ]
    },
    {
     "name": "stderr",
     "output_type": "stream",
     "text": [
      "100%|██████████| 200/200 [00:00<00:00, 550.52it/s, mean_loss=2.39e-5, resid_norm=9.38e-13, gpu_mem=0]\n"
     ]
    },
    {
     "name": "stdout",
     "output_type": "stream",
     "text": [
      "Posterior samples computed!\n",
      "Converged.\n",
      "T_y: 0.399, nuql mean: 0.392, model mean: 0.393, width: 0.028\n",
      "repeats 17, 95% c_values: 0.94, 90% c_values: 0.83, width: 0.0180, pred: 0.4045\n",
      "Training the base model\n",
      "Train Epoch: 500 \tLoss: 0.000091\n",
      "Train Epoch: 1000 \tLoss: 0.000048\n",
      "train_error: 4.829e-05, test error: 2.225e-05\n"
     ]
    },
    {
     "name": "stderr",
     "output_type": "stream",
     "text": [
      "100%|██████████| 200/200 [00:00<00:00, 550.19it/s, mean_loss=3.09e-5, resid_norm=1.42e-12, gpu_mem=0]\n"
     ]
    },
    {
     "name": "stdout",
     "output_type": "stream",
     "text": [
      "Posterior samples computed!\n",
      "Converged.\n",
      "T_y: 0.399, nuql mean: 0.404, model mean: 0.404, width: 0.0365\n",
      "repeats 18, 95% c_values: 0.95, 90% c_values: 0.84, width: 0.0186, pred: 0.4045\n",
      "Training the base model\n",
      "Train Epoch: 500 \tLoss: 0.000074\n",
      "Train Epoch: 1000 \tLoss: 0.000043\n",
      "train_error: 4.292e-05, test error: 0.0001306\n"
     ]
    },
    {
     "name": "stderr",
     "output_type": "stream",
     "text": [
      "100%|██████████| 200/200 [00:00<00:00, 495.15it/s, mean_loss=2.73e-5, resid_norm=1.63e-12, gpu_mem=0]\n"
     ]
    },
    {
     "name": "stdout",
     "output_type": "stream",
     "text": [
      "Posterior samples computed!\n",
      "Converged.\n",
      "T_y: 0.399, nuql mean: 0.405, model mean: 0.411, width: 0.0151\n",
      "repeats 19, 95% c_values: 0.95, 90% c_values: 0.85, width: 0.0183, pred: 0.4046\n",
      "Training the base model\n",
      "Train Epoch: 500 \tLoss: 0.000074\n",
      "Train Epoch: 1000 \tLoss: 0.000039\n",
      "train_error: 3.888e-05, test error: 0.000107\n"
     ]
    },
    {
     "name": "stderr",
     "output_type": "stream",
     "text": [
      "100%|██████████| 200/200 [00:00<00:00, 547.19it/s, mean_loss=2.35e-5, resid_norm=1.06e-12, gpu_mem=0]\n"
     ]
    },
    {
     "name": "stdout",
     "output_type": "stream",
     "text": [
      "Posterior samples computed!\n",
      "Converged.\n",
      "T_y: 0.399, nuql mean: 0.408, model mean: 0.41, width: 0.0223\n",
      "repeats 20, 95% c_values: 0.95, 90% c_values: 0.86, width: 0.0183, pred: 0.4047\n",
      "Training the base model\n",
      "Train Epoch: 500 \tLoss: 0.000137\n",
      "Train Epoch: 1000 \tLoss: 0.000045\n",
      "train_error: 4.451e-05, test error: 2.019e-05\n"
     ]
    },
    {
     "name": "stderr",
     "output_type": "stream",
     "text": [
      "100%|██████████| 200/200 [00:00<00:00, 541.66it/s, mean_loss=3.37e-5, resid_norm=1.44e-12, gpu_mem=0]\n"
     ]
    },
    {
     "name": "stdout",
     "output_type": "stream",
     "text": [
      "Posterior samples computed!\n",
      "Converged.\n",
      "T_y: 0.399, nuql mean: 0.4, model mean: 0.404, width: 0.0205\n",
      "repeats 21, 95% c_values: 0.95, 90% c_values: 0.86, width: 0.0183, pred: 0.4045\n",
      "Training the base model\n",
      "Train Epoch: 500 \tLoss: 0.000096\n",
      "Train Epoch: 1000 \tLoss: 0.000040\n",
      "train_error: 3.961e-05, test error: 9.147e-06\n"
     ]
    },
    {
     "name": "stderr",
     "output_type": "stream",
     "text": [
      "100%|██████████| 200/200 [00:00<00:00, 545.94it/s, mean_loss=2.71e-5, resid_norm=1.2e-12, gpu_mem=0] \n"
     ]
    },
    {
     "name": "stdout",
     "output_type": "stream",
     "text": [
      "Posterior samples computed!\n",
      "Converged.\n",
      "T_y: 0.399, nuql mean: 0.402, model mean: 0.402, width: 0.0172\n",
      "repeats 22, 95% c_values: 0.96, 90% c_values: 0.87, width: 0.0181, pred: 0.4044\n",
      "Training the base model\n",
      "Train Epoch: 500 \tLoss: 0.000039\n",
      "Train Epoch: 1000 \tLoss: 0.000026\n",
      "train_error: 2.555e-05, test error: 5.132e-07\n"
     ]
    },
    {
     "name": "stderr",
     "output_type": "stream",
     "text": [
      "100%|██████████| 200/200 [00:00<00:00, 549.96it/s, mean_loss=1.52e-5, resid_norm=7.26e-13, gpu_mem=0]\n"
     ]
    },
    {
     "name": "stdout",
     "output_type": "stream",
     "text": [
      "Posterior samples computed!\n",
      "Converged.\n",
      "T_y: 0.399, nuql mean: 0.398, model mean: 0.399, width: 0.0219\n",
      "repeats 23, 95% c_values: 0.96, 90% c_values: 0.88, width: 0.0181, pred: 0.4042\n",
      "Training the base model\n",
      "Train Epoch: 500 \tLoss: 0.000095\n",
      "Train Epoch: 1000 \tLoss: 0.000050\n",
      "train_error: 4.966e-05, test error: 4.132e-05\n"
     ]
    },
    {
     "name": "stderr",
     "output_type": "stream",
     "text": [
      "100%|██████████| 200/200 [00:00<00:00, 489.02it/s, mean_loss=2.41e-5, resid_norm=1.26e-12, gpu_mem=0]\n"
     ]
    },
    {
     "name": "stdout",
     "output_type": "stream",
     "text": [
      "Posterior samples computed!\n",
      "Converged.\n",
      "T_y: 0.399, nuql mean: 0.403, model mean: 0.406, width: 0.0237\n",
      "repeats 24, 95% c_values: 0.96, 90% c_values: 0.88, width: 0.0182, pred: 0.4041\n",
      "Training the base model\n",
      "Train Epoch: 500 \tLoss: 0.000114\n",
      "Train Epoch: 1000 \tLoss: 0.000068\n",
      "train_error: 6.758e-05, test error: 0.0001274\n"
     ]
    },
    {
     "name": "stderr",
     "output_type": "stream",
     "text": [
      "100%|██████████| 200/200 [00:00<00:00, 549.34it/s, mean_loss=3.39e-5, resid_norm=1.86e-12, gpu_mem=0]\n"
     ]
    },
    {
     "name": "stdout",
     "output_type": "stream",
     "text": [
      "Posterior samples computed!\n",
      "Converged.\n",
      "T_y: 0.399, nuql mean: 0.406, model mean: 0.411, width: 0.0169\n",
      "repeats 25, 95% c_values: 0.96, 90% c_values: 0.88, width: 0.0181, pred: 0.4042\n",
      "Training the base model\n",
      "Train Epoch: 500 \tLoss: 0.000063\n",
      "Train Epoch: 1000 \tLoss: 0.000050\n",
      "train_error: 5.005e-05, test error: 5.997e-05\n"
     ]
    },
    {
     "name": "stderr",
     "output_type": "stream",
     "text": [
      "100%|██████████| 200/200 [00:00<00:00, 468.79it/s, mean_loss=1.91e-5, resid_norm=7.54e-13, gpu_mem=0]\n"
     ]
    },
    {
     "name": "stdout",
     "output_type": "stream",
     "text": [
      "Posterior samples computed!\n",
      "Converged.\n",
      "T_y: 0.399, nuql mean: 0.4, model mean: 0.407, width: 0.0341\n",
      "repeats 26, 95% c_values: 0.96, 90% c_values: 0.89, width: 0.0184, pred: 0.4040\n",
      "Training the base model\n",
      "Train Epoch: 500 \tLoss: 0.000107\n",
      "Train Epoch: 1000 \tLoss: 0.000069\n",
      "train_error: 6.869e-05, test error: 5.046e-05\n"
     ]
    },
    {
     "name": "stderr",
     "output_type": "stream",
     "text": [
      "100%|██████████| 200/200 [00:00<00:00, 543.87it/s, mean_loss=3.92e-5, resid_norm=2.09e-12, gpu_mem=0]\n"
     ]
    },
    {
     "name": "stdout",
     "output_type": "stream",
     "text": [
      "Posterior samples computed!\n",
      "Converged.\n",
      "T_y: 0.399, nuql mean: 0.401, model mean: 0.406, width: 0.0281\n",
      "repeats 27, 95% c_values: 0.96, 90% c_values: 0.89, width: 0.0186, pred: 0.4039\n",
      "Training the base model\n",
      "Train Epoch: 500 \tLoss: 0.000054\n",
      "Train Epoch: 1000 \tLoss: 0.000038\n",
      "train_error: 3.808e-05, test error: 2.175e-05\n"
     ]
    },
    {
     "name": "stderr",
     "output_type": "stream",
     "text": [
      "100%|██████████| 200/200 [00:00<00:00, 543.46it/s, mean_loss=2.23e-5, resid_norm=1.13e-12, gpu_mem=0]\n"
     ]
    },
    {
     "name": "stdout",
     "output_type": "stream",
     "text": [
      "Posterior samples computed!\n",
      "Converged.\n",
      "T_y: 0.399, nuql mean: 0.405, model mean: 0.404, width: 0.0246\n",
      "repeats 28, 95% c_values: 0.97, 90% c_values: 0.90, width: 0.0187, pred: 0.4040\n",
      "Training the base model\n",
      "Train Epoch: 500 \tLoss: 0.000077\n",
      "Train Epoch: 1000 \tLoss: 0.000040\n",
      "train_error: 3.953e-05, test error: 0.0001905\n"
     ]
    },
    {
     "name": "stderr",
     "output_type": "stream",
     "text": [
      "100%|██████████| 200/200 [00:00<00:00, 487.97it/s, mean_loss=2.67e-5, resid_norm=1.37e-12, gpu_mem=0]\n"
     ]
    },
    {
     "name": "stdout",
     "output_type": "stream",
     "text": [
      "Posterior samples computed!\n",
      "Converged.\n",
      "T_y: 0.399, nuql mean: 0.409, model mean: 0.413, width: 0.0253\n",
      "repeats 29, 95% c_values: 0.97, 90% c_values: 0.90, width: 0.0188, pred: 0.4041\n",
      "Training the base model\n",
      "Train Epoch: 500 \tLoss: 0.000103\n",
      "Train Epoch: 1000 \tLoss: 0.000039\n",
      "train_error: 3.9e-05, test error: 0.0001916\n"
     ]
    },
    {
     "name": "stderr",
     "output_type": "stream",
     "text": [
      "100%|██████████| 200/200 [00:00<00:00, 545.06it/s, mean_loss=2.62e-5, resid_norm=1.04e-12, gpu_mem=0]\n"
     ]
    },
    {
     "name": "stdout",
     "output_type": "stream",
     "text": [
      "Posterior samples computed!\n",
      "Converged.\n",
      "T_y: 0.399, nuql mean: 0.41, model mean: 0.413, width: 0.0296\n",
      "repeats 30, 95% c_values: 0.97, 90% c_values: 0.90, width: 0.0190, pred: 0.4043\n",
      "Training the base model\n",
      "Train Epoch: 500 \tLoss: 0.000078\n",
      "Train Epoch: 1000 \tLoss: 0.000040\n",
      "train_error: 4.02e-05, test error: 0.0001084\n"
     ]
    },
    {
     "name": "stderr",
     "output_type": "stream",
     "text": [
      "100%|██████████| 200/200 [00:00<00:00, 552.81it/s, mean_loss=2.5e-5, resid_norm=1.28e-12, gpu_mem=0] \n"
     ]
    },
    {
     "name": "stdout",
     "output_type": "stream",
     "text": [
      "Posterior samples computed!\n",
      "Converged.\n",
      "T_y: 0.399, nuql mean: 0.408, model mean: 0.41, width: 0.0271\n",
      "repeats 31, 95% c_values: 0.97, 90% c_values: 0.91, width: 0.0191, pred: 0.4044\n",
      "Training the base model\n",
      "Train Epoch: 500 \tLoss: 0.000123\n",
      "Train Epoch: 1000 \tLoss: 0.000069\n",
      "train_error: 6.932e-05, test error: 3.71e-06\n"
     ]
    },
    {
     "name": "stderr",
     "output_type": "stream",
     "text": [
      "100%|██████████| 200/200 [00:00<00:00, 551.59it/s, mean_loss=3.39e-5, resid_norm=2.17e-12, gpu_mem=0]\n"
     ]
    },
    {
     "name": "stdout",
     "output_type": "stream",
     "text": [
      "Posterior samples computed!\n",
      "Converged.\n",
      "T_y: 0.399, nuql mean: 0.402, model mean: 0.401, width: 0.0213\n",
      "repeats 32, 95% c_values: 0.97, 90% c_values: 0.91, width: 0.0191, pred: 0.4044\n",
      "Training the base model\n",
      "Train Epoch: 500 \tLoss: 0.000095\n",
      "Train Epoch: 1000 \tLoss: 0.000061\n",
      "train_error: 6.11e-05, test error: 3.01e-08\n"
     ]
    },
    {
     "name": "stderr",
     "output_type": "stream",
     "text": [
      "100%|██████████| 200/200 [00:00<00:00, 509.44it/s, mean_loss=3.54e-5, resid_norm=1.97e-12, gpu_mem=0]\n"
     ]
    },
    {
     "name": "stdout",
     "output_type": "stream",
     "text": [
      "Posterior samples computed!\n",
      "Converged.\n",
      "T_y: 0.399, nuql mean: 0.396, model mean: 0.399, width: 0.00749\n",
      "repeats 33, 95% c_values: 0.97, 90% c_values: 0.91, width: 0.0187, pred: 0.4041\n",
      "Training the base model\n",
      "Train Epoch: 500 \tLoss: 0.000095\n",
      "Train Epoch: 1000 \tLoss: 0.000046\n",
      "train_error: 4.642e-05, test error: 1.71e-05\n"
     ]
    },
    {
     "name": "stderr",
     "output_type": "stream",
     "text": [
      "100%|██████████| 200/200 [00:00<00:00, 548.89it/s, mean_loss=2.46e-5, resid_norm=1.27e-12, gpu_mem=0]\n"
     ]
    },
    {
     "name": "stdout",
     "output_type": "stream",
     "text": [
      "Posterior samples computed!\n",
      "Converged.\n",
      "T_y: 0.399, nuql mean: 0.4, model mean: 0.403, width: 0.0148\n",
      "repeats 34, 95% c_values: 0.97, 90% c_values: 0.91, width: 0.0185, pred: 0.4040\n",
      "Training the base model\n",
      "Train Epoch: 500 \tLoss: 0.000087\n",
      "Train Epoch: 1000 \tLoss: 0.000034\n",
      "train_error: 3.394e-05, test error: 4.468e-05\n"
     ]
    },
    {
     "name": "stderr",
     "output_type": "stream",
     "text": [
      "100%|██████████| 200/200 [00:00<00:00, 551.79it/s, mean_loss=2.05e-5, resid_norm=1.09e-12, gpu_mem=0]\n"
     ]
    },
    {
     "name": "stdout",
     "output_type": "stream",
     "text": [
      "Posterior samples computed!\n",
      "Converged.\n",
      "T_y: 0.399, nuql mean: 0.405, model mean: 0.406, width: 0.0233\n",
      "repeats 35, 95% c_values: 0.97, 90% c_values: 0.92, width: 0.0185, pred: 0.4040\n",
      "Training the base model\n",
      "Train Epoch: 500 \tLoss: 0.000064\n",
      "Train Epoch: 1000 \tLoss: 0.000035\n",
      "train_error: 3.505e-05, test error: 6.354e-07\n"
     ]
    },
    {
     "name": "stderr",
     "output_type": "stream",
     "text": [
      "100%|██████████| 200/200 [00:00<00:00, 496.04it/s, mean_loss=1.86e-5, resid_norm=1.02e-12, gpu_mem=0]\n"
     ]
    },
    {
     "name": "stdout",
     "output_type": "stream",
     "text": [
      "Posterior samples computed!\n",
      "Converged.\n",
      "T_y: 0.399, nuql mean: 0.397, model mean: 0.399, width: 0.0174\n",
      "repeats 36, 95% c_values: 0.97, 90% c_values: 0.92, width: 0.0184, pred: 0.4039\n",
      "Training the base model\n",
      "Train Epoch: 500 \tLoss: 0.000123\n",
      "Train Epoch: 1000 \tLoss: 0.000074\n",
      "train_error: 7.399e-05, test error: 1.912e-05\n"
     ]
    },
    {
     "name": "stderr",
     "output_type": "stream",
     "text": [
      "100%|██████████| 200/200 [00:00<00:00, 537.39it/s, mean_loss=4.16e-5, resid_norm=2.05e-12, gpu_mem=0]\n"
     ]
    },
    {
     "name": "stdout",
     "output_type": "stream",
     "text": [
      "Posterior samples computed!\n",
      "Converged.\n",
      "T_y: 0.399, nuql mean: 0.404, model mean: 0.404, width: 0.0143\n",
      "repeats 37, 95% c_values: 0.97, 90% c_values: 0.92, width: 0.0183, pred: 0.4039\n",
      "Training the base model\n",
      "Train Epoch: 500 \tLoss: 0.000085\n",
      "Train Epoch: 1000 \tLoss: 0.000056\n",
      "train_error: 5.595e-05, test error: 3.244e-05\n"
     ]
    },
    {
     "name": "stderr",
     "output_type": "stream",
     "text": [
      "100%|██████████| 200/200 [00:00<00:00, 544.26it/s, mean_loss=3.23e-5, resid_norm=1.43e-12, gpu_mem=0]\n"
     ]
    },
    {
     "name": "stdout",
     "output_type": "stream",
     "text": [
      "Posterior samples computed!\n",
      "Converged.\n",
      "T_y: 0.399, nuql mean: 0.402, model mean: 0.405, width: 0.0214\n",
      "repeats 38, 95% c_values: 0.97, 90% c_values: 0.92, width: 0.0183, pred: 0.4038\n",
      "Training the base model\n",
      "Train Epoch: 500 \tLoss: 0.000100\n",
      "Train Epoch: 1000 \tLoss: 0.000054\n",
      "train_error: 5.378e-05, test error: 0.0001139\n"
     ]
    },
    {
     "name": "stderr",
     "output_type": "stream",
     "text": [
      "100%|██████████| 200/200 [00:00<00:00, 552.58it/s, mean_loss=2.96e-5, resid_norm=1.41e-12, gpu_mem=0]\n"
     ]
    },
    {
     "name": "stdout",
     "output_type": "stream",
     "text": [
      "Posterior samples computed!\n",
      "Converged.\n",
      "T_y: 0.399, nuql mean: 0.41, model mean: 0.41, width: 0.0292\n",
      "repeats 39, 95% c_values: 0.97, 90% c_values: 0.93, width: 0.0184, pred: 0.4040\n",
      "Training the base model\n",
      "Train Epoch: 500 \tLoss: 0.000059\n",
      "Train Epoch: 1000 \tLoss: 0.000032\n",
      "train_error: 3.236e-05, test error: 0.0001352\n"
     ]
    },
    {
     "name": "stderr",
     "output_type": "stream",
     "text": [
      "100%|██████████| 200/200 [00:00<00:00, 548.91it/s, mean_loss=1.94e-5, resid_norm=9.09e-13, gpu_mem=0]\n"
     ]
    },
    {
     "name": "stdout",
     "output_type": "stream",
     "text": [
      "Posterior samples computed!\n",
      "Converged.\n",
      "T_y: 0.399, nuql mean: 0.407, model mean: 0.411, width: 0.0305\n",
      "repeats 40, 95% c_values: 0.98, 90% c_values: 0.93, width: 0.0186, pred: 0.4041\n",
      "Training the base model\n",
      "Train Epoch: 500 \tLoss: 0.000052\n",
      "Train Epoch: 1000 \tLoss: 0.000031\n",
      "train_error: 3.14e-05, test error: 2.523e-05\n"
     ]
    },
    {
     "name": "stderr",
     "output_type": "stream",
     "text": [
      "100%|██████████| 200/200 [00:00<00:00, 517.26it/s, mean_loss=1.98e-5, resid_norm=1.13e-12, gpu_mem=0]\n"
     ]
    },
    {
     "name": "stdout",
     "output_type": "stream",
     "text": [
      "Posterior samples computed!\n",
      "Converged.\n",
      "T_y: 0.399, nuql mean: 0.393, model mean: 0.394, width: 0.0136\n",
      "repeats 41, 95% c_values: 0.98, 90% c_values: 0.90, width: 0.0184, pred: 0.4038\n",
      "Training the base model\n",
      "Train Epoch: 500 \tLoss: 0.000064\n",
      "Train Epoch: 1000 \tLoss: 0.000036\n",
      "train_error: 3.56e-05, test error: 0.0001005\n"
     ]
    },
    {
     "name": "stderr",
     "output_type": "stream",
     "text": [
      "100%|██████████| 200/200 [00:00<00:00, 523.46it/s, mean_loss=1.89e-5, resid_norm=9.75e-13, gpu_mem=0]\n"
     ]
    },
    {
     "name": "stdout",
     "output_type": "stream",
     "text": [
      "Posterior samples computed!\n",
      "Converged.\n",
      "T_y: 0.399, nuql mean: 0.405, model mean: 0.409, width: 0.0383\n",
      "repeats 42, 95% c_values: 0.98, 90% c_values: 0.91, width: 0.0187, pred: 0.4038\n",
      "Training the base model\n",
      "Train Epoch: 500 \tLoss: 0.000064\n",
      "Train Epoch: 1000 \tLoss: 0.000030\n",
      "train_error: 2.978e-05, test error: 8.282e-08\n"
     ]
    },
    {
     "name": "stderr",
     "output_type": "stream",
     "text": [
      "100%|██████████| 200/200 [00:00<00:00, 456.68it/s, mean_loss=1.73e-5, resid_norm=1.01e-12, gpu_mem=0]\n"
     ]
    },
    {
     "name": "stdout",
     "output_type": "stream",
     "text": [
      "Posterior samples computed!\n",
      "Converged.\n",
      "T_y: 0.399, nuql mean: 0.402, model mean: 0.399, width: 0.014\n",
      "repeats 43, 95% c_values: 0.98, 90% c_values: 0.91, width: 0.0186, pred: 0.4038\n",
      "Training the base model\n",
      "Train Epoch: 500 \tLoss: 0.000133\n",
      "Train Epoch: 1000 \tLoss: 0.000337\n",
      "train_error: 0.0003374, test error: 6.489e-05\n"
     ]
    },
    {
     "name": "stderr",
     "output_type": "stream",
     "text": [
      "100%|██████████| 200/200 [00:00<00:00, 542.10it/s, mean_loss=2.78e-5, resid_norm=1.61e-12, gpu_mem=0]\n"
     ]
    },
    {
     "name": "stdout",
     "output_type": "stream",
     "text": [
      "Posterior samples computed!\n",
      "Converged.\n",
      "T_y: 0.399, nuql mean: 0.407, model mean: 0.391, width: 0.0249\n",
      "repeats 44, 95% c_values: 0.98, 90% c_values: 0.91, width: 0.0186, pred: 0.4039\n",
      "Training the base model\n",
      "Train Epoch: 500 \tLoss: 0.000059\n",
      "Train Epoch: 1000 \tLoss: 0.000024\n",
      "train_error: 2.391e-05, test error: 6.026e-06\n"
     ]
    },
    {
     "name": "stderr",
     "output_type": "stream",
     "text": [
      "100%|██████████| 200/200 [00:00<00:00, 526.52it/s, mean_loss=1.52e-5, resid_norm=8.84e-13, gpu_mem=0]\n"
     ]
    },
    {
     "name": "stdout",
     "output_type": "stream",
     "text": [
      "Posterior samples computed!\n",
      "Converged.\n",
      "T_y: 0.399, nuql mean: 0.396, model mean: 0.397, width: 0.00871\n",
      "repeats 45, 95% c_values: 0.98, 90% c_values: 0.91, width: 0.0184, pred: 0.4037\n",
      "Training the base model\n",
      "Train Epoch: 500 \tLoss: 0.000051\n",
      "Train Epoch: 1000 \tLoss: 0.000029\n",
      "train_error: 2.932e-05, test error: 2.585e-05\n"
     ]
    },
    {
     "name": "stderr",
     "output_type": "stream",
     "text": [
      "100%|██████████| 200/200 [00:00<00:00, 554.23it/s, mean_loss=1.93e-5, resid_norm=8.83e-13, gpu_mem=0]\n"
     ]
    },
    {
     "name": "stdout",
     "output_type": "stream",
     "text": [
      "Posterior samples computed!\n",
      "Converged.\n",
      "T_y: 0.399, nuql mean: 0.394, model mean: 0.394, width: 0.0205\n",
      "repeats 46, 95% c_values: 0.98, 90% c_values: 0.91, width: 0.0184, pred: 0.4035\n",
      "Training the base model\n",
      "Train Epoch: 500 \tLoss: 0.000072\n",
      "Train Epoch: 1000 \tLoss: 0.000048\n",
      "train_error: 4.795e-05, test error: 2.21e-05\n"
     ]
    },
    {
     "name": "stderr",
     "output_type": "stream",
     "text": [
      "100%|██████████| 200/200 [00:00<00:00, 541.08it/s, mean_loss=2.79e-5, resid_norm=1.49e-12, gpu_mem=0]\n"
     ]
    },
    {
     "name": "stdout",
     "output_type": "stream",
     "text": [
      "Posterior samples computed!\n",
      "Converged.\n",
      "T_y: 0.399, nuql mean: 0.402, model mean: 0.404, width: 0.0149\n",
      "repeats 47, 95% c_values: 0.98, 90% c_values: 0.92, width: 0.0182, pred: 0.4034\n",
      "Training the base model\n",
      "Train Epoch: 500 \tLoss: 0.000044\n",
      "Train Epoch: 1000 \tLoss: 0.000043\n",
      "train_error: 4.282e-05, test error: 2.199e-05\n"
     ]
    },
    {
     "name": "stderr",
     "output_type": "stream",
     "text": [
      "100%|██████████| 200/200 [00:00<00:00, 541.18it/s, mean_loss=2.17e-5, resid_norm=1.11e-12, gpu_mem=0]\n"
     ]
    },
    {
     "name": "stdout",
     "output_type": "stream",
     "text": [
      "Posterior samples computed!\n",
      "Converged.\n",
      "T_y: 0.399, nuql mean: 0.399, model mean: 0.404, width: 0.00895\n",
      "repeats 48, 95% c_values: 0.98, 90% c_values: 0.92, width: 0.0180, pred: 0.4034\n",
      "Training the base model\n",
      "Train Epoch: 500 \tLoss: 0.000101\n",
      "Train Epoch: 1000 \tLoss: 0.000049\n",
      "train_error: 4.933e-05, test error: 4.32e-06\n"
     ]
    },
    {
     "name": "stderr",
     "output_type": "stream",
     "text": [
      "100%|██████████| 200/200 [00:00<00:00, 541.30it/s, mean_loss=2.55e-5, resid_norm=1.34e-12, gpu_mem=0]\n"
     ]
    },
    {
     "name": "stdout",
     "output_type": "stream",
     "text": [
      "Posterior samples computed!\n",
      "Converged.\n",
      "T_y: 0.399, nuql mean: 0.398, model mean: 0.397, width: 0.0171\n",
      "repeats 49, 95% c_values: 0.98, 90% c_values: 0.92, width: 0.0179, pred: 0.4033\n",
      "95% c_values: 0.98, width: 0.0214, 90% c_values: 0.92 width: 0.0179, pred: 0.4033\n"
     ]
    }
   ],
   "source": [
    "reload(nqls)\n",
    "data_dim_array = [4]\n",
    "data_length_array = [256]\n",
    "lr = 5e-1\n",
    "wd = 1e-10\n",
    "batch_size = 128 \n",
    "epochs = 1000\n",
    "save_model = False\n",
    "\n",
    "for data_dim, data_length in [(x, y) for x in data_dim_array for y in data_length_array]:\n",
    "    print(f'\\ndim: {data_dim}, n: {data_length}')\n",
    "    cl = 0.05\n",
    "    ci = 0.95\n",
    "    ci2 = 0.9\n",
    "    repeats = 50\n",
    "\n",
    "    T_POINT = torch.ones(1,data_dim) * 0.1\n",
    "    T_y = torch.sin(T_POINT)\n",
    "    T_y = torch.sum(T_y, -1)\n",
    "    T_POINT = T_POINT\n",
    "\n",
    "    N_boot = 4\n",
    "    # q1 = t.ppf(q = cl/2, df = 4, loc=0, scale=1)\n",
    "    q1 = norm.ppf((1+ci)/2)\n",
    "    # q2 = t.ppf(q = cl, df = 4, loc=0, scale=1)\n",
    "    q2 = norm.ppf((1+ci2)/2)\n",
    "    c_boot1, c_boot2 = 0, 0\n",
    "    width_boot1, width_boot2 = 0, 0\n",
    "    pred_boot = 0\n",
    "    std_bootstrap_list = []\n",
    "    mean_bootstrap_list = []\n",
    "\n",
    "    for repeat in range(repeats):\n",
    "        # generate the dataset\n",
    "        # split the dataset into two part, A and B.\n",
    "        X_train, y_train = generate_data(data_dim = data_dim, data_length = data_length)\n",
    "\n",
    "        # generate dataset A\n",
    "        A_start_index, A_end_index = 0, data_length\n",
    "        A_set_index = list(range(A_start_index, A_end_index))\n",
    "        X_Aset, Y_Aset = X_train[A_set_index], y_train[A_set_index]\n",
    "\n",
    "        # get the initial network\n",
    "        model0 = Net(input_channel = X_train.shape[-1], hidden_layer=data_length)\n",
    "        model0.apply(weight_init)\n",
    "        optimizer = optim.SGD(model0.parameters(), lr=lr, weight_decay=wd)\n",
    "        PATH_ini = 'model0_initial.pth'\n",
    "        torch.save(model0.state_dict(),PATH_ini)\n",
    "\n",
    "        # train base models\n",
    "        l = torch.nn.MSELoss()\n",
    "        print('Training the base model')\n",
    "        A_data_base = ImdbData(X_Aset, Y_Aset)\n",
    "        A_loader_base = torch.utils.data.DataLoader(dataset=A_data_base,\n",
    "                                                    batch_size=batch_size,\n",
    "                                                    shuffle=True)\n",
    "        for epoch in range(1, epochs + 1):\n",
    "            tl = train(model0, device, A_loader_base, optimizer, epoch, epochs)\n",
    "        print(f'train_error: {tl:.4}, test error: {l(model0(T_POINT),T_y).item():.4}')\n",
    "        if save_model:\n",
    "            PATH_final = 'model0_final.pth'\n",
    "            torch.save(model0.state_dict(), PATH_final)\n",
    "\n",
    "        # Create validation set\n",
    "        X_val, y_val = generate_data(data_dim = data_dim, data_length = data_length)\n",
    "        A_start_index, A_end_index = 0, data_length\n",
    "        A_set_index = list(range(A_start_index, A_end_index))\n",
    "        X_Aset, Y_Aset = X_val[A_set_index], y_val[A_set_index]\n",
    "        val_set = ImdbData(X_Aset, Y_Aset)\n",
    "\n",
    "        nuqls_posterior = nqls.Nuqls(model0, task='regression', full_dataset=True)\n",
    "        # for epochs in torch.arange(50,400,50):\n",
    "        #     res = nuqls_posterior.train(train=A_data_base, \n",
    "        #                         scale=1e-2, \n",
    "        #                         S=10, \n",
    "        #                         epochs=int(epochs.item()), \n",
    "        #                         lr=1, \n",
    "        #                         mu=0.9, \n",
    "        #                         verbose=True)\n",
    "        #     print(f'test error: {l(nuqls_posterior.eval(T_POINT).mean(),T_y).item()}')\n",
    "        # nuqls_posterior.HyperparameterTuning(validation=val_set, left=0.01, right=100, its=100, verbose=False)\n",
    "\n",
    "        res = nuqls_posterior.train(train=A_data_base, \n",
    "                                scale=1e-2, \n",
    "                                S=10, \n",
    "                                epochs=200, \n",
    "                                lr=1, \n",
    "                                mu=0.9, \n",
    "                                verbose=True)\n",
    "        \n",
    "        nuqls_posterior.HyperparameterTuning(validation=val_set, left=0.01, right=100, its=200, verbose=False)\n",
    "        \n",
    "        pred = nuqls_posterior.eval(T_POINT)\n",
    "        # mean_boot, std_boot = pred.mean(), pred.std()\n",
    "        # width_boot1_scale = q1 * std_boot *2\n",
    "        # scale = desired_width / width_boot1_scale\n",
    "\n",
    "        scaled_pred = pred * (nuqls_posterior.scale_cal)\n",
    "        mean_boot, std_boot = pred.mean(), scaled_pred.std()\n",
    "        std_bootstrap_list.append(std_boot)\n",
    "        mean_bootstrap_list.append(mean_boot)\n",
    "\n",
    "        width_boot1 += q1 * std_boot *2\n",
    "        width_boot2 += q2 * std_boot *2\n",
    "        pred_boot += mean_boot\n",
    "        if T_y >= mean_boot - std_boot * q1 and T_y <= mean_boot + std_boot * q1:\n",
    "            c_boot1 += 1\n",
    "        if T_y >= mean_boot - std_boot * q2 and T_y <= mean_boot + std_boot * q2:\n",
    "            c_boot2 += 1\n",
    "\n",
    "        # print(f'T_y: {T_y.item():.3}, mean: {mean_boot.item():.3}, MAP mean: {model0(T_POINT).item():.3}, ci: ({(mean_boot - std_boot * q1):.3},{(mean_boot + std_boot * q1):.3})')\n",
    "        print(f'T_y: {T_y.item():.3}, nuql mean: {mean_boot.item():.3}, model mean: {model0(T_POINT).item():.3}, width: {(2* std_boot * q1):.3}')\n",
    "\n",
    "        print('repeats {}, 95% c_values: {:.2f}, 90% c_values: {:.2f}, width: {:.4f}, pred: {:.4f}' \n",
    "            .format(repeat, c_boot1/len(std_bootstrap_list), c_boot2/len(std_bootstrap_list), width_boot2/len(std_bootstrap_list), pred_boot/len(std_bootstrap_list)))\n",
    "        \n",
    "    print('95% c_values: {}, width: {:.4f}, 90% c_values: {} width: {:.4f}, pred: {:.4f}' \n",
    "        .format(c_boot1/repeats, width_boot1/repeats, \n",
    "        c_boot2/repeats, width_boot2/repeats, pred_boot/repeats))\n",
    "\n"
   ]
  },
  {
   "cell_type": "code",
   "execution_count": null,
   "id": "9853e108",
   "metadata": {},
   "outputs": [
    {
     "data": {
      "text/plain": [
       "tensor([0.7987])"
      ]
     },
     "execution_count": 5,
     "metadata": {},
     "output_type": "execute_result"
    }
   ],
   "source": [
    "\n",
    "dim: 8, n: 128\n",
    "Training the base model\n",
    "Train Epoch: 500 \tLoss: 0.006802\n",
    "Train Epoch: 1000 \tLoss: 0.002597\n",
    "Train Epoch: 1500 \tLoss: 0.001516\n",
    "Train Epoch: 2000 \tLoss: 0.001043\n",
    "Train Epoch: 2500 \tLoss: 0.000766\n",
    "Train Epoch: 3000 \tLoss: 0.000585\n",
    "Train Epoch: 3500 \tLoss: 0.000459\n",
    "Train Epoch: 4000 \tLoss: 0.000368\n",
    "Train Epoch: 4500 \tLoss: 0.000302\n",
    "Train Epoch: 5000 \tLoss: 0.000251\n",
    "Train Epoch: 5500 \tLoss: 0.000212\n",
    "Train Epoch: 6000 \tLoss: 0.000182\n",
    "Train Epoch: 6500 \tLoss: 0.000157\n",
    "Train Epoch: 7000 \tLoss: 0.000138\n",
    "Train Epoch: 7500 \tLoss: 0.000121\n",
    "Train Epoch: 8000 \tLoss: 0.000107\n",
    "Train Epoch: 8500 \tLoss: 0.000096\n",
    "Train Epoch: 9000 \tLoss: 0.000086\n",
    "Train Epoch: 9500 \tLoss: 0.000077\n",
    "Train Epoch: 10000 \tLoss: 0.000070\n",
    "Train Epoch: 10500 \tLoss: 0.000063\n",
    "Train Epoch: 11000 \tLoss: 0.000057\n",
    "Train Epoch: 11500 \tLoss: 0.000053\n",
    "Train Epoch: 12000 \tLoss: 0.000048\n",
    "Train Epoch: 12500 \tLoss: 0.000044\n",
    "Train Epoch: 13000 \tLoss: 0.000041\n",
    "Train Epoch: 13500 \tLoss: 0.000038\n",
    "Train Epoch: 14000 \tLoss: 0.000035\n",
    "Train Epoch: 14500 \tLoss: 0.000033\n",
    "Train Epoch: 15000 \tLoss: 0.000030\n",
    "Train Epoch: 15500 \tLoss: 0.000028\n",
    "Train Epoch: 16000 \tLoss: 0.000026\n",
    "Train Epoch: 16500 \tLoss: 0.000024\n",
    "Train Epoch: 17000 \tLoss: 0.000023\n",
    "Train Epoch: 17500 \tLoss: 0.000021\n",
    "Train Epoch: 18000 \tLoss: 0.000020\n",
    "Train Epoch: 18500 \tLoss: 0.000019\n",
    "Train Epoch: 19000 \tLoss: 0.000017\n",
    "Train Epoch: 19500 \tLoss: 0.000016\n",
    "Train Epoch: 20000 \tLoss: 0.000015\n",
    "train_error: 1.535e-05, test error: 0.002947\n",
    "100%|██████████| 1000/1000 [00:13<00:00, 71.50it/s, mean_loss=7.47e-8, resid_norm=4.43e-16, gpu_mem=0]\n",
    "Posterior samples computed!\n",
    "Converged.\n",
    "T_y: 0.799, nuql mean: 0.844, model mean: 0.853, width: 0.0796\n",
    "repeats 0, 95% c_values: 0.00, 90% c_values: 0.00, width: 0.0668, pred: 0.8445\n",
    "Training the base model\n",
    "Train Epoch: 500 \tLoss: 0.011700\n",
    "Train Epoch: 1000 \tLoss: 0.004441\n",
    "Train Epoch: 1500 \tLoss: 0.002316\n",
    "Train Epoch: 2000 \tLoss: 0.001494\n",
    "Train Epoch: 2500 \tLoss: 0.001090\n",
    "Train Epoch: 3000 \tLoss: 0.000843\n",
    "Train Epoch: 3500 \tLoss: 0.000675\n",
    "Train Epoch: 4000 \tLoss: 0.000549\n",
    "Train Epoch: 4500 \tLoss: 0.000453\n",
    "Train Epoch: 5000 \tLoss: 0.000376\n",
    "Train Epoch: 5500 \tLoss: 0.000316\n",
    "Train Epoch: 6000 \tLoss: 0.000267\n",
    "Train Epoch: 6500 \tLoss: 0.000228\n",
    "Train Epoch: 7000 \tLoss: 0.000196\n",
    "Train Epoch: 7500 \tLoss: 0.000170\n",
    "Train Epoch: 8000 \tLoss: 0.000148\n",
    "Train Epoch: 8500 \tLoss: 0.000129\n",
    "Train Epoch: 9000 \tLoss: 0.000114\n",
    "Train Epoch: 9500 \tLoss: 0.000100\n",
    "Train Epoch: 10000 \tLoss: 0.000089\n",
    "Train Epoch: 10500 \tLoss: 0.000079\n",
    "Train Epoch: 11000 \tLoss: 0.000071\n",
    "Train Epoch: 11500 \tLoss: 0.000063\n",
    "Train Epoch: 12000 \tLoss: 0.000057\n",
    "Train Epoch: 12500 \tLoss: 0.000052\n",
    "Train Epoch: 13000 \tLoss: 0.000047\n",
    "Train Epoch: 13500 \tLoss: 0.000042\n",
    "Train Epoch: 14000 \tLoss: 0.000038\n",
    "Train Epoch: 14500 \tLoss: 0.000035\n",
    "Train Epoch: 15000 \tLoss: 0.000032\n",
    "Train Epoch: 15500 \tLoss: 0.000029\n",
    "Train Epoch: 16000 \tLoss: 0.000027\n",
    "Train Epoch: 16500 \tLoss: 0.000025\n",
    "Train Epoch: 17000 \tLoss: 0.000023\n",
    "Train Epoch: 17500 \tLoss: 0.000021\n",
    "Train Epoch: 18000 \tLoss: 0.000019\n",
    "Train Epoch: 18500 \tLoss: 0.000018\n",
    "Train Epoch: 19000 \tLoss: 0.000017\n",
    "Train Epoch: 19500 \tLoss: 0.000015\n",
    "Train Epoch: 20000 \tLoss: 0.000014\n",
    "train_error: 1.429e-05, test error: 0.00407\n",
    "100%|██████████| 1000/1000 [00:14<00:00, 69.30it/s, mean_loss=4.5e-8, resid_norm=2.94e-16, gpu_mem=0]\n",
    "Posterior samples computed!\n",
    "Converged.\n",
    "T_y: 0.799, nuql mean: 0.857, model mean: 0.862, width: 0.107\n",
    "repeats 1, 95% c_values: 0.00, 90% c_values: 0.00, width: 0.0782, pred: 0.8506\n",
    "Training the base model\n",
    "Train Epoch: 500 \tLoss: 0.010488\n",
    "Train Epoch: 1000 \tLoss: 0.004270\n",
    "Train Epoch: 1500 \tLoss: 0.002338\n",
    "Train Epoch: 2000 \tLoss: 0.001525\n",
    "Train Epoch: 2500 \tLoss: 0.001093\n",
    "Train Epoch: 3000 \tLoss: 0.000822\n",
    "Train Epoch: 3500 \tLoss: 0.000639\n",
    "Train Epoch: 4000 \tLoss: 0.000511\n",
    "Train Epoch: 4500 \tLoss: 0.000417\n",
    "Train Epoch: 5000 \tLoss: 0.000348\n",
    "Train Epoch: 5500 \tLoss: 0.000295\n",
    "Train Epoch: 6000 \tLoss: 0.000253\n",
    "Train Epoch: 6500 \tLoss: 0.000219\n",
    "Train Epoch: 7000 \tLoss: 0.000191\n",
    "Train Epoch: 7500 \tLoss: 0.000168\n",
    "Train Epoch: 8000 \tLoss: 0.000149\n",
    "Train Epoch: 8500 \tLoss: 0.000133\n",
    "Train Epoch: 9000 \tLoss: 0.000120\n",
    "Train Epoch: 9500 \tLoss: 0.000109\n",
    "Train Epoch: 10000 \tLoss: 0.000099"
   ]
  },
  {
   "cell_type": "code",
   "execution_count": null,
   "id": "69b1cacd",
   "metadata": {},
   "outputs": [
    {
     "data": {
      "text/plain": [
       "tensor([[0.0004]], grad_fn=<PowBackward0>)"
      ]
     },
     "execution_count": 6,
     "metadata": {},
     "output_type": "execute_result"
    }
   ],
   "source": [
    "\n",
    "(model0(T_POINT) - T_y)**2"
   ]
  },
  {
   "cell_type": "code",
   "execution_count": null,
   "id": "169c5211",
   "metadata": {},
   "outputs": [
    {
     "name": "stdout",
     "output_type": "stream",
     "text": [
      "95% c_values: 0.0, width: 0.0151, 90% c_values: 0.0 width: 0.0116, pred: 0.9224\n"
     ]
    }
   ],
   "source": [
    "cl = 0.05\n",
    "repeats = 100\n",
    "\n",
    "T_POINT = torch.ones(1,data_dim) * 0.1\n",
    "T_y = torch.sin(T_POINT)\n",
    "T_y = torch.sum(T_y, -1)\n",
    "T_POINT = T_POINT\n",
    "\n",
    "N_boot = 4\n",
    "q1 = t.ppf(q = cl/2, df = N_boot, loc=0, scale=1)\n",
    "q2 = t.ppf(q = cl, df = N_boot, loc=0, scale=1)\n",
    "c_boot1, c_boot2 = 0, 0\n",
    "width_boot1, width_boot2 = 0, 0\n",
    "pred_boot = 0\n",
    "std_bootstrap_list = []\n",
    "mean_bootstrap_list = []\n",
    "\n",
    "for repeat in range(repeats):\n",
    "    pred = nuqls_posterior.eval(T_POINT)\n",
    "    mean_boot, std_boot = pred.mean(), pred.std()\n",
    "    std_bootstrap_list.append(std_boot)\n",
    "    mean_bootstrap_list.append(mean_boot)\n",
    "    width_boot1 += - q1 * std_boot *2\n",
    "    width_boot2 += - q2 * std_boot *2\n",
    "    pred_boot += mean_boot\n",
    "    if T_y >= mean_boot + std_boot * q1 and T_y <= mean_boot - std_boot * q1:\n",
    "        c_boot1 += 1\n",
    "    if T_y >= mean_boot + std_boot * q2 and T_y <= mean_boot - std_boot * q2:\n",
    "        c_boot2 += 1\n",
    "\n",
    "    # print('repeats {}, 95% c_values: {:.2f}, 90% c_values: {:.2f}' \n",
    "    #     .format(repeat, c_boot1/len(std_bootstrap_list), c_boot2/len(std_bootstrap_list)))\n",
    "    \n",
    "print('95% c_values: {}, width: {:.4f}, 90% c_values: {} width: {:.4f}, pred: {:.4f}' \n",
    "    .format(c_boot1/repeats, width_boot1/repeats, \n",
    "    c_boot2/repeats, width_boot2/repeats, pred_boot/repeats))"
   ]
  },
  {
   "cell_type": "markdown",
   "id": "03ddd896",
   "metadata": {},
   "source": [
    "T_POINT = torch.ones(1,args.data_dim) * 0.1\n",
    "T_y = torch.sin(T_POINT)\n",
    "T_y = torch.sum(T_y, -1)\n",
    "T_POINT = T_POINT\n",
    "\n",
    "N_boot = 4\n",
    "q1 = t.ppf(q = args.cl/2, df = N_boot, loc=0, scale=1)\n",
    "q2 = t.ppf(q = args.cl, df = N_boot, loc=0, scale=1)\n",
    "c_boot1, c_boot2 = 0, 0\n",
    "width_boot1, width_boot2 = 0, 0\n",
    "pred_boot = 0\n",
    "std_bootstrap_list = []\n",
    "mean_bootstrap_list = []\n",
    "\n",
    "for repeat in range(args.repeats):\n",
    "    mean_boot, std_boot = bootstrap(args, T_POINT, T_y, N_boot, device)\n",
    "    std_bootstrap_list.append(std_boot)\n",
    "    mean_bootstrap_list.append(mean_boot)\n",
    "    width_boot1 += - q1 * std_boot *2\n",
    "    width_boot2 += - q2 * std_boot *2\n",
    "    pred_boot += mean_boot\n",
    "    if T_y >= mean_boot + std_boot * q1 and T_y <= mean_boot - std_boot * q1:\n",
    "        c_boot1 += 1\n",
    "    if T_y >= mean_boot + std_boot * q2 and T_y <= mean_boot - std_boot * q2:\n",
    "        c_boot2 += 1\n",
    "\n",
    "    print('repeats {}, 95% c_values: {:.2f}, 90% c_values: {:.2f}' \n",
    "        .format(repeat, c_boot1/len(std_bootstrap_list), c_boot2/len(std_bootstrap_list)))\n",
    "    \n",
    "print('95% c_values: {}, width: {:.4f}, 90% c_values: {} width: {:.4f}, pred: {:.4f}' \n",
    "    .format(c_boot1/args.repeats, width_boot1/args.repeats, \n",
    "    c_boot2/args.repeats, width_boot2/args.repeats, pred_boot/args.repeats))"
   ]
  }
 ],
 "metadata": {
  "kernelspec": {
   "display_name": ".venv",
   "language": "python",
   "name": "python3"
  },
  "language_info": {
   "codemirror_mode": {
    "name": "ipython",
    "version": 3
   },
   "file_extension": ".py",
   "mimetype": "text/x-python",
   "name": "python",
   "nbconvert_exporter": "python",
   "pygments_lexer": "ipython3",
   "version": "3.11.9"
  }
 },
 "nbformat": 4,
 "nbformat_minor": 5
}
